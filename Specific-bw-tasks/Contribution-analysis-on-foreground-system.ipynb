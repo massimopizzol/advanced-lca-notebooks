{
 "cells": [
  {
   "cell_type": "markdown",
   "metadata": {},
   "source": [
    "# Contribution analysis on the foreground system"
   ]
  },
  {
   "cell_type": "code",
   "execution_count": 1,
   "metadata": {},
   "outputs": [],
   "source": [
    "import brightway2 as bw\n",
    "import pandas as pd\n",
    "import numpy as np\n",
    "import matplotlib.pyplot as plt"
   ]
  },
  {
   "cell_type": "code",
   "execution_count": 2,
   "metadata": {
    "scrolled": true
   },
   "outputs": [
    {
     "data": {
      "text/plain": [
       "Databases dictionary with 1 object(s):\n",
       "\tfg-ca-exmpl"
      ]
     },
     "execution_count": 2,
     "metadata": {},
     "output_type": "execute_result"
    }
   ],
   "source": [
    "bw.projects.set_current('contr-analysis-fg') # a database where I have ecoinvent\n",
    "bw.databases"
   ]
  },
  {
   "cell_type": "markdown",
   "metadata": {},
   "source": [
    "# Create a foreground system"
   ]
  },
  {
   "cell_type": "markdown",
   "metadata": {},
   "source": [
    "Three activities A, B, and C. Each of them emit CO2. B is an input to A. Both activtiy A and activity C have an input of C (nested system)."
   ]
  },
  {
   "cell_type": "code",
   "execution_count": 4,
   "metadata": {},
   "outputs": [],
   "source": [
    "bw2_db = {('fg-ca-exmpl', 'Activity A'): {'name': 'Activity A',\n",
    "  'unit': 'kilogram',\n",
    "  'type': 'process',\n",
    "  'exchanges': [{'input': ('fg-ca-exmpl', 'Activity A'),\n",
    "    'amount': 1.0,\n",
    "    'unit': 'kilogram',\n",
    "    'type': 'production',\n",
    "    'uncertainty type': 0},\n",
    "   {'input': ('fg-ca-exmpl', 'Activity B'),\n",
    "    'amount': 0.5,\n",
    "    'unit': 'kilogram',\n",
    "    'type': 'technosphere',\n",
    "    'uncertainty type': 0},\n",
    "   {'input': ('fg-ca-exmpl', 'Activity C'), # input of C to A\n",
    "    'amount': 0.5,\n",
    "    'unit': 'kilogram',\n",
    "    'type': 'technosphere',\n",
    "    'uncertainty type': 0},\n",
    "   {'input': ('fg-ca-exmpl', 'Carbon Dioxide'),\n",
    "    'amount': 1.0,\n",
    "    'unit': 'kilogram',\n",
    "    'type': 'biosphere',\n",
    "    'uncertainty type': 0}]},\n",
    " ('fg-ca-exmpl', 'Activity B'): {'name': 'Activity B',\n",
    "  'unit': 'kilogram',\n",
    "  'type': 'process',\n",
    "  'exchanges': [{'input': ('fg-ca-exmpl', 'Activity B'),\n",
    "    'amount': 10.0,\n",
    "    'unit': 'kilogram',\n",
    "    'type': 'production',\n",
    "    'uncertainty type': 0},\n",
    "   {'input': ('fg-ca-exmpl', 'Activity C'), # input of C to B\n",
    "    'amount': 10.0,\n",
    "    'unit': 'kilogram',\n",
    "    'type': 'technosphere',\n",
    "    'uncertainty type': 0},\n",
    "   {'input': ('fg-ca-exmpl', 'Carbon Dioxide'),\n",
    "    'amount': 12.5,\n",
    "    'unit': 'kilogram',\n",
    "    'type': 'biosphere',\n",
    "    'uncertainty type': 0}]},\n",
    " ('fg-ca-exmpl', 'Activity C'): {'name': 'Activity C',\n",
    "  'unit': 'kilogram',\n",
    "  'type': 'process',\n",
    "  'exchanges': [{'input': ('fg-ca-exmpl', 'Activity C'),\n",
    "    'amount': 15.0,\n",
    "    'unit': 'kilogram',\n",
    "    'type': 'production',\n",
    "    'uncertainty type': 0},\n",
    "   {'input': ('fg-ca-exmpl', 'Carbon Dioxide'),\n",
    "    'amount': 15.0,\n",
    "    'unit': 'kilogram',\n",
    "    'type': 'biosphere',\n",
    "    'uncertainty type': 0}]},\n",
    " ('fg-ca-exmpl', 'Carbon Dioxide'): {'name': 'Carbon Dioxide', # a foreground exchange just to keep things simple\n",
    "  'unit': 'kilogram',\n",
    "  'type': 'biosphere'}}"
   ]
  },
  {
   "cell_type": "code",
   "execution_count": 5,
   "metadata": {},
   "outputs": [
    {
     "name": "stderr",
     "output_type": "stream",
     "text": [
      "Writing activities to SQLite3 database:\n",
      "0% [####] 100% | ETA: 00:00:00\n",
      "Total time elapsed: 00:00:00\n"
     ]
    },
    {
     "name": "stdout",
     "output_type": "stream",
     "text": [
      "Title: Writing activities to SQLite3 database:\n",
      "  Started: 12/09/2023 10:11:48\n",
      "  Finished: 12/09/2023 10:11:48\n",
      "  Total time elapsed: 00:00:00\n",
      "  CPU %: 78.00\n",
      "  Memory %: 1.10\n"
     ]
    }
   ],
   "source": [
    "del(bw.databases['fg-ca-exmpl'])\n",
    "fgca_db = bw.Database('fg-ca-exmpl')\n",
    "fgca_db.write(bw2_db)"
   ]
  },
  {
   "cell_type": "code",
   "execution_count": 13,
   "metadata": {
    "scrolled": true
   },
   "outputs": [
    {
     "data": {
      "text/plain": [
       "[('fg-ca-exmpl', 'Activity A'),\n",
       " ('fg-ca-exmpl', 'Activity B'),\n",
       " ('fg-ca-exmpl', 'Activity C'),\n",
       " ('fg-ca-exmpl', 'Carbon Dioxide')]"
      ]
     },
     "execution_count": 13,
     "metadata": {},
     "output_type": "execute_result"
    }
   ],
   "source": [
    "# check it worked\n",
    "activities = [('fg-ca-exmpl', act['code']) for act in bw.Database('fg-ca-exmpl')]\n",
    "activities"
   ]
  },
  {
   "cell_type": "code",
   "execution_count": 34,
   "metadata": {},
   "outputs": [
    {
     "name": "stdout",
     "output_type": "stream",
     "text": [
      "{'name': 'Activity A', 'unit': 'kilogram', 'type': 'process', 'database': 'fg-ca-exmpl', 'code': 'Activity A'}\n",
      "Exchange: 1.0 kilogram 'Activity A' (kilogram, None, None) to 'Activity A' (kilogram, None, None)>\n",
      "Exchange: 0.5 kilogram 'Activity B' (kilogram, None, None) to 'Activity A' (kilogram, None, None)>\n",
      "Exchange: 0.5 kilogram 'Activity C' (kilogram, None, None) to 'Activity A' (kilogram, None, None)>\n",
      "Exchange: 1.0 kilogram 'Carbon Dioxide' (kilogram, None, None) to 'Activity A' (kilogram, None, None)>\n",
      "---\n",
      "{'name': 'Activity B', 'unit': 'kilogram', 'type': 'process', 'database': 'fg-ca-exmpl', 'code': 'Activity B'}\n",
      "Exchange: 10.0 kilogram 'Activity B' (kilogram, None, None) to 'Activity B' (kilogram, None, None)>\n",
      "Exchange: 10.0 kilogram 'Activity C' (kilogram, None, None) to 'Activity B' (kilogram, None, None)>\n",
      "Exchange: 12.5 kilogram 'Carbon Dioxide' (kilogram, None, None) to 'Activity B' (kilogram, None, None)>\n",
      "---\n",
      "{'name': 'Carbon Dioxide', 'unit': 'kilogram', 'type': 'biosphere', 'database': 'fg-ca-exmpl', 'code': 'Carbon Dioxide'}\n",
      "---\n",
      "{'name': 'Activity C', 'unit': 'kilogram', 'type': 'process', 'database': 'fg-ca-exmpl', 'code': 'Activity C'}\n",
      "Exchange: 15.0 kilogram 'Activity C' (kilogram, None, None) to 'Activity C' (kilogram, None, None)>\n",
      "Exchange: 15.0 kilogram 'Carbon Dioxide' (kilogram, None, None) to 'Activity C' (kilogram, None, None)>\n",
      "---\n"
     ]
    }
   ],
   "source": [
    "for act in bw.Database('fg-ca-exmpl'):\n",
    "    print(act.as_dict())\n",
    "    for exc in list(act.exchanges()):\n",
    "        print(exc)\n",
    "    print('---')"
   ]
  },
  {
   "cell_type": "code",
   "execution_count": 36,
   "metadata": {},
   "outputs": [
    {
     "data": {
      "text/plain": [
       "[[('fg-ca-exmpl', 'Carbon Dioxide'), 1.0]]"
      ]
     },
     "execution_count": 36,
     "metadata": {},
     "output_type": "execute_result"
    }
   ],
   "source": [
    "# we create a basic LCIA method to include LCIA phase\n",
    "\n",
    "myLCIAdata = [[('fg-ca-exmpl', 'Carbon Dioxide'), 1.0]]\n",
    "method_key = ('dummy GWI method','none','none')\n",
    "my_method = bw.Method(method_key)\n",
    "my_method.validate(myLCIAdata)\n",
    "my_method.register() \n",
    "my_method.write(myLCIAdata)\n",
    "my_method.load()"
   ]
  },
  {
   "cell_type": "code",
   "execution_count": 37,
   "metadata": {},
   "outputs": [],
   "source": [
    "fu_amount = 100 # the functional unit for this analysis"
   ]
  },
  {
   "cell_type": "code",
   "execution_count": 38,
   "metadata": {},
   "outputs": [
    {
     "name": "stdout",
     "output_type": "stream",
     "text": [
      "total score is 262.5\n"
     ]
    }
   ],
   "source": [
    "# Calculate total score per FU\n",
    "mymethod = ('dummy GWI method','none','none')\n",
    "act = fgca_db.get('Activity A')\n",
    "functional_unit = {act: fu_amount} # the functional unit refers to the output of A\n",
    "lca = bw.LCA(functional_unit, mymethod)\n",
    "lca.lci()\n",
    "lca.lcia()\n",
    "tot_score = lca.score\n",
    "print(\"total score is\", tot_score)"
   ]
  },
  {
   "cell_type": "markdown",
   "metadata": {},
   "source": [
    "This is the total score of the system and we remember it for later"
   ]
  },
  {
   "cell_type": "markdown",
   "metadata": {},
   "source": [
    "# Contribution analysis"
   ]
  },
  {
   "cell_type": "markdown",
   "metadata": {},
   "source": [
    "## Super simple"
   ]
  },
  {
   "cell_type": "markdown",
   "metadata": {},
   "source": [
    "Make a dictionary of activities and the \"right\" amount, iterate throught those."
   ]
  },
  {
   "cell_type": "code",
   "execution_count": 70,
   "metadata": {},
   "outputs": [],
   "source": [
    "ca_dict = {'Activity A' : 1 * fu_amount, \n",
    "           'Activity B' : 0.5 * fu_amount, # the total amount of B used in the system\n",
    "           'Activity C' : (0.5 + 0.5 * 10/10) * fu_amount} # the total amount of C used in the system"
   ]
  },
  {
   "cell_type": "code",
   "execution_count": 71,
   "metadata": {},
   "outputs": [],
   "source": [
    "#Use this if you are using the nested version of the system\n",
    "#{'Activity A' : 1 * fu_amount, \n",
    "# 'Activity B' : 0.5 * fu_amount , # the total amount of B used in the system\n",
    "# 'Activity C' : (0.5 + 0.5 * 10/10) * fu_amount } # the total amount of C used in the system (0.5 by A and 0.5 by B)"
   ]
  },
  {
   "cell_type": "code",
   "execution_count": 72,
   "metadata": {
    "scrolled": true
   },
   "outputs": [
    {
     "data": {
      "text/html": [
       "<div>\n",
       "<style scoped>\n",
       "    .dataframe tbody tr th:only-of-type {\n",
       "        vertical-align: middle;\n",
       "    }\n",
       "\n",
       "    .dataframe tbody tr th {\n",
       "        vertical-align: top;\n",
       "    }\n",
       "\n",
       "    .dataframe thead th {\n",
       "        text-align: right;\n",
       "    }\n",
       "</style>\n",
       "<table border=\"1\" class=\"dataframe\">\n",
       "  <thead>\n",
       "    <tr style=\"text-align: right;\">\n",
       "      <th></th>\n",
       "      <th>GWI</th>\n",
       "    </tr>\n",
       "  </thead>\n",
       "  <tbody>\n",
       "    <tr>\n",
       "      <th>Activity A</th>\n",
       "      <td>262.5</td>\n",
       "    </tr>\n",
       "    <tr>\n",
       "      <th>Activity B</th>\n",
       "      <td>112.5</td>\n",
       "    </tr>\n",
       "    <tr>\n",
       "      <th>Activity C</th>\n",
       "      <td>100.0</td>\n",
       "    </tr>\n",
       "  </tbody>\n",
       "</table>\n",
       "</div>"
      ],
      "text/plain": [
       "              GWI\n",
       "Activity A  262.5\n",
       "Activity B  112.5\n",
       "Activity C  100.0"
      ]
     },
     "execution_count": 72,
     "metadata": {},
     "output_type": "execute_result"
    }
   ],
   "source": [
    "ca_results = []\n",
    "\n",
    "for i in ca_dict:\n",
    "    \n",
    "    act = fgca_db.get(i)\n",
    "    functional_unit = {act: ca_dict[i]}\n",
    "    lca = bw.LCA(functional_unit, mymethod)\n",
    "    lca.lci()\n",
    "    lca.lcia()\n",
    "    ca_results.append(lca.score)\n",
    "    \n",
    "\n",
    "ca_simple = pd.DataFrame(dict(zip([i for i in ca_dict], ca_results)), index = ['GWI']).T\n",
    "ca_simple"
   ]
  },
  {
   "cell_type": "markdown",
   "metadata": {},
   "source": [
    "The problem is, calculating the right amount might be difficult depending on how \"nested\" is this system. \n",
    "In this case it is nested because both A and B require C. This gets more complicated the more nested the system is and the approach is going to give errors very easily on more complex systems..."
   ]
  },
  {
   "cell_type": "markdown",
   "metadata": {},
   "source": [
    "## A better approach based on LCA matrix algebra"
   ]
  },
  {
   "cell_type": "markdown",
   "metadata": {},
   "source": [
    "We use the scaling vector that tells how much each ativity is needed to perform the FU.\n",
    "\n",
    "Note that the scaling vector is **specific to the FU** so for a differnet FU (even a different amount) one needs to calcualte a new scaling vecotr and redo the contribution analysis."
   ]
  },
  {
   "cell_type": "code",
   "execution_count": 42,
   "metadata": {},
   "outputs": [],
   "source": [
    "# Initiate the inventory to get the scaling factors. These will be the scaling factor for the FU here chosen\n",
    "fu_ca = bw.Database('fg-ca-exmpl').get('Activity A') \n",
    "lca = bw.LCA({fu_ca: fu_amount },) # contribution analysis for this FU only (and only that!)\n",
    "lca.lci()"
   ]
  },
  {
   "cell_type": "code",
   "execution_count": 44,
   "metadata": {},
   "outputs": [],
   "source": [
    "# list of all foreground activities excluding biosphere ones\n",
    "acts = [act['code'] for act in bw.Database('fg-ca-exmpl') if act['type'] == 'process']"
   ]
  },
  {
   "cell_type": "code",
   "execution_count": 46,
   "metadata": {},
   "outputs": [
    {
     "data": {
      "text/plain": [
       "{'Activity C': 6.666666666666667, 'Activity B': 5.0, 'Activity A': 100.0}"
      ]
     },
     "execution_count": 46,
     "metadata": {},
     "output_type": "execute_result"
    }
   ],
   "source": [
    "# dictionary of scaling factors from the supply array\n",
    "scaling = {}\n",
    "for act in acts:\n",
    "    index = lca.activity_dict[('fg-ca-exmpl', act)] # index is to find the activities in the tech matrix\n",
    "    scaling[act] = lca.supply_array[index] # this is the amount of activity used, we need it for contribution analysis\n",
    "\n",
    "scaling"
   ]
  },
  {
   "cell_type": "code",
   "execution_count": 47,
   "metadata": {
    "scrolled": false
   },
   "outputs": [
    {
     "data": {
      "text/plain": [
       "{'Activity C': 15.0, 'Activity B': 10.0, 'Activity A': 1.0}"
      ]
     },
     "execution_count": 47,
     "metadata": {},
     "output_type": "execute_result"
    }
   ],
   "source": [
    "# Dictionary of reference flows, because they are not always normalized!\n",
    "refflows = {}\n",
    "for act in acts:\n",
    "    for exc in list(bw.Database('fg-ca-exmpl').get(act).exchanges()):\n",
    "        if exc['type'] == 'production':\n",
    "            refflows[act] = (exc['amount'])\n",
    "refflows"
   ]
  },
  {
   "cell_type": "markdown",
   "metadata": {},
   "source": [
    "Refernece flows **might not be unitary** (e.g., the output exchange of B is 10 kg) so we need to account for this. \n",
    "We normalise the scaling factors using the reference flows"
   ]
  },
  {
   "cell_type": "code",
   "execution_count": 51,
   "metadata": {},
   "outputs": [
    {
     "data": {
      "text/plain": [
       "{'Activity C': 100.0, 'Activity B': 50.0, 'Activity A': 100.0}"
      ]
     },
     "execution_count": 51,
     "metadata": {},
     "output_type": "execute_result"
    }
   ],
   "source": [
    "# getting the scaling factors normalized by reference flow\n",
    "scaling_norm = dict(zip(acts,[scaling[i]*refflows[i] for i in acts]))\n",
    "scaling_norm"
   ]
  },
  {
   "cell_type": "code",
   "execution_count": 52,
   "metadata": {},
   "outputs": [
    {
     "data": {
      "text/html": [
       "<div>\n",
       "<style scoped>\n",
       "    .dataframe tbody tr th:only-of-type {\n",
       "        vertical-align: middle;\n",
       "    }\n",
       "\n",
       "    .dataframe tbody tr th {\n",
       "        vertical-align: top;\n",
       "    }\n",
       "\n",
       "    .dataframe thead th {\n",
       "        text-align: right;\n",
       "    }\n",
       "</style>\n",
       "<table border=\"1\" class=\"dataframe\">\n",
       "  <thead>\n",
       "    <tr style=\"text-align: right;\">\n",
       "      <th></th>\n",
       "      <th>Scaling</th>\n",
       "      <th>Reference flow</th>\n",
       "      <th>Scaling normalized</th>\n",
       "    </tr>\n",
       "  </thead>\n",
       "  <tbody>\n",
       "    <tr>\n",
       "      <th>Activity C</th>\n",
       "      <td>6.666667</td>\n",
       "      <td>15.0</td>\n",
       "      <td>100.0</td>\n",
       "    </tr>\n",
       "    <tr>\n",
       "      <th>Activity B</th>\n",
       "      <td>5.000000</td>\n",
       "      <td>10.0</td>\n",
       "      <td>50.0</td>\n",
       "    </tr>\n",
       "    <tr>\n",
       "      <th>Activity A</th>\n",
       "      <td>100.000000</td>\n",
       "      <td>1.0</td>\n",
       "      <td>100.0</td>\n",
       "    </tr>\n",
       "  </tbody>\n",
       "</table>\n",
       "</div>"
      ],
      "text/plain": [
       "               Scaling  Reference flow  Scaling normalized\n",
       "Activity C    6.666667            15.0               100.0\n",
       "Activity B    5.000000            10.0                50.0\n",
       "Activity A  100.000000             1.0               100.0"
      ]
     },
     "execution_count": 52,
     "metadata": {},
     "output_type": "execute_result"
    }
   ],
   "source": [
    "# summary showing the normalised scaling factors that are are scaling factors times reference flow\n",
    "factors = pd.DataFrame([scaling, refflows, scaling_norm], index = ['Scaling','Reference flow', 'Scaling normalized']).T\n",
    "factors"
   ]
  },
  {
   "cell_type": "markdown",
   "metadata": {},
   "source": [
    "Calculate the life cycle impact of **one unit of each activity** (unitaty impact) and save it. \n",
    "\n",
    "This is the cumulative impact considering all the activities linked to it over the life cycle."
   ]
  },
  {
   "cell_type": "code",
   "execution_count": 55,
   "metadata": {},
   "outputs": [],
   "source": [
    "#defining some functions that simply do LCA \n",
    "def dolcacalc(myact, mydemand, mymethod):\n",
    "    my_fu = {myact: mydemand} \n",
    "    lca = bw.LCA(my_fu, mymethod)\n",
    "    lca.lci()\n",
    "    lca.lcia()\n",
    "    return lca.score\n",
    "\n",
    "def getLCAresults(acts, mymethod):\n",
    "    \n",
    "    all_activities = []\n",
    "    results = []\n",
    "    for a in acts:\n",
    "        act = bw.Database('fg-ca-exmpl').get(a)\n",
    "        all_activities.append(act['name'])\n",
    "        results.append(dolcacalc(act,1,mymethod)) # 1 stays for one unit of each process\n",
    "        #print(act['name'])\n",
    "     \n",
    "    results_dict = dict(zip(all_activities, results))\n",
    "    \n",
    "    return results_dict"
   ]
  },
  {
   "cell_type": "code",
   "execution_count": 56,
   "metadata": {},
   "outputs": [
    {
     "data": {
      "text/html": [
       "<div>\n",
       "<style scoped>\n",
       "    .dataframe tbody tr th:only-of-type {\n",
       "        vertical-align: middle;\n",
       "    }\n",
       "\n",
       "    .dataframe tbody tr th {\n",
       "        vertical-align: top;\n",
       "    }\n",
       "\n",
       "    .dataframe thead th {\n",
       "        text-align: right;\n",
       "    }\n",
       "</style>\n",
       "<table border=\"1\" class=\"dataframe\">\n",
       "  <thead>\n",
       "    <tr style=\"text-align: right;\">\n",
       "      <th></th>\n",
       "      <th>GWI</th>\n",
       "    </tr>\n",
       "  </thead>\n",
       "  <tbody>\n",
       "    <tr>\n",
       "      <th>Activity A</th>\n",
       "      <td>2.625</td>\n",
       "    </tr>\n",
       "    <tr>\n",
       "      <th>Activity B</th>\n",
       "      <td>2.250</td>\n",
       "    </tr>\n",
       "    <tr>\n",
       "      <th>Activity C</th>\n",
       "      <td>1.000</td>\n",
       "    </tr>\n",
       "  </tbody>\n",
       "</table>\n",
       "</div>"
      ],
      "text/plain": [
       "              GWI\n",
       "Activity A  2.625\n",
       "Activity B  2.250\n",
       "Activity C  1.000"
      ]
     },
     "execution_count": 56,
     "metadata": {},
     "output_type": "execute_result"
    }
   ],
   "source": [
    "unitary_results = []\n",
    "unitary_results_all_acts = getLCAresults(acts,mymethod) # total impact per unitary value of each activity\n",
    "unitary_results.append(unitary_results_all_acts)\n",
    "unitary_results # the impact of one unit of each process\n",
    "my_output = pd.DataFrame(unitary_results)\n",
    "my_output.index = ['GWI']\n",
    "my_output.T.sort_index().head()"
   ]
  },
  {
   "cell_type": "markdown",
   "metadata": {},
   "source": [
    "Here below we multiply the unitary impact by the normalised scaling vector and we obtain the absolute impact of each activity considered base don how much this activity is required to provide the cuntional unit. **This is the contribution analysis** in absolute terms, then further below we can calcualte is as a fraction of the total impact."
   ]
  },
  {
   "cell_type": "code",
   "execution_count": 62,
   "metadata": {
    "scrolled": false
   },
   "outputs": [
    {
     "data": {
      "text/html": [
       "<div>\n",
       "<style scoped>\n",
       "    .dataframe tbody tr th:only-of-type {\n",
       "        vertical-align: middle;\n",
       "    }\n",
       "\n",
       "    .dataframe tbody tr th {\n",
       "        vertical-align: top;\n",
       "    }\n",
       "\n",
       "    .dataframe thead th {\n",
       "        text-align: right;\n",
       "    }\n",
       "</style>\n",
       "<table border=\"1\" class=\"dataframe\">\n",
       "  <thead>\n",
       "    <tr style=\"text-align: right;\">\n",
       "      <th></th>\n",
       "      <th>GWI</th>\n",
       "    </tr>\n",
       "  </thead>\n",
       "  <tbody>\n",
       "    <tr>\n",
       "      <th>Activity A</th>\n",
       "      <td>262.5</td>\n",
       "    </tr>\n",
       "    <tr>\n",
       "      <th>Activity B</th>\n",
       "      <td>112.5</td>\n",
       "    </tr>\n",
       "    <tr>\n",
       "      <th>Activity C</th>\n",
       "      <td>100.0</td>\n",
       "    </tr>\n",
       "  </tbody>\n",
       "</table>\n",
       "</div>"
      ],
      "text/plain": [
       "              GWI\n",
       "Activity A  262.5\n",
       "Activity B  112.5\n",
       "Activity C  100.0"
      ]
     },
     "execution_count": 62,
     "metadata": {},
     "output_type": "execute_result"
    }
   ],
   "source": [
    "ca_scores_cumulative = pd.DataFrame(my_output.T.sort_index().values * pd.DataFrame(factors['Scaling normalized']).sort_index().values, \n",
    "             index = my_output.T.sort_index().index, columns = my_output.index)\n",
    "ca_scores_cumulative"
   ]
  },
  {
   "cell_type": "markdown",
   "metadata": {},
   "source": [
    "The sum of B + C does not gives A  **in this particular case** because: \n",
    "\n",
    "- A has also some impacts on its own (direct emission and input form background) \n",
    "- The contribution from B includes impacts that derive from C (nested system)\n",
    "\n",
    "If the system was build more \"flat\" or with activities \"in parallel\" (a number of activities that all contribute to the same top activity but don't require input of each other) then the sum will give the total impact.\n"
   ]
  },
  {
   "cell_type": "markdown",
   "metadata": {},
   "source": [
    "Also note that this is the same as calculated before witht he simple approach... but here we will not risk to make mistakes"
   ]
  },
  {
   "cell_type": "code",
   "execution_count": 73,
   "metadata": {},
   "outputs": [
    {
     "data": {
      "text/plain": [
       "True"
      ]
     },
     "execution_count": 73,
     "metadata": {},
     "output_type": "execute_result"
    }
   ],
   "source": [
    "#need to use some rounding to check this...using round at the 10th digit after the comma\n",
    "sign = 10\n",
    "[round(i, sign) for i in ca_scores_cumulative['GWI'].values] == [round(i,sign) for i in ca_simple['GWI'].values]"
   ]
  },
  {
   "cell_type": "code",
   "execution_count": 74,
   "metadata": {},
   "outputs": [
    {
     "data": {
      "text/html": [
       "<div>\n",
       "<style scoped>\n",
       "    .dataframe tbody tr th:only-of-type {\n",
       "        vertical-align: middle;\n",
       "    }\n",
       "\n",
       "    .dataframe tbody tr th {\n",
       "        vertical-align: top;\n",
       "    }\n",
       "\n",
       "    .dataframe thead th {\n",
       "        text-align: right;\n",
       "    }\n",
       "</style>\n",
       "<table border=\"1\" class=\"dataframe\">\n",
       "  <thead>\n",
       "    <tr style=\"text-align: right;\">\n",
       "      <th></th>\n",
       "      <th>GWI</th>\n",
       "    </tr>\n",
       "  </thead>\n",
       "  <tbody>\n",
       "    <tr>\n",
       "      <th>Activity A</th>\n",
       "      <td>1.000000</td>\n",
       "    </tr>\n",
       "    <tr>\n",
       "      <th>Activity B</th>\n",
       "      <td>0.428571</td>\n",
       "    </tr>\n",
       "    <tr>\n",
       "      <th>Activity C</th>\n",
       "      <td>0.380952</td>\n",
       "    </tr>\n",
       "  </tbody>\n",
       "</table>\n",
       "</div>"
      ],
      "text/plain": [
       "                 GWI\n",
       "Activity A  1.000000\n",
       "Activity B  0.428571\n",
       "Activity C  0.380952"
      ]
     },
     "execution_count": 74,
     "metadata": {},
     "output_type": "execute_result"
    }
   ],
   "source": [
    "ca_scores_cumulative / tot_score # to calcualte in percentage"
   ]
  },
  {
   "cell_type": "markdown",
   "metadata": {},
   "source": [
    "This shuold be intended as the cumulative contribution, so B contributes for 42% of impacts and C for 38% (but B includes some of the impact of C)."
   ]
  },
  {
   "cell_type": "markdown",
   "metadata": {},
   "source": [
    "#### Note: remember that this contribution analysis is *only* for the functional unit specified when initializing the LCI, to do it for a different functional unit a different set of scaling factors needs to be calculated."
   ]
  },
  {
   "cell_type": "markdown",
   "metadata": {},
   "source": [
    "# Additional Contribution analysis"
   ]
  },
  {
   "cell_type": "markdown",
   "metadata": {},
   "source": [
    "One can also look at the **direct** inputs to the FU, considering only the activities just one \"step\" or \"layer\" upstream the activity where the FU is chosen or, in other words, looking at the exchange inputs associated with a specific exchange output. This is as Simapro would do it to calculate contribution analysis _(in fact Simapro does many different contirbution analysies including the one presented before...)_"
   ]
  },
  {
   "cell_type": "code",
   "execution_count": 75,
   "metadata": {},
   "outputs": [
    {
     "data": {
      "text/plain": [
       "{'Activity A': 100.0, 'Activity B': 50.0, 'Activity C': 50.0}"
      ]
     },
     "execution_count": 75,
     "metadata": {},
     "output_type": "execute_result"
    }
   ],
   "source": [
    "fu_direct_inputs = {}\n",
    "\n",
    "for exc in list(bw.Database('fg-ca-exmpl').get('Activity A').exchanges()):\n",
    "    if exc['type'] != 'biosphere':\n",
    "        fu_direct_inputs[exc['input'][1]] = exc['amount'] * fu_amount  # this is the key line\n",
    "\n",
    "fu_direct_inputs "
   ]
  },
  {
   "cell_type": "code",
   "execution_count": 77,
   "metadata": {},
   "outputs": [
    {
     "data": {
      "text/html": [
       "<div>\n",
       "<style scoped>\n",
       "    .dataframe tbody tr th:only-of-type {\n",
       "        vertical-align: middle;\n",
       "    }\n",
       "\n",
       "    .dataframe tbody tr th {\n",
       "        vertical-align: top;\n",
       "    }\n",
       "\n",
       "    .dataframe thead th {\n",
       "        text-align: right;\n",
       "    }\n",
       "</style>\n",
       "<table border=\"1\" class=\"dataframe\">\n",
       "  <thead>\n",
       "    <tr style=\"text-align: right;\">\n",
       "      <th></th>\n",
       "      <th>Scaling</th>\n",
       "      <th>Reference flow</th>\n",
       "      <th>Scaling normalized</th>\n",
       "      <th>Direct inputs per FU</th>\n",
       "    </tr>\n",
       "  </thead>\n",
       "  <tbody>\n",
       "    <tr>\n",
       "      <th>Activity C</th>\n",
       "      <td>6.666667</td>\n",
       "      <td>15.0</td>\n",
       "      <td>100.0</td>\n",
       "      <td>50.0</td>\n",
       "    </tr>\n",
       "    <tr>\n",
       "      <th>Activity B</th>\n",
       "      <td>5.000000</td>\n",
       "      <td>10.0</td>\n",
       "      <td>50.0</td>\n",
       "      <td>50.0</td>\n",
       "    </tr>\n",
       "    <tr>\n",
       "      <th>Activity A</th>\n",
       "      <td>100.000000</td>\n",
       "      <td>1.0</td>\n",
       "      <td>100.0</td>\n",
       "      <td>100.0</td>\n",
       "    </tr>\n",
       "  </tbody>\n",
       "</table>\n",
       "</div>"
      ],
      "text/plain": [
       "               Scaling  Reference flow  Scaling normalized  \\\n",
       "Activity C    6.666667            15.0               100.0   \n",
       "Activity B    5.000000            10.0                50.0   \n",
       "Activity A  100.000000             1.0               100.0   \n",
       "\n",
       "            Direct inputs per FU  \n",
       "Activity C                  50.0  \n",
       "Activity B                  50.0  \n",
       "Activity A                 100.0  "
      ]
     },
     "execution_count": 77,
     "metadata": {},
     "output_type": "execute_result"
    }
   ],
   "source": [
    "factors = pd.DataFrame([scaling, refflows, scaling_norm, fu_direct_inputs], index = ['Scaling','Reference flow', 'Scaling normalized', 'Direct inputs per FU']).T\n",
    "factors"
   ]
  },
  {
   "cell_type": "code",
   "execution_count": 78,
   "metadata": {},
   "outputs": [
    {
     "data": {
      "text/html": [
       "<div>\n",
       "<style scoped>\n",
       "    .dataframe tbody tr th:only-of-type {\n",
       "        vertical-align: middle;\n",
       "    }\n",
       "\n",
       "    .dataframe tbody tr th {\n",
       "        vertical-align: top;\n",
       "    }\n",
       "\n",
       "    .dataframe thead th {\n",
       "        text-align: right;\n",
       "    }\n",
       "</style>\n",
       "<table border=\"1\" class=\"dataframe\">\n",
       "  <thead>\n",
       "    <tr style=\"text-align: right;\">\n",
       "      <th></th>\n",
       "      <th>GWI</th>\n",
       "    </tr>\n",
       "  </thead>\n",
       "  <tbody>\n",
       "    <tr>\n",
       "      <th>Activity A</th>\n",
       "      <td>262.5</td>\n",
       "    </tr>\n",
       "    <tr>\n",
       "      <th>Activity B</th>\n",
       "      <td>112.5</td>\n",
       "    </tr>\n",
       "    <tr>\n",
       "      <th>Activity C</th>\n",
       "      <td>50.0</td>\n",
       "    </tr>\n",
       "  </tbody>\n",
       "</table>\n",
       "</div>"
      ],
      "text/plain": [
       "              GWI\n",
       "Activity A  262.5\n",
       "Activity B  112.5\n",
       "Activity C   50.0"
      ]
     },
     "execution_count": 78,
     "metadata": {},
     "output_type": "execute_result"
    }
   ],
   "source": [
    "ca_scores_direct = pd.DataFrame(my_output.T.sort_index().values * pd.DataFrame(factors['Direct inputs per FU']).sort_index().values, \n",
    "             index = my_output.T.sort_index().index, \n",
    "             columns = my_output.index)\n",
    "\n",
    "ca_scores_direct"
   ]
  },
  {
   "cell_type": "markdown",
   "metadata": {},
   "source": [
    "A problem here is that the first row shows the total impact. We can fix it manually."
   ]
  },
  {
   "cell_type": "code",
   "execution_count": 79,
   "metadata": {},
   "outputs": [],
   "source": [
    "total_contr = ca_scores_direct.loc['Activity A','GWI']"
   ]
  },
  {
   "cell_type": "code",
   "execution_count": 80,
   "metadata": {},
   "outputs": [],
   "source": [
    "# a long code to sum all results but the first row...\n",
    "upstream_contr = ca_scores_direct[~ca_scores_direct.index.isin(['Activity A'])]['GWI'].sum() "
   ]
  },
  {
   "cell_type": "code",
   "execution_count": 81,
   "metadata": {},
   "outputs": [],
   "source": [
    "direct_contr = total_contr - upstream_contr"
   ]
  },
  {
   "cell_type": "code",
   "execution_count": 82,
   "metadata": {},
   "outputs": [
    {
     "data": {
      "text/html": [
       "<div>\n",
       "<style scoped>\n",
       "    .dataframe tbody tr th:only-of-type {\n",
       "        vertical-align: middle;\n",
       "    }\n",
       "\n",
       "    .dataframe tbody tr th {\n",
       "        vertical-align: top;\n",
       "    }\n",
       "\n",
       "    .dataframe thead th {\n",
       "        text-align: right;\n",
       "    }\n",
       "</style>\n",
       "<table border=\"1\" class=\"dataframe\">\n",
       "  <thead>\n",
       "    <tr style=\"text-align: right;\">\n",
       "      <th></th>\n",
       "      <th>GWI</th>\n",
       "    </tr>\n",
       "  </thead>\n",
       "  <tbody>\n",
       "    <tr>\n",
       "      <th>Activity A</th>\n",
       "      <td>100.0</td>\n",
       "    </tr>\n",
       "    <tr>\n",
       "      <th>Activity B</th>\n",
       "      <td>112.5</td>\n",
       "    </tr>\n",
       "    <tr>\n",
       "      <th>Activity C</th>\n",
       "      <td>50.0</td>\n",
       "    </tr>\n",
       "  </tbody>\n",
       "</table>\n",
       "</div>"
      ],
      "text/plain": [
       "              GWI\n",
       "Activity A  100.0\n",
       "Activity B  112.5\n",
       "Activity C   50.0"
      ]
     },
     "execution_count": 82,
     "metadata": {},
     "output_type": "execute_result"
    }
   ],
   "source": [
    "ca_scores_direct_SP = ca_scores_direct.copy()\n",
    "ca_scores_direct_SP.at['Activity A', 'GWI'] = direct_contr\n",
    "ca_scores_direct_SP"
   ]
  },
  {
   "cell_type": "markdown",
   "metadata": {},
   "source": [
    "This is how Simapro shows it. I haven't found a way to calculate this in one go using the matrices. Maybe there isn't."
   ]
  },
  {
   "cell_type": "code",
   "execution_count": 83,
   "metadata": {},
   "outputs": [
    {
     "data": {
      "text/html": [
       "<div>\n",
       "<style scoped>\n",
       "    .dataframe tbody tr th:only-of-type {\n",
       "        vertical-align: middle;\n",
       "    }\n",
       "\n",
       "    .dataframe tbody tr th {\n",
       "        vertical-align: top;\n",
       "    }\n",
       "\n",
       "    .dataframe thead th {\n",
       "        text-align: right;\n",
       "    }\n",
       "</style>\n",
       "<table border=\"1\" class=\"dataframe\">\n",
       "  <thead>\n",
       "    <tr style=\"text-align: right;\">\n",
       "      <th></th>\n",
       "      <th>GWI</th>\n",
       "    </tr>\n",
       "  </thead>\n",
       "  <tbody>\n",
       "    <tr>\n",
       "      <th>Activity A</th>\n",
       "      <td>0.380952</td>\n",
       "    </tr>\n",
       "    <tr>\n",
       "      <th>Activity B</th>\n",
       "      <td>0.428571</td>\n",
       "    </tr>\n",
       "    <tr>\n",
       "      <th>Activity C</th>\n",
       "      <td>0.190476</td>\n",
       "    </tr>\n",
       "  </tbody>\n",
       "</table>\n",
       "</div>"
      ],
      "text/plain": [
       "                 GWI\n",
       "Activity A  0.380952\n",
       "Activity B  0.428571\n",
       "Activity C  0.190476"
      ]
     },
     "execution_count": 83,
     "metadata": {},
     "output_type": "execute_result"
    }
   ],
   "source": [
    "ca_scores_direct_SP / tot_score # to calcualte in percentage"
   ]
  },
  {
   "cell_type": "markdown",
   "metadata": {},
   "source": [
    "B contributes 42 % while C contributes 19%. This is how much they contribute **direclty** to A which is the top activity, or, more precisely, the output exchange chosen as functional unit and to which the other input exchanges refer to. Here we can see that A contributes 38% to the total impact via direct emissions."
   ]
  },
  {
   "cell_type": "code",
   "execution_count": 85,
   "metadata": {},
   "outputs": [
    {
     "data": {
      "text/plain": [
       "1.0"
      ]
     },
     "execution_count": 85,
     "metadata": {},
     "output_type": "execute_result"
    }
   ],
   "source": [
    "ca_scores_direct_SP['GWI'].sum() / tot_score"
   ]
  },
  {
   "cell_type": "markdown",
   "metadata": {},
   "source": [
    "and the sum gives 100% of course."
   ]
  }
 ],
 "metadata": {
  "kernelspec": {
   "display_name": "Python 3 (ipykernel)",
   "language": "python",
   "name": "python3"
  },
  "language_info": {
   "codemirror_mode": {
    "name": "ipython",
    "version": 3
   },
   "file_extension": ".py",
   "mimetype": "text/x-python",
   "name": "python",
   "nbconvert_exporter": "python",
   "pygments_lexer": "ipython3",
   "version": "3.11.0"
  }
 },
 "nbformat": 4,
 "nbformat_minor": 2
}
