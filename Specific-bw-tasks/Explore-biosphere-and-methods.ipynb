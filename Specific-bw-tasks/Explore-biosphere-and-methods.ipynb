{
 "cells": [
  {
   "cell_type": "markdown",
   "metadata": {},
   "source": [
    "## Exploring the biosphere matrix and characterisation factors\n",
    "\n",
    "#### Massimo Pizzol, 2024\n"
   ]
  },
  {
   "cell_type": "code",
   "execution_count": 1,
   "metadata": {},
   "outputs": [],
   "source": [
    "# Note: must be environment bw2\n",
    "import brightway2 as bw\n",
    "import pandas as pd\n",
    "import numpy as np"
   ]
  },
  {
   "cell_type": "code",
   "execution_count": 16,
   "metadata": {},
   "outputs": [],
   "source": [
    "# any project with a version of ecoinvent (3.9.1 in this case) \n",
    "# and the Biosphere database installed\n",
    "bw.projects.set_current(\"advlca23\") "
   ]
  },
  {
   "cell_type": "code",
   "execution_count": 3,
   "metadata": {},
   "outputs": [],
   "source": [
    "# list of methods\n",
    "#bw.methods"
   ]
  },
  {
   "cell_type": "code",
   "execution_count": 26,
   "metadata": {},
   "outputs": [],
   "source": [
    "# a climate change LCIA method\n",
    "mymethod = ('CML v4.8 2016', 'climate change', 'global warming potential (GWP100)')"
   ]
  },
  {
   "cell_type": "code",
   "execution_count": 22,
   "metadata": {},
   "outputs": [],
   "source": [
    "# Select an activity with carbon dioxide as exchange\n",
    "act = bw.Database('ecoinvent 3.9 conseq').get('8660ffb81a69adf8a51014a4a77f2305')"
   ]
  },
  {
   "cell_type": "code",
   "execution_count": 23,
   "metadata": {},
   "outputs": [
    {
     "data": {
      "text/plain": [
       "[Exchange: 0.55731 kilogram 'Carbon dioxide, fossil' (kilogram, None, ('air',)) to 'manganese(III) oxide production' (kilogram, RoW, None)>]"
      ]
     },
     "execution_count": 23,
     "metadata": {},
     "output_type": "execute_result"
    }
   ],
   "source": [
    "# find if there is a carbon dioxide exchange\n",
    "[exc for exc in list(act.exchanges()) if exc['name'] == 'Carbon dioxide, fossil'] \n",
    "# yes there is one"
   ]
  },
  {
   "cell_type": "code",
   "execution_count": 25,
   "metadata": {},
   "outputs": [
    {
     "data": {
      "text/plain": [
       "2.263494134704986"
      ]
     },
     "execution_count": 25,
     "metadata": {},
     "output_type": "execute_result"
    }
   ],
   "source": [
    "# calculate LCA score \n",
    "lca = bw.LCA({act: 1} , mymethod)\n",
    "lca.lci()\n",
    "lca.lcia()\n",
    "lca.score"
   ]
  },
  {
   "cell_type": "markdown",
   "metadata": {},
   "source": [
    "## Find the code for the \"carbon dioxide\" exchange(s)"
   ]
  },
  {
   "cell_type": "code",
   "execution_count": 27,
   "metadata": {},
   "outputs": [
    {
     "name": "stdout",
     "output_type": "stream",
     "text": [
      "'Carbon dioxide, fossil' (kilogram, None, ('air', 'low population density, long-term'))\n",
      "e259263c-d1f1-449f-bb9b-73c6d0a32a00\n",
      "'Carbon dioxide, fossil' (kilogram, None, ('air', 'non-urban air or from high stacks'))\n",
      "aa7cac3a-3625-41d4-bc54-33e2cf11ec46\n",
      "'Carbon dioxide, fossil' (kilogram, None, ('air',))\n",
      "349b29d1-3e58-4c66-98b9-9d1a076efd2e\n",
      "'Carbon dioxide, fossil' (kilogram, None, ('air', 'lower stratosphere + upper troposphere'))\n",
      "16eeda8a-1ea2-408e-ab37-2648495058dd\n",
      "'Carbon dioxide, fossil' (kilogram, None, ('air', 'urban air close to ground'))\n",
      "f9749677-9c9f-4678-ab55-c607dfdc2cb9\n",
      "'Carbon dioxide, non-fossil' (kilogram, None, ('air', 'non-urban air or from high stacks'))\n",
      "d6235194-e4e6-4548-bfa3-ac095131aef4\n",
      "'Carbon dioxide, non-fossil' (kilogram, None, ('air', 'low population density, long-term'))\n",
      "28e1e2d6-97ad-4dfd-932a-9edad36dcab9\n",
      "'Carbon dioxide, non-fossil' (kilogram, None, ('air', 'lower stratosphere + upper troposphere'))\n",
      "4e1f0bb0-2703-4303-bf86-972d810612cf\n",
      "'Carbon dioxide, non-fossil' (kilogram, None, ('air',))\n",
      "eba59fd6-f37e-41dc-9ca3-c7ea22d602c7\n",
      "'Carbon dioxide, non-fossil' (kilogram, None, ('air', 'urban air close to ground'))\n",
      "73ed05cc-9727-4abf-9516-4b5c0fe54a16\n",
      "'Carbon dioxide, non-fossil, resource correction' (kilogram, None, ('natural resource', 'in air'))\n",
      "419de9f0-ee00-4e95-9556-c8f06b17beec\n"
     ]
    }
   ],
   "source": [
    "for i in bw.Database('biosphere3').search('carbon dioxide fossil'):\n",
    "    print(i)\n",
    "    print(i['code'])"
   ]
  },
  {
   "cell_type": "markdown",
   "metadata": {},
   "source": [
    "## Find the coordinates of the exchange in the intervention (biosphere) matrix"
   ]
  },
  {
   "cell_type": "markdown",
   "metadata": {},
   "source": [
    "First look at the sizes of these matrices."
   ]
  },
  {
   "cell_type": "code",
   "execution_count": 11,
   "metadata": {},
   "outputs": [
    {
     "data": {
      "text/plain": [
       "<18856x18856 sparse matrix of type '<class 'numpy.float64'>'\n",
       "\twith 229695 stored elements in Compressed Sparse Row format>"
      ]
     },
     "execution_count": 11,
     "metadata": {},
     "output_type": "execute_result"
    }
   ],
   "source": [
    "lca.technosphere_matrix"
   ]
  },
  {
   "cell_type": "code",
   "execution_count": 12,
   "metadata": {},
   "outputs": [
    {
     "data": {
      "text/plain": [
       "<2419x18856 sparse matrix of type '<class 'numpy.float64'>'\n",
       "\twith 317013 stored elements in Compressed Sparse Row format>"
      ]
     },
     "execution_count": 12,
     "metadata": {},
     "output_type": "execute_result"
    }
   ],
   "source": [
    "lca.biosphere_matrix"
   ]
  },
  {
   "cell_type": "code",
   "execution_count": 13,
   "metadata": {},
   "outputs": [
    {
     "name": "stdout",
     "output_type": "stream",
     "text": [
      "index/coordinate of the activity column: 13812\n",
      "index/coordinate of the exchange row: 689\n"
     ]
    }
   ],
   "source": [
    "col = lca.activity_dict[(act['database'], act['code'])] # find column index of A matrix for the activit\n",
    "print('index/coordinate of the activity column:', col)\n",
    "row = lca.biosphere_dict[('biosphere3', '349b29d1-3e58-4c66-98b9-9d1a076efd2e')] # find row index of B matrix for the exchange\n",
    "print('index/coordinate of the exchange row:', row)"
   ]
  },
  {
   "cell_type": "code",
   "execution_count": 14,
   "metadata": {},
   "outputs": [
    {
     "name": "stdout",
     "output_type": "stream",
     "text": [
      "value/amount of the exchange: 0.5573099851608276\n"
     ]
    }
   ],
   "source": [
    "# this is the value of the exchange in the activity \n",
    "print('value/amount of the exchange:', lca.biosphere_matrix[row,col])"
   ]
  },
  {
   "cell_type": "markdown",
   "metadata": {},
   "source": [
    "## Find characterisation factors for specific exchanges..."
   ]
  },
  {
   "cell_type": "markdown",
   "metadata": {},
   "source": [
    "If you want to find the characterisation factor for a known exchange"
   ]
  },
  {
   "cell_type": "code",
   "execution_count": 29,
   "metadata": {},
   "outputs": [
    {
     "data": {
      "text/plain": [
       "<2419x2419 sparse matrix of type '<class 'numpy.float64'>'\n",
       "\twith 67 stored elements in Compressed Sparse Row format>"
      ]
     },
     "execution_count": 29,
     "metadata": {},
     "output_type": "execute_result"
    }
   ],
   "source": [
    "# a square matrix of characterisation facors for the method chosen\n",
    "lca.characterization_matrix"
   ]
  },
  {
   "cell_type": "code",
   "execution_count": 30,
   "metadata": {},
   "outputs": [
    {
     "name": "stdout",
     "output_type": "stream",
     "text": [
      "1.0\n"
     ]
    }
   ],
   "source": [
    "# This is the value of the characterisaiton factor in the method used\n",
    "print(lca.characterization_matrix[row,row])"
   ]
  },
  {
   "cell_type": "markdown",
   "metadata": {},
   "source": [
    "## ...and exchanges that match specific charachterisation factors"
   ]
  },
  {
   "cell_type": "markdown",
   "metadata": {},
   "source": [
    "If you find a characterisation factor and want to find which exchange it refers to "
   ]
  },
  {
   "cell_type": "code",
   "execution_count": 31,
   "metadata": {},
   "outputs": [
    {
     "data": {
      "text/plain": [
       "('biosphere3', '349b29d1-3e58-4c66-98b9-9d1a076efd2e')"
      ]
     },
     "execution_count": 31,
     "metadata": {},
     "output_type": "execute_result"
    }
   ],
   "source": [
    "# This is the name of the excahnge starting from the index, in the biosphere ematrix\n",
    "# Note I know it's the biosphere matrix because [2] indicates that matrix\n",
    "lca.reverse_dict()[2][row]"
   ]
  },
  {
   "cell_type": "code",
   "execution_count": 159,
   "metadata": {},
   "outputs": [
    {
     "data": {
      "text/plain": [
       "('ecoinvent 3.9 conseq', '2e8900639b17f306093810c317d98184')"
      ]
     },
     "execution_count": 159,
     "metadata": {},
     "output_type": "execute_result"
    }
   ],
   "source": [
    "# This would give something very different \n",
    "# because [1] means we are looking into the technosphere matrix\n",
    "lca.reverse_dict()[1][row]"
   ]
  },
  {
   "cell_type": "code",
   "execution_count": 32,
   "metadata": {},
   "outputs": [
    {
     "data": {
      "text/plain": [
       "1.0"
      ]
     },
     "execution_count": 32,
     "metadata": {},
     "output_type": "execute_result"
    }
   ],
   "source": [
    "#just the same but hard coded\n",
    "lca.characterization_matrix[82,82]"
   ]
  },
  {
   "cell_type": "markdown",
   "metadata": {},
   "source": [
    "## All charactersiation factors"
   ]
  },
  {
   "cell_type": "markdown",
   "metadata": {},
   "source": [
    "The entire list of charachterisation factors. We see the indexes but we don't see which exchanges they refer to (that is why the code just two cells above is useful)"
   ]
  },
  {
   "cell_type": "code",
   "execution_count": 160,
   "metadata": {},
   "outputs": [
    {
     "name": "stdout",
     "output_type": "stream",
     "text": [
      "  (82, 82)\t1.0\n",
      "  (86, 86)\t4.062399864196777\n",
      "  (87, 87)\t2.490999937057495\n",
      "  (96, 96)\t16.401809692382812\n",
      "  (164, 164)\t1301.2701416015625\n",
      "  (165, 165)\t137.56021118164062\n",
      "  (166, 166)\t0.8982621431350708\n",
      "  (167, 167)\t11123.494140625\n",
      "  (274, 274)\t2.354546546936035\n",
      "  (275, 275)\t6291.62939453125\n",
      "  (276, 276)\t1764.6295166015625\n",
      "  (277, 277)\t8.915194511413574\n",
      "  (278, 278)\t10239.234375\n",
      "  (279, 279)\t147.66224670410156\n",
      "  (280, 280)\t29.700000762939453\n",
      "  (281, 281)\t28.5\n",
      "  (282, 282)\t1728.470703125\n",
      "  (283, 283)\t6625.7802734375\n",
      "  (284, 284)\t4662.93701171875\n",
      "  (285, 285)\t12397.603515625\n",
      "  (312, 312)\t16069.998046875\n",
      "  (460, 460)\t23506.8203125\n",
      "  (686, 686)\t1.0\n",
      "  (687, 687)\t1.0\n",
      "  (688, 688)\t1.0\n",
      "  :\t:\n",
      "  (829, 829)\t29.700000762939453\n",
      "  (830, 830)\t29.700000762939453\n",
      "  (831, 831)\t29.700000762939453\n",
      "  (832, 832)\t12.1832275390625\n",
      "  (833, 833)\t12.1832275390625\n",
      "  (834, 834)\t1728.470703125\n",
      "  (835, 835)\t6625.7802734375\n",
      "  (836, 836)\t12397.603515625\n",
      "  (947, 947)\t23506.8203125\n",
      "  (948, 948)\t23506.8203125\n",
      "  (1706, 1706)\t29.700000762939453\n",
      "  (1707, 1707)\t1.0\n",
      "  (1708, 1708)\t-1.0\n",
      "  (1709, 1709)\t4.062399864196777\n",
      "  (1710, 1710)\t1.0\n",
      "  (1757, 1757)\t-1.0\n",
      "  (1852, 1852)\t-10.800000190734863\n",
      "  (2065, 2065)\t8592.2021484375\n",
      "  (2066, 2066)\t5823.72607421875\n",
      "  (2069, 2069)\t5823.72607421875\n",
      "  (2085, 2085)\t4.5\n",
      "  (2395, 2395)\t264.79998779296875\n",
      "  (2396, 2396)\t264.79998779296875\n",
      "  (2397, 2397)\t264.79998779296875\n",
      "  (2398, 2398)\t264.79998779296875\n"
     ]
    }
   ],
   "source": [
    "print(lca.characterization_matrix)"
   ]
  },
  {
   "cell_type": "code",
   "execution_count": 34,
   "metadata": {},
   "outputs": [
    {
     "data": {
      "text/plain": [
       "[[82, 82],\n",
       " [96, 96],\n",
       " [164, 164],\n",
       " [165, 165],\n",
       " [167, 167],\n",
       " [274, 274],\n",
       " [275, 275],\n",
       " [276, 276],\n",
       " [277, 277],\n",
       " [278, 278]]"
      ]
     },
     "execution_count": 34,
     "metadata": {},
     "output_type": "execute_result"
    }
   ],
   "source": [
    "# to get these indices as a list one can use\n",
    "np.argwhere(lca.characterization_matrix)[0:10].tolist() # gives the indices as a list\n",
    "# found here https://stackoverflow.com/questions/40313886/extracting-items-from-sparse-matrix"
   ]
  },
  {
   "cell_type": "code",
   "execution_count": 35,
   "metadata": {},
   "outputs": [
    {
     "name": "stdout",
     "output_type": "stream",
     "text": [
      "('biosphere3', 'f9749677-9c9f-4678-ab55-c607dfdc2cb9')\n",
      "'Carbon dioxide, fossil' (kilogram, None, ('air', 'urban air close to ground'))\n",
      "1.0\n",
      "---\n",
      "('biosphere3', '4cadbc9f-0472-4bb9-a942-df5b90e37878')\n",
      "'Chloroform' (kilogram, None, ('air', 'urban air close to ground'))\n",
      "16.0\n",
      "---\n",
      "('biosphere3', 'fa0c2bee-8dd9-4f8a-8489-b1f3b43de958')\n",
      "'Ethane, 1,1,1,2-tetrafluoro-, HFC-134a' (kilogram, None, ('air', 'urban air close to ground'))\n",
      "1300.0\n",
      "---\n",
      "('biosphere3', '393d0862-04cc-45ae-8d08-9dc2a4461b35')\n",
      "'Ethane, 1,1-difluoro-, HFC-152a' (kilogram, None, ('air', 'urban air close to ground'))\n",
      "138.0\n",
      "---\n",
      "('biosphere3', 'df5dd437-2e12-4af6-8f7a-9c8224857dc5')\n",
      "'Ethane, hexafluoro-, HFC-116' (kilogram, None, ('air', 'urban air close to ground'))\n",
      "11100.0\n",
      "---\n"
     ]
    }
   ],
   "source": [
    "# matching characterisation factors with exchanges\n",
    "for i in np.argwhere(lca.characterization_matrix)[0:5]:\n",
    "    myactid = lca.reverse_dict()[2][i[0]]\n",
    "    print(myactid)\n",
    "    print(bw.Database('biosphere3').get(myactid[1]))\n",
    "    print(lca.characterization_matrix[i[0],i[1]])\n",
    "    print('---')"
   ]
  },
  {
   "cell_type": "code",
   "execution_count": 36,
   "metadata": {},
   "outputs": [],
   "source": [
    "#same but formatted nice\n",
    "full_names = []\n",
    "ids = []\n",
    "cfs = []\n",
    "\n",
    "for i in np.argwhere(lca.characterization_matrix)[0:10]:\n",
    "    myactid = lca.reverse_dict()[2][i[0]]\n",
    "    ids.append(myactid)\n",
    "    full_names.append(bw.Database('biosphere3').get(myactid[1])['name'])\n",
    "    cfs.append(lca.characterization_matrix[i[0],i[1]])"
   ]
  },
  {
   "cell_type": "code",
   "execution_count": 37,
   "metadata": {},
   "outputs": [
    {
     "data": {
      "text/html": [
       "<div>\n",
       "<style scoped>\n",
       "    .dataframe tbody tr th:only-of-type {\n",
       "        vertical-align: middle;\n",
       "    }\n",
       "\n",
       "    .dataframe tbody tr th {\n",
       "        vertical-align: top;\n",
       "    }\n",
       "\n",
       "    .dataframe thead th {\n",
       "        text-align: right;\n",
       "    }\n",
       "</style>\n",
       "<table border=\"1\" class=\"dataframe\">\n",
       "  <thead>\n",
       "    <tr style=\"text-align: right;\">\n",
       "      <th></th>\n",
       "      <th>full_name</th>\n",
       "      <th>id</th>\n",
       "      <th>cf</th>\n",
       "    </tr>\n",
       "  </thead>\n",
       "  <tbody>\n",
       "    <tr>\n",
       "      <th>0</th>\n",
       "      <td>Carbon dioxide, fossil</td>\n",
       "      <td>(biosphere3, f9749677-9c9f-4678-ab55-c607dfdc2...</td>\n",
       "      <td>1.0</td>\n",
       "    </tr>\n",
       "    <tr>\n",
       "      <th>1</th>\n",
       "      <td>Chloroform</td>\n",
       "      <td>(biosphere3, 4cadbc9f-0472-4bb9-a942-df5b90e37...</td>\n",
       "      <td>16.0</td>\n",
       "    </tr>\n",
       "    <tr>\n",
       "      <th>2</th>\n",
       "      <td>Ethane, 1,1,1,2-tetrafluoro-, HFC-134a</td>\n",
       "      <td>(biosphere3, fa0c2bee-8dd9-4f8a-8489-b1f3b43de...</td>\n",
       "      <td>1300.0</td>\n",
       "    </tr>\n",
       "    <tr>\n",
       "      <th>3</th>\n",
       "      <td>Ethane, 1,1-difluoro-, HFC-152a</td>\n",
       "      <td>(biosphere3, 393d0862-04cc-45ae-8d08-9dc2a4461...</td>\n",
       "      <td>138.0</td>\n",
       "    </tr>\n",
       "    <tr>\n",
       "      <th>4</th>\n",
       "      <td>Ethane, hexafluoro-, HFC-116</td>\n",
       "      <td>(biosphere3, df5dd437-2e12-4af6-8f7a-9c8224857...</td>\n",
       "      <td>11100.0</td>\n",
       "    </tr>\n",
       "    <tr>\n",
       "      <th>5</th>\n",
       "      <td>Methane, bromo-, Halon 1001</td>\n",
       "      <td>(biosphere3, 4bf1c333-419b-4278-ac14-247c8bf56...</td>\n",
       "      <td>2.0</td>\n",
       "    </tr>\n",
       "    <tr>\n",
       "      <th>6</th>\n",
       "      <td>Methane, bromotrifluoro-, Halon 1301</td>\n",
       "      <td>(biosphere3, 18ddd879-5496-4419-8ab7-e0d3864d9...</td>\n",
       "      <td>6290.0</td>\n",
       "    </tr>\n",
       "    <tr>\n",
       "      <th>7</th>\n",
       "      <td>Methane, chlorodifluoro-, HCFC-22</td>\n",
       "      <td>(biosphere3, 8ca6c84b-7f56-47e6-8d17-4f2dbc49a...</td>\n",
       "      <td>1760.0</td>\n",
       "    </tr>\n",
       "    <tr>\n",
       "      <th>8</th>\n",
       "      <td>Methane, dichloro-, HCC-30</td>\n",
       "      <td>(biosphere3, 2716807d-0266-48ff-bb7a-6e6c5fbfd...</td>\n",
       "      <td>9.0</td>\n",
       "    </tr>\n",
       "    <tr>\n",
       "      <th>9</th>\n",
       "      <td>Methane, dichlorodifluoro-, CFC-12</td>\n",
       "      <td>(biosphere3, 31a3e44c-4098-461e-aba2-f79540e05...</td>\n",
       "      <td>10200.0</td>\n",
       "    </tr>\n",
       "  </tbody>\n",
       "</table>\n",
       "</div>"
      ],
      "text/plain": [
       "                                full_name  \\\n",
       "0                  Carbon dioxide, fossil   \n",
       "1                              Chloroform   \n",
       "2  Ethane, 1,1,1,2-tetrafluoro-, HFC-134a   \n",
       "3         Ethane, 1,1-difluoro-, HFC-152a   \n",
       "4            Ethane, hexafluoro-, HFC-116   \n",
       "5             Methane, bromo-, Halon 1001   \n",
       "6    Methane, bromotrifluoro-, Halon 1301   \n",
       "7       Methane, chlorodifluoro-, HCFC-22   \n",
       "8              Methane, dichloro-, HCC-30   \n",
       "9      Methane, dichlorodifluoro-, CFC-12   \n",
       "\n",
       "                                                  id       cf  \n",
       "0  (biosphere3, f9749677-9c9f-4678-ab55-c607dfdc2...      1.0  \n",
       "1  (biosphere3, 4cadbc9f-0472-4bb9-a942-df5b90e37...     16.0  \n",
       "2  (biosphere3, fa0c2bee-8dd9-4f8a-8489-b1f3b43de...   1300.0  \n",
       "3  (biosphere3, 393d0862-04cc-45ae-8d08-9dc2a4461...    138.0  \n",
       "4  (biosphere3, df5dd437-2e12-4af6-8f7a-9c8224857...  11100.0  \n",
       "5  (biosphere3, 4bf1c333-419b-4278-ac14-247c8bf56...      2.0  \n",
       "6  (biosphere3, 18ddd879-5496-4419-8ab7-e0d3864d9...   6290.0  \n",
       "7  (biosphere3, 8ca6c84b-7f56-47e6-8d17-4f2dbc49a...   1760.0  \n",
       "8  (biosphere3, 2716807d-0266-48ff-bb7a-6e6c5fbfd...      9.0  \n",
       "9  (biosphere3, 31a3e44c-4098-461e-aba2-f79540e05...  10200.0  "
      ]
     },
     "execution_count": 37,
     "metadata": {},
     "output_type": "execute_result"
    }
   ],
   "source": [
    "pd.DataFrame({'full_name' : full_names, \n",
    "              'id' : ids,  \n",
    "              'cf' : cfs})"
   ]
  },
  {
   "cell_type": "markdown",
   "metadata": {},
   "source": [
    "## Now we change method and see what happens"
   ]
  },
  {
   "cell_type": "code",
   "execution_count": 39,
   "metadata": {},
   "outputs": [],
   "source": [
    "#bw.methods"
   ]
  },
  {
   "cell_type": "code",
   "execution_count": 40,
   "metadata": {},
   "outputs": [
    {
     "data": {
      "text/plain": [
       "1.6372387965226802"
      ]
     },
     "execution_count": 40,
     "metadata": {},
     "output_type": "execute_result"
    }
   ],
   "source": [
    "anothermethod =  ('CML v4.8 2016', 'human toxicity', 'human toxicity (HTP inf)')\n",
    "\n",
    "lca = bw.LCA({act: 1} , anothermethod)\n",
    "lca.lci()\n",
    "lca.lcia()\n",
    "lca.score"
   ]
  },
  {
   "cell_type": "code",
   "execution_count": 41,
   "metadata": {},
   "outputs": [
    {
     "data": {
      "text/plain": [
       "<2419x2419 sparse matrix of type '<class 'numpy.float64'>'\n",
       "\twith 539 stored elements in Compressed Sparse Row format>"
      ]
     },
     "execution_count": 41,
     "metadata": {},
     "output_type": "execute_result"
    }
   ],
   "source": [
    "lca.characterization_matrix # this is the same dimension \n",
    "# but different number of elemnts"
   ]
  },
  {
   "cell_type": "code",
   "execution_count": 42,
   "metadata": {},
   "outputs": [
    {
     "name": "stdout",
     "output_type": "stream",
     "text": [
      "0.0\n"
     ]
    }
   ],
   "source": [
    "print(lca.characterization_matrix[row,row]) # Different CF of course."
   ]
  },
  {
   "cell_type": "code",
   "execution_count": 43,
   "metadata": {},
   "outputs": [
    {
     "name": "stdout",
     "output_type": "stream",
     "text": [
      "  (3, 3)\t46.952484130859375\n",
      "  (13, 13)\t572399.625\n",
      "  (14, 14)\t21.6158390045166\n",
      "  (21, 21)\t56.906005859375\n",
      "  (25, 25)\t506.5604553222656\n",
      "  (26, 26)\t4669.0390625\n",
      "  (30, 30)\t0.10000000149011612\n",
      "  (37, 37)\t6707.54248046875\n",
      "  (41, 41)\t21.29570198059082\n",
      "  (42, 42)\t38.961204528808594\n",
      "  (44, 44)\t756.4636840820312\n",
      "  (46, 46)\t0.42841529846191406\n",
      "  (48, 48)\t15.08444881439209\n",
      "  (51, 51)\t1899.9091796875\n",
      "  (52, 52)\t0.9732104539871216\n",
      "  (53, 53)\t3157103.0\n",
      "  (54, 54)\t409.47552490234375\n",
      "  (56, 56)\t226630.84375\n",
      "  (58, 58)\t28.594619750976562\n",
      "  (69, 69)\t2224.3916015625\n",
      "  (72, 72)\t145040.546875\n",
      "  (73, 73)\t22.890777587890625\n",
      "  (76, 76)\t0.09748458117246628\n",
      "  (77, 77)\t20.96550941467285\n",
      "  (78, 78)\t141.18975830078125\n",
      "  :\t:\n",
      "  (2309, 2309)\t3.3102262020111084\n",
      "  (2325, 2325)\t44.34622573852539\n",
      "  (2326, 2326)\t0.13927416503429413\n",
      "  (2327, 2327)\t0.0006488700164481997\n",
      "  (2328, 2328)\t0.10979720950126648\n",
      "  (2329, 2329)\t0.6930022239685059\n",
      "  (2330, 2330)\t0.5543568730354309\n",
      "  (2333, 2333)\t0.8759815692901611\n",
      "  (2336, 2336)\t3.2693867683410645\n",
      "  (2337, 2337)\t4.555788040161133\n",
      "  (2348, 2348)\t18.91443634033203\n",
      "  (2351, 2351)\t44.34622573852539\n",
      "  (2352, 2352)\t3.2693867683410645\n",
      "  (2353, 2353)\t6.158518314361572\n",
      "  (2354, 2354)\t0.5543568730354309\n",
      "  (2356, 2356)\t11.448446273803711\n",
      "  (2359, 2359)\t14.453316688537598\n",
      "  (2386, 2386)\t9.057585716247559\n",
      "  (2387, 2387)\t8.854416847229004\n",
      "  (2400, 2400)\t1.2000000476837158\n",
      "  (2401, 2401)\t1.2000000476837158\n",
      "  (2402, 2402)\t1.2000000476837158\n",
      "  (2403, 2403)\t1.2000000476837158\n",
      "  (2404, 2404)\t1.2000000476837158\n",
      "  (2409, 2409)\t1.8389612436294556\n"
     ]
    }
   ],
   "source": [
    "# finally the entire characterisation matrix\n",
    "print(lca.characterization_matrix)"
   ]
  },
  {
   "cell_type": "code",
   "execution_count": 44,
   "metadata": {},
   "outputs": [
    {
     "name": "stdout",
     "output_type": "stream",
     "text": [
      "the exchange is:  Exchange: 0.55731 kilogram 'Carbon dioxide, fossil' (kilogram, None, ('air',)) to 'manganese(III) oxide production' (kilogram, RoW, None)>\n",
      "the flow value is: 0.55731\n",
      "the cf value is: 0.0\n",
      "the characterized impact is: 0.0\n"
     ]
    }
   ],
   "source": [
    "for exc in list(act.exchanges()):\n",
    "    if exc['input'] == ('biosphere3', '349b29d1-3e58-4c66-98b9-9d1a076efd2e'):\n",
    "        print(\"the exchange is: \", exc)\n",
    "        print(\"the flow value is:\", exc['amount'])\n",
    "        print(\"the cf value is:\",lca.characterization_matrix[row,row])\n",
    "        print(\"the characterized impact is:\", exc['amount'] * lca.characterization_matrix[row,row])"
   ]
  }
 ],
 "metadata": {
  "kernelspec": {
   "display_name": "Python 3 (ipykernel)",
   "language": "python",
   "name": "python3"
  },
  "language_info": {
   "codemirror_mode": {
    "name": "ipython",
    "version": 3
   },
   "file_extension": ".py",
   "mimetype": "text/x-python",
   "name": "python",
   "nbconvert_exporter": "python",
   "pygments_lexer": "ipython3",
   "version": "3.10.13"
  },
  "vscode": {
   "interpreter": {
    "hash": "82564b9d83d215aeea51e5be1898001271ba837eb23ba5d8f9bcea7057e5a82c"
   }
  }
 },
 "nbformat": 4,
 "nbformat_minor": 4
}
