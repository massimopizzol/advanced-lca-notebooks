{
 "cells": [
  {
   "attachments": {},
   "cell_type": "markdown",
   "metadata": {},
   "source": [
    "## Contribution analysis in the foreground system\n",
    "\n",
    "### Massimo Pizzol, 2024"
   ]
  },
  {
   "cell_type": "code",
   "execution_count": 1,
   "metadata": {},
   "outputs": [],
   "source": [
    "# Note: must be environment bw2\n",
    "import brightway2 as bw\n",
    "import pandas as pd\n",
    "import numpy as np"
   ]
  },
  {
   "cell_type": "markdown",
   "metadata": {},
   "source": [
    "Setting up the project with databases, a LCIA method, and some activities"
   ]
  },
  {
   "cell_type": "code",
   "execution_count": 2,
   "metadata": {},
   "outputs": [],
   "source": [
    "bw.projects.set_current(\"advlca23\") # my project with ei3.9 conseq"
   ]
  },
  {
   "cell_type": "code",
   "execution_count": 45,
   "metadata": {},
   "outputs": [],
   "source": [
    "# a method for LCIA\n",
    "mymethod = ('ReCiPe 2016 v1.03, midpoint (H)', 'climate change', 'global warming potential (GWP1000)')"
   ]
  },
  {
   "cell_type": "code",
   "execution_count": 34,
   "metadata": {},
   "outputs": [
    {
     "data": {
      "text/plain": [
       "['treatment of wastewater from hard fibreboard production, wastewater treatment' (cubic meter, RER, None),\n",
       " 'market for 6-benzyladenine' (kilogram, GLO, None),\n",
       " 'market for electricity, medium voltage' (kilowatt hour, AT, None),\n",
       " 'market for cobalt carbonate' (kilogram, GLO, None),\n",
       " 'aluminium chloride production' (kilogram, GLO, None)]"
      ]
     },
     "execution_count": 34,
     "metadata": {},
     "output_type": "execute_result"
    }
   ],
   "source": [
    "# Make a list of activities from ecoinvent, chosen randomly\n",
    "myacts = [bw.Database('ecoinvent 3.9 conseq').random() for _ in range(5)]\n",
    "myacts"
   ]
  },
  {
   "cell_type": "markdown",
   "metadata": {},
   "source": [
    "### One static score"
   ]
  },
  {
   "cell_type": "code",
   "execution_count": 46,
   "metadata": {},
   "outputs": [
    {
     "name": "stdout",
     "output_type": "stream",
     "text": [
      "'market for 6-benzyladenine' (kilogram, GLO, None)\n",
      "8.716756507694592\n"
     ]
    }
   ],
   "source": [
    "# Forthe first activity in the list\n",
    "myact = bw.Database(myacts[1]['database']).get(myacts[1]['code'])\n",
    "print(myact)\n",
    "functional_unit = {myact: 1} \n",
    "lca = bw.LCA(functional_unit, mymethod)\n",
    "lca.lci()\n",
    "lca.lcia()\n",
    "print(lca.score)"
   ]
  },
  {
   "cell_type": "markdown",
   "metadata": {},
   "source": [
    "Function to get LCA results"
   ]
  },
  {
   "cell_type": "code",
   "execution_count": 23,
   "metadata": {},
   "outputs": [],
   "source": [
    "def dolcacalc(myact, mydemand, mymethod):\n",
    "    my_fu = {myact: mydemand} \n",
    "    lca = bw.LCA(my_fu, mymethod)\n",
    "    lca.lci()\n",
    "    lca.lcia()\n",
    "    return lca.score\n",
    "\n",
    "# For WtT\n",
    "def getLCAresults(list_acts, mymethod):\n",
    "    \n",
    "    all_activities = []\n",
    "    results = []\n",
    "    for a in list_acts:\n",
    "        act = bw.Database(a[0]).get(a[1])\n",
    "        all_activities.append(act['name'])\n",
    "        results.append(dolcacalc(act,1,mymethod)) # 1 stays for one unit of each process\n",
    "        #print(act['name'])\n",
    "     \n",
    "    results_dict = dict(zip(all_activities, results))\n",
    "    \n",
    "    return results_dict"
   ]
  },
  {
   "cell_type": "markdown",
   "metadata": {},
   "source": [
    "# Contribution Analysis"
   ]
  },
  {
   "cell_type": "markdown",
   "metadata": {},
   "source": [
    "One might want to know how much each exchange of an activity contributes to the total impact of such \"parent\" activity."
   ]
  },
  {
   "cell_type": "markdown",
   "metadata": {},
   "source": [
    "What I do here is iterating through the exchanges of the \"parent\" activity and calculate impact scores for each exchange as if this was the functional unit, using the amount used in input to the \"parent\" activity\n",
    "\n",
    "The tings to notice is that a different approach is used for biosphere and technosphere exchanges"
   ]
  },
  {
   "cell_type": "code",
   "execution_count": 36,
   "metadata": {},
   "outputs": [],
   "source": [
    "ca_dict = {}\n",
    "\n",
    "for act in myacts:\n",
    "    \n",
    "    exc_list = []\n",
    "    contr_list = []\n",
    "\n",
    "    for exc in list(act.exchanges()):\n",
    "        \n",
    "        if exc['type'] == 'biosphere':\n",
    "            \n",
    "            col = lca.activity_dict[exc['output']] # find column index of A matrix for the activity\n",
    "            row = lca.biosphere_dict[exc['input']] # find row index of B matrix for the exchange\n",
    "            contr_score = lca.biosphere_matrix[row,col] * lca.characterization_matrix[row,row]\n",
    "            contr_list.append((exc['input'], exc['type'], exc['amount'], contr_score))\n",
    "            \n",
    "        elif exc['type'] == 'substitution':\n",
    "            \n",
    "            contr_score = dolcacalc(bw.Database(exc['input'][0]).get(exc['input'][1]), exc['amount'], mymethod)\n",
    "            contr_list.append((exc['input'], exc['type'], exc['amount'], -contr_score))\n",
    "            \n",
    "        else:\n",
    "            \n",
    "            contr_score = dolcacalc(bw.Database(exc['input'][0]).get(exc['input'][1]), exc['amount'], mymethod)\n",
    "            contr_list.append((exc['input'], exc['type'], exc['amount'], contr_score))\n",
    "        \n",
    "    ca_dict[act['code']] =  contr_list"
   ]
  },
  {
   "cell_type": "markdown",
   "metadata": {},
   "source": [
    "### We can check one activity"
   ]
  },
  {
   "cell_type": "markdown",
   "metadata": {},
   "source": [
    "Using some nice formatting"
   ]
  },
  {
   "cell_type": "code",
   "execution_count": 42,
   "metadata": {},
   "outputs": [
    {
     "data": {
      "text/html": [
       "<div>\n",
       "<style scoped>\n",
       "    .dataframe tbody tr th:only-of-type {\n",
       "        vertical-align: middle;\n",
       "    }\n",
       "\n",
       "    .dataframe tbody tr th {\n",
       "        vertical-align: top;\n",
       "    }\n",
       "\n",
       "    .dataframe thead th {\n",
       "        text-align: right;\n",
       "    }\n",
       "</style>\n",
       "<table border=\"1\" class=\"dataframe\">\n",
       "  <thead>\n",
       "    <tr style=\"text-align: right;\">\n",
       "      <th></th>\n",
       "      <th>input</th>\n",
       "      <th>type</th>\n",
       "      <th>amount</th>\n",
       "      <th>contribution</th>\n",
       "    </tr>\n",
       "  </thead>\n",
       "  <tbody>\n",
       "    <tr>\n",
       "      <th>0</th>\n",
       "      <td>(ecoinvent 3.9 conseq, db9a71a0edf13c89a31140e...</td>\n",
       "      <td>production</td>\n",
       "      <td>1.0000</td>\n",
       "      <td>8.716757</td>\n",
       "    </tr>\n",
       "    <tr>\n",
       "      <th>1</th>\n",
       "      <td>(ecoinvent 3.9 conseq, db232fc4d8484ff70f90aaf...</td>\n",
       "      <td>technosphere</td>\n",
       "      <td>1.0000</td>\n",
       "      <td>8.659267</td>\n",
       "    </tr>\n",
       "    <tr>\n",
       "      <th>2</th>\n",
       "      <td>(ecoinvent 3.9 conseq, f005944b534083aff9e9922...</td>\n",
       "      <td>technosphere</td>\n",
       "      <td>0.3091</td>\n",
       "      <td>0.017582</td>\n",
       "    </tr>\n",
       "    <tr>\n",
       "      <th>3</th>\n",
       "      <td>(ecoinvent 3.9 conseq, 9ef3e3988eccdfcbf356d2d...</td>\n",
       "      <td>technosphere</td>\n",
       "      <td>0.0246</td>\n",
       "      <td>0.001317</td>\n",
       "    </tr>\n",
       "    <tr>\n",
       "      <th>4</th>\n",
       "      <td>(ecoinvent 3.9 conseq, 70f7992d941cafc4dd70f28...</td>\n",
       "      <td>technosphere</td>\n",
       "      <td>0.2088</td>\n",
       "      <td>0.032328</td>\n",
       "    </tr>\n",
       "    <tr>\n",
       "      <th>5</th>\n",
       "      <td>(ecoinvent 3.9 conseq, 390ba2d0a2107982360b357...</td>\n",
       "      <td>technosphere</td>\n",
       "      <td>0.5990</td>\n",
       "      <td>0.006263</td>\n",
       "    </tr>\n",
       "  </tbody>\n",
       "</table>\n",
       "</div>"
      ],
      "text/plain": [
       "                                               input          type  amount  \\\n",
       "0  (ecoinvent 3.9 conseq, db9a71a0edf13c89a31140e...    production  1.0000   \n",
       "1  (ecoinvent 3.9 conseq, db232fc4d8484ff70f90aaf...  technosphere  1.0000   \n",
       "2  (ecoinvent 3.9 conseq, f005944b534083aff9e9922...  technosphere  0.3091   \n",
       "3  (ecoinvent 3.9 conseq, 9ef3e3988eccdfcbf356d2d...  technosphere  0.0246   \n",
       "4  (ecoinvent 3.9 conseq, 70f7992d941cafc4dd70f28...  technosphere  0.2088   \n",
       "5  (ecoinvent 3.9 conseq, 390ba2d0a2107982360b357...  technosphere  0.5990   \n",
       "\n",
       "   contribution  \n",
       "0      8.716757  \n",
       "1      8.659267  \n",
       "2      0.017582  \n",
       "3      0.001317  \n",
       "4      0.032328  \n",
       "5      0.006263  "
      ]
     },
     "execution_count": 42,
     "metadata": {},
     "output_type": "execute_result"
    }
   ],
   "source": [
    "df = pd.DataFrame(ca_dict[myacts[1]['code']], columns = ['input','type','amount','contribution'])\n",
    "df"
   ]
  },
  {
   "cell_type": "markdown",
   "metadata": {},
   "source": [
    "Let's check it gives the right result, and the sum of all the exchanges equals the impact of the production activity"
   ]
  },
  {
   "cell_type": "markdown",
   "metadata": {},
   "source": [
    "It's not perfectly close. I guess due to rounding errors? The difference is very very small."
   ]
  },
  {
   "cell_type": "code",
   "execution_count": 43,
   "metadata": {},
   "outputs": [
    {
     "name": "stdout",
     "output_type": "stream",
     "text": [
      "8.716756507694592\n",
      "8.716756507406608\n"
     ]
    }
   ],
   "source": [
    "print(df.loc[df['type'] == 'production']['contribution'].sum())\n",
    "print(df.loc[df['type'] != 'production']['contribution'].sum())"
   ]
  },
  {
   "cell_type": "markdown",
   "metadata": {},
   "source": [
    "Here below I calculate the contribution in percentage. "
   ]
  },
  {
   "cell_type": "code",
   "execution_count": 44,
   "metadata": {},
   "outputs": [
    {
     "data": {
      "text/html": [
       "<div>\n",
       "<style scoped>\n",
       "    .dataframe tbody tr th:only-of-type {\n",
       "        vertical-align: middle;\n",
       "    }\n",
       "\n",
       "    .dataframe tbody tr th {\n",
       "        vertical-align: top;\n",
       "    }\n",
       "\n",
       "    .dataframe thead th {\n",
       "        text-align: right;\n",
       "    }\n",
       "</style>\n",
       "<table border=\"1\" class=\"dataframe\">\n",
       "  <thead>\n",
       "    <tr style=\"text-align: right;\">\n",
       "      <th></th>\n",
       "      <th>input</th>\n",
       "      <th>type</th>\n",
       "      <th>amount</th>\n",
       "      <th>contribution</th>\n",
       "      <th>%_contribution</th>\n",
       "    </tr>\n",
       "  </thead>\n",
       "  <tbody>\n",
       "    <tr>\n",
       "      <th>0</th>\n",
       "      <td>(ecoinvent 3.9 conseq, db9a71a0edf13c89a31140e...</td>\n",
       "      <td>production</td>\n",
       "      <td>1.0000</td>\n",
       "      <td>8.716757</td>\n",
       "      <td>100.000000</td>\n",
       "    </tr>\n",
       "    <tr>\n",
       "      <th>1</th>\n",
       "      <td>(ecoinvent 3.9 conseq, db232fc4d8484ff70f90aaf...</td>\n",
       "      <td>technosphere</td>\n",
       "      <td>1.0000</td>\n",
       "      <td>8.659267</td>\n",
       "      <td>99.340477</td>\n",
       "    </tr>\n",
       "    <tr>\n",
       "      <th>2</th>\n",
       "      <td>(ecoinvent 3.9 conseq, f005944b534083aff9e9922...</td>\n",
       "      <td>technosphere</td>\n",
       "      <td>0.3091</td>\n",
       "      <td>0.017582</td>\n",
       "      <td>0.201708</td>\n",
       "    </tr>\n",
       "    <tr>\n",
       "      <th>3</th>\n",
       "      <td>(ecoinvent 3.9 conseq, 9ef3e3988eccdfcbf356d2d...</td>\n",
       "      <td>technosphere</td>\n",
       "      <td>0.0246</td>\n",
       "      <td>0.001317</td>\n",
       "      <td>0.015104</td>\n",
       "    </tr>\n",
       "    <tr>\n",
       "      <th>4</th>\n",
       "      <td>(ecoinvent 3.9 conseq, 70f7992d941cafc4dd70f28...</td>\n",
       "      <td>technosphere</td>\n",
       "      <td>0.2088</td>\n",
       "      <td>0.032328</td>\n",
       "      <td>0.370867</td>\n",
       "    </tr>\n",
       "    <tr>\n",
       "      <th>5</th>\n",
       "      <td>(ecoinvent 3.9 conseq, 390ba2d0a2107982360b357...</td>\n",
       "      <td>technosphere</td>\n",
       "      <td>0.5990</td>\n",
       "      <td>0.006263</td>\n",
       "      <td>0.071844</td>\n",
       "    </tr>\n",
       "  </tbody>\n",
       "</table>\n",
       "</div>"
      ],
      "text/plain": [
       "                                               input          type  amount  \\\n",
       "0  (ecoinvent 3.9 conseq, db9a71a0edf13c89a31140e...    production  1.0000   \n",
       "1  (ecoinvent 3.9 conseq, db232fc4d8484ff70f90aaf...  technosphere  1.0000   \n",
       "2  (ecoinvent 3.9 conseq, f005944b534083aff9e9922...  technosphere  0.3091   \n",
       "3  (ecoinvent 3.9 conseq, 9ef3e3988eccdfcbf356d2d...  technosphere  0.0246   \n",
       "4  (ecoinvent 3.9 conseq, 70f7992d941cafc4dd70f28...  technosphere  0.2088   \n",
       "5  (ecoinvent 3.9 conseq, 390ba2d0a2107982360b357...  technosphere  0.5990   \n",
       "\n",
       "   contribution  %_contribution  \n",
       "0      8.716757      100.000000  \n",
       "1      8.659267       99.340477  \n",
       "2      0.017582        0.201708  \n",
       "3      0.001317        0.015104  \n",
       "4      0.032328        0.370867  \n",
       "5      0.006263        0.071844  "
      ]
     },
     "execution_count": 44,
     "metadata": {},
     "output_type": "execute_result"
    }
   ],
   "source": [
    "df['%_contribution'] = 100 * df['contribution'] / df.loc[df['type'] == 'production']['contribution'].sum()\n",
    "df"
   ]
  },
  {
   "cell_type": "code",
   "execution_count": 341,
   "metadata": {},
   "outputs": [
    {
     "data": {
      "text/plain": [
       "('EF v3.1', 'climate change', 'global warming potential (GWP100)')"
      ]
     },
     "execution_count": 341,
     "metadata": {},
     "output_type": "execute_result"
    }
   ],
   "source": [
    "mymethod"
   ]
  },
  {
   "cell_type": "code",
   "execution_count": 342,
   "metadata": {},
   "outputs": [
    {
     "data": {
      "text/plain": [
       "'Carbon dioxide, in air' (kilogram, None, ('natural resource', 'in air'))"
      ]
     },
     "execution_count": 342,
     "metadata": {},
     "output_type": "execute_result"
    }
   ],
   "source": [
    "bw.Database('biosphere3').get('cc6a1abb-b123-4ca6-8f16-38209df609be')"
   ]
  },
  {
   "cell_type": "code",
   "execution_count": 343,
   "metadata": {},
   "outputs": [
    {
     "name": "stdout",
     "output_type": "stream",
     "text": [
      "row: 83 column: 18860\n",
      "value of the exchange: -0.11299999803304672\n",
      "Characterisation factor 0.0\n"
     ]
    }
   ],
   "source": [
    "col = lca.activity_dict[('Fuels_db_WtT_MJ', 'eMeOH_DAC')] # find column index of A matrix for the activity\n",
    "row = lca.biosphere_dict[('biosphere3', 'cc6a1abb-b123-4ca6-8f16-38209df609be')] # find row index of B matrix for the exchange\n",
    "print('row:', row, 'column:', col)\n",
    "print('value of the exchange:', lca.biosphere_matrix[row,col])\n",
    "print('Characterisation factor', lca.characterization_matrix[row,row])"
   ]
  },
  {
   "cell_type": "code",
   "execution_count": 344,
   "metadata": {},
   "outputs": [
    {
     "name": "stdout",
     "output_type": "stream",
     "text": [
      "  (70, 70)\t0.006000000052154064\n",
      "  (82, 82)\t1.0\n",
      "  (96, 96)\t20.600000381469727\n",
      "  (163, 163)\t0.43700000643730164\n",
      "  (164, 164)\t1530.0\n",
      "  (165, 165)\t164.0\n",
      "  (166, 166)\t1.2999999523162842\n",
      "  (167, 167)\t12400.0\n",
      "  (171, 171)\t6.340000152587891\n",
      "  (274, 274)\t2.430000066757202\n",
      "  (275, 275)\t7200.0\n",
      "  (276, 276)\t1960.0\n",
      "  (277, 277)\t11.199999809265137\n",
      "  (278, 278)\t12500.0\n",
      "  (279, 279)\t160.0\n",
      "  (280, 280)\t29.799999237060547\n",
      "  (281, 281)\t27.0\n",
      "  (282, 282)\t2200.0\n",
      "  (283, 283)\t7380.0\n",
      "  (284, 284)\t6230.0\n",
      "  (285, 285)\t14600.0\n",
      "  (302, 302)\t0.48100000619888306\n",
      "  (312, 312)\t17400.0\n",
      "  (401, 401)\t0.019999999552965164\n",
      "  (460, 460)\t25200.0\n",
      "  :\t:\n",
      "  (831, 831)\t29.799999237060547\n",
      "  (832, 832)\t5.539999961853027\n",
      "  (833, 833)\t5.539999961853027\n",
      "  (834, 834)\t2200.0\n",
      "  (835, 835)\t7380.0\n",
      "  (836, 836)\t14600.0\n",
      "  (846, 846)\t0.48100000619888306\n",
      "  (895, 895)\t0.019999999552965164\n",
      "  (896, 896)\t0.019999999552965164\n",
      "  (947, 947)\t25200.0\n",
      "  (948, 948)\t25200.0\n",
      "  (1706, 1706)\t29.799999237060547\n",
      "  (1707, 1707)\t1.0\n",
      "  (1708, 1708)\t-1.0\n",
      "  (1710, 1710)\t1.0\n",
      "  (1757, 1757)\t-1.0\n",
      "  (1839, 1839)\t0.04399999976158142\n",
      "  (1858, 1858)\t0.052000001072883606\n",
      "  (2065, 2065)\t9430.0\n",
      "  (2066, 2066)\t6520.0\n",
      "  (2069, 2069)\t6520.0\n",
      "  (2395, 2395)\t273.0\n",
      "  (2396, 2396)\t273.0\n",
      "  (2397, 2397)\t273.0\n",
      "  (2398, 2398)\t273.0\n"
     ]
    }
   ],
   "source": [
    "#here you see which exchanges have cfs.\n",
    "\n",
    "print(lca.characterization_matrix)\n",
    "#('biosphere3', 'af01e564-f816-4906-bd4f-b7c932f926b9')"
   ]
  },
  {
   "cell_type": "code",
   "execution_count": 282,
   "metadata": {},
   "outputs": [
    {
     "name": "stdout",
     "output_type": "stream",
     "text": [
      "'Carbon dioxide, fossil' (kilogram, None, ('air', 'low population density, long-term'))\n",
      "e259263c-d1f1-449f-bb9b-73c6d0a32a00\n",
      "'Carbon dioxide, fossil' (kilogram, None, ('air', 'non-urban air or from high stacks'))\n",
      "aa7cac3a-3625-41d4-bc54-33e2cf11ec46\n",
      "'Carbon dioxide, fossil' (kilogram, None, ('air',))\n",
      "349b29d1-3e58-4c66-98b9-9d1a076efd2e\n",
      "'Carbon dioxide, fossil' (kilogram, None, ('air', 'lower stratosphere + upper troposphere'))\n",
      "16eeda8a-1ea2-408e-ab37-2648495058dd\n",
      "'Carbon dioxide, fossil' (kilogram, None, ('air', 'urban air close to ground'))\n",
      "f9749677-9c9f-4678-ab55-c607dfdc2cb9\n",
      "'Carbon dioxide, non-fossil' (kilogram, None, ('air', 'non-urban air or from high stacks'))\n",
      "d6235194-e4e6-4548-bfa3-ac095131aef4\n",
      "'Carbon dioxide, non-fossil' (kilogram, None, ('air', 'low population density, long-term'))\n",
      "28e1e2d6-97ad-4dfd-932a-9edad36dcab9\n",
      "'Carbon dioxide, non-fossil' (kilogram, None, ('air', 'lower stratosphere + upper troposphere'))\n",
      "4e1f0bb0-2703-4303-bf86-972d810612cf\n",
      "'Carbon dioxide, non-fossil' (kilogram, None, ('air',))\n",
      "eba59fd6-f37e-41dc-9ca3-c7ea22d602c7\n",
      "'Carbon dioxide, non-fossil' (kilogram, None, ('air', 'urban air close to ground'))\n",
      "73ed05cc-9727-4abf-9516-4b5c0fe54a16\n",
      "'Carbon dioxide, non-fossil, resource correction' (kilogram, None, ('natural resource', 'in air'))\n",
      "419de9f0-ee00-4e95-9556-c8f06b17beec\n"
     ]
    }
   ],
   "source": [
    "for i in bw.Database('biosphere3').search('carbon dioxide fossil'):\n",
    "    print(i)\n",
    "    print(i['code'])"
   ]
  },
  {
   "cell_type": "markdown",
   "metadata": {
    "tags": []
   },
   "source": [
    "### Monte Carlo simulations"
   ]
  },
  {
   "cell_type": "code",
   "execution_count": 6,
   "metadata": {},
   "outputs": [],
   "source": [
    "# Uncertainty type: an interger that tells you what type of uncertainty (see website for list). 2 = lognormal distribution https://docs.brightway.dev/en/latest/content/theory/uncertainty.html\n",
    "# loc: median\n",
    "# scale: geometric standard deviation\n",
    "# negative: is the value negative (TRUE) or not (FALSE)\n",
    "\n",
    "# https://github.com/PoutineAndRosti/Brightway-Seminar-2017/blob/master/Day%201%20PM/Brightway%20and%20uncertainty.ipynb\n",
    "# https://stats-arrays.readthedocs.io/en/latest/index.html\n",
    "\n",
    "# What I did: \n",
    "# Calculated the natural log of the median and natural log of the geometric standard deviation and used these for 'loc' and 'scale' values"
   ]
  },
  {
   "cell_type": "code",
   "execution_count": 19,
   "metadata": {},
   "outputs": [],
   "source": [
    "mymethod = EF31[1]"
   ]
  },
  {
   "cell_type": "code",
   "execution_count": 20,
   "metadata": {},
   "outputs": [
    {
     "data": {
      "text/plain": [
       "Exchange: 3.06e-06 kilogram 'Particulate Matter, < 2.5 um' (kilogram, None, ('air', 'non-urban air or from high stacks')) to 'MeOH_combustion' (megajoule, None, None)>"
      ]
     },
     "execution_count": 20,
     "metadata": {},
     "output_type": "execute_result"
    }
   ],
   "source": [
    "meoh = Fuels_db_TtW_MJ.get('MeOH_combustion')\n",
    "meoh_exc = list(meoh.exchanges())[0]\n",
    "meoh_exc"
   ]
  },
  {
   "cell_type": "code",
   "execution_count": 21,
   "metadata": {},
   "outputs": [
    {
     "data": {
      "text/plain": [
       "{'uncertainty type': 2, 'loc': -12.3, 'scale': 0.33, 'negative': False}"
      ]
     },
     "execution_count": 21,
     "metadata": {},
     "output_type": "execute_result"
    }
   ],
   "source": [
    "meoh_exc.uncertainty"
   ]
  },
  {
   "cell_type": "code",
   "execution_count": 22,
   "metadata": {},
   "outputs": [
    {
     "ename": "InvalidParamsError",
     "evalue": "Real, positive scale (sigma) values are required for lognormal uncertainties.",
     "output_type": "error",
     "traceback": [
      "\u001b[1;31m---------------------------------------------------------------------------\u001b[0m",
      "\u001b[1;31mInvalidParamsError\u001b[0m                        Traceback (most recent call last)",
      "Cell \u001b[1;32mIn [22], line 3\u001b[0m\n\u001b[0;32m      1\u001b[0m mc \u001b[38;5;241m=\u001b[39m bw\u001b[38;5;241m.\u001b[39mMonteCarloLCA({meoh: \u001b[38;5;241m1\u001b[39m}, mymethod)  \u001b[38;5;66;03m# Monte Carlo class\u001b[39;00m\n\u001b[0;32m      2\u001b[0m \u001b[38;5;66;03m#mc_results = [next(mc) for x in range(10)] \u001b[39;00m\n\u001b[1;32m----> 3\u001b[0m \u001b[38;5;28;43mnext\u001b[39;49m\u001b[43m(\u001b[49m\u001b[43mmc\u001b[49m\u001b[43m)\u001b[49m\n",
      "File \u001b[1;32mc:\\Users\\merou\\Miniconda3\\envs\\bw2\\Lib\\site-packages\\bw2calc\\monte_carlo.py:99\u001b[0m, in \u001b[0;36mMonteCarloLCA.__next__\u001b[1;34m(self)\u001b[0m\n\u001b[0;32m     97\u001b[0m \u001b[39mdef\u001b[39;00m \u001b[39m__next__\u001b[39m(\u001b[39mself\u001b[39m):\n\u001b[0;32m     98\u001b[0m     \u001b[39mif\u001b[39;00m \u001b[39mnot\u001b[39;00m \u001b[39mhasattr\u001b[39m(\u001b[39mself\u001b[39m, \u001b[39m\"\u001b[39m\u001b[39mtech_rng\u001b[39m\u001b[39m\"\u001b[39m):\n\u001b[1;32m---> 99\u001b[0m         \u001b[39mself\u001b[39;49m\u001b[39m.\u001b[39;49mload_data()\n\u001b[0;32m    100\u001b[0m     \u001b[39mself\u001b[39m\u001b[39m.\u001b[39mrebuild_technosphere_matrix(\u001b[39mself\u001b[39m\u001b[39m.\u001b[39mtech_rng\u001b[39m.\u001b[39mnext())\n\u001b[0;32m    101\u001b[0m     \u001b[39mself\u001b[39m\u001b[39m.\u001b[39mrebuild_biosphere_matrix(\u001b[39mself\u001b[39m\u001b[39m.\u001b[39mbio_rng\u001b[39m.\u001b[39mnext())\n",
      "File \u001b[1;32mc:\\Users\\merou\\Miniconda3\\envs\\bw2\\Lib\\site-packages\\bw2calc\\monte_carlo.py:87\u001b[0m, in \u001b[0;36mMonteCarloLCA.load_data\u001b[1;34m(self)\u001b[0m\n\u001b[0;32m     85\u001b[0m \u001b[39mself\u001b[39m\u001b[39m.\u001b[39mload_lci_data()\n\u001b[0;32m     86\u001b[0m \u001b[39mself\u001b[39m\u001b[39m.\u001b[39mtech_rng \u001b[39m=\u001b[39m MCRandomNumberGenerator(\u001b[39mself\u001b[39m\u001b[39m.\u001b[39mtech_params, seed\u001b[39m=\u001b[39m\u001b[39mself\u001b[39m\u001b[39m.\u001b[39mseed)\n\u001b[1;32m---> 87\u001b[0m \u001b[39mself\u001b[39m\u001b[39m.\u001b[39mbio_rng \u001b[39m=\u001b[39m MCRandomNumberGenerator(\u001b[39mself\u001b[39;49m\u001b[39m.\u001b[39;49mbio_params, seed\u001b[39m=\u001b[39;49m\u001b[39mself\u001b[39;49m\u001b[39m.\u001b[39;49mseed)\n\u001b[0;32m     88\u001b[0m \u001b[39mif\u001b[39;00m \u001b[39mself\u001b[39m\u001b[39m.\u001b[39mlcia:\n\u001b[0;32m     89\u001b[0m     \u001b[39mself\u001b[39m\u001b[39m.\u001b[39mload_lcia_data()\n",
      "File \u001b[1;32mc:\\Users\\merou\\Miniconda3\\envs\\bw2\\Lib\\site-packages\\stats_arrays\\random.py:146\u001b[0m, in \u001b[0;36mMCRandomNumberGenerator.__init__\u001b[1;34m(self, params, maximum_iterations, seed, **kwargs)\u001b[0m\n\u001b[0;32m    144\u001b[0m \u001b[39mself\u001b[39m\u001b[39m.\u001b[39mchoices \u001b[39m=\u001b[39m uncertainty_choices\n\u001b[0;32m    145\u001b[0m \u001b[39mself\u001b[39m\u001b[39m.\u001b[39mrandom \u001b[39m=\u001b[39m np\u001b[39m.\u001b[39mrandom\u001b[39m.\u001b[39mRandomState(seed)\n\u001b[1;32m--> 146\u001b[0m \u001b[39mself\u001b[39;49m\u001b[39m.\u001b[39;49mverify_params()\n\u001b[0;32m    147\u001b[0m \u001b[39mself\u001b[39m\u001b[39m.\u001b[39mordering \u001b[39m=\u001b[39m np\u001b[39m.\u001b[39margsort(\u001b[39mself\u001b[39m\u001b[39m.\u001b[39mparams[\u001b[39m\"\u001b[39m\u001b[39muncertainty_type\u001b[39m\u001b[39m\"\u001b[39m])\n\u001b[0;32m    148\u001b[0m \u001b[39mself\u001b[39m\u001b[39m.\u001b[39mparams \u001b[39m=\u001b[39m \u001b[39mself\u001b[39m\u001b[39m.\u001b[39mparams[\u001b[39mself\u001b[39m\u001b[39m.\u001b[39mordering]\n",
      "File \u001b[1;32mc:\\Users\\merou\\Miniconda3\\envs\\bw2\\Lib\\site-packages\\stats_arrays\\random.py:168\u001b[0m, in \u001b[0;36mMCRandomNumberGenerator.verify_params\u001b[1;34m(self)\u001b[0m\n\u001b[0;32m    166\u001b[0m mask \u001b[39m=\u001b[39m \u001b[39mself\u001b[39m\u001b[39m.\u001b[39mparams[\u001b[39mu\u001b[39m\u001b[39m'\u001b[39m\u001b[39muncertainty_type\u001b[39m\u001b[39m'\u001b[39m] \u001b[39m==\u001b[39m uncertainty_type\u001b[39m.\u001b[39mid\n\u001b[0;32m    167\u001b[0m \u001b[39mif\u001b[39;00m mask\u001b[39m.\u001b[39msum():\n\u001b[1;32m--> 168\u001b[0m     uncertainty_type\u001b[39m.\u001b[39;49mvalidate(\u001b[39mself\u001b[39;49m\u001b[39m.\u001b[39;49mparams[mask])\n",
      "File \u001b[1;32mc:\\Users\\merou\\Miniconda3\\envs\\bw2\\Lib\\site-packages\\stats_arrays\\distributions\\lognormal.py:22\u001b[0m, in \u001b[0;36mLognormalUncertainty.validate\u001b[1;34m(cls, params)\u001b[0m\n\u001b[0;32m     17\u001b[0m     \u001b[39mraise\u001b[39;00m InvalidParamsError(\n\u001b[0;32m     18\u001b[0m         \u001b[39m\"\u001b[39m\u001b[39mReal location (mu) values are required for\u001b[39m\u001b[39m\"\u001b[39m\n\u001b[0;32m     19\u001b[0m         \u001b[39m\"\u001b[39m\u001b[39m lognormal uncertainties.\u001b[39m\u001b[39m\"\u001b[39m\n\u001b[0;32m     20\u001b[0m     )\n\u001b[0;32m     21\u001b[0m \u001b[39mif\u001b[39;00m np\u001b[39m.\u001b[39misnan(params[\u001b[39m'\u001b[39m\u001b[39mscale\u001b[39m\u001b[39m'\u001b[39m])\u001b[39m.\u001b[39msum() \u001b[39mor\u001b[39;00m (params[\u001b[39m'\u001b[39m\u001b[39mscale\u001b[39m\u001b[39m'\u001b[39m] \u001b[39m<\u001b[39m\u001b[39m=\u001b[39m \u001b[39m0\u001b[39m)\u001b[39m.\u001b[39msum():\n\u001b[1;32m---> 22\u001b[0m     \u001b[39mraise\u001b[39;00m InvalidParamsError(\n\u001b[0;32m     23\u001b[0m         \u001b[39m\"\u001b[39m\u001b[39mReal, positive scale (sigma) values are required for\u001b[39m\u001b[39m\"\u001b[39m\n\u001b[0;32m     24\u001b[0m         \u001b[39m\"\u001b[39m\u001b[39m lognormal uncertainties.\u001b[39m\u001b[39m\"\u001b[39m\n\u001b[0;32m     25\u001b[0m     )\n",
      "\u001b[1;31mInvalidParamsError\u001b[0m: Real, positive scale (sigma) values are required for lognormal uncertainties."
     ]
    }
   ],
   "source": [
    "mc = bw.MonteCarloLCA({meoh: 1}, mymethod)  # Monte Carlo class\n",
    "#mc_results = [next(mc) for x in range(10)] \n",
    "next(mc)"
   ]
  },
  {
   "cell_type": "code",
   "execution_count": null,
   "metadata": {},
   "outputs": [],
   "source": [
    "fus = [] # list of functional units\n",
    "for a in acts:\n",
    "    act = Database('CCU').get(a)\n",
    "    functional_unit = {act: 1} # one unit of each process\n",
    "    fus.append(functional_unit)"
   ]
  },
  {
   "cell_type": "markdown",
   "metadata": {},
   "source": [
    "The other way of doing it (multiLCA)"
   ]
  },
  {
   "cell_type": "code",
   "execution_count": 48,
   "metadata": {},
   "outputs": [
    {
     "data": {
      "text/plain": [
       "[Exchange: 0.0158 kilogram 'eH2' (kilogram, None, None) to 'eMeOH_DOC' (megajoule, None, None)>,\n",
       " Exchange: 0.075 kilowatt hour 'market for electricity, high voltage' (kilowatt hour, DK, None) to 'eMeOH_DOC' (megajoule, None, None)>,\n",
       " Exchange: 0.00442 kilogram 'market for platinum' (kilogram, GLO, None) to 'eMeOH_DOC' (megajoule, None, None)>,\n",
       " Exchange: -0.113 kilogram 'Carbon dioxide, in air' (kilogram, None, ('natural resource', 'in air')) to 'eMeOH_DOC' (megajoule, None, None)>,\n",
       " Exchange: 0.000907 unit 'DAC' (unit, None, None) to 'eMeOH_DOC' (megajoule, None, None)>,\n",
       " Exchange: 0.0471 kilowatt hour 'market for electricity, high voltage' (kilowatt hour, DK, None) to 'eMeOH_DOC' (megajoule, None, None)>,\n",
       " Exchange: 3.08e-12 unit 'methanol factory construction' (unit, GLO, None) to 'eMeOH_DOC' (megajoule, None, None)>,\n",
       " Exchange: 0.1 ton kilometer 'transport, pipeline, onshore, petroleum' (ton kilometer, RER, None) to 'eMeOH_DOC' (megajoule, None, None)>,\n",
       " Exchange: 1.0 megajoule 'eMeOH_DOC' (megajoule, None, None) to 'eMeOH_DOC' (megajoule, None, None)>]"
      ]
     },
     "execution_count": 48,
     "metadata": {},
     "output_type": "execute_result"
    }
   ],
   "source": [
    "eMeOH_DOC_WtT_MJ = Fuels_db_WtT_MJ.get('eMeOH_DOC')\n",
    "list(eMeOH_DOC_WtT_MJ.exchanges())"
   ]
  },
  {
   "cell_type": "code",
   "execution_count": 49,
   "metadata": {},
   "outputs": [],
   "source": [
    "#list_functional_units = [{eMeOH_DOC_WtT_MJ.key:1}]\n",
    "#list_methods = CML2016\n",
    "#bw.calculation_setups['multiimpact'] = {'inv':list_functional_units, 'ia':list_methods}"
   ]
  },
  {
   "cell_type": "code",
   "execution_count": 50,
   "metadata": {},
   "outputs": [],
   "source": [
    "# bw.calculation_setups['multiimpact']"
   ]
  },
  {
   "cell_type": "code",
   "execution_count": 51,
   "metadata": {},
   "outputs": [],
   "source": [
    "# myMultiLCA = bw.MultiLCA('multiimpact')"
   ]
  },
  {
   "cell_type": "code",
   "execution_count": 52,
   "metadata": {},
   "outputs": [],
   "source": [
    "# myMultiLCA.results"
   ]
  },
  {
   "cell_type": "code",
   "execution_count": 53,
   "metadata": {},
   "outputs": [],
   "source": [
    "# my_output = pd.DataFrame(index=CML2016, columns=[VLSFO_WtT_MJ['name']], data=myMultiLCA.results.T)"
   ]
  },
  {
   "cell_type": "code",
   "execution_count": 54,
   "metadata": {},
   "outputs": [],
   "source": [
    "# my_output.to_excel('VLSFO_results_CML2016.xlsx')"
   ]
  },
  {
   "cell_type": "code",
   "execution_count": null,
   "metadata": {},
   "outputs": [],
   "source": []
  }
 ],
 "metadata": {
  "kernelspec": {
   "display_name": "Python 3 (ipykernel)",
   "language": "python",
   "name": "python3"
  },
  "language_info": {
   "codemirror_mode": {
    "name": "ipython",
    "version": 3
   },
   "file_extension": ".py",
   "mimetype": "text/x-python",
   "name": "python",
   "nbconvert_exporter": "python",
   "pygments_lexer": "ipython3",
   "version": "3.10.13"
  },
  "vscode": {
   "interpreter": {
    "hash": "82564b9d83d215aeea51e5be1898001271ba837eb23ba5d8f9bcea7057e5a82c"
   }
  }
 },
 "nbformat": 4,
 "nbformat_minor": 4
}
