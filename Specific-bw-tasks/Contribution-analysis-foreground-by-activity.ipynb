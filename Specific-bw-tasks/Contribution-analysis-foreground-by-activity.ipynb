{
 "cells": [
  {
   "attachments": {},
   "cell_type": "markdown",
   "metadata": {},
   "source": [
    "## Contribution analysis in the foreground system\n",
    "\n",
    "### Massimo Pizzol, 2024"
   ]
  },
  {
   "cell_type": "code",
   "execution_count": 1,
   "metadata": {},
   "outputs": [],
   "source": [
    "# Note: must be environment bw2\n",
    "import brightway2 as bw\n",
    "import pandas as pd\n",
    "import numpy as np"
   ]
  },
  {
   "cell_type": "markdown",
   "metadata": {},
   "source": [
    "Setting up the project with databases, a LCIA method, and some activities"
   ]
  },
  {
   "cell_type": "code",
   "execution_count": 2,
   "metadata": {},
   "outputs": [],
   "source": [
    "bw.projects.set_current(\"advlca23\") # my project with ei3.9 conseq"
   ]
  },
  {
   "cell_type": "code",
   "execution_count": 45,
   "metadata": {},
   "outputs": [],
   "source": [
    "# a method for LCIA\n",
    "mymethod = ('ReCiPe 2016 v1.03, midpoint (H)', 'climate change', 'global warming potential (GWP1000)')"
   ]
  },
  {
   "cell_type": "code",
   "execution_count": 34,
   "metadata": {},
   "outputs": [
    {
     "data": {
      "text/plain": [
       "['treatment of wastewater from hard fibreboard production, wastewater treatment' (cubic meter, RER, None),\n",
       " 'market for 6-benzyladenine' (kilogram, GLO, None),\n",
       " 'market for electricity, medium voltage' (kilowatt hour, AT, None),\n",
       " 'market for cobalt carbonate' (kilogram, GLO, None),\n",
       " 'aluminium chloride production' (kilogram, GLO, None)]"
      ]
     },
     "execution_count": 34,
     "metadata": {},
     "output_type": "execute_result"
    }
   ],
   "source": [
    "# Make a list of activities from ecoinvent, chosen randomly\n",
    "myacts = [bw.Database('ecoinvent 3.9 conseq').random() for _ in range(5)]\n",
    "myacts"
   ]
  },
  {
   "cell_type": "markdown",
   "metadata": {},
   "source": [
    "### One static score"
   ]
  },
  {
   "cell_type": "code",
   "execution_count": 46,
   "metadata": {},
   "outputs": [
    {
     "name": "stdout",
     "output_type": "stream",
     "text": [
      "'market for 6-benzyladenine' (kilogram, GLO, None)\n",
      "8.716756507694592\n"
     ]
    }
   ],
   "source": [
    "# Forthe first activity in the list\n",
    "myact = bw.Database(myacts[1]['database']).get(myacts[1]['code'])\n",
    "print(myact)\n",
    "functional_unit = {myact: 1} \n",
    "lca = bw.LCA(functional_unit, mymethod)\n",
    "lca.lci()\n",
    "lca.lcia()\n",
    "print(lca.score)"
   ]
  },
  {
   "cell_type": "markdown",
   "metadata": {},
   "source": [
    "Function to get LCA results"
   ]
  },
  {
   "cell_type": "code",
   "execution_count": 23,
   "metadata": {},
   "outputs": [],
   "source": [
    "def dolcacalc(myact, mydemand, mymethod):\n",
    "    my_fu = {myact: mydemand} \n",
    "    lca = bw.LCA(my_fu, mymethod)\n",
    "    lca.lci()\n",
    "    lca.lcia()\n",
    "    return lca.score\n",
    "\n",
    "# For WtT\n",
    "def getLCAresults(list_acts, mymethod):\n",
    "    \n",
    "    all_activities = []\n",
    "    results = []\n",
    "    for a in list_acts:\n",
    "        act = bw.Database(a[0]).get(a[1])\n",
    "        all_activities.append(act['name'])\n",
    "        results.append(dolcacalc(act,1,mymethod)) # 1 stays for one unit of each process\n",
    "        #print(act['name'])\n",
    "     \n",
    "    results_dict = dict(zip(all_activities, results))\n",
    "    \n",
    "    return results_dict"
   ]
  },
  {
   "cell_type": "markdown",
   "metadata": {},
   "source": [
    "# Contribution Analysis"
   ]
  },
  {
   "cell_type": "markdown",
   "metadata": {},
   "source": [
    "One might want to know how much each exchange of an activity contributes to the total impact of such \"parent\" activity."
   ]
  },
  {
   "cell_type": "markdown",
   "metadata": {},
   "source": [
    "What I do here is iterating through the exchanges of the \"parent\" activity and calculate impact scores for each exchange as if this was the functional unit, using the amount used in input to the \"parent\" activity\n",
    "\n",
    "The tings to notice is that a different approach is used for biosphere and technosphere exchanges"
   ]
  },
  {
   "cell_type": "code",
   "execution_count": 36,
   "metadata": {},
   "outputs": [],
   "source": [
    "ca_dict = {}\n",
    "\n",
    "for act in myacts:\n",
    "    \n",
    "    exc_list = []\n",
    "    contr_list = []\n",
    "\n",
    "    for exc in list(act.exchanges()):\n",
    "        \n",
    "        if exc['type'] == 'biosphere':\n",
    "            \n",
    "            col = lca.activity_dict[exc['output']] # find column index of A matrix for the activity\n",
    "            row = lca.biosphere_dict[exc['input']] # find row index of B matrix for the exchange\n",
    "            contr_score = lca.biosphere_matrix[row,col] * lca.characterization_matrix[row,row]\n",
    "            contr_list.append((exc['input'], exc['type'], exc['amount'], contr_score))\n",
    "            \n",
    "        elif exc['type'] == 'substitution':\n",
    "            \n",
    "            contr_score = dolcacalc(bw.Database(exc['input'][0]).get(exc['input'][1]), exc['amount'], mymethod)\n",
    "            contr_list.append((exc['input'], exc['type'], exc['amount'], -contr_score))\n",
    "            \n",
    "        else:\n",
    "            \n",
    "            contr_score = dolcacalc(bw.Database(exc['input'][0]).get(exc['input'][1]), exc['amount'], mymethod)\n",
    "            contr_list.append((exc['input'], exc['type'], exc['amount'], contr_score))\n",
    "        \n",
    "    ca_dict[act['code']] =  contr_list"
   ]
  },
  {
   "cell_type": "markdown",
   "metadata": {},
   "source": [
    "### We can check one activity"
   ]
  },
  {
   "cell_type": "markdown",
   "metadata": {},
   "source": [
    "Using some nice formatting"
   ]
  },
  {
   "cell_type": "code",
   "execution_count": 42,
   "metadata": {},
   "outputs": [
    {
     "data": {
      "text/html": [
       "<div>\n",
       "<style scoped>\n",
       "    .dataframe tbody tr th:only-of-type {\n",
       "        vertical-align: middle;\n",
       "    }\n",
       "\n",
       "    .dataframe tbody tr th {\n",
       "        vertical-align: top;\n",
       "    }\n",
       "\n",
       "    .dataframe thead th {\n",
       "        text-align: right;\n",
       "    }\n",
       "</style>\n",
       "<table border=\"1\" class=\"dataframe\">\n",
       "  <thead>\n",
       "    <tr style=\"text-align: right;\">\n",
       "      <th></th>\n",
       "      <th>input</th>\n",
       "      <th>type</th>\n",
       "      <th>amount</th>\n",
       "      <th>contribution</th>\n",
       "    </tr>\n",
       "  </thead>\n",
       "  <tbody>\n",
       "    <tr>\n",
       "      <th>0</th>\n",
       "      <td>(ecoinvent 3.9 conseq, db9a71a0edf13c89a31140e...</td>\n",
       "      <td>production</td>\n",
       "      <td>1.0000</td>\n",
       "      <td>8.716757</td>\n",
       "    </tr>\n",
       "    <tr>\n",
       "      <th>1</th>\n",
       "      <td>(ecoinvent 3.9 conseq, db232fc4d8484ff70f90aaf...</td>\n",
       "      <td>technosphere</td>\n",
       "      <td>1.0000</td>\n",
       "      <td>8.659267</td>\n",
       "    </tr>\n",
       "    <tr>\n",
       "      <th>2</th>\n",
       "      <td>(ecoinvent 3.9 conseq, f005944b534083aff9e9922...</td>\n",
       "      <td>technosphere</td>\n",
       "      <td>0.3091</td>\n",
       "      <td>0.017582</td>\n",
       "    </tr>\n",
       "    <tr>\n",
       "      <th>3</th>\n",
       "      <td>(ecoinvent 3.9 conseq, 9ef3e3988eccdfcbf356d2d...</td>\n",
       "      <td>technosphere</td>\n",
       "      <td>0.0246</td>\n",
       "      <td>0.001317</td>\n",
       "    </tr>\n",
       "    <tr>\n",
       "      <th>4</th>\n",
       "      <td>(ecoinvent 3.9 conseq, 70f7992d941cafc4dd70f28...</td>\n",
       "      <td>technosphere</td>\n",
       "      <td>0.2088</td>\n",
       "      <td>0.032328</td>\n",
       "    </tr>\n",
       "    <tr>\n",
       "      <th>5</th>\n",
       "      <td>(ecoinvent 3.9 conseq, 390ba2d0a2107982360b357...</td>\n",
       "      <td>technosphere</td>\n",
       "      <td>0.5990</td>\n",
       "      <td>0.006263</td>\n",
       "    </tr>\n",
       "  </tbody>\n",
       "</table>\n",
       "</div>"
      ],
      "text/plain": [
       "                                               input          type  amount  \\\n",
       "0  (ecoinvent 3.9 conseq, db9a71a0edf13c89a31140e...    production  1.0000   \n",
       "1  (ecoinvent 3.9 conseq, db232fc4d8484ff70f90aaf...  technosphere  1.0000   \n",
       "2  (ecoinvent 3.9 conseq, f005944b534083aff9e9922...  technosphere  0.3091   \n",
       "3  (ecoinvent 3.9 conseq, 9ef3e3988eccdfcbf356d2d...  technosphere  0.0246   \n",
       "4  (ecoinvent 3.9 conseq, 70f7992d941cafc4dd70f28...  technosphere  0.2088   \n",
       "5  (ecoinvent 3.9 conseq, 390ba2d0a2107982360b357...  technosphere  0.5990   \n",
       "\n",
       "   contribution  \n",
       "0      8.716757  \n",
       "1      8.659267  \n",
       "2      0.017582  \n",
       "3      0.001317  \n",
       "4      0.032328  \n",
       "5      0.006263  "
      ]
     },
     "execution_count": 42,
     "metadata": {},
     "output_type": "execute_result"
    }
   ],
   "source": [
    "df = pd.DataFrame(ca_dict[myacts[1]['code']], columns = ['input','type','amount','contribution'])\n",
    "df"
   ]
  },
  {
   "cell_type": "markdown",
   "metadata": {},
   "source": [
    "Let's check it gives the right result, and the sum of all the exchanges equals the impact of the production activity"
   ]
  },
  {
   "cell_type": "markdown",
   "metadata": {},
   "source": [
    "It's not perfectly close. I guess due to rounding errors? The difference is very very small."
   ]
  },
  {
   "cell_type": "code",
   "execution_count": 43,
   "metadata": {},
   "outputs": [
    {
     "name": "stdout",
     "output_type": "stream",
     "text": [
      "8.716756507694592\n",
      "8.716756507406608\n"
     ]
    }
   ],
   "source": [
    "print(df.loc[df['type'] == 'production']['contribution'].sum())\n",
    "print(df.loc[df['type'] != 'production']['contribution'].sum())"
   ]
  },
  {
   "cell_type": "markdown",
   "metadata": {},
   "source": [
    "Here below I calculate the contribution in percentage. "
   ]
  },
  {
   "cell_type": "code",
   "execution_count": 44,
   "metadata": {},
   "outputs": [
    {
     "data": {
      "text/html": [
       "<div>\n",
       "<style scoped>\n",
       "    .dataframe tbody tr th:only-of-type {\n",
       "        vertical-align: middle;\n",
       "    }\n",
       "\n",
       "    .dataframe tbody tr th {\n",
       "        vertical-align: top;\n",
       "    }\n",
       "\n",
       "    .dataframe thead th {\n",
       "        text-align: right;\n",
       "    }\n",
       "</style>\n",
       "<table border=\"1\" class=\"dataframe\">\n",
       "  <thead>\n",
       "    <tr style=\"text-align: right;\">\n",
       "      <th></th>\n",
       "      <th>input</th>\n",
       "      <th>type</th>\n",
       "      <th>amount</th>\n",
       "      <th>contribution</th>\n",
       "      <th>%_contribution</th>\n",
       "    </tr>\n",
       "  </thead>\n",
       "  <tbody>\n",
       "    <tr>\n",
       "      <th>0</th>\n",
       "      <td>(ecoinvent 3.9 conseq, db9a71a0edf13c89a31140e...</td>\n",
       "      <td>production</td>\n",
       "      <td>1.0000</td>\n",
       "      <td>8.716757</td>\n",
       "      <td>100.000000</td>\n",
       "    </tr>\n",
       "    <tr>\n",
       "      <th>1</th>\n",
       "      <td>(ecoinvent 3.9 conseq, db232fc4d8484ff70f90aaf...</td>\n",
       "      <td>technosphere</td>\n",
       "      <td>1.0000</td>\n",
       "      <td>8.659267</td>\n",
       "      <td>99.340477</td>\n",
       "    </tr>\n",
       "    <tr>\n",
       "      <th>2</th>\n",
       "      <td>(ecoinvent 3.9 conseq, f005944b534083aff9e9922...</td>\n",
       "      <td>technosphere</td>\n",
       "      <td>0.3091</td>\n",
       "      <td>0.017582</td>\n",
       "      <td>0.201708</td>\n",
       "    </tr>\n",
       "    <tr>\n",
       "      <th>3</th>\n",
       "      <td>(ecoinvent 3.9 conseq, 9ef3e3988eccdfcbf356d2d...</td>\n",
       "      <td>technosphere</td>\n",
       "      <td>0.0246</td>\n",
       "      <td>0.001317</td>\n",
       "      <td>0.015104</td>\n",
       "    </tr>\n",
       "    <tr>\n",
       "      <th>4</th>\n",
       "      <td>(ecoinvent 3.9 conseq, 70f7992d941cafc4dd70f28...</td>\n",
       "      <td>technosphere</td>\n",
       "      <td>0.2088</td>\n",
       "      <td>0.032328</td>\n",
       "      <td>0.370867</td>\n",
       "    </tr>\n",
       "    <tr>\n",
       "      <th>5</th>\n",
       "      <td>(ecoinvent 3.9 conseq, 390ba2d0a2107982360b357...</td>\n",
       "      <td>technosphere</td>\n",
       "      <td>0.5990</td>\n",
       "      <td>0.006263</td>\n",
       "      <td>0.071844</td>\n",
       "    </tr>\n",
       "  </tbody>\n",
       "</table>\n",
       "</div>"
      ],
      "text/plain": [
       "                                               input          type  amount  \\\n",
       "0  (ecoinvent 3.9 conseq, db9a71a0edf13c89a31140e...    production  1.0000   \n",
       "1  (ecoinvent 3.9 conseq, db232fc4d8484ff70f90aaf...  technosphere  1.0000   \n",
       "2  (ecoinvent 3.9 conseq, f005944b534083aff9e9922...  technosphere  0.3091   \n",
       "3  (ecoinvent 3.9 conseq, 9ef3e3988eccdfcbf356d2d...  technosphere  0.0246   \n",
       "4  (ecoinvent 3.9 conseq, 70f7992d941cafc4dd70f28...  technosphere  0.2088   \n",
       "5  (ecoinvent 3.9 conseq, 390ba2d0a2107982360b357...  technosphere  0.5990   \n",
       "\n",
       "   contribution  %_contribution  \n",
       "0      8.716757      100.000000  \n",
       "1      8.659267       99.340477  \n",
       "2      0.017582        0.201708  \n",
       "3      0.001317        0.015104  \n",
       "4      0.032328        0.370867  \n",
       "5      0.006263        0.071844  "
      ]
     },
     "execution_count": 44,
     "metadata": {},
     "output_type": "execute_result"
    }
   ],
   "source": [
    "df['%_contribution'] = 100 * df['contribution'] / df.loc[df['type'] == 'production']['contribution'].sum()\n",
    "df"
   ]
  }
 ],
 "metadata": {
  "kernelspec": {
   "display_name": "Python 3 (ipykernel)",
   "language": "python",
   "name": "python3"
  },
  "language_info": {
   "codemirror_mode": {
    "name": "ipython",
    "version": 3
   },
   "file_extension": ".py",
   "mimetype": "text/x-python",
   "name": "python",
   "nbconvert_exporter": "python",
   "pygments_lexer": "ipython3",
   "version": "3.10.13"
  },
  "vscode": {
   "interpreter": {
    "hash": "82564b9d83d215aeea51e5be1898001271ba837eb23ba5d8f9bcea7057e5a82c"
   }
  }
 },
 "nbformat": 4,
 "nbformat_minor": 4
}
