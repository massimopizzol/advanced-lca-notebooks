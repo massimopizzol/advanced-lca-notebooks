{
 "cells": [
  {
   "cell_type": "markdown",
   "metadata": {},
   "source": [
    "# Contribution analysis"
   ]
  },
  {
   "cell_type": "code",
   "execution_count": 1,
   "metadata": {},
   "outputs": [],
   "source": [
    "import brightway2 as bw\n",
    "import pandas as pd\n",
    "import numpy as np\n",
    "import matplotlib.pyplot as plt\n",
    "from lci_to_bw2 import lci_to_bw2"
   ]
  },
  {
   "cell_type": "code",
   "execution_count": 2,
   "metadata": {
    "scrolled": true
   },
   "outputs": [
    {
     "data": {
      "text/plain": [
       "Databases dictionary with 1 object(s):\n",
       "\tfg-ca-exmpl"
      ]
     },
     "execution_count": 2,
     "metadata": {},
     "output_type": "execute_result"
    }
   ],
   "source": [
    "bw.projects.set_current('contr-analysis-fg') # a database where I have ecoinvent\n",
    "bw.databases"
   ]
  },
  {
   "cell_type": "markdown",
   "metadata": {},
   "source": [
    "# Create a foreground system"
   ]
  },
  {
   "cell_type": "markdown",
   "metadata": {},
   "source": [
    "in the cell below, removing the lines that are commented out will give a different system, more complex"
   ]
  },
  {
   "cell_type": "code",
   "execution_count": 131,
   "metadata": {},
   "outputs": [],
   "source": [
    "bw2_db = {('fg-ca-exmpl', 'Activity A'): {'name': 'Activity A',\n",
    "  'unit': 'kilogram',\n",
    "  'type': 'process',\n",
    "  'exchanges': [{'input': ('fg-ca-exmpl', 'Activity A'),\n",
    "    'amount': 1.0,\n",
    "    'unit': 'kilogram',\n",
    "    'type': 'production',\n",
    "    'uncertainty type': 0},\n",
    "   {'input': ('fg-ca-exmpl', 'Activity B'),\n",
    "    'amount': 0.5,\n",
    "    'unit': 'kilogram',\n",
    "    'type': 'technosphere',\n",
    "    'uncertainty type': 0},\n",
    "   {'input': ('fg-ca-exmpl', 'Activity C'),\n",
    "    'amount': 0.5,\n",
    "    'unit': 'kilogram',\n",
    "    'type': 'technosphere',\n",
    "    'uncertainty type': 0},\n",
    " #  {'input': ('fg-ca-exmpl', 'Carbon Dioxide'),\n",
    " #   'amount': 1.0,\n",
    " #   'unit': 'kilogram',\n",
    " #   'type': 'biosphere',\n",
    " #   'uncertainty type': 0}\n",
    "               ]},\n",
    " ('fg-ca-exmpl', 'Activity B'): {'name': 'Activity B',\n",
    "  'unit': 'kilogram',\n",
    "  'type': 'process',\n",
    "  'exchanges': [{'input': ('fg-ca-exmpl', 'Activity B'),\n",
    "    'amount': 10.0,\n",
    "    'unit': 'kilogram',\n",
    "    'type': 'production',\n",
    "    'uncertainty type': 0},\n",
    " #  {'input': ('fg-ca-exmpl', 'Activity C'),\n",
    " #   'amount': 10.0,\n",
    " #   'unit': 'kilogram',\n",
    " #   'type': 'technosphere',\n",
    " #   'uncertainty type': 0},\n",
    "   {'input': ('fg-ca-exmpl', 'Carbon Dioxide'),\n",
    "    'amount': 12.5,\n",
    "    'unit': 'kilogram',\n",
    "    'type': 'biosphere',\n",
    "    'uncertainty type': 0}]},\n",
    " ('fg-ca-exmpl', 'Activity C'): {'name': 'Activity C',\n",
    "  'unit': 'kilogram',\n",
    "  'type': 'process',\n",
    "  'exchanges': [{'input': ('fg-ca-exmpl', 'Activity C'),\n",
    "    'amount': 15.0,\n",
    "    'unit': 'kilogram',\n",
    "    'type': 'production',\n",
    "    'uncertainty type': 0},\n",
    "   {'input': ('fg-ca-exmpl', 'Carbon Dioxide'),\n",
    "    'amount': 15.0,\n",
    "    'unit': 'kilogram',\n",
    "    'type': 'biosphere',\n",
    "    'uncertainty type': 0}]},\n",
    " ('fg-ca-exmpl', 'Carbon Dioxide'): {'name': 'Carbon Dioxide',\n",
    "  'unit': 'kilogram',\n",
    "  'type': 'biosphere'}}"
   ]
  },
  {
   "cell_type": "code",
   "execution_count": 134,
   "metadata": {},
   "outputs": [
    {
     "name": "stderr",
     "output_type": "stream",
     "text": [
      "Writing activities to SQLite3 database:\n",
      "0% [####] 100% | ETA: 00:00:00\n",
      "Total time elapsed: 00:00:00\n"
     ]
    },
    {
     "name": "stdout",
     "output_type": "stream",
     "text": [
      "Title: Writing activities to SQLite3 database:\n",
      "  Started: 12/08/2023 16:12:44\n",
      "  Finished: 12/08/2023 16:12:44\n",
      "  Total time elapsed: 00:00:00\n",
      "  CPU %: 85.10\n",
      "  Memory %: 1.25\n"
     ]
    }
   ],
   "source": [
    "del(bw.databases['fg-ca-exmpl'])\n",
    "fgca_db = bw.Database('fg-ca-exmpl')\n",
    "fgca_db.write(bw2_db)"
   ]
  },
  {
   "cell_type": "code",
   "execution_count": 135,
   "metadata": {
    "scrolled": true
   },
   "outputs": [
    {
     "data": {
      "text/plain": [
       "[('fg-ca-exmpl', 'Activity B'),\n",
       " ('fg-ca-exmpl', 'Carbon Dioxide'),\n",
       " ('fg-ca-exmpl', 'Activity C'),\n",
       " ('fg-ca-exmpl', 'Activity A')]"
      ]
     },
     "execution_count": 135,
     "metadata": {},
     "output_type": "execute_result"
    }
   ],
   "source": [
    "# check it worked\n",
    "activities = [('fg-ca-exmpl', act['code']) for act in bw.Database('fg-ca-exmpl')]\n",
    "activities"
   ]
  },
  {
   "cell_type": "code",
   "execution_count": 136,
   "metadata": {},
   "outputs": [
    {
     "name": "stdout",
     "output_type": "stream",
     "text": [
      "{'name': 'Activity B', 'unit': 'kilogram', 'type': 'process', 'database': 'fg-ca-exmpl', 'code': 'Activity B'}\n",
      "Exchange: 10.0 kilogram 'Activity B' (kilogram, None, None) to 'Activity B' (kilogram, None, None)>\n",
      "Exchange: 12.5 kilogram 'Carbon Dioxide' (kilogram, None, None) to 'Activity B' (kilogram, None, None)>\n",
      "---\n",
      "{'name': 'Activity A', 'unit': 'kilogram', 'type': 'process', 'database': 'fg-ca-exmpl', 'code': 'Activity A'}\n",
      "Exchange: 1.0 kilogram 'Activity A' (kilogram, None, None) to 'Activity A' (kilogram, None, None)>\n",
      "Exchange: 0.5 kilogram 'Activity B' (kilogram, None, None) to 'Activity A' (kilogram, None, None)>\n",
      "Exchange: 0.5 kilogram 'Activity C' (kilogram, None, None) to 'Activity A' (kilogram, None, None)>\n",
      "---\n",
      "{'name': 'Activity C', 'unit': 'kilogram', 'type': 'process', 'database': 'fg-ca-exmpl', 'code': 'Activity C'}\n",
      "Exchange: 15.0 kilogram 'Activity C' (kilogram, None, None) to 'Activity C' (kilogram, None, None)>\n",
      "Exchange: 15.0 kilogram 'Carbon Dioxide' (kilogram, None, None) to 'Activity C' (kilogram, None, None)>\n",
      "---\n",
      "{'name': 'Carbon Dioxide', 'unit': 'kilogram', 'type': 'biosphere', 'database': 'fg-ca-exmpl', 'code': 'Carbon Dioxide'}\n",
      "---\n"
     ]
    }
   ],
   "source": [
    "for act in bw.Database('fg-ca-exmpl'):\n",
    "    print(act.as_dict())\n",
    "    for exc in list(act.exchanges()):\n",
    "        print(exc)\n",
    "    print('---')"
   ]
  },
  {
   "cell_type": "code",
   "execution_count": 137,
   "metadata": {},
   "outputs": [
    {
     "data": {
      "text/plain": [
       "[[('fg-ca-exmpl', 'Carbon Dioxide'), 1.0]]"
      ]
     },
     "execution_count": 137,
     "metadata": {},
     "output_type": "execute_result"
    }
   ],
   "source": [
    "myLCIAdata = [[('fg-ca-exmpl', 'Carbon Dioxide'), 1.0]]\n",
    "\n",
    "method_key = ('dummy GWI method','none','none')\n",
    "my_method = bw.Method(method_key)\n",
    "my_method.validate(myLCIAdata)\n",
    "my_method.register() \n",
    "my_method.write(myLCIAdata)\n",
    "my_method.load()"
   ]
  },
  {
   "cell_type": "code",
   "execution_count": 140,
   "metadata": {},
   "outputs": [],
   "source": [
    "fu_amount = 100"
   ]
  },
  {
   "cell_type": "code",
   "execution_count": 141,
   "metadata": {},
   "outputs": [
    {
     "name": "stdout",
     "output_type": "stream",
     "text": [
      "total score is 112.5\n"
     ]
    }
   ],
   "source": [
    "#mymethod = ('IPCC 2013', 'climate change', 'global warming potential (GWP100)')\n",
    "mymethod = ('dummy GWI method','none','none')\n",
    "act = fgca_db.get('Activity A')\n",
    "functional_unit = {act: fu_amount} # the functional unit is 100 kg of A\n",
    "lca = bw.LCA(functional_unit, mymethod)\n",
    "lca.lci()\n",
    "lca.lcia()\n",
    "tot_score = lca.score\n",
    "print(\"total score is\", tot_score)"
   ]
  },
  {
   "cell_type": "markdown",
   "metadata": {},
   "source": [
    "This is the total score of the system and we remember it for later"
   ]
  },
  {
   "cell_type": "markdown",
   "metadata": {},
   "source": [
    "# Contribution analysis"
   ]
  },
  {
   "cell_type": "markdown",
   "metadata": {},
   "source": [
    "### Super simple"
   ]
  },
  {
   "cell_type": "markdown",
   "metadata": {},
   "source": [
    "Make a list of activities and the right amount, iterate throught those."
   ]
  },
  {
   "cell_type": "code",
   "execution_count": 158,
   "metadata": {},
   "outputs": [],
   "source": [
    "CA_dict = {'Activity A' : 1 * fu_amount  , \n",
    "           'Activity B' : 0.5 * fu_amount , # the total amount of B used in the system\n",
    "           'Activity C' : 0.5 * fu_amount } # the total amount of C used in the system"
   ]
  },
  {
   "cell_type": "code",
   "execution_count": 159,
   "metadata": {},
   "outputs": [],
   "source": [
    "#Use this if you are using the nested version of the system\n",
    "#{'Activity A' : 1 * fu_amount, \n",
    "# 'Activity B' : 0.5 * fu_amount , # the total amount of B used in the system\n",
    "# 'Activity C' : (0.5 + 0.5 * 10/10) * fu_amount } # the total amount of C used in the system (0.5 by A and 0.5 by B)"
   ]
  },
  {
   "cell_type": "code",
   "execution_count": 160,
   "metadata": {
    "scrolled": true
   },
   "outputs": [
    {
     "data": {
      "text/html": [
       "<div>\n",
       "<style scoped>\n",
       "    .dataframe tbody tr th:only-of-type {\n",
       "        vertical-align: middle;\n",
       "    }\n",
       "\n",
       "    .dataframe tbody tr th {\n",
       "        vertical-align: top;\n",
       "    }\n",
       "\n",
       "    .dataframe thead th {\n",
       "        text-align: right;\n",
       "    }\n",
       "</style>\n",
       "<table border=\"1\" class=\"dataframe\">\n",
       "  <thead>\n",
       "    <tr style=\"text-align: right;\">\n",
       "      <th></th>\n",
       "      <th>GWI</th>\n",
       "    </tr>\n",
       "  </thead>\n",
       "  <tbody>\n",
       "    <tr>\n",
       "      <th>Activity A</th>\n",
       "      <td>112.5</td>\n",
       "    </tr>\n",
       "    <tr>\n",
       "      <th>Activity B</th>\n",
       "      <td>62.5</td>\n",
       "    </tr>\n",
       "    <tr>\n",
       "      <th>Activity C</th>\n",
       "      <td>50.0</td>\n",
       "    </tr>\n",
       "  </tbody>\n",
       "</table>\n",
       "</div>"
      ],
      "text/plain": [
       "              GWI\n",
       "Activity A  112.5\n",
       "Activity B   62.5\n",
       "Activity C   50.0"
      ]
     },
     "execution_count": 160,
     "metadata": {},
     "output_type": "execute_result"
    }
   ],
   "source": [
    "CA_results = []\n",
    "\n",
    "for i in CA_dict:\n",
    "    \n",
    "    act = fgca_db.get(i)\n",
    "    functional_unit = {act: CA_dict[i]}\n",
    "    lca = bw.LCA(functional_unit, mymethod)\n",
    "    lca.lci()\n",
    "    lca.lcia()\n",
    "    CA_results.append(lca.score)\n",
    "    \n",
    "\n",
    "CA_simple = pd.DataFrame(dict(zip([i for i in CA_dict], CA_results)), index = ['GWI']).T\n",
    "CA_simple"
   ]
  },
  {
   "cell_type": "markdown",
   "metadata": {},
   "source": [
    "The problem is, calculating the right amount might be difficult depending on how \"nested\" is this system. \n",
    "In this case it a not nested. But if removing the lines commented out then both A and B will require C so this gets complicated and the approach is going to give errors very easily on more complex systems..."
   ]
  },
  {
   "cell_type": "markdown",
   "metadata": {},
   "source": [
    "## A better approach based on LCA matrix algebra"
   ]
  },
  {
   "cell_type": "markdown",
   "metadata": {},
   "source": [
    "We use the scaling vector that tells how much each ativity is needed to perform the FU"
   ]
  },
  {
   "cell_type": "code",
   "execution_count": 161,
   "metadata": {},
   "outputs": [],
   "source": [
    "# Initiate the inventory to get some scaling factors. These will be the scaling factor for the FU here chosen\n",
    "fu_ca = bw.Database('fg-ca-exmpl').get('Activity A') \n",
    "lca = bw.LCA({fu_ca: fu_amount },) # contribution analysis for this FU only (and only that!)\n",
    "lca.lci()"
   ]
  },
  {
   "cell_type": "code",
   "execution_count": 162,
   "metadata": {},
   "outputs": [],
   "source": [
    "# list of all foreground activities\n",
    "acts = [act['code'] for act in bw.Database('fg-ca-exmpl') if act['type'] == 'process']"
   ]
  },
  {
   "cell_type": "code",
   "execution_count": 163,
   "metadata": {},
   "outputs": [
    {
     "data": {
      "text/plain": [
       "{'Activity A': 100.0, 'Activity C': 3.3333333333333335, 'Activity B': 5.0}"
      ]
     },
     "execution_count": 163,
     "metadata": {},
     "output_type": "execute_result"
    }
   ],
   "source": [
    "# dictionary of scaling factors from the supply array\n",
    "scaling = {}\n",
    "for act in acts:\n",
    "    index = lca.activity_dict[('fg-ca-exmpl', act)] # index is to find the activities in the tech matrix\n",
    "    scaling[act] = lca.supply_array[index] # this is the amount of activity used, we need it for contribution analysis\n",
    "\n",
    "scaling"
   ]
  },
  {
   "cell_type": "code",
   "execution_count": 164,
   "metadata": {
    "scrolled": false
   },
   "outputs": [
    {
     "data": {
      "text/plain": [
       "{'Activity A': 1.0, 'Activity C': 15.0, 'Activity B': 10.0}"
      ]
     },
     "execution_count": 164,
     "metadata": {},
     "output_type": "execute_result"
    }
   ],
   "source": [
    "# Dictionary of reference flows, because they are not always normalized!\n",
    "refflows = {}\n",
    "for act in acts:\n",
    "    for exc in list(bw.Database('fg-ca-exmpl').get(act).exchanges()):\n",
    "        if exc['type'] == 'production':\n",
    "            refflows[act] = (exc['amount'])\n",
    "refflows"
   ]
  },
  {
   "cell_type": "markdown",
   "metadata": {},
   "source": [
    "In this case all refernece flows are unitary so we have no problem, but it might not be always the case."
   ]
  },
  {
   "cell_type": "code",
   "execution_count": 165,
   "metadata": {},
   "outputs": [
    {
     "data": {
      "text/plain": [
       "{'Activity A': 100.0, 'Activity C': 50.0, 'Activity B': 50.0}"
      ]
     },
     "execution_count": 165,
     "metadata": {},
     "output_type": "execute_result"
    }
   ],
   "source": [
    "# getting the scaling factors normalized by reference flow\n",
    "scaling_norm = dict(zip(acts,[scaling[i]*refflows[i] for i in acts]))\n",
    "scaling_norm"
   ]
  },
  {
   "cell_type": "code",
   "execution_count": 166,
   "metadata": {},
   "outputs": [
    {
     "data": {
      "text/html": [
       "<div>\n",
       "<style scoped>\n",
       "    .dataframe tbody tr th:only-of-type {\n",
       "        vertical-align: middle;\n",
       "    }\n",
       "\n",
       "    .dataframe tbody tr th {\n",
       "        vertical-align: top;\n",
       "    }\n",
       "\n",
       "    .dataframe thead th {\n",
       "        text-align: right;\n",
       "    }\n",
       "</style>\n",
       "<table border=\"1\" class=\"dataframe\">\n",
       "  <thead>\n",
       "    <tr style=\"text-align: right;\">\n",
       "      <th></th>\n",
       "      <th>Scaling</th>\n",
       "      <th>Reference flow</th>\n",
       "      <th>Scaling normalized</th>\n",
       "    </tr>\n",
       "  </thead>\n",
       "  <tbody>\n",
       "    <tr>\n",
       "      <th>Activity A</th>\n",
       "      <td>100.000000</td>\n",
       "      <td>1.0</td>\n",
       "      <td>100.0</td>\n",
       "    </tr>\n",
       "    <tr>\n",
       "      <th>Activity C</th>\n",
       "      <td>3.333333</td>\n",
       "      <td>15.0</td>\n",
       "      <td>50.0</td>\n",
       "    </tr>\n",
       "    <tr>\n",
       "      <th>Activity B</th>\n",
       "      <td>5.000000</td>\n",
       "      <td>10.0</td>\n",
       "      <td>50.0</td>\n",
       "    </tr>\n",
       "  </tbody>\n",
       "</table>\n",
       "</div>"
      ],
      "text/plain": [
       "               Scaling  Reference flow  Scaling normalized\n",
       "Activity A  100.000000             1.0               100.0\n",
       "Activity C    3.333333            15.0                50.0\n",
       "Activity B    5.000000            10.0                50.0"
      ]
     },
     "execution_count": 166,
     "metadata": {},
     "output_type": "execute_result"
    }
   ],
   "source": [
    "# again, normalised scaling factors are scaling factors times reference flow\n",
    "factors = pd.DataFrame([scaling, refflows, scaling_norm], index = ['Scaling','Reference flow', 'Scaling normalized']).T\n",
    "factors"
   ]
  },
  {
   "cell_type": "markdown",
   "metadata": {},
   "source": [
    "Calculate the impact of 1 unit of each process and save it"
   ]
  },
  {
   "cell_type": "code",
   "execution_count": 167,
   "metadata": {},
   "outputs": [],
   "source": [
    "def dolcacalc(myact, mydemand, mymethod):\n",
    "    my_fu = {myact: mydemand} \n",
    "    lca = bw.LCA(my_fu, mymethod)\n",
    "    lca.lci()\n",
    "    lca.lcia()\n",
    "    return lca.score\n",
    "\n",
    "def getLCAresults(acts, mymethod):\n",
    "    \n",
    "    all_activities = []\n",
    "    results = []\n",
    "    for a in acts:\n",
    "        act = bw.Database('fg-ca-exmpl').get(a)\n",
    "        all_activities.append(act['name'])\n",
    "        results.append(dolcacalc(act,1,mymethod)) # 1 stays for one unit of each process\n",
    "        #print(act['name'])\n",
    "     \n",
    "    results_dict = dict(zip(all_activities, results))\n",
    "    \n",
    "    return results_dict"
   ]
  },
  {
   "cell_type": "code",
   "execution_count": 168,
   "metadata": {},
   "outputs": [
    {
     "data": {
      "text/html": [
       "<div>\n",
       "<style scoped>\n",
       "    .dataframe tbody tr th:only-of-type {\n",
       "        vertical-align: middle;\n",
       "    }\n",
       "\n",
       "    .dataframe tbody tr th {\n",
       "        vertical-align: top;\n",
       "    }\n",
       "\n",
       "    .dataframe thead th {\n",
       "        text-align: right;\n",
       "    }\n",
       "</style>\n",
       "<table border=\"1\" class=\"dataframe\">\n",
       "  <thead>\n",
       "    <tr style=\"text-align: right;\">\n",
       "      <th></th>\n",
       "      <th>GWI</th>\n",
       "    </tr>\n",
       "  </thead>\n",
       "  <tbody>\n",
       "    <tr>\n",
       "      <th>Activity A</th>\n",
       "      <td>1.125</td>\n",
       "    </tr>\n",
       "    <tr>\n",
       "      <th>Activity B</th>\n",
       "      <td>1.250</td>\n",
       "    </tr>\n",
       "    <tr>\n",
       "      <th>Activity C</th>\n",
       "      <td>1.000</td>\n",
       "    </tr>\n",
       "  </tbody>\n",
       "</table>\n",
       "</div>"
      ],
      "text/plain": [
       "              GWI\n",
       "Activity A  1.125\n",
       "Activity B  1.250\n",
       "Activity C  1.000"
      ]
     },
     "execution_count": 168,
     "metadata": {},
     "output_type": "execute_result"
    }
   ],
   "source": [
    "unitary_results = []\n",
    "unitary_results_all_acts = getLCAresults(acts,mymethod) # total impact per unitary value of each activity\n",
    "unitary_results.append(unitary_results_all_acts)\n",
    "unitary_results # the impact of one unit of each process\n",
    "my_output = pd.DataFrame(unitary_results)\n",
    "my_output.index = ['GWI']\n",
    "my_output.T.sort_index().head()"
   ]
  },
  {
   "cell_type": "markdown",
   "metadata": {},
   "source": [
    "here below we multiply the unitary impact by the normalised scaling vector and we obtain the absolute impact of each activity considered base don how much this activity is required to provide the cuntional unit. **This is the contribution analysis** in absolute terms, then further below we can calcualte is as a fraction of the total impact."
   ]
  },
  {
   "cell_type": "code",
   "execution_count": 169,
   "metadata": {
    "scrolled": false
   },
   "outputs": [
    {
     "data": {
      "text/html": [
       "<div>\n",
       "<style scoped>\n",
       "    .dataframe tbody tr th:only-of-type {\n",
       "        vertical-align: middle;\n",
       "    }\n",
       "\n",
       "    .dataframe tbody tr th {\n",
       "        vertical-align: top;\n",
       "    }\n",
       "\n",
       "    .dataframe thead th {\n",
       "        text-align: right;\n",
       "    }\n",
       "</style>\n",
       "<table border=\"1\" class=\"dataframe\">\n",
       "  <thead>\n",
       "    <tr style=\"text-align: right;\">\n",
       "      <th></th>\n",
       "      <th>GWI</th>\n",
       "    </tr>\n",
       "  </thead>\n",
       "  <tbody>\n",
       "    <tr>\n",
       "      <th>Activity A</th>\n",
       "      <td>112.5</td>\n",
       "    </tr>\n",
       "    <tr>\n",
       "      <th>Activity B</th>\n",
       "      <td>62.5</td>\n",
       "    </tr>\n",
       "    <tr>\n",
       "      <th>Activity C</th>\n",
       "      <td>50.0</td>\n",
       "    </tr>\n",
       "  </tbody>\n",
       "</table>\n",
       "</div>"
      ],
      "text/plain": [
       "              GWI\n",
       "Activity A  112.5\n",
       "Activity B   62.5\n",
       "Activity C   50.0"
      ]
     },
     "execution_count": 169,
     "metadata": {},
     "output_type": "execute_result"
    }
   ],
   "source": [
    "scores = pd.DataFrame(my_output.T.sort_index().values * pd.DataFrame(factors['Scaling normalized']).sort_index().values, \n",
    "             index = my_output.T.sort_index().index, \n",
    "             columns = my_output.index)\n",
    "scores"
   ]
  },
  {
   "cell_type": "markdown",
   "metadata": {},
   "source": [
    "The sum of B + C does gives A  **only in this particular case**\n",
    "\n",
    "If  A has also some impacts on its own (direct emission and input form background) and the contribution from B includes impacts that derive from C (nested system) then this will **not** be the case"
   ]
  },
  {
   "cell_type": "markdown",
   "metadata": {},
   "source": [
    "Also note that this is the same as calculated before witht he simple approach... but here we will not risk to make mistakes"
   ]
  },
  {
   "cell_type": "code",
   "execution_count": 170,
   "metadata": {},
   "outputs": [
    {
     "data": {
      "text/plain": [
       "True"
      ]
     },
     "execution_count": 170,
     "metadata": {},
     "output_type": "execute_result"
    }
   ],
   "source": [
    "#need to use some rounding to check this...using round at the 10th digit after the comma\n",
    "sign = 10\n",
    "[round(i, sign) for i in scores['GWI'].values] == [round(i,sign) for i in CA_simple['GWI'].values]\n"
   ]
  },
  {
   "cell_type": "code",
   "execution_count": 171,
   "metadata": {},
   "outputs": [
    {
     "data": {
      "text/html": [
       "<div>\n",
       "<style scoped>\n",
       "    .dataframe tbody tr th:only-of-type {\n",
       "        vertical-align: middle;\n",
       "    }\n",
       "\n",
       "    .dataframe tbody tr th {\n",
       "        vertical-align: top;\n",
       "    }\n",
       "\n",
       "    .dataframe thead th {\n",
       "        text-align: right;\n",
       "    }\n",
       "</style>\n",
       "<table border=\"1\" class=\"dataframe\">\n",
       "  <thead>\n",
       "    <tr style=\"text-align: right;\">\n",
       "      <th></th>\n",
       "      <th>GWI</th>\n",
       "    </tr>\n",
       "  </thead>\n",
       "  <tbody>\n",
       "    <tr>\n",
       "      <th>Activity A</th>\n",
       "      <td>1.000000</td>\n",
       "    </tr>\n",
       "    <tr>\n",
       "      <th>Activity B</th>\n",
       "      <td>0.555556</td>\n",
       "    </tr>\n",
       "    <tr>\n",
       "      <th>Activity C</th>\n",
       "      <td>0.444444</td>\n",
       "    </tr>\n",
       "  </tbody>\n",
       "</table>\n",
       "</div>"
      ],
      "text/plain": [
       "                 GWI\n",
       "Activity A  1.000000\n",
       "Activity B  0.555556\n",
       "Activity C  0.444444"
      ]
     },
     "execution_count": 171,
     "metadata": {},
     "output_type": "execute_result"
    }
   ],
   "source": [
    "scores / tot_score # to calcualte in percentage"
   ]
  },
  {
   "cell_type": "markdown",
   "metadata": {},
   "source": [
    "#### Note: this is only contribution analysis for the FU specified when initializing the LCI, to do it for a different one a different set of scaling factors needs to be calculated"
   ]
  }
 ],
 "metadata": {
  "kernelspec": {
   "display_name": "Python 3 (ipykernel)",
   "language": "python",
   "name": "python3"
  },
  "language_info": {
   "codemirror_mode": {
    "name": "ipython",
    "version": 3
   },
   "file_extension": ".py",
   "mimetype": "text/x-python",
   "name": "python",
   "nbconvert_exporter": "python",
   "pygments_lexer": "ipython3",
   "version": "3.11.0"
  }
 },
 "nbformat": 4,
 "nbformat_minor": 2
}
