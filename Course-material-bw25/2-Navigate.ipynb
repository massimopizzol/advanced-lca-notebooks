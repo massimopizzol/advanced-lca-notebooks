{
 "cells": [
  {
   "cell_type": "markdown",
   "metadata": {},
   "source": [
    "# 2. How to navigate activities and exchanges in Brightway2.5"
   ]
  },
  {
   "cell_type": "markdown",
   "metadata": {},
   "source": [
    "When you do an LCA you need to access the various activities and look at them to understand what are their inputs and outputs and how they are linked to other activities. This script includes code to do this in different ways. Try it out and try it on your own product system as well. \n",
    "\n",
    "(For an extensive list of useful commands, see the online [cheatsheet](https://docs.brightway.dev/en/latest/content/cheatsheet/index.html) guide)"
   ]
  },
  {
   "cell_type": "code",
   "execution_count": 1,
   "metadata": {},
   "outputs": [],
   "source": [
    "# Import brightway2.5 package\n",
    "import bw2data as bd"
   ]
  },
  {
   "cell_type": "code",
   "execution_count": 2,
   "metadata": {},
   "outputs": [],
   "source": [
    "bd.projects.set_current('advlca25')  # created in the previous notebook"
   ]
  },
  {
   "cell_type": "code",
   "execution_count": 3,
   "metadata": {},
   "outputs": [
    {
     "data": {
      "text/plain": [
       "Databases dictionary with 2 object(s):\n",
       "\ttestbiosphere\n",
       "\ttestdb"
      ]
     },
     "execution_count": 3,
     "metadata": {},
     "output_type": "execute_result"
    }
   ],
   "source": [
    "bd.databases  # should have the two databases: \"testdb\" and \"testbiosphere\""
   ]
  },
  {
   "cell_type": "code",
   "execution_count": 4,
   "metadata": {},
   "outputs": [],
   "source": [
    "t_db = bd.Database('testdb') # We create an instance of this database class"
   ]
  },
  {
   "cell_type": "markdown",
   "metadata": {},
   "source": [
    "First we look into the information associated with a **specific activity**.\n",
    "This is how we select the activity (which is a python dictionary):"
   ]
  },
  {
   "cell_type": "code",
   "execution_count": 6,
   "metadata": {},
   "outputs": [
    {
     "name": "stdout",
     "output_type": "stream",
     "text": [
      "'Electricity production' (kWh, GLO, None)\n"
     ]
    }
   ],
   "source": [
    "el = t_db.get('Electricity production')  # reads: \"get the activity 'Electricity production' from the database instance 't_db'... \n",
    "                                         # ...and associate it to a python object 'el'\"\n",
    "print(el)"
   ]
  },
  {
   "cell_type": "code",
   "execution_count": 8,
   "metadata": {},
   "outputs": [
    {
     "name": "stdout",
     "output_type": "stream",
     "text": [
      "name\n",
      "unit\n",
      "location\n",
      "database\n",
      "code\n",
      "type\n",
      "id\n"
     ]
    }
   ],
   "source": [
    "for k in el:  # k for \"key\". These the possible keys of an activity dictionary\n",
    "    print(k)\n",
    "# Note that there is a key called \"id\" that we didn't define in the previous notebook. More on this later."
   ]
  },
  {
   "cell_type": "code",
   "execution_count": 9,
   "metadata": {},
   "outputs": [
    {
     "data": {
      "text/plain": [
       "{'name': 'Electricity production',\n",
       " 'unit': 'kWh',\n",
       " 'location': 'GLO',\n",
       " 'database': 'testdb',\n",
       " 'code': 'Electricity production',\n",
       " 'type': 'processwithreferenceproduct',\n",
       " 'id': 134650284240445440}"
      ]
     },
     "execution_count": 9,
     "metadata": {},
     "output_type": "execute_result"
    }
   ],
   "source": [
    "el.as_dict()  # or just this (type '.' and then press 'tab')"
   ]
  },
  {
   "cell_type": "code",
   "execution_count": 10,
   "metadata": {},
   "outputs": [
    {
     "name": "stdout",
     "output_type": "stream",
     "text": [
      "Electricity production\n",
      "Electricity production *** Electricity production *** kWh *** testdb *** 134650284240445440\n",
      "kWh\n"
     ]
    }
   ],
   "source": [
    "print(el['name'])  # print the value of one key\n",
    "\n",
    "print(el['name'], \"***\", el['code'], \"***\", el['unit'], \"***\", el['database'], \"***\", el['id'])  # print more than one...\n",
    "\n",
    "print(el.get('unit'))  # another way..."
   ]
  },
  {
   "cell_type": "markdown",
   "metadata": {},
   "source": [
    "**What is the \"id\" specifically?** \n",
    "It is a unique identifier of each element in the techosphere/biosphere matrix, also called a \"node\". \n",
    "See documentation [here](https://docs.brightway.dev/en/latest/content/overview/inventory.html). \n",
    "In the case of technosphere matrix where we have pairs of activities wach with a respective product, with some simplification (it is not entirely correct) we can think of the \"id\" value as the unique identifier of each activity (product), in the sense that each activity (product) has a different id value. So it is an identifier of each column (row) of the matrix. Note that in this specific example the \"id\" has been assigned automatically to each activity of our product system. \n",
    "The same applies for the intervention matrix (biosphere exchanges)."
   ]
  },
  {
   "cell_type": "code",
   "execution_count": 60,
   "metadata": {},
   "outputs": [
    {
     "name": "stdout",
     "output_type": "stream",
     "text": [
      "the 'id' value for this activity is 134650284240445440\n"
     ]
    }
   ],
   "source": [
    "print(\"the 'id' value for this activity is\", el['id'])"
   ]
  },
  {
   "cell_type": "code",
   "execution_count": 63,
   "metadata": {},
   "outputs": [
    {
     "name": "stdout",
     "output_type": "stream",
     "text": [
      "134650284240445440\n",
      "134650284240445441\n",
      "134650271489761280\n",
      "134650271489761281\n"
     ]
    }
   ],
   "source": [
    "# Compare also\n",
    "print(bd.Database('testdb').get('Electricity production').id)\n",
    "print(bd.Database('testdb').get('Fuel production').id)\n",
    "# with\n",
    "print(bd.Database('testbiosphere').get('Carbon dioxide').id) # Also biosphere nodes have ids...these are the rows of the intervention matrix.\n",
    "print(bd.Database('testbiosphere').get('Sulphur dioxide').id)"
   ]
  },
  {
   "cell_type": "markdown",
   "metadata": {},
   "source": [
    "Now instead we look at the **exchanges** of a specific activity"
   ]
  },
  {
   "cell_type": "code",
   "execution_count": 13,
   "metadata": {},
   "outputs": [
    {
     "data": {
      "text/plain": [
       "[Exchange: 2 liters 'Fuel production' (liters, GLO, None) to 'Electricity production' (kWh, GLO, None)>,\n",
       " Exchange: 1 kg 'Carbon dioxide' (kg, None, None) to 'Electricity production' (kWh, GLO, None)>,\n",
       " Exchange: 0.1 kg 'Sulphur dioxide' (kg, None, None) to 'Electricity production' (kWh, GLO, None)>,\n",
       " Exchange: 10 kWh 'Electricity production' (kWh, GLO, None) to 'Electricity production' (kWh, GLO, None)>]"
      ]
     },
     "execution_count": 13,
     "metadata": {},
     "output_type": "execute_result"
    }
   ],
   "source": [
    "#el['exchanges']  # this doesn't work.\n",
    "#el.exchanges()  # neither this\n",
    "list(el.exchanges())  # yeps, this one"
   ]
  },
  {
   "cell_type": "code",
   "execution_count": 14,
   "metadata": {},
   "outputs": [
    {
     "name": "stdout",
     "output_type": "stream",
     "text": [
      "Exchange: 2 liters 'Fuel production' (liters, GLO, None) to 'Electricity production' (kWh, GLO, None)>\n",
      "technosphere\n",
      "('testdb', 'Fuel production')\n",
      "testdb\n",
      "Fuel production\n",
      "'Fuel production' (liters, GLO, None)\n",
      "-------\n",
      "Exchange: 1 kg 'Carbon dioxide' (kg, None, None) to 'Electricity production' (kWh, GLO, None)>\n",
      "biosphere\n",
      "('testbiosphere', 'Carbon dioxide')\n",
      "testbiosphere\n",
      "Carbon dioxide\n",
      "'Carbon dioxide' (kg, None, None)\n",
      "-------\n",
      "Exchange: 0.1 kg 'Sulphur dioxide' (kg, None, None) to 'Electricity production' (kWh, GLO, None)>\n",
      "biosphere\n",
      "('testbiosphere', 'Sulphur dioxide')\n",
      "testbiosphere\n",
      "Sulphur dioxide\n",
      "'Sulphur dioxide' (kg, None, None)\n",
      "-------\n",
      "Exchange: 10 kWh 'Electricity production' (kWh, GLO, None) to 'Electricity production' (kWh, GLO, None)>\n",
      "production\n",
      "('testdb', 'Electricity production')\n",
      "testdb\n",
      "Electricity production\n",
      "'Electricity production' (kWh, GLO, None)\n",
      "-------\n"
     ]
    }
   ],
   "source": [
    "for exc in el.exchanges():  # or this, visualize all exchanges of an activity and specific attributes\n",
    "    print(exc)\n",
    "    print(exc['type'])\n",
    "    print(exc['input'])\n",
    "    print(exc['input'][0])\n",
    "    print(exc['input'][1])\n",
    "    print(exc.input)\n",
    "    print(\"-------\")"
   ]
  },
  {
   "cell_type": "markdown",
   "metadata": {},
   "source": [
    "Now we look at the information associated with a specific **exchange** of a specific activity"
   ]
  },
  {
   "cell_type": "code",
   "execution_count": 42,
   "metadata": {},
   "outputs": [
    {
     "name": "stdout",
     "output_type": "stream",
     "text": [
      "Exchange: 2 liters 'Fuel production' (liters, GLO, None) to 'Electricity production' (kWh, GLO, None)>\n"
     ]
    }
   ],
   "source": [
    "el_exc = list(el.exchanges())[0]  # \"the first exchange of the el activity\" (this is also a DICT)\n",
    "print(el_exc)"
   ]
  },
  {
   "cell_type": "code",
   "execution_count": 43,
   "metadata": {},
   "outputs": [
    {
     "name": "stdout",
     "output_type": "stream",
     "text": [
      "<class 'bw2data.backends.proxies.Activity'>\n",
      "<class 'bw2data.backends.proxies.Exchanges'>\n",
      "<class 'bw2data.backends.proxies.Exchange'>\n"
     ]
    }
   ],
   "source": [
    "print(type(el))  # compare the three\n",
    "print(type(el.exchanges()))\n",
    "print(type(el_exc))"
   ]
  },
  {
   "cell_type": "code",
   "execution_count": 44,
   "metadata": {},
   "outputs": [
    {
     "name": "stdout",
     "output_type": "stream",
     "text": [
      "input : ('testdb', 'Fuel production')\n",
      "amount : 2\n",
      "unit : liters\n",
      "type : technosphere\n",
      "output : ('testdb', 'Electricity production')\n"
     ]
    }
   ],
   "source": [
    "for i in el_exc:  # the possible keys of an exchange (DICT iteration)\n",
    "    print(i, ':', el_exc[i])"
   ]
  },
  {
   "cell_type": "code",
   "execution_count": 45,
   "metadata": {},
   "outputs": [
    {
     "data": {
      "text/plain": [
       "{'input': ('testdb', 'Fuel production'),\n",
       " 'amount': 2,\n",
       " 'unit': 'liters',\n",
       " 'type': 'technosphere',\n",
       " 'output': ('testdb', 'Electricity production')}"
      ]
     },
     "execution_count": 45,
     "metadata": {},
     "output_type": "execute_result"
    }
   ],
   "source": [
    "el_exc.as_dict()  # or just this, as above"
   ]
  },
  {
   "cell_type": "code",
   "execution_count": 46,
   "metadata": {},
   "outputs": [
    {
     "data": {
      "text/plain": [
       "ItemsView(Exchange: 2 liters 'Fuel production' (liters, GLO, None) to 'Electricity production' (kWh, GLO, None)>)"
      ]
     },
     "execution_count": 46,
     "metadata": {},
     "output_type": "execute_result"
    }
   ],
   "source": [
    "el_exc.items() # another nice one"
   ]
  },
  {
   "cell_type": "code",
   "execution_count": 47,
   "metadata": {},
   "outputs": [
    {
     "data": {
      "text/plain": [
       "True"
      ]
     },
     "execution_count": 47,
     "metadata": {},
     "output_type": "execute_result"
    }
   ],
   "source": [
    "el_exc.unit == el_exc['unit']  # equivalent ways, different from activities"
   ]
  },
  {
   "cell_type": "code",
   "execution_count": 49,
   "metadata": {},
   "outputs": [
    {
     "ename": "KeyError",
     "evalue": "'id'",
     "output_type": "error",
     "traceback": [
      "\u001b[0;31m---------------------------------------------------------------------------\u001b[0m",
      "\u001b[0;31mKeyError\u001b[0m                                  Traceback (most recent call last)",
      "Cell \u001b[0;32mIn[49], line 2\u001b[0m\n\u001b[1;32m      1\u001b[0m \u001b[38;5;66;03m# Note that exchanges do not have \"id\" \u001b[39;00m\n\u001b[0;32m----> 2\u001b[0m \u001b[43mel_exc\u001b[49m\u001b[43m[\u001b[49m\u001b[38;5;124;43m'\u001b[39;49m\u001b[38;5;124;43mid\u001b[39;49m\u001b[38;5;124;43m'\u001b[39;49m\u001b[43m]\u001b[49m\n",
      "File \u001b[0;32m/opt/homebrew/Caskroom/miniconda/base/envs/brightway/lib/python3.11/site-packages/bw2data/proxies.py:33\u001b[0m, in \u001b[0;36mProxyBase.__getitem__\u001b[0;34m(self, key)\u001b[0m\n\u001b[1;32m     32\u001b[0m \u001b[38;5;28;01mdef\u001b[39;00m \u001b[38;5;21m__getitem__\u001b[39m(\u001b[38;5;28mself\u001b[39m, key):\n\u001b[0;32m---> 33\u001b[0m     \u001b[38;5;28;01mreturn\u001b[39;00m \u001b[38;5;28;43mself\u001b[39;49m\u001b[38;5;241;43m.\u001b[39;49m\u001b[43m_data\u001b[49m\u001b[43m[\u001b[49m\u001b[43mkey\u001b[49m\u001b[43m]\u001b[49m\n",
      "\u001b[0;31mKeyError\u001b[0m: 'id'"
     ]
    }
   ],
   "source": [
    "# Note that exchanges do not have \"id\" \n",
    "el_exc['id']"
   ]
  },
  {
   "cell_type": "markdown",
   "metadata": {},
   "source": [
    "On the meaning of input and output, as this can be confusing:"
   ]
  },
  {
   "cell_type": "code",
   "execution_count": 52,
   "metadata": {},
   "outputs": [
    {
     "name": "stdout",
     "output_type": "stream",
     "text": [
      "2 liters ('testdb', 'Fuel production') \n",
      "to\n",
      " ('testdb', 'Electricity production') \n",
      "within\n",
      " technosphere\n"
     ]
    }
   ],
   "source": [
    "print(el_exc['amount'], el_exc['unit'], el_exc['input'], \n",
    "      '\\nto\\n',\n",
    "      el_exc['output'], \n",
    "      '\\nwithin\\n', \n",
    "      el_exc['type'])"
   ]
  },
  {
   "cell_type": "markdown",
   "metadata": {},
   "source": [
    "The terms \"input\" and \"output\" are used to identify two coordinates in the technology matrix\n",
    "\"input\" corresponds to the row (product input) and \"output\" corresponds to the column (activity output).\n",
    "\n",
    "In the case below \"the production of electricity requires fuel\".\n",
    "\n",
    "Or, in other words, \"to obtain an __output__ of electricity one requires an __input__ from fuel production\"\n",
    "\n",
    "Or \"there is an exchange of product __from__ fuel production __to__ electricity production\""
   ]
  },
  {
   "cell_type": "code",
   "execution_count": 51,
   "metadata": {},
   "outputs": [
    {
     "name": "stdout",
     "output_type": "stream",
     "text": [
      "'Fuel production' (liters, GLO, None)\n",
      "'Electricity production' (kWh, GLO, None)\n"
     ]
    }
   ],
   "source": [
    "print(el_exc.input)  # One can intended the word 'input' as \"from'\n",
    "print(el_exc.output)  # ...and 'output' as 'to'"
   ]
  },
  {
   "cell_type": "markdown",
   "metadata": {},
   "source": [
    "What if I want to get a specific exchange of a specific activity **without using numeric indexing**, but by using its name? Let's see if we can find the amount of Carbon Dioxide emitted from electricity production\n"
   ]
  },
  {
   "cell_type": "code",
   "execution_count": 53,
   "metadata": {},
   "outputs": [
    {
     "name": "stdout",
     "output_type": "stream",
     "text": [
      "Fuel production ...Not this one\n",
      "Exchange: 1 kg 'Carbon dioxide' (kg, None, None) to 'Electricity production' (kWh, GLO, None)>\n",
      "Sulphur dioxide ...Not this one\n",
      "Electricity production ...Not this one\n"
     ]
    }
   ],
   "source": [
    "for exc in list(el.exchanges()):\n",
    "    if exc['input'] == ('testbiosphere', 'Carbon dioxide'):\n",
    "        print(exc)\n",
    "    else:\n",
    "        print(exc['input'][1],'...Not this one')"
   ]
  },
  {
   "cell_type": "markdown",
   "metadata": {},
   "source": [
    "Good. Now we store the value **in a variable** for future use"
   ]
  },
  {
   "cell_type": "code",
   "execution_count": 54,
   "metadata": {},
   "outputs": [
    {
     "name": "stdout",
     "output_type": "stream",
     "text": [
      "1\n"
     ]
    }
   ],
   "source": [
    "for exc in list(el.exchanges()):\n",
    "    if exc['input'] == ('testbiosphere', 'Carbon dioxide'):\n",
    "        elCO2_amount = exc['amount'] # creates the variable elCO2amount\n",
    "\n",
    "print(elCO2_amount)"
   ]
  },
  {
   "cell_type": "code",
   "execution_count": 55,
   "metadata": {},
   "outputs": [
    {
     "data": {
      "text/plain": [
       "1234.56"
      ]
     },
     "execution_count": 55,
     "metadata": {},
     "output_type": "execute_result"
    }
   ],
   "source": [
    "elCO2_amount * 1234.56  # it's a number and you can make operations with that"
   ]
  }
 ],
 "metadata": {
  "kernelspec": {
   "display_name": "Python 3 (ipykernel)",
   "language": "python",
   "name": "python3"
  },
  "language_info": {
   "codemirror_mode": {
    "name": "ipython",
    "version": 3
   },
   "file_extension": ".py",
   "mimetype": "text/x-python",
   "name": "python",
   "nbconvert_exporter": "python",
   "pygments_lexer": "ipython3",
   "version": "3.11.11"
  }
 },
 "nbformat": 4,
 "nbformat_minor": 4
}
