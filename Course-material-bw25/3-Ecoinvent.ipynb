{
 "cells": [
  {
   "cell_type": "markdown",
   "metadata": {},
   "source": [
    "# 3. Import biosphere3 and ecoinvent"
   ]
  },
  {
   "cell_type": "markdown",
   "metadata": {},
   "source": [
    "Now that you know how to work with the foreground system, it's time to learn how to work with the background system. In particular it is useful to import and work with two databases: _biosphere3_ that contains all the exchanges and impact assessment methods, and _ecoinvent_. "
   ]
  },
  {
   "cell_type": "markdown",
   "metadata": {},
   "source": [
    "#### Read this before starting\n",
    "\n",
    "This tutorial shows an \"old school\" way of importing ecoinvent, to be used when you have the files on your hard disk.\n",
    "\n",
    "There is however an [updated way of doing it](https://github.com/massimopizzol/advanced-lca-notebooks/blob/main/Specific-bw-tasks/Import-ecoinvent-easily-with-interface.py) that fetches automatically files etc., it works smoother. Requires credentials. Check the linked tutorial."
   ]
  },
  {
   "cell_type": "markdown",
   "metadata": {},
   "source": [
    "#### Importing ecoinvent \n",
    "\n",
    "You need to get the ecoinvent files first, see steps below:\n",
    "\n",
    "1. Open the ecoinvent website and [login](https://ecoquery.ecoinvent.org/3.10/cutoff/search) with your username and password.\n",
    "2. You should read somewhere: _To download LCI and LCIA cumulative matrices click here_. Click there.\n",
    "3. Select _ecoinvent 3.9.1_\n",
    "4. Download the file `ecoinvent 3.9.1_consequential_ecoSpold02.7z` in a folder of yours. Make sure you remember the full path to this directory. E.g. I have downloaded the file in:\n",
    "_/Users/massimo/Documents/Databases/ecoinvent v3.9.1_\n",
    "5. The file you have downloaded is a compressed archive of many files (like with winzip or winrar). Extract the files from the .7z archive, e.g. by double clicking it. If it does not work, install a software that can do that. E.g. for mac users you can either download [theunarchiver](https://theunarchiver.com/) or, if you are using brew, just open terminal and do `brew install p7zip` and then from terminal find the folder and do `7z x 'ecoinvent 3.9.1_consequential_ecoSpold02.7z'` (here the [p7zip instructions](https://wiki.archlinux.org/index.php/p7zip) in case).\n",
    "6. Now you an run the cells below. __Make sure you change the line of code that specifies the directory__ by writing the directory on your computer where you have extracted the files. For example, I have extracted the files in a folder called \"datasets\". The path to this folder is: _/Users/massimo/Documents/Databases/ecoinvent v3.9.1/datasets_ You will see this same line in the script and you need to change it with your directory. "
   ]
  },
  {
   "cell_type": "code",
   "execution_count": 4,
   "metadata": {},
   "outputs": [],
   "source": [
    "# Import brightway2.5 packages\n",
    "import bw2calc as bc\n",
    "import bw2data as bd\n",
    "import bw2io as bi"
   ]
  },
  {
   "cell_type": "code",
   "execution_count": 5,
   "metadata": {},
   "outputs": [
    {
     "data": {
      "text/plain": [
       "Brightway2 projects manager with 49 objects, including:\n",
       "\tALIGNED\n",
       "\tB4B18\n",
       "\tBTC02\n",
       "\tBTC_Att_LCA\n",
       "\tBiowood\n",
       "\tC3BO\n",
       "\tCCU\n",
       "\tConseqUncertainty\n",
       "\tGSA\n",
       "\tGiovanni\n",
       "Use `sorted(projects)` to get full list, `projects.report()` to get\n",
       "\ta report on all projects."
      ]
     },
     "execution_count": 5,
     "metadata": {},
     "output_type": "execute_result"
    }
   ],
   "source": [
    "bd.projects # check what project you have \n",
    "# bd.projects.delete_project('advlca23', delete_dir=True) # if you want a fresh start"
   ]
  },
  {
   "cell_type": "code",
   "execution_count": 6,
   "metadata": {},
   "outputs": [
    {
     "data": {
      "text/plain": [
       "Databases dictionary with 2 object(s):\n",
       "\ttestbiosphere\n",
       "\ttestdb"
      ]
     },
     "execution_count": 6,
     "metadata": {},
     "output_type": "execute_result"
    }
   ],
   "source": [
    "bd.projects.set_current('advlca25') # Still working in the same project\n",
    "bd.databases\n",
    "# bd.databases.clear() # For a fresh start (Risky command! clears all your existing databases)"
   ]
  },
  {
   "cell_type": "markdown",
   "metadata": {},
   "source": [
    "Before importing ecoinvent, we need to make a default setup of Brightway2. This means importing all the environmental exchanges and all the LCIA methods. Then when we import ecoinvent the ecoinvent activities will be linked to this database of environmental exchanges, just like in the previous example wiht the product system of H&S 2002."
   ]
  },
  {
   "cell_type": "code",
   "execution_count": 7,
   "metadata": {
    "scrolled": true
   },
   "outputs": [
    {
     "name": "stdout",
     "output_type": "stream",
     "text": [
      "Creating default biosphere\n",
      "\n",
      "Applying strategy: normalize_units\n",
      "Applying strategy: drop_unspecified_subcategories\n",
      "Applying strategy: ensure_categories_are_tuples\n",
      "Applied 3 strategies in 0.00 seconds\n"
     ]
    },
    {
     "name": "stderr",
     "output_type": "stream",
     "text": [
      "100%|████████████████████████████████████| 4709/4709 [00:00<00:00, 15543.46it/s]\n"
     ]
    },
    {
     "name": "stdout",
     "output_type": "stream",
     "text": [
      "Vacuuming database \n",
      "Created database: biosphere3\n",
      "Creating default LCIA methods\n",
      "\n",
      "Wrote 762 LCIA methods with 227223 characterization factors\n",
      "Creating core data migrations\n",
      "\n"
     ]
    }
   ],
   "source": [
    "# Import the biosphere3 database\n",
    "bi.bw2setup() # This will take some time"
   ]
  },
  {
   "cell_type": "code",
   "execution_count": 4,
   "metadata": {},
   "outputs": [],
   "source": [
    "# If you encounter the following error , uncomment the following code.\n",
    "# Error: \"ValueError: Method ('CML v4.8 2016 no LT', 'acidification no LT', 'acidification (incl. fate, average Europe total, A&B) no LT') already exists. Use ``overwrite=True`` to overwrite existing methods\"\n",
    "\n",
    "# methods_to_delete = list(bd.methods)\n",
    "# for method in methods_to_delete:\n",
    "#     m = bd.Method(method)\n",
    "#     m.deregister()\n",
    "# del bd.databases[\"biosphere3\"]"
   ]
  },
  {
   "cell_type": "markdown",
   "metadata": {},
   "source": [
    "We are going to use version 3.9.1 of ecoinvent, consequential model, for this course."
   ]
  },
  {
   "cell_type": "code",
   "execution_count": 9,
   "metadata": {
    "scrolled": true
   },
   "outputs": [
    {
     "name": "stdout",
     "output_type": "stream",
     "text": [
      "Extracting XML data from 18856 datasets\n",
      "Extracted 18856 datasets in 96.21 seconds\n",
      "Applying strategy: normalize_units\n",
      "Applying strategy: update_ecoinvent_locations\n",
      "Applying strategy: remove_zero_amount_coproducts\n",
      "Applying strategy: remove_zero_amount_inputs_with_no_activity\n",
      "Applying strategy: remove_unnamed_parameters\n",
      "Applying strategy: es2_assign_only_product_with_amount_as_reference_product\n",
      "Applying strategy: assign_single_product_as_activity\n",
      "Applying strategy: create_composite_code\n",
      "Applying strategy: drop_unspecified_subcategories\n",
      "Applying strategy: fix_ecoinvent_flows_pre35\n",
      "Applying strategy: drop_temporary_outdated_biosphere_flows\n",
      "Applying strategy: link_biosphere_by_flow_uuid\n",
      "Applying strategy: link_internal_technosphere_by_composite_code\n",
      "Applying strategy: delete_exchanges_missing_activity\n",
      "Applying strategy: delete_ghost_exchanges\n",
      "Applying strategy: remove_uncertainty_from_negative_loss_exchanges\n",
      "Applying strategy: fix_unreasonably_high_lognormal_uncertainties\n",
      "Applying strategy: convert_activity_parameters_to_list\n",
      "Applying strategy: add_cpc_classification_from_single_reference_product\n",
      "Applying strategy: delete_none_synonyms\n",
      "Applying strategy: update_social_flows_in_older_consequential\n",
      "Applying strategy: set_lognormal_loc_value\n",
      "Applied 22 strategies in 5.37 seconds\n",
      "18856 datasets\n",
      "547208 exchanges\n",
      "0 unlinked exchanges\n",
      "  \n",
      "Not able to determine geocollections for all datasets. This database is not ready for regionalization.\n"
     ]
    },
    {
     "name": "stderr",
     "output_type": "stream",
     "text": [
      "100%|████████████████████████████████████| 18856/18856 [00:27<00:00, 689.33it/s]\n"
     ]
    },
    {
     "name": "stdout",
     "output_type": "stream",
     "text": [
      "Vacuuming database \n",
      "Created database: ecoinvent 3.9.1 conseq\n"
     ]
    },
    {
     "data": {
      "text/plain": [
       "Brightway2 SQLiteBackend: ecoinvent 3.9.1 conseq"
      ]
     },
     "execution_count": 9,
     "metadata": {},
     "output_type": "execute_result"
    }
   ],
   "source": [
    "# Import ecoinvent\n",
    "\n",
    "# You need to change the line below with the directory where you have saved ecoinvent\n",
    "ei391dir = \"/Users/massimo/Documents/Databases/ecoinvent v3.9.1/ecoinvent 3.9.1_consequential_ecoSpold02/datasets\"\n",
    "#ei391dir = \"/Users/bp45th/Downloads/ecoinvent 3.9.1_consequential_ecoSpold02/datasets\"\n",
    "\n",
    "if 'ecoinvent 3.9.1 conseq' in bd.databases:\n",
    "    print(\"Database has already been imported\")\n",
    "else:\n",
    "    ei391 = bi.SingleOutputEcospold2Importer(ei391dir, 'ecoinvent 3.9.1 conseq') # You can give it another name of course\n",
    "    ei391.apply_strategies()\n",
    "    ei391.statistics()\n",
    "\n",
    "#ei391.drop_unlinked(True) # Use this line if you get an \"unlinked exchanges\" error\n",
    "ei391.write_database() # This will take some time."
   ]
  },
  {
   "cell_type": "code",
   "execution_count": 11,
   "metadata": {},
   "outputs": [
    {
     "data": {
      "text/plain": [
       "Databases dictionary with 4 object(s):\n",
       "\tbiosphere3\n",
       "\tecoinvent 3.9.1 conseq\n",
       "\ttestbiosphere\n",
       "\ttestdb"
      ]
     },
     "execution_count": 11,
     "metadata": {},
     "output_type": "execute_result"
    }
   ],
   "source": [
    "bd.databases # you should now see both \"biosphere3\" and \"ecoinvent 3.9.1 conseq\""
   ]
  },
  {
   "cell_type": "markdown",
   "metadata": {},
   "source": [
    "# Navigate biosphere3 and ecoinvent"
   ]
  },
  {
   "cell_type": "markdown",
   "metadata": {},
   "source": [
    "A key difference compared to previous exercises is that in ecoinvent each activity and exchange is defined by a **code** which are unique identifiers. So it is important to learn how to find both activity code and name and how to match them _(Actually we used the codes also in the previous lectures but they were identical to the activity names for simplicity)_.\n",
    "\n",
    "One key and I would say __fundamental__ aspect to remember is that __codes works across bw installations__. This means that the code (actually it's a unique identifier or [UUID](https://en.wikipedia.org/wiki/Universally_unique_identifier), I think) is the same on your computer and on another person's computer. This is extremely important to be able to __share data__."
   ]
  },
  {
   "cell_type": "code",
   "execution_count": 12,
   "metadata": {},
   "outputs": [
    {
     "data": {
      "text/plain": [
       "['Carbon dioxide, fossil' (kilogram, None, ('air', 'urban air close to ground')),\n",
       " 'Carbon dioxide, fossil' (kilogram, None, ('air', 'lower stratosphere + upper troposphere')),\n",
       " 'Carbon dioxide, fossil' (kilogram, None, ('air', 'low population density, long-term')),\n",
       " 'Carbon dioxide, fossil' (kilogram, None, ('air',)),\n",
       " 'Carbon dioxide, fossil' (kilogram, None, ('air', 'non-urban air or from high stacks')),\n",
       " 'Carbon dioxide, non-fossil' (kilogram, None, ('air', 'urban air close to ground')),\n",
       " 'Carbon dioxide, non-fossil' (kilogram, None, ('air', 'low population density, long-term')),\n",
       " 'Carbon dioxide, non-fossil' (kilogram, None, ('air',)),\n",
       " 'Carbon dioxide, in air' (kilogram, None, ('natural resource', 'in air')),\n",
       " 'Carbon dioxide, non-fossil' (kilogram, None, ('air', 'non-urban air or from high stacks')),\n",
       " 'Carbon dioxide, non-fossil' (kilogram, None, ('air', 'lower stratosphere + upper troposphere')),\n",
       " 'Carbon dioxide, non-fossil, resource correction' (kilogram, None, ('natural resource', 'in air')),\n",
       " 'Carbon dioxide, to soil or biomass stock' (kilogram, None, ('soil', 'forestry')),\n",
       " 'Carbon dioxide, from soil or biomass stock' (kilogram, None, ('air',)),\n",
       " 'Carbon dioxide, to soil or biomass stock' (kilogram, None, ('soil',)),\n",
       " 'Carbon dioxide, to soil or biomass stock' (kilogram, None, ('soil', 'agricultural')),\n",
       " 'Carbon dioxide, from soil or biomass stock' (kilogram, None, ('air', 'urban air close to ground')),\n",
       " 'Carbon dioxide, from soil or biomass stock' (kilogram, None, ('air', 'low population density, long-term')),\n",
       " 'Carbon dioxide, to soil or biomass stock' (kilogram, None, ('soil', 'industrial')),\n",
       " 'Carbon dioxide, from soil or biomass stock' (kilogram, None, ('air', 'non-urban air or from high stacks')),\n",
       " 'Carbon dioxide, from soil or biomass stock' (kilogram, None, ('air', 'lower stratosphere + upper troposphere'))]"
      ]
     },
     "execution_count": 12,
     "metadata": {},
     "output_type": "execute_result"
    }
   ],
   "source": [
    "# Search stuff in biosphere\n",
    "bd.Database(\"biosphere3\").search(\"carbon dioxide\") # there is more than one activity with this name. Only code is univocal."
   ]
  },
  {
   "cell_type": "code",
   "execution_count": 14,
   "metadata": {},
   "outputs": [
    {
     "name": "stdout",
     "output_type": "stream",
     "text": [
      "Carbon dioxide, fossil\n",
      "349b29d1-3e58-4c66-98b9-9d1a076efd2e\n"
     ]
    }
   ],
   "source": [
    "CO2 = bd.Database(\"biosphere3\").get(\"349b29d1-3e58-4c66-98b9-9d1a076efd2e\") # This code works across bw2.5 installations, \n",
    "                                                                    ### i.e. is univocal for biosphere3 everywhere\n",
    "print(CO2['name']) # there is more than one activity with this name. Only code is univocal.\n",
    "print(CO2['code'])"
   ]
  },
  {
   "cell_type": "code",
   "execution_count": 15,
   "metadata": {},
   "outputs": [
    {
     "data": {
      "text/plain": [
       "['transport, freight, lorry >32 metric ton, EURO5' (ton kilometer, BR, None),\n",
       " 'market for transport, freight, lorry >32 metric ton, EURO5' (ton kilometer, RER, None),\n",
       " 'market for transport, freight, lorry >32 metric ton, EURO5' (ton kilometer, BR, None),\n",
       " 'market for transport, freight, lorry >32 metric ton, EURO5' (ton kilometer, RoW, None),\n",
       " 'transport, freight, lorry >32 metric ton, EURO5' (ton kilometer, RER, None),\n",
       " 'transport, freight, lorry >32 metric ton, EURO5' (ton kilometer, RoW, None),\n",
       " 'transport, freight, lorry 3.5-7.5 metric ton, EURO5' (ton kilometer, BR, None),\n",
       " 'transport, freight, lorry 7.5-16 metric ton, EURO5' (ton kilometer, BR, None),\n",
       " 'transport, freight, lorry 16-32 metric ton, EURO5' (ton kilometer, BR, None),\n",
       " 'transport, freight, lorry, all sizes, EURO5 to generic market for transport, freight, lorry, unspecified' (ton kilometer, BR, None),\n",
       " 'transport, freight, lorry, all sizes, EURO5 to generic market for transport, freight, lorry, unspecified' (ton kilometer, RER, None),\n",
       " 'transport, freight, lorry, all sizes, EURO5 to generic market for transport, freight, lorry, unspecified' (ton kilometer, RoW, None),\n",
       " 'market for transport, freight, lorry 7.5-16 metric ton, EURO5' (ton kilometer, RER, None),\n",
       " 'market for transport, freight, lorry 7.5-16 metric ton, EURO5' (ton kilometer, BR, None),\n",
       " 'market for transport, freight, lorry 16-32 metric ton, EURO5' (ton kilometer, RER, None),\n",
       " 'market for transport, freight, lorry 7.5-16 metric ton, EURO5' (ton kilometer, RoW, None),\n",
       " 'market for transport, freight, lorry 3.5-7.5 metric ton, EURO5' (ton kilometer, RER, None),\n",
       " 'market for transport, freight, lorry 3.5-7.5 metric ton, EURO5' (ton kilometer, RoW, None),\n",
       " 'market for transport, freight, lorry 3.5-7.5 metric ton, EURO5' (ton kilometer, BR, None),\n",
       " 'market for transport, freight, lorry 16-32 metric ton, EURO5' (ton kilometer, BR, None),\n",
       " 'market for transport, freight, lorry 16-32 metric ton, EURO5' (ton kilometer, RoW, None),\n",
       " 'transport, freight, lorry 3.5-7.5 metric ton, EURO5' (ton kilometer, RER, None),\n",
       " 'transport, freight, lorry 16-32 metric ton, EURO5' (ton kilometer, RER, None),\n",
       " 'transport, freight, lorry 7.5-16 metric ton, EURO5' (ton kilometer, RER, None),\n",
       " 'transport, freight, lorry 16-32 metric ton, EURO5' (ton kilometer, RoW, None)]"
      ]
     },
     "execution_count": 15,
     "metadata": {},
     "output_type": "execute_result"
    }
   ],
   "source": [
    "# Search stuff in ecoinvent\n",
    "\n",
    "# Search by keyword\n",
    "mydb = bd.Database('ecoinvent 3.9.1 conseq')\n",
    "#mydb.search(\"*\") # to search everything\n",
    "mydb.search(\"transport freight euro5\")\n",
    "\n",
    "#bd.Database('ecoinvent 3.9.1 conseq').search(\"transport\") # gives the same result obviously"
   ]
  },
  {
   "cell_type": "code",
   "execution_count": 69,
   "metadata": {},
   "outputs": [
    {
     "name": "stdout",
     "output_type": "stream",
     "text": [
      "'electricity production, oil' (kilowatt hour, CO, None)\n",
      "c75f78213b09d028d43b259f776bc86d\n",
      "6912\n",
      "'electricity production, oil' (kilowatt hour, US-WECC, None)\n",
      "ee9f91e5c13b3ee8a73237d9864cbe18\n",
      "10580\n",
      "'electricity production, oil' (kilowatt hour, CN-FJ, None)\n",
      "a78cb6a46466fd367d1d974d5281e8d0\n",
      "5484\n",
      "'electricity production, oil' (kilowatt hour, CN-GZ, None)\n",
      "4ab58c28574b3f858a8a8568a39d28f5\n",
      "16983\n",
      "'electricity production, oil' (kilowatt hour, CN-GX, None)\n",
      "746dfaa2dd5693ec139b8a558b082095\n",
      "10501\n"
     ]
    }
   ],
   "source": [
    "# explore activities\n",
    "\n",
    "activity_name = 'electricity'\n",
    "\n",
    "# Same but different:\n",
    "for activity in bd.Database(\"ecoinvent 3.9.1 conseq\").search(activity_name, limit = 5):  \n",
    "    print(activity)\n",
    "    print(activity['code'])\n",
    "    print(activity['id'])"
   ]
  },
  {
   "cell_type": "markdown",
   "metadata": {},
   "source": [
    "#### Note: difference between 'code' and 'id' (introduced in bw25)\n",
    "\n",
    "In bw2.5 there is a new field, the \"id\" field. This is also an unique identifier of each exchange, but it's an integer not a string. Specifically, the \"id\" is basically a coordinate, it is the row/(column number of this exchange in the technology matrix (or in the biosphere matrix if a biosphere excahange).\n",
    "\n",
    "Careful that (but I am not sure) differently from the 'code' the 'id' might not be univocal across bw installations!"
   ]
  },
  {
   "cell_type": "code",
   "execution_count": 34,
   "metadata": {},
   "outputs": [
    {
     "name": "stdout",
     "output_type": "stream",
     "text": [
      "<class 'str'>\n",
      "<class 'int'>\n"
     ]
    }
   ],
   "source": [
    "act = bd.Database(\"ecoinvent 3.9.1 conseq\").get('c75f78213b09d028d43b259f776bc86d') \n",
    "print(type(act['code'])) # the code is a string\n",
    "print(type(act['id'])) # the id is an integer"
   ]
  },
  {
   "cell_type": "code",
   "execution_count": 70,
   "metadata": {},
   "outputs": [],
   "source": [
    "# Try this        \n",
    "for activity in bd.Database(\"biosphere3\").search('heat production'):  \n",
    "    print(activity)\n",
    "    print(activity['code']) # Can you explain this result?"
   ]
  },
  {
   "cell_type": "code",
   "execution_count": 71,
   "metadata": {},
   "outputs": [
    {
     "name": "stdout",
     "output_type": "stream",
     "text": [
      "Excluding 3525 filtered results\n",
      "'electricity production, oil' (kilowatt hour, DK, None)\n",
      "2d247f0b80d8af196724430602b0d86d\n",
      "19163\n",
      "'market for electricity, low voltage' (kilowatt hour, DK, None)\n",
      "ce40dd006e462e720eb669efbc31dd59\n",
      "7794\n",
      "'market for electricity, high voltage' (kilowatt hour, DK, None)\n",
      "1b3abeab9ce01846ca43ab75f0fbfbf7\n",
      "16179\n",
      "'market for electricity, medium voltage' (kilowatt hour, DK, None)\n",
      "f4dc7d2b1d70e6c0f929ec5231c085e0\n",
      "11216\n",
      "'electricity, high voltage, import from NO' (kilowatt hour, DK, None)\n",
      "23185c39f5391a0c31290b0cf8c41e6d\n",
      "20811\n"
     ]
    }
   ],
   "source": [
    "# you can be much more specific in your search:\n",
    "for activity in bd.Database(\"ecoinvent 3.9.1 conseq\").search(activity_name, filter={\"location\" : 'DK'}, limit = 5):\n",
    "    print(activity)\n",
    "    print(activity['code'])\n",
    "    print(activity['id'])"
   ]
  },
  {
   "cell_type": "markdown",
   "metadata": {},
   "source": [
    "Now you know how to find activities. What about **selecting** activities?"
   ]
  },
  {
   "cell_type": "code",
   "execution_count": 72,
   "metadata": {},
   "outputs": [
    {
     "name": "stdout",
     "output_type": "stream",
     "text": [
      "market for electricity, low voltage\n"
     ]
    }
   ],
   "source": [
    "# If you know the code (e.g. found with method above) it's simple.        \n",
    "mycode = 'ce40dd006e462e720eb669efbc31dd59'\n",
    "myact = bd.Database(\"ecoinvent 3.9.1 conseq\").get(mycode)\n",
    "#myact = Database(\"biosphere3\").get(mycode)  # Not working of course...\n",
    "\n",
    "print(myact['name'])"
   ]
  },
  {
   "cell_type": "code",
   "execution_count": 73,
   "metadata": {},
   "outputs": [
    {
     "data": {
      "text/plain": [
       "7794"
      ]
     },
     "execution_count": 73,
     "metadata": {},
     "output_type": "execute_result"
    }
   ],
   "source": [
    "myact.id # access the id directly"
   ]
  },
  {
   "cell_type": "code",
   "execution_count": 74,
   "metadata": {},
   "outputs": [
    {
     "ename": "AttributeError",
     "evalue": "'Activity' object has no attribute 'code'",
     "output_type": "error",
     "traceback": [
      "\u001b[0;31m---------------------------------------------------------------------------\u001b[0m",
      "\u001b[0;31mAttributeError\u001b[0m                            Traceback (most recent call last)",
      "Cell \u001b[0;32mIn[74], line 1\u001b[0m\n\u001b[0;32m----> 1\u001b[0m \u001b[43mmyact\u001b[49m\u001b[38;5;241;43m.\u001b[39;49m\u001b[43mcode\u001b[49m \u001b[38;5;66;03m# this won't work though. It's only for excahnges (see further below)\u001b[39;00m\n",
      "\u001b[0;31mAttributeError\u001b[0m: 'Activity' object has no attribute 'code'"
     ]
    }
   ],
   "source": [
    "myact.code # this won't work though. It's only for excahnges (see further below)"
   ]
  },
  {
   "cell_type": "code",
   "execution_count": 75,
   "metadata": {},
   "outputs": [
    {
     "data": {
      "text/plain": [
       "{'comment': \"This is a market activity. Each market represents the consumption mix of a product in a given geography, connecting suppliers with consumers of the same product in the same geographical area. Markets group the producers and also the imports of the product (if relevant) within the same geographical area. They also account for transport to the consumer and for the losses during that process, when relevant.\\nThis dataset describes the electricity available on the high voltage level in Denmark. This is done by showing the transmission of 1kWh electricity at high voltage.\\nTechnology:  Average technology used to transmit and distribute electricity. Includes underground and overhead lines, as well as air-, vacuum- and SF6-insulated high-to-medium voltage switching stations. Electricity production according to related technology datasets.\\nTime period:  The 'Start of Period' and 'End of Period' do not refer to the year for which this market is valid. See general comment for the year for which the shares are based on.\",\n",
       " 'classifications': [('EcoSpold01Categories', 'electricity/supply mix'),\n",
       "  ('ISIC rev.4 ecoinvent',\n",
       "   '3510:Electric power generation, transmission and distribution'),\n",
       "  ('CPC', '17100: Electrical energy')],\n",
       " 'activity type': 'market activity',\n",
       " 'activity': '4d0a8fcb-4f55-5d1f-8a65-6d024b920b38',\n",
       " 'database': 'ecoinvent 3.9.1 conseq',\n",
       " 'filename': '4d0a8fcb-4f55-5d1f-8a65-6d024b920b38_d69294d7-8d64-4915-a896-9996a014c410.spold',\n",
       " 'location': 'DK',\n",
       " 'name': 'market for electricity, low voltage',\n",
       " 'synonyms': [],\n",
       " 'parameters': [],\n",
       " 'authors': {'data entry': {'name': 'Karin Treyer',\n",
       "   'email': 'karin.treyer@psi.ch'},\n",
       "  'data generator': {'name': 'Karin Treyer', 'email': 'karin.treyer@psi.ch'}},\n",
       " 'type': 'process',\n",
       " 'reference product': 'electricity, low voltage',\n",
       " 'flow': 'd69294d7-8d64-4915-a896-9996a014c410',\n",
       " 'unit': 'kilowatt hour',\n",
       " 'production amount': 1.0,\n",
       " 'code': 'ce40dd006e462e720eb669efbc31dd59',\n",
       " 'id': 7794}"
      ]
     },
     "execution_count": 75,
     "metadata": {},
     "output_type": "execute_result"
    }
   ],
   "source": [
    "myact._data # a lot of detail"
   ]
  },
  {
   "cell_type": "code",
   "execution_count": 78,
   "metadata": {},
   "outputs": [
    {
     "name": "stdout",
     "output_type": "stream",
     "text": [
      "production\n",
      "Exchange: 1.0 kilowatt hour 'market for electricity, low voltage' (kilowatt hour, DK, None) to 'market for electricity, low voltage' (kilowatt hour, DK, None)>\n",
      "('ecoinvent 3.9.1 conseq', 'ce40dd006e462e720eb669efbc31dd59')\n",
      "-------\n",
      "technosphere\n",
      "Exchange: 8.74048809653223e-08 kilometer 'market for distribution network, electricity, low voltage' (kilometer, GLO, None) to 'market for electricity, low voltage' (kilowatt hour, DK, None)>\n",
      "('ecoinvent 3.9.1 conseq', 'a0292b0328a3b02bc80b97b87f293152')\n",
      "-------\n",
      "technosphere\n",
      "Exchange: 0.0229 kilowatt hour 'market for electricity, low voltage' (kilowatt hour, DK, None) to 'market for electricity, low voltage' (kilowatt hour, DK, None)>\n",
      "('ecoinvent 3.9.1 conseq', 'ce40dd006e462e720eb669efbc31dd59')\n",
      "-------\n",
      "technosphere\n",
      "Exchange: 7.36096869893038e-05 kilowatt hour 'electricity production, photovoltaic, 3kWp slanted-roof installation, multi-Si, panel, mounted' (kilowatt hour, DK, None) to 'market for electricity, low voltage' (kilowatt hour, DK, None)>\n",
      "('ecoinvent 3.9.1 conseq', '07e17e6e7a324a5d33024dd86ea17a05')\n",
      "-------\n",
      "technosphere\n",
      "Exchange: 0.999926390313011 kilowatt hour 'electricity voltage transformation from medium to low voltage' (kilowatt hour, DK, None) to 'market for electricity, low voltage' (kilowatt hour, DK, None)>\n",
      "('ecoinvent 3.9.1 conseq', '43278c4a64b05fa664897125971c02cc')\n",
      "-------\n",
      "technosphere\n",
      "Exchange: 6.27e-09 kilogram 'market for sulfur hexafluoride, liquid' (kilogram, RER, None) to 'market for electricity, low voltage' (kilowatt hour, DK, None)>\n",
      "('ecoinvent 3.9.1 conseq', 'd5f80ee8a477ef1a64cd77e68eb02f2c')\n",
      "-------\n",
      "biosphere\n",
      "Exchange: 6.27e-09 kilogram 'Sulfur hexafluoride' (kilogram, None, ('air',)) to 'market for electricity, low voltage' (kilowatt hour, DK, None)>\n",
      "('biosphere3', '35d1dff5-b535-4628-9826-4a8fce08a1f2')\n",
      "-------\n"
     ]
    }
   ],
   "source": [
    "# Check the exchanges in one activity\n",
    "for i in list(myact.exchanges()):  # Epxlore the activity as usual\n",
    "    print(i['type'])\n",
    "    print(i)\n",
    "    print(i['input'])\n",
    "    print('-------')"
   ]
  },
  {
   "cell_type": "code",
   "execution_count": 79,
   "metadata": {},
   "outputs": [
    {
     "data": {
      "text/plain": [
       "'market for electricity, low voltage' (kilowatt hour, ZA, None)"
      ]
     },
     "execution_count": 79,
     "metadata": {},
     "output_type": "execute_result"
    }
   ],
   "source": [
    "# If you know the name of the activity and want to select it:\n",
    "activity_name = 'market for electricity, low voltage'\n",
    "    \n",
    "for activity in bd.Database(\"ecoinvent 3.9.1 conseq\"):  # can you find an easier way? I couldn't\n",
    "    if activity['name'] == activity_name:\n",
    "        myact = bd.Database(\"ecoinvent 3.9.1 conseq\").get(activity['code'])\n",
    "\n",
    "myact  # Careful! Might not return the danish market. Not what I wanted! "
   ]
  },
  {
   "cell_type": "code",
   "execution_count": 81,
   "metadata": {},
   "outputs": [
    {
     "data": {
      "text/plain": [
       "'market for electricity, low voltage' (kilowatt hour, DK, None)"
      ]
     },
     "execution_count": 81,
     "metadata": {},
     "output_type": "execute_result"
    }
   ],
   "source": [
    "# A more specific search\n",
    "for activity in bd.Database(\"ecoinvent 3.9.1 conseq\"):  \n",
    "    if activity['name'] == activity_name and activity['location'] == \"DK\":  # need to be specific...\n",
    "        myact = bd.Database(\"ecoinvent 3.9.1 conseq\").get(activity['code'])\n",
    "myact  # alright"
   ]
  },
  {
   "cell_type": "code",
   "execution_count": 82,
   "metadata": {},
   "outputs": [],
   "source": [
    "# Explore exchanges\n",
    "myexc = list(myact.exchanges())[1]"
   ]
  },
  {
   "cell_type": "code",
   "execution_count": 83,
   "metadata": {},
   "outputs": [
    {
     "name": "stdout",
     "output_type": "stream",
     "text": [
      "flow\n",
      "type\n",
      "name\n",
      "classifications\n",
      "production volume\n",
      "properties\n",
      "activity\n",
      "unit\n",
      "comment\n",
      "formula\n",
      "amount\n",
      "pedigree\n",
      "uncertainty type\n",
      "loc\n",
      "scale\n",
      "scale without pedigree\n",
      "input\n",
      "output\n"
     ]
    }
   ],
   "source": [
    "# All the metadata of an exchange \n",
    "for i in myexc:\n",
    "    print(i)"
   ]
  },
  {
   "cell_type": "code",
   "execution_count": 85,
   "metadata": {},
   "outputs": [
    {
     "name": "stdout",
     "output_type": "stream",
     "text": [
      "technosphere ('ecoinvent 3.9.1 conseq', 'ce40dd006e462e720eb669efbc31dd59') ('ecoinvent 3.9.1 conseq', 'a0292b0328a3b02bc80b97b87f293152')\n"
     ]
    }
   ],
   "source": [
    "# access exchange metadata\n",
    "print(myexc['type'], myexc['output'], myexc['input'])"
   ]
  },
  {
   "cell_type": "code",
   "execution_count": 86,
   "metadata": {},
   "outputs": [
    {
     "name": "stdout",
     "output_type": "stream",
     "text": [
      "{'reliability': 3, 'completeness': 2, 'temporal correlation': 4, 'geographical correlation': 4, 'further technological correlation': 3}\n"
     ]
    }
   ],
   "source": [
    "# again exchange metadata\n",
    "print(myexc['pedigree'])"
   ]
  },
  {
   "cell_type": "markdown",
   "metadata": {},
   "source": [
    "# Calculate with biosphere3 and ecoinvent \n",
    "\n",
    "Ok now we can run an LCA with a dataset from ecoinvent."
   ]
  },
  {
   "cell_type": "code",
   "execution_count": 91,
   "metadata": {
    "scrolled": true
   },
   "outputs": [
    {
     "data": {
      "text/plain": [
       "[('simplemethod', 'imaginaryendpoint', 'imaginarymidpoint'),\n",
       " ('CML v4.8 2016 no LT',\n",
       "  'acidification no LT',\n",
       "  'acidification (incl. fate, average Europe total, A&B) no LT'),\n",
       " ('CML v4.8 2016 no LT',\n",
       "  'climate change no LT',\n",
       "  'global warming potential (GWP100) no LT'),\n",
       " ('CML v4.8 2016 no LT',\n",
       "  'ecotoxicity: freshwater no LT',\n",
       "  'freshwater aquatic ecotoxicity (FAETP inf) no LT'),\n",
       " ('CML v4.8 2016 no LT',\n",
       "  'ecotoxicity: marine no LT',\n",
       "  'marine aquatic ecotoxicity (MAETP inf) no LT')]"
      ]
     },
     "execution_count": 91,
     "metadata": {},
     "output_type": "execute_result"
    }
   ],
   "source": [
    "list(bd.methods)[0:5] # remove [0:5] to see the very long list of all methods."
   ]
  },
  {
   "cell_type": "code",
   "execution_count": 92,
   "metadata": {},
   "outputs": [
    {
     "data": {
      "text/plain": [
       "('IPCC 2013', 'climate change', 'global warming potential (GWP100)')"
      ]
     },
     "execution_count": 92,
     "metadata": {},
     "output_type": "execute_result"
    }
   ],
   "source": [
    "# First select a method from the list (use 'list(methods)' to see all of them)\n",
    "mymethod = ('IPCC 2013', 'climate change', 'global warming potential (GWP100)')\n",
    "mymethod"
   ]
  },
  {
   "cell_type": "code",
   "execution_count": 97,
   "metadata": {},
   "outputs": [
    {
     "data": {
      "text/plain": [
       "'market for electricity, low voltage' (kilowatt hour, DK, None)"
      ]
     },
     "execution_count": 97,
     "metadata": {},
     "output_type": "execute_result"
    }
   ],
   "source": [
    "myact = bd.Database(\"ecoinvent 3.9.1 conseq\").get('ce40dd006e462e720eb669efbc31dd59')\n",
    "myact"
   ]
  },
  {
   "cell_type": "code",
   "execution_count": 102,
   "metadata": {},
   "outputs": [
    {
     "name": "stdout",
     "output_type": "stream",
     "text": [
      "0.04779408709945726\n"
     ]
    }
   ],
   "source": [
    "functional_unit = {myact : 1}\n",
    "lca = bc.LCA(demand=functional_unit, method=mymethod) #run LCA calculations again with method\n",
    "lca.lci()\n",
    "lca.lcia()\n",
    "print(lca.score) # What is the unit? Find out! (alright it's bd.methods[mymethod])"
   ]
  },
  {
   "cell_type": "code",
   "execution_count": 103,
   "metadata": {},
   "outputs": [
    {
     "data": {
      "text/plain": [
       "{'description': '',\n",
       " 'filename': 'LCIA_Implementation_3.9.xlsx',\n",
       " 'unit': 'kg CO2-Eq',\n",
       " 'abbreviation': 'ipcc-2013cg.c44286db43e989e224357edf263706ce',\n",
       " 'num_cfs': 207,\n",
       " 'geocollections': ['world']}"
      ]
     },
     "execution_count": 103,
     "metadata": {},
     "output_type": "execute_result"
    }
   ],
   "source": [
    "bd.methods[mymethod]"
   ]
  },
  {
   "cell_type": "markdown",
   "metadata": {},
   "source": [
    "# Exercise (at home)\n",
    "Link the emissions of your previously defined foreground system to the biosphere3 database, and link some of the ecoinvent database activities to your foreground system. Run the calculations and get a carbon footprint with the ILCD climate change method."
   ]
  }
 ],
 "metadata": {
  "kernelspec": {
   "display_name": "Python 3 (ipykernel)",
   "language": "python",
   "name": "python3"
  },
  "language_info": {
   "codemirror_mode": {
    "name": "ipython",
    "version": 3
   },
   "file_extension": ".py",
   "mimetype": "text/x-python",
   "name": "python",
   "nbconvert_exporter": "python",
   "pygments_lexer": "ipython3",
   "version": "3.12.2"
  }
 },
 "nbformat": 4,
 "nbformat_minor": 4
}
