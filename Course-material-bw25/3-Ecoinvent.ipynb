{
 "cells": [
  {
   "cell_type": "markdown",
   "metadata": {},
   "source": [
    "# 3. Import biosphere3 and ecoinvent"
   ]
  },
  {
   "cell_type": "markdown",
   "metadata": {},
   "source": [
    "Now that you know how to work with the foreground system, it's time to learn how to work with the background system. In particular it is useful to import and work with two databases: _biosphere_ that contains all the exchanges and impact assessment methods, and _ecoinvent_. "
   ]
  },
  {
   "cell_type": "markdown",
   "metadata": {},
   "source": [
    "#### Read this before starting\n",
    "\n",
    "This tutorial shows current recommended way of importing ecoinvent. \n",
    "**You need to have the ecoinvent credentials** (username and password) to do this. \n",
    "Check also the [official docs](https://docs.brightway.dev/en/latest/content/cheatsheet/importing.html).\n",
    "\n",
    "Before you run this tutorial, please **install** `ecoinvent_interface`. \n",
    "- Open your terminal / powershell where the notebook is running\n",
    "- Close this notebook (Ctrl + C)\n",
    "- Run `conda install ecoinvent_interface` \n",
    "- Reopen the notebook\n",
    "\n",
    "If everything worked fine you should have installed the ecoinvent interface in the same virtual environment where brightweay is installed.\n",
    "\n",
    "Some more info on the package [here](https://github.com/brightway-lca/ecoinvent_interface). "
   ]
  },
  {
   "cell_type": "code",
   "execution_count": 1,
   "metadata": {},
   "outputs": [],
   "source": [
    "# Import brightway2.5 packages\n",
    "import bw2calc as bc\n",
    "import bw2data as bd\n",
    "import bw2io as bi\n",
    "import ecoinvent_interface # this will only work if you installed the ecoinvent_interface package"
   ]
  },
  {
   "cell_type": "code",
   "execution_count": 2,
   "metadata": {},
   "outputs": [],
   "source": [
    "# first select the right project (do bd.projects to check what projects you have)\n",
    "bd.projects.set_current('advlca25')\n",
    "# bd.projects.delete_project('advlca25', delete_dir=True) # if you want a fresh start"
   ]
  },
  {
   "cell_type": "code",
   "execution_count": 3,
   "metadata": {
    "scrolled": true
   },
   "outputs": [
    {
     "data": {
      "text/plain": [
       "Databases dictionary with 2 object(s):\n",
       "\ttestbiosphere\n",
       "\ttestdb"
      ]
     },
     "execution_count": 3,
     "metadata": {},
     "output_type": "execute_result"
    }
   ],
   "source": [
    "# Which databases are present?\n",
    "bd.databases"
   ]
  },
  {
   "cell_type": "markdown",
   "metadata": {},
   "source": [
    "We are going to use version 3.11 of ecoinvent, consequential model, for this course (it's the latest at the time of writing)."
   ]
  },
  {
   "cell_type": "code",
   "execution_count": 4,
   "metadata": {},
   "outputs": [
    {
     "name": "stdout",
     "output_type": "stream",
     "text": [
      "Applying strategy: normalize_units\n",
      "Applying strategy: drop_unspecified_subcategories\n",
      "Applying strategy: ensure_categories_are_tuples\n",
      "Applied 3 strategies in 0.00 seconds\n",
      "Graph statistics for `ecoinvent-3.11-biosphere` importer:\n",
      "9795 graph nodes:\n",
      "\temission: 9428\n",
      "\tnatural resource: 347\n",
      "\tinventory indicator: 15\n",
      "\teconomic: 5\n",
      "0 graph edges:\n",
      "0 edges to the following databases:\n",
      "0 unique unlinked edges (0 total):\n",
      "\n",
      "\n"
     ]
    },
    {
     "name": "stderr",
     "output_type": "stream",
     "text": [
      "100%|████████████████████████████████████| 9795/9795 [00:00<00:00, 64626.32it/s]"
     ]
    },
    {
     "name": "stdout",
     "output_type": "stream",
     "text": [
      "\u001b[2m09:20:04\u001b[0m [\u001b[32m\u001b[1minfo     \u001b[0m] \u001b[1mVacuuming database            \u001b[0m\n"
     ]
    },
    {
     "name": "stderr",
     "output_type": "stream",
     "text": [
      "\n"
     ]
    },
    {
     "name": "stdout",
     "output_type": "stream",
     "text": [
      "Created database: ecoinvent-3.11-biosphere\n",
      "Extracting XML data from 22241 datasets\n",
      "\u001b[2m09:20:16\u001b[0m [\u001b[32m\u001b[1minfo     \u001b[0m] \u001b[1mExtracted 22241 datasets in 11.97 seconds\u001b[0m\n",
      "Applying strategy: normalize_units\n",
      "Applying strategy: update_ecoinvent_locations\n",
      "Applying strategy: remove_zero_amount_coproducts\n",
      "Applying strategy: remove_zero_amount_inputs_with_no_activity\n",
      "Applying strategy: remove_unnamed_parameters\n",
      "Applying strategy: es2_assign_only_product_with_amount_as_reference_product\n",
      "Applying strategy: assign_single_product_as_activity\n",
      "Applying strategy: create_composite_code\n",
      "Applying strategy: drop_unspecified_subcategories\n",
      "Applying strategy: fix_ecoinvent_flows_pre35\n",
      "Applying strategy: drop_temporary_outdated_biosphere_flows\n",
      "Applying strategy: link_biosphere_by_flow_uuid\n",
      "Applying strategy: link_internal_technosphere_by_composite_code\n",
      "Applying strategy: delete_exchanges_missing_activity\n",
      "Applying strategy: delete_ghost_exchanges\n",
      "Applying strategy: remove_uncertainty_from_negative_loss_exchanges\n",
      "Applying strategy: fix_unreasonably_high_lognormal_uncertainties\n",
      "Applying strategy: convert_activity_parameters_to_list\n",
      "Applying strategy: add_cpc_classification_from_single_reference_product\n",
      "Applying strategy: delete_none_synonyms\n",
      "Applying strategy: update_social_flows_in_older_consequential\n",
      "Applying strategy: set_lognormal_loc_value\n",
      "Applied 22 strategies in 3.42 seconds\n",
      "Graph statistics for `ecoinvent-3.11-consequential` importer:\n",
      "22241 graph nodes:\n",
      "\tprocess: 22241\n",
      "697163 graph edges:\n",
      "\tbiosphere: 425853\n",
      "\ttechnosphere: 249069\n",
      "\tproduction: 22241\n",
      "697163 edges to the following databases:\n",
      "\tecoinvent-3.11-biosphere: 425853\n",
      "\tecoinvent-3.11-consequential: 271310\n",
      "0 unique unlinked edges (0 total):\n",
      "\n",
      "\n",
      "\u001b[2m09:20:20\u001b[0m [\u001b[33m\u001b[1mwarning  \u001b[0m] \u001b[1mNot able to determine geocollections for all datasets. This database is not ready for regionalization.\u001b[0m\n"
     ]
    },
    {
     "name": "stderr",
     "output_type": "stream",
     "text": [
      "100%|███████████████████████████████████| 22241/22241 [00:17<00:00, 1274.34it/s]\n"
     ]
    },
    {
     "name": "stdout",
     "output_type": "stream",
     "text": [
      "\u001b[2m09:20:38\u001b[0m [\u001b[32m\u001b[1minfo     \u001b[0m] \u001b[1mVacuuming database            \u001b[0m\n",
      "Created database: ecoinvent-3.11-consequential\n"
     ]
    }
   ],
   "source": [
    "bi.import_ecoinvent_release(\n",
    "    version='3.11',\n",
    "    system_model='consequential',\n",
    "    username ='XXX', # use your own\n",
    "    password='XXX' # use your own\n",
    ")"
   ]
  },
  {
   "cell_type": "code",
   "execution_count": 6,
   "metadata": {},
   "outputs": [
    {
     "data": {
      "text/plain": [
       "Databases dictionary with 4 object(s):\n",
       "\tecoinvent-3.11-biosphere\n",
       "\tecoinvent-3.11-consequential\n",
       "\ttestbiosphere\n",
       "\ttestdb"
      ]
     },
     "execution_count": 6,
     "metadata": {},
     "output_type": "execute_result"
    }
   ],
   "source": [
    "bd.databases # you should now see both biosphere and ecoinvent "
   ]
  },
  {
   "cell_type": "markdown",
   "metadata": {},
   "source": [
    "# Navigate biosphere and ecoinvent"
   ]
  },
  {
   "cell_type": "markdown",
   "metadata": {},
   "source": [
    "A key difference compared to previous exercises is that in ecoinvent each activity and exchange is defined by a **code** which are unique identifiers. So it is important to learn how to find both activity code and name and how to match them _(Actually we used the codes also in the previous lectures but they were identical to the activity names for simplicity)_.\n",
    "\n",
    "One key and I would say __fundamental__ aspect to remember is that __codes works across bw installations__. This means that the code (actually it's a unique identifier or [UUID](https://en.wikipedia.org/wiki/Universally_unique_identifier), I think) is the same on your computer and on another person's computer. This is extremely important to be able to __share data__."
   ]
  },
  {
   "cell_type": "code",
   "execution_count": 8,
   "metadata": {},
   "outputs": [
    {
     "data": {
      "text/plain": [
       "['Carbon dioxide, fossil' (kilogram, None, ('air',)),\n",
       " 'Carbon dioxide, non-fossil' (kilogram, None, ('air',)),\n",
       " 'Carbon dioxide, from soil or biomass stock' (kilogram, None, ('air',)),\n",
       " 'Carbon dioxide, to soil or biomass stock' (kilogram, None, ('soil',)),\n",
       " 'Carbon dioxide, in air' (kilogram, None, ('natural resource', 'in air')),\n",
       " 'Carbon dioxide, fossil' (kilogram, None, ('air', 'lower stratosphere + upper troposphere')),\n",
       " 'Carbon dioxide, to soil or biomass stock' (kilogram, None, ('soil', 'industrial')),\n",
       " 'Carbon dioxide, fossil' (kilogram, None, ('air', 'urban air close to ground')),\n",
       " 'Carbon dioxide, to soil or biomass stock' (kilogram, None, ('soil', 'forestry')),\n",
       " 'Carbon dioxide, to soil or biomass stock' (kilogram, None, ('soil', 'agricultural')),\n",
       " 'Carbon dioxide, fossil' (kilogram, None, ('air', 'low population density, long-term')),\n",
       " 'Carbon dioxide, non-fossil, resource correction' (kilogram, None, ('natural resource', 'in air')),\n",
       " 'Carbon dioxide, non-fossil' (kilogram, None, ('air', 'low population density, long-term')),\n",
       " 'Carbon dioxide, non-fossil' (kilogram, None, ('air', 'urban air close to ground')),\n",
       " 'Carbon dioxide, fossil' (kilogram, None, ('air', 'non-urban air or from high stacks')),\n",
       " 'Carbon dioxide, non-fossil' (kilogram, None, ('air', 'non-urban air or from high stacks')),\n",
       " 'Carbon dioxide, from soil or biomass stock' (kilogram, None, ('air', 'low population density, long-term')),\n",
       " 'Carbon dioxide, from soil or biomass stock' (kilogram, None, ('air', 'urban air close to ground')),\n",
       " 'Carbon dioxide, from soil or biomass stock' (kilogram, None, ('air', 'non-urban air or from high stacks'))]"
      ]
     },
     "execution_count": 8,
     "metadata": {},
     "output_type": "execute_result"
    }
   ],
   "source": [
    "# Search stuff in biosphere\n",
    "bd.Database(\"ecoinvent-3.11-biosphere\").search(\"carbon dioxide\") # there is more than one activity with this name. Only code is univocal."
   ]
  },
  {
   "cell_type": "code",
   "execution_count": 10,
   "metadata": {},
   "outputs": [
    {
     "name": "stdout",
     "output_type": "stream",
     "text": [
      "Carbon dioxide, fossil\n",
      "349b29d1-3e58-4c66-98b9-9d1a076efd2e\n"
     ]
    }
   ],
   "source": [
    "CO2 = bd.Database(\"ecoinvent-3.11-biosphere\").get(\"349b29d1-3e58-4c66-98b9-9d1a076efd2e\") \n",
    "# This code works across bw2.5 installations, \n",
    "# i.e. is univocal for biosphere3 everywhere\n",
    "print(CO2['name']) # there is more than one activity with this name. Only code is univocal.\n",
    "print(CO2['code'])"
   ]
  },
  {
   "cell_type": "code",
   "execution_count": 13,
   "metadata": {},
   "outputs": [
    {
     "data": {
      "text/plain": [
       "['transport, freight, lorry, all sizes, EURO 5 to generic market for transport, freight, lorry, unspecified' (ton kilometer, BR, None),\n",
       " 'transport, freight, lorry, all sizes, EURO 5 to generic market for transport, freight, lorry, unspecified' (ton kilometer, RER, None),\n",
       " 'transport, freight, lorry, all sizes, EURO 5 to generic market for transport, freight, lorry, unspecified' (ton kilometer, RoW, None),\n",
       " 'transport, freight, small lorry with refrigeration machine, EURO 5, R134a refrigerant, cooling to generic market' (ton kilometer, GLO, None),\n",
       " 'transport, freight, small lorry with refrigeration machine, EURO 5, R134a refrigerant, freezing to generic market' (ton kilometer, GLO, None),\n",
       " 'transport, freight, small lorry with refrigeration machine, EURO 5, CO2 refrigerant, cooling to generic market' (ton kilometer, GLO, None),\n",
       " 'transport, freight, small lorry with refrigeration machine, EURO 5, CO2 refrigerant, freezing to generic market' (ton kilometer, GLO, None),\n",
       " 'market for transport, freight, lorry with refrigeration machine, 7.5-16 ton, diesel, EURO 5, R134a refrigerant, freezing' (ton kilometer, GLO, None),\n",
       " 'market for transport, freight, lorry with refrigeration machine, 7.5-16 ton, diesel, EURO 5, R134a refrigerant, cooling' (ton kilometer, GLO, None),\n",
       " 'market for transport, freight, lorry with refrigeration machine, 3.5-7.5 ton, diesel, EURO 5, R134a refrigerant, cooling' (ton kilometer, GLO, None),\n",
       " 'market for transport, freight, lorry with ref. machine, 3.5-7.5 ton, diesel, EURO 5, R134a refrigerant, freezing' (ton kilometer, GLO, None),\n",
       " 'market for transport, freight, lorry with refrigeration machine, 7.5-16 ton, diesel, EURO 5, CO2, liq. ref., cooling' (ton kilometer, GLO, None),\n",
       " 'market for transport, freight, lorry with refrigeration machine, 7.5-16 ton, diesel, EURO 5, CO2, liq. ref., freezing' (ton kilometer, GLO, None),\n",
       " 'market for transport, freight, lorry with refrigeration machine, 3.5-7.5 ton, diesel, EURO 5, CO2, liq. ref., freezing' (ton kilometer, GLO, None),\n",
       " 'market for transport, freight, lorry with refrigeration machine, 3.5-7.5 ton, diesel, EURO 5, CO2, liq. ref., cooling' (ton kilometer, GLO, None),\n",
       " 'market for transport, freight, lorry, >32 metric ton, diesel, EURO 5' (ton kilometer, BR, None),\n",
       " 'transport, freight, lorry, 16-32 metric ton, diesel, EURO 5' (ton kilometer, BR, None),\n",
       " 'market for transport, freight, lorry, 16-32 metric ton, diesel, EURO 5' (ton kilometer, BR, None),\n",
       " 'transport, freight, lorry, 7.5-16 metric ton, diesel, EURO 5' (ton kilometer, BR, None),\n",
       " 'market for transport, freight, lorry, >32 metric ton, diesel, EURO 5' (ton kilometer, RoW, None),\n",
       " 'market for transport, freight, lorry, 7.5-16 metric ton, diesel, EURO 5' (ton kilometer, BR, None),\n",
       " 'market for transport, freight, lorry, 16-32 metric ton, diesel, EURO 5' (ton kilometer, RoW, None),\n",
       " 'market for transport, freight, lorry, >32 metric ton, diesel, EURO 5' (ton kilometer, RER, None),\n",
       " 'transport, freight, lorry, 3.5-7.5 metric ton, diesel, EURO 5' (ton kilometer, BR, None),\n",
       " 'market for transport, freight, lorry, 16-32 metric ton, diesel, EURO 5' (ton kilometer, RER, None)]"
      ]
     },
     "execution_count": 13,
     "metadata": {},
     "output_type": "execute_result"
    }
   ],
   "source": [
    "# Search stuff in ecoinvent\n",
    "\n",
    "# Search by keyword\n",
    "mydb = bd.Database('ecoinvent-3.11-consequential')\n",
    "mydb.search(\"transport freight euro5\")\n",
    "\n",
    "#bd.Database('ecoinvent-3.11-consequential').search(\"transport freight euro5\") # gives the same result obviously"
   ]
  },
  {
   "cell_type": "code",
   "execution_count": 24,
   "metadata": {},
   "outputs": [
    {
     "name": "stdout",
     "output_type": "stream",
     "text": [
      "'electricity production, wind, 1-3MW turbine, offshore' (kilowatt hour, DK, None)\n",
      "4b61f97a9b942ba05720a1cea09eacc9\n",
      "134934203972096004\n",
      "'electricity production, wind, 1-3MW turbine, onshore' (kilowatt hour, DK, None)\n",
      "8c80ebe7a3f43b431accfeb24edb405a\n",
      "134934222171181058\n",
      "'electricity production, wind, >3MW turbine, onshore' (kilowatt hour, DK, None)\n",
      "434762cedc4defea333e38bb6e6be112\n",
      "134934263594127367\n",
      "'electricity production, wind, <1MW turbine, onshore' (kilowatt hour, DK, None)\n",
      "622628fc47fa1090caa557e8cf10f8f7\n",
      "134934240772919299\n",
      "'wind turbine network connection construction, 2MW, onshore' (unit, RoW, None)\n",
      "135c8dd8c1983aee7c05410e00f9c46a\n",
      "134934216122994690\n"
     ]
    }
   ],
   "source": [
    "# explore activities\n",
    "activity_name = 'electricity denmark wind'\n",
    "\n",
    "# Same but different:\n",
    "for activity in bd.Database(\"ecoinvent-3.11-consequential\").search(activity_name, limit = 5):  \n",
    "    print(activity)\n",
    "    print(activity['code'])\n",
    "    print(activity['id'])"
   ]
  },
  {
   "cell_type": "markdown",
   "metadata": {},
   "source": [
    "#### Again on difference between 'code' and 'id' (introduced in bw25)\n",
    "\n",
    "In bw2.5 there is a new field, the \"id\" field. This is also an unique identifier of each exchange, but it's an integer not a string. Specifically, the \"id\" could be intended as a coordinate, it is the row/(column number of this exchange in the technology matrix (or in the biosphere matrix if a biosphere excahange).\n",
    "\n",
    "Careful that (but I am not sure) differently from the 'code' the 'id' might not be univocal across bw installations!"
   ]
  },
  {
   "cell_type": "code",
   "execution_count": 32,
   "metadata": {},
   "outputs": [
    {
     "name": "stdout",
     "output_type": "stream",
     "text": [
      "electricity production, wind, 1-3MW turbine, offshore\n",
      "<class 'str'>\n",
      "<class 'int'>\n"
     ]
    }
   ],
   "source": [
    "act = bd.Database(\"ecoinvent-3.11-consequential\").search('electricity denmark wind')[0] # take the firt activity of the list\n",
    "print(act['name'])\n",
    "print(type(act['code'])) # the code is a string\n",
    "print(type(act['id'])) # the id is an integer"
   ]
  },
  {
   "cell_type": "code",
   "execution_count": 33,
   "metadata": {},
   "outputs": [],
   "source": [
    "# Try this        \n",
    "for activity in bd.Database(\"biosphere\").search('heat production'):  \n",
    "    print(activity)\n",
    "    print(activity['code']) # Can you explain this result?"
   ]
  },
  {
   "cell_type": "code",
   "execution_count": 34,
   "metadata": {},
   "outputs": [
    {
     "name": "stdout",
     "output_type": "stream",
     "text": [
      "'electricity production, wind, 1-3MW turbine, offshore' (kilowatt hour, DK, None)\n",
      "4b61f97a9b942ba05720a1cea09eacc9\n",
      "134934203972096004\n",
      "'electricity production, wind, 1-3MW turbine, onshore' (kilowatt hour, DK, None)\n",
      "8c80ebe7a3f43b431accfeb24edb405a\n",
      "134934222171181058\n",
      "'electricity production, wind, >3MW turbine, onshore' (kilowatt hour, DK, None)\n",
      "434762cedc4defea333e38bb6e6be112\n",
      "134934263594127367\n",
      "'electricity production, wind, <1MW turbine, onshore' (kilowatt hour, DK, None)\n",
      "622628fc47fa1090caa557e8cf10f8f7\n",
      "134934240772919299\n",
      "'wind turbine network connection construction, 2MW, onshore' (unit, RoW, None)\n",
      "135c8dd8c1983aee7c05410e00f9c46a\n",
      "134934216122994690\n"
     ]
    }
   ],
   "source": [
    "# you can be much more specific in your search:\n",
    "for activity in bd.Database(\"ecoinvent-3.11-consequential\").search(activity_name, filter={\"location\" : 'DK'}, limit = 5):\n",
    "    print(activity)\n",
    "    print(activity['code'])\n",
    "    print(activity['id'])"
   ]
  },
  {
   "cell_type": "markdown",
   "metadata": {},
   "source": [
    "Now you know how to find activities. What about **selecting** activities?"
   ]
  },
  {
   "cell_type": "code",
   "execution_count": 36,
   "metadata": {},
   "outputs": [
    {
     "name": "stdout",
     "output_type": "stream",
     "text": [
      "electricity production, wind, 1-3MW turbine, offshore\n"
     ]
    }
   ],
   "source": [
    "# If you know the code (e.g. found with method above) it's simple.        \n",
    "mycode = '4b61f97a9b942ba05720a1cea09eacc9'\n",
    "myact = bd.Database(\"ecoinvent-3.11-consequential\").get(mycode)\n",
    "#myact = Database(\"biosphere\").get(mycode)  # Not working of course...\n",
    "\n",
    "print(myact['name'])"
   ]
  },
  {
   "cell_type": "code",
   "execution_count": 37,
   "metadata": {},
   "outputs": [
    {
     "data": {
      "text/plain": [
       "134934203972096004"
      ]
     },
     "execution_count": 37,
     "metadata": {},
     "output_type": "execute_result"
    }
   ],
   "source": [
    "myact.id # access the id directly"
   ]
  },
  {
   "cell_type": "code",
   "execution_count": 39,
   "metadata": {},
   "outputs": [
    {
     "ename": "AttributeError",
     "evalue": "'Activity' object has no attribute 'code'",
     "output_type": "error",
     "traceback": [
      "\u001b[0;31m---------------------------------------------------------------------------\u001b[0m",
      "\u001b[0;31mAttributeError\u001b[0m                            Traceback (most recent call last)",
      "Cell \u001b[0;32mIn[39], line 1\u001b[0m\n\u001b[0;32m----> 1\u001b[0m \u001b[43mmyact\u001b[49m\u001b[38;5;241;43m.\u001b[39;49m\u001b[43mcode\u001b[49m \u001b[38;5;66;03m# this won't work though. It's only for exchanges (see further below)\u001b[39;00m\n",
      "\u001b[0;31mAttributeError\u001b[0m: 'Activity' object has no attribute 'code'"
     ]
    }
   ],
   "source": [
    "myact.code # this won't work though. It's only for exchanges (see further below)"
   ]
  },
  {
   "cell_type": "code",
   "execution_count": 40,
   "metadata": {},
   "outputs": [
    {
     "data": {
      "text/plain": [
       "{'comment': 'This dataset represents the production of high voltage electricity at offshore grid-connected wind power plants in Denmark in 2012. It includes operation and maintenance expenditures as well as infrastructure inputs. Wind load hours have been adapted to local conditions (see parameters).\\nAt the moment, the offshore wind turbines are approximated with a 2MW wind turbine.\\nAccording to The Wind Power Database (2014), total installed wind capacity on-and offshore in Denmark in the end of 2014 amounted to 5323.882 MW. Out of it, 22.2% were installed offshore, which are modelled with a 2 MW wind turbine. Percentages of the three onshore wind power plant classes modelled in ecoinvent referring to the total installed capacity (1313 windfarms by 12/2014): <1MW 40.4%; 1-3MW 27.6%; >3MW 9.8%  [Retreived from The Wind Power. 2014. Wind power and wind farms database. www.thewindpower.net, Status December 2014].\\n[This dataset is meant to replace the following datasets:]\\nIncluded activities start:  From operation of the wind power plant to high voltage electricity at the plant. According to (European Communities 2001), electricity produced with wind turbines in a wind power plant is connected to medium voltage or high voltage systems, depending on the size of the windfarm. Normally, each wind turbine contains a transformer from low voltage to medium voltage. The network connection additionally transforms the electricity to high voltage electricity. It is assumed here, that there are no stand-alone grid-connected small wind turbines and that all electricity is connected to the network in form of high voltage electricity. \\n\\nSource:\\nEuropean Communities. 2001. Wind Turbine Grid Connection and Interaction. Deutsches Windenergie-Institut /Tech-wise A/S /DM Energy, p. 7 Tab.2.1\\nIncluded activities end:  This activitiy ends with 1 kWh of produced electricity at the power plant. The dataset includes lubricating oil from maintenance of the installation. The dataset doesn\"t include the land use as shipping is assumed to be restricted to a small extent.\\nTechnology:  Technical details of the modeled 2 MW offshore wind power plant\\nReferences:\\nStiesdal H. (2001) Middelgrunden Offshore. A newsletter for customers and business associates, Bonus energy A/S. General technical description, Technical specification, Drawings and design, Bonus 2 MW offshore. Isager/Bogtryt/Offset, Svendborg, Denmark. www.bonus.dk\\nImage: https://db3.ecoinvent.org/images/41626d58-4023-4151-b834-da0d7f2a51cc\\nTime period:  The production volume of this activity in linked system models is back-calculated from the production volume of the electricity market this activity supplies. For the according year of reference consult the supplied electricity market. In the undefined database it is set to 0.',\n",
       " 'classifications': [('ISIC rev.4 ecoinvent',\n",
       "   '3510:Electric power generation, transmission and distribution'),\n",
       "  ('CPC', '1')],\n",
       " 'activity type': 'ordinary transforming activity',\n",
       " 'activity': '0755599b-18a9-5f62-9645-035b513879d6',\n",
       " 'database': 'ecoinvent-3.11-consequential',\n",
       " 'filename': '0755599b-18a9-5f62-9645-035b513879d6_66c93e71-f32b-4591-901c-55395db5c132.spold',\n",
       " 'location': 'DK',\n",
       " 'name': 'electricity production, wind, 1-3MW turbine, offshore',\n",
       " 'synonyms': [],\n",
       " 'parameters': [{'description': 'Percentage of onshore wind power plant class capacity on total',\n",
       "   'id': '48483cc6-a1bd-4a2e-b3ae-fad67c561ca4',\n",
       "   'unit': 'dimensionless',\n",
       "   'comment': 'Literature value/calculated value. Percentage of installed capacity with onshore wind turbines < 1MW on total installed wind capacity installed in this geography (see general comment for percentages in other size classes). \\nSource: \\n The Wind Power. 2014. Windpower and wind farms database. www.thewindpower.net, Status December 2014\\nPercentage of the wind power plant class energy production on total wind power production in a country. Classes: <1MW, 1-3MW, >3MW. Values for onshore wind power plants.',\n",
       "   'amount': 0.221558253921,\n",
       "   'pedigree': {'reliability': 3,\n",
       "    'completeness': 2,\n",
       "    'temporal correlation': 1,\n",
       "    'geographical correlation': 1,\n",
       "    'further technological correlation': 2},\n",
       "   'uncertainty type': 2,\n",
       "   'loc': -1.5071,\n",
       "   'scale': 0.0608276253029822,\n",
       "   'scale without pedigree': 0.03162277660168379,\n",
       "   'name': 'percentage_class_onshore'},\n",
       "  {'description': 'gross electricity production',\n",
       "   'id': '8ce7c260-eef4-467b-833a-7754240d2626',\n",
       "   'unit': 'kilowatt hour',\n",
       "   'comment': 'Literature value/statistics. Gross electricity production 2012 with wind power. For all OECD countries, the OECD iLibrary 2014 provides data on electricity production with wind power plants (gross values 2012). \\nFor all non-OECD countries and the world, this value is given in the Energy Statistics of non-OECD countries. \\n\\nOECD. 2014. IEA Electricity Information Statistics: OECD - Electricity and heat generation. OECD iLibrary. Online database. DOI : 10.1787/elect-data-en \\n IEA/OECD. 2014. Energy statistics of non-OECD countries 2014. International Energy Agency (IEA), Paris Cedex (FR). \\nnan',\n",
       "   'amount': 10270000000.0,\n",
       "   'pedigree': {'reliability': 2,\n",
       "    'completeness': 1,\n",
       "    'temporal correlation': 1,\n",
       "    'geographical correlation': 1,\n",
       "    'further technological correlation': 2},\n",
       "   'uncertainty type': 2,\n",
       "   'loc': 23.0525,\n",
       "   'scale': 0.042426406871192854,\n",
       "   'scale without pedigree': 0.02449489742783178,\n",
       "   'name': 'gross_electricity'},\n",
       "  {'description': 'losses from gross electricity production',\n",
       "   'id': '22325219-5239-4f09-a250-5b20c7fe50d2',\n",
       "   'unit': 'dimensionless',\n",
       "   'comment': 'Estimation. The factor for the loss of electricity from gross to net electricity production is an assumption based on experiences, statistics and expertise (1% losses for wind).\\nnan',\n",
       "   'amount': 0.01,\n",
       "   'pedigree': {'reliability': 3,\n",
       "    'completeness': 3,\n",
       "    'temporal correlation': 1,\n",
       "    'geographical correlation': 3,\n",
       "    'further technological correlation': 3},\n",
       "   'uncertainty type': 2,\n",
       "   'loc': -4.6052,\n",
       "   'scale': 0.1063014581273465,\n",
       "   'scale without pedigree': 0.02449489742783178,\n",
       "   'name': 'losses_gross_net'}],\n",
       " 'authors': {'data entry': {'name': 'Karin Treyer',\n",
       "   'email': 'karin.treyer@psi.ch'},\n",
       "  'data generator': {'name': 'Karin Treyer', 'email': 'karin.treyer@psi.ch'}},\n",
       " 'type': 'processwithreferenceproduct',\n",
       " 'product_information': 'This product represents electrical energy measured in kWh. If electricity is taken from a market for electricity, the transmission infrastructure, country-specific losses and transformation losses (for markets for medium and low voltage) are included. Covers voltages above 24 kV.',\n",
       " 'reference product': 'electricity, high voltage',\n",
       " 'flow': '66c93e71-f32b-4591-901c-55395db5c132',\n",
       " 'unit': 'kilowatt hour',\n",
       " 'production amount': 1.0,\n",
       " 'code': '4b61f97a9b942ba05720a1cea09eacc9',\n",
       " 'id': 134934203972096004}"
      ]
     },
     "execution_count": 40,
     "metadata": {},
     "output_type": "execute_result"
    }
   ],
   "source": [
    "myact._data # a lot of detail"
   ]
  },
  {
   "cell_type": "code",
   "execution_count": 41,
   "metadata": {},
   "outputs": [
    {
     "name": "stdout",
     "output_type": "stream",
     "text": [
      "production\n",
      "Exchange: 1.0 kilowatt hour 'electricity production, wind, 1-3MW turbine, offshore' (kilowatt hour, DK, None) to 'electricity production, wind, 1-3MW turbine, offshore' (kilowatt hour, DK, None)>\n",
      "('ecoinvent-3.11-consequential', '4b61f97a9b942ba05720a1cea09eacc9')\n",
      "-------\n",
      "technosphere\n",
      "Exchange: 5.75e-05 kilogram 'market for lubricating oil' (kilogram, RER, None) to 'electricity production, wind, 1-3MW turbine, offshore' (kilowatt hour, DK, None)>\n",
      "('ecoinvent-3.11-consequential', 'e35ae10287830b36a966be2e722cb114')\n",
      "-------\n",
      "technosphere\n",
      "Exchange: -5.75e-05 kilogram 'market for waste mineral oil' (kilogram, Europe without Switzerland, None) to 'electricity production, wind, 1-3MW turbine, offshore' (kilowatt hour, DK, None)>\n",
      "('ecoinvent-3.11-consequential', '97c70e8f9232f0c48538159539673137')\n",
      "-------\n",
      "technosphere\n",
      "Exchange: 9.5e-09 unit 'market for wind power plant, 2MW, offshore, fixed parts' (unit, GLO, None) to 'electricity production, wind, 1-3MW turbine, offshore' (kilowatt hour, DK, None)>\n",
      "('ecoinvent-3.11-consequential', 'a4b3225fc904b4ac0e6d0995e93d41e5')\n",
      "-------\n",
      "technosphere\n",
      "Exchange: 9.5e-09 unit 'market for wind power plant, 2MW, offshore, moving parts' (unit, GLO, None) to 'electricity production, wind, 1-3MW turbine, offshore' (kilowatt hour, DK, None)>\n",
      "('ecoinvent-3.11-consequential', 'e7f6e3eeff6c051d3e2aba88dc58c4b4')\n",
      "-------\n",
      "biosphere\n",
      "Exchange: 3.87 megajoule 'Energy, kinetic (in wind), converted' (megajoule, None, ('natural resource', 'in air')) to 'electricity production, wind, 1-3MW turbine, offshore' (kilowatt hour, DK, None)>\n",
      "('ecoinvent-3.11-biosphere', '57c71b25-4663-4fad-9167-7ce5be3e8268')\n",
      "-------\n"
     ]
    }
   ],
   "source": [
    "# Check the exchanges in one activity\n",
    "for i in list(myact.exchanges()):  # Epxlore the activity as usual\n",
    "    print(i['type'])\n",
    "    print(i)\n",
    "    print(i['input'])\n",
    "    print('-------')"
   ]
  },
  {
   "cell_type": "code",
   "execution_count": 42,
   "metadata": {},
   "outputs": [
    {
     "data": {
      "text/plain": [
       "'market for electricity, low voltage' (kilowatt hour, PA, None)"
      ]
     },
     "execution_count": 42,
     "metadata": {},
     "output_type": "execute_result"
    }
   ],
   "source": [
    "# If you know the name of the activity and want to select it:\n",
    "activity_name = 'market for electricity, low voltage'\n",
    "    \n",
    "for activity in bd.Database(\"ecoinvent-3.11-consequential\"):  # can you find an easier way? I couldn't\n",
    "    if activity['name'] == activity_name:\n",
    "        myact = bd.Database(\"ecoinvent-3.11-consequential\").get(activity['code'])\n",
    "\n",
    "myact  # Careful! Might not return the danish market. Not what I wanted! "
   ]
  },
  {
   "cell_type": "code",
   "execution_count": 43,
   "metadata": {},
   "outputs": [
    {
     "data": {
      "text/plain": [
       "'market for electricity, low voltage' (kilowatt hour, DK, None)"
      ]
     },
     "execution_count": 43,
     "metadata": {},
     "output_type": "execute_result"
    }
   ],
   "source": [
    "# A more specific search\n",
    "for activity in bd.Database(\"ecoinvent-3.11-consequential\"):  \n",
    "    if activity['name'] == activity_name and activity['location'] == \"DK\":  # need to be specific...\n",
    "        myact = bd.Database(\"ecoinvent-3.11-consequential\").get(activity['code'])\n",
    "myact  # alright"
   ]
  },
  {
   "cell_type": "code",
   "execution_count": 53,
   "metadata": {},
   "outputs": [
    {
     "data": {
      "text/plain": [
       "['market for electricity, low voltage' (kilowatt hour, UZ, None),\n",
       " 'market for electricity, low voltage' (kilowatt hour, CL, None),\n",
       " 'market for electricity, low voltage' (kilowatt hour, ZW, None),\n",
       " 'market for electricity, low voltage' (kilowatt hour, TM, None),\n",
       " 'market for electricity, low voltage' (kilowatt hour, KR, None),\n",
       " 'market for electricity, low voltage' (kilowatt hour, IN-Northern grid, None),\n",
       " 'market for electricity, low voltage' (kilowatt hour, US-HICC, None),\n",
       " 'market for electricity, low voltage' (kilowatt hour, PL, None),\n",
       " 'market for electricity, low voltage' (kilowatt hour, CA-QC, None),\n",
       " 'market for electricity, low voltage' (kilowatt hour, BR-South-eastern/Mid-western grid, None)]"
      ]
     },
     "execution_count": 53,
     "metadata": {},
     "output_type": "execute_result"
    }
   ],
   "source": [
    "# selecting multiple acitivites with same criteria (very useful!)\n",
    "# we use list comprehension\n",
    "acts = [act for act in bd.Database(\"ecoinvent-3.11-consequential\") if act['name'] == 'market for electricity, low voltage']\n",
    "acts[0:10]"
   ]
  },
  {
   "cell_type": "code",
   "execution_count": 54,
   "metadata": {},
   "outputs": [],
   "source": [
    "# Explore exchanges\n",
    "myexc = list(myact.exchanges())[1]"
   ]
  },
  {
   "cell_type": "code",
   "execution_count": 55,
   "metadata": {},
   "outputs": [
    {
     "name": "stdout",
     "output_type": "stream",
     "text": [
      "flow\n",
      "type\n",
      "name\n",
      "classifications\n",
      "production volume\n",
      "properties\n",
      "activity\n",
      "unit\n",
      "comment\n",
      "formula\n",
      "amount\n",
      "pedigree\n",
      "uncertainty type\n",
      "loc\n",
      "scale\n",
      "scale without pedigree\n",
      "input\n",
      "output\n"
     ]
    }
   ],
   "source": [
    "# All the metadata of an exchange \n",
    "for i in myexc:\n",
    "    print(i)"
   ]
  },
  {
   "cell_type": "code",
   "execution_count": 56,
   "metadata": {},
   "outputs": [
    {
     "name": "stdout",
     "output_type": "stream",
     "text": [
      "technosphere ('ecoinvent-3.11-consequential', '08e4db2f36e3fb94aa3faede6aaaef7c') ('ecoinvent-3.11-consequential', '90d497641494893a5b9c623f6e2f3721')\n"
     ]
    }
   ],
   "source": [
    "# access exchange metadata\n",
    "print(myexc['type'], myexc['output'], myexc['input'])"
   ]
  },
  {
   "cell_type": "code",
   "execution_count": 57,
   "metadata": {},
   "outputs": [
    {
     "name": "stdout",
     "output_type": "stream",
     "text": [
      "{'reliability': 3, 'completeness': 2, 'temporal correlation': 4, 'geographical correlation': 4, 'further technological correlation': 3}\n"
     ]
    }
   ],
   "source": [
    "# again exchange metadata\n",
    "print(myexc['pedigree'])"
   ]
  },
  {
   "cell_type": "markdown",
   "metadata": {},
   "source": [
    "# Calculate with biosphere and ecoinvent \n",
    "\n",
    "Now we can run an LCA with a dataset from ecoinvent."
   ]
  },
  {
   "cell_type": "code",
   "execution_count": 72,
   "metadata": {
    "scrolled": true
   },
   "outputs": [
    {
     "data": {
      "text/plain": [
       "[('simplemethod', 'imaginaryendpoint', 'imaginarymidpoint'),\n",
       " ('ecoinvent-3.11',\n",
       "  'CML v4.8 2016 no LT',\n",
       "  'acidification no LT',\n",
       "  'acidification (incl. fate, average Europe total, A&B) no LT'),\n",
       " ('ecoinvent-3.11',\n",
       "  'CML v4.8 2016 no LT',\n",
       "  'climate change no LT',\n",
       "  'global warming potential (GWP100) no LT'),\n",
       " ('ecoinvent-3.11',\n",
       "  'CML v4.8 2016 no LT',\n",
       "  'ecotoxicity: freshwater no LT',\n",
       "  'freshwater aquatic ecotoxicity (FAETP inf) no LT'),\n",
       " ('ecoinvent-3.11',\n",
       "  'CML v4.8 2016 no LT',\n",
       "  'ecotoxicity: marine no LT',\n",
       "  'marine aquatic ecotoxicity (MAETP inf) no LT')]"
      ]
     },
     "execution_count": 72,
     "metadata": {},
     "output_type": "execute_result"
    }
   ],
   "source": [
    "list(bd.methods)[0:5] # remove [0:5] to see the very long list of all methods."
   ]
  },
  {
   "cell_type": "markdown",
   "metadata": {},
   "source": [
    "See also the cheatsheet [here](https://docs.brightway.dev/en/latest/content/cheatsheet/ia.html#how-do-i-search-for-an-impact-category-using-list-comprehensions) to use methods."
   ]
  },
  {
   "cell_type": "code",
   "execution_count": 95,
   "metadata": {},
   "outputs": [
    {
     "data": {
      "text/plain": [
       "[('ecoinvent-3.11',\n",
       "  'IPCC 2021 no LT',\n",
       "  'climate change: fossil no LT',\n",
       "  'global warming potential (GWP100) no LT'),\n",
       " ('ecoinvent-3.11',\n",
       "  'IPCC 2021 no LT',\n",
       "  'climate change: fossil emissions (excl. aircraft emissions) no LT',\n",
       "  'global warming potential (GWP100) no LT'),\n",
       " ('ecoinvent-3.11',\n",
       "  'IPCC 2021 no LT',\n",
       "  'climate change: fossil (excl. biogenic CO2, incl. SLCFs) no LT',\n",
       "  'global warming potential (GWP100) no LT'),\n",
       " ('ecoinvent-3.11',\n",
       "  'IPCC 2021',\n",
       "  'climate change: fossil',\n",
       "  'global warming potential (GWP100)'),\n",
       " ('ecoinvent-3.11',\n",
       "  'IPCC 2021',\n",
       "  'climate change: fossil emissions (excl. aircraft emissions)',\n",
       "  'global warming potential (GWP100)'),\n",
       " ('ecoinvent-3.11',\n",
       "  'IPCC 2021',\n",
       "  'climate change: fossil (excl. biogenic CO2, incl. SLCFs)',\n",
       "  'global warming potential (GWP100)')]"
      ]
     },
     "execution_count": 95,
     "metadata": {},
     "output_type": "execute_result"
    }
   ],
   "source": [
    "# More convenient, search the IPCC method, cf cheatsheet linked above\n",
    "[method for method in bd.methods if 'IPCC 2021' in method[1] and 'fossil' in method[2]]"
   ]
  },
  {
   "cell_type": "code",
   "execution_count": 92,
   "metadata": {},
   "outputs": [
    {
     "data": {
      "text/plain": [
       "{'unit': 'kg CO2-Eq',\n",
       " 'filepath': '/Users/massimo/Library/Application Support/EcoinventInterface/cache/ecoinvent 3.11_LCIA_implementation/LCIA Implementation 3.11.xlsx',\n",
       " 'ecoinvent_version': '3.11',\n",
       " 'database': 'ecoinvent-3.11-biosphere',\n",
       " 'abbreviation': 'ecoinvent-311icg.c9b310fc5e7ade1a82e83a4bab866e14',\n",
       " 'num_cfs': 171,\n",
       " 'geocollections': ['world']}"
      ]
     },
     "execution_count": 92,
     "metadata": {},
     "output_type": "execute_result"
    }
   ],
   "source": [
    "# First select a method\n",
    "mymethod = ('ecoinvent-3.11', 'IPCC 2021', 'climate change: fossil', 'global warming potential (GWP100)')\n",
    "bd.methods[mymethod]"
   ]
  },
  {
   "cell_type": "code",
   "execution_count": 93,
   "metadata": {},
   "outputs": [],
   "source": [
    "mycode = '4b61f97a9b942ba05720a1cea09eacc9'\n",
    "myact = bd.Database(\"ecoinvent-3.11-consequential\").get(mycode)"
   ]
  },
  {
   "cell_type": "code",
   "execution_count": 94,
   "metadata": {},
   "outputs": [
    {
     "name": "stdout",
     "output_type": "stream",
     "text": [
      "0.01653361551510372\n"
     ]
    }
   ],
   "source": [
    "functional_unit = {myact : 1}\n",
    "lca = bc.LCA(demand=functional_unit, method=mymethod) #run LCA calculations again with method\n",
    "lca.lci()\n",
    "lca.lcia()\n",
    "print(lca.score) # What is the unit? Find out! (alright it's bd.methods[mymethod])"
   ]
  },
  {
   "cell_type": "markdown",
   "metadata": {},
   "source": [
    "# Exercise (at home)\n",
    "Link the emissions of your previously defined foreground system to the biosphere database, and link some of the ecoinvent database activities to your foreground system. Run the calculations and get a carbon footprint with the ILCD climate change method."
   ]
  }
 ],
 "metadata": {
  "kernelspec": {
   "display_name": "Python 3 (ipykernel)",
   "language": "python",
   "name": "python3"
  },
  "language_info": {
   "codemirror_mode": {
    "name": "ipython",
    "version": 3
   },
   "file_extension": ".py",
   "mimetype": "text/x-python",
   "name": "python",
   "nbconvert_exporter": "python",
   "pygments_lexer": "ipython3",
   "version": "3.11.11"
  }
 },
 "nbformat": 4,
 "nbformat_minor": 4
}
