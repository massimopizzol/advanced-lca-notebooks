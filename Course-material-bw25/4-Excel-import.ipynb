{
 "cells": [
  {
   "cell_type": "markdown",
   "metadata": {},
   "source": [
    "# 4. Import data from MS Excel"
   ]
  },
  {
   "cell_type": "markdown",
   "metadata": {},
   "source": [
    "Brightway2.5 has a series of options for data import and export that you are invited to read about and try, they are on the official website and notebook. \n",
    "\n",
    "However, you can also developed your own importer, that fits with your workflow. For example, the file `lci_to_bw2.py` includes a code to convert a properly formatted csv file into a Brightway2.5 database dict. You need to install the Python Data Analysis Library [pandas](https://pandas.pydata.org/) to make it work (within your virtual environment, run `conda install pandas` or `pip install pandas` if you are not using conda). \n",
    "\n",
    "How does this importer work? \n",
    "\n",
    "1. Prepare your inventory in MS Excel using the template. See the example file _test\\_db\\_excel\\_w\\_ecoinvent.xlsx_\n",
    "2. Save the relevant MS Excel sheet as .csv file, see the example file _test\\_db\\_excel\\_w\\_ecoinvent.csv_\n",
    "3. Import the module in your script with the command `from lci_to_bw2 import *` \n",
    "4. Import the .csv file as a dataframe with the pandas function `.read_csv()`. Clean it up for unnecessary columns.\n",
    "5. Convert the dataframe into a dict using the function `lci_to_bw2()`\n",
    "6. Save the dict as a Brightway2.5 database in the usual way i.e. using Brightway's `Database()`and `.write()` functions.\n",
    "\n",
    "**NOTE:** this importer contains no automated tests so you need to make sure manually that the excel and csv files are in good order.\n",
    "\n",
    "See an example below."
   ]
  },
  {
   "cell_type": "code",
   "execution_count": 1,
   "metadata": {},
   "outputs": [],
   "source": [
    "# Import brightway2.5 packages\n",
    "import bw2calc as bc\n",
    "import bw2data as bd\n",
    "import pandas as pd\n",
    "import numpy as np\n",
    "from lci_to_bw2 import * # import all the functions of this module"
   ]
  },
  {
   "cell_type": "code",
   "execution_count": 2,
   "metadata": {},
   "outputs": [
    {
     "data": {
      "text/html": [
       "<div>\n",
       "<style scoped>\n",
       "    .dataframe tbody tr th:only-of-type {\n",
       "        vertical-align: middle;\n",
       "    }\n",
       "\n",
       "    .dataframe tbody tr th {\n",
       "        vertical-align: top;\n",
       "    }\n",
       "\n",
       "    .dataframe thead th {\n",
       "        text-align: right;\n",
       "    }\n",
       "</style>\n",
       "<table border=\"1\" class=\"dataframe\">\n",
       "  <thead>\n",
       "    <tr style=\"text-align: right;\">\n",
       "      <th></th>\n",
       "      <th>Activity database</th>\n",
       "      <th>Activity code</th>\n",
       "      <th>Activity name</th>\n",
       "      <th>Activity unit</th>\n",
       "      <th>Activity type</th>\n",
       "      <th>Exchange database</th>\n",
       "      <th>Exchange input</th>\n",
       "      <th>Exchange amount</th>\n",
       "      <th>Exchange unit</th>\n",
       "      <th>Exchange type</th>\n",
       "      <th>Exchange uncertainty type</th>\n",
       "      <th>Exchange loc</th>\n",
       "      <th>Exchange scale</th>\n",
       "      <th>Exchange negative</th>\n",
       "      <th>Notes</th>\n",
       "    </tr>\n",
       "  </thead>\n",
       "  <tbody>\n",
       "    <tr>\n",
       "      <th>0</th>\n",
       "      <td>exldb</td>\n",
       "      <td>Electricity production</td>\n",
       "      <td>Electricity production</td>\n",
       "      <td>﻿kilowatt hour</td>\n",
       "      <td>process</td>\n",
       "      <td>exldb</td>\n",
       "      <td>Electricity production</td>\n",
       "      <td>10.0</td>\n",
       "      <td>kilowatt hour</td>\n",
       "      <td>production</td>\n",
       "      <td>NaN</td>\n",
       "      <td>NaN</td>\n",
       "      <td>NaN</td>\n",
       "      <td>NaN</td>\n",
       "      <td>NaN</td>\n",
       "    </tr>\n",
       "    <tr>\n",
       "      <th>1</th>\n",
       "      <td>exldb</td>\n",
       "      <td>Electricity production</td>\n",
       "      <td>Electricity production</td>\n",
       "      <td>﻿kilowatt hour</td>\n",
       "      <td>process</td>\n",
       "      <td>exldb</td>\n",
       "      <td>Fuel production</td>\n",
       "      <td>2.0</td>\n",
       "      <td>kilogram</td>\n",
       "      <td>technosphere</td>\n",
       "      <td>2.0</td>\n",
       "      <td>1.0</td>\n",
       "      <td>1.01</td>\n",
       "      <td>False</td>\n",
       "      <td>NaN</td>\n",
       "    </tr>\n",
       "    <tr>\n",
       "      <th>2</th>\n",
       "      <td>exldb</td>\n",
       "      <td>Electricity production</td>\n",
       "      <td>Electricity production</td>\n",
       "      <td>﻿kilowatt hour</td>\n",
       "      <td>process</td>\n",
       "      <td>biosphere3</td>\n",
       "      <td>349b29d1-3e58-4c66-98b9-9d1a076efd2e</td>\n",
       "      <td>1.0</td>\n",
       "      <td>kilogram</td>\n",
       "      <td>biosphere</td>\n",
       "      <td>2.0</td>\n",
       "      <td>1.0</td>\n",
       "      <td>1.01</td>\n",
       "      <td>False</td>\n",
       "      <td>Carbon dioxide</td>\n",
       "    </tr>\n",
       "    <tr>\n",
       "      <th>3</th>\n",
       "      <td>exldb</td>\n",
       "      <td>Electricity production</td>\n",
       "      <td>Electricity production</td>\n",
       "      <td>﻿kilowatt hour</td>\n",
       "      <td>process</td>\n",
       "      <td>exldb</td>\n",
       "      <td>Sulphur dioxide</td>\n",
       "      <td>0.1</td>\n",
       "      <td>kilogram</td>\n",
       "      <td>biosphere</td>\n",
       "      <td>0.0</td>\n",
       "      <td>2.0</td>\n",
       "      <td>2.00</td>\n",
       "      <td>True</td>\n",
       "      <td>NaN</td>\n",
       "    </tr>\n",
       "    <tr>\n",
       "      <th>4</th>\n",
       "      <td>exldb</td>\n",
       "      <td>Fuel production</td>\n",
       "      <td>Fuel production</td>\n",
       "      <td>kilogram</td>\n",
       "      <td>process</td>\n",
       "      <td>exldb</td>\n",
       "      <td>Fuel production</td>\n",
       "      <td>100.0</td>\n",
       "      <td>kilogram</td>\n",
       "      <td>production</td>\n",
       "      <td>NaN</td>\n",
       "      <td>NaN</td>\n",
       "      <td>NaN</td>\n",
       "      <td>NaN</td>\n",
       "      <td>NaN</td>\n",
       "    </tr>\n",
       "  </tbody>\n",
       "</table>\n",
       "</div>"
      ],
      "text/plain": [
       "  Activity database           Activity code           Activity name  \\\n",
       "0             exldb  Electricity production  Electricity production   \n",
       "1             exldb  Electricity production  Electricity production   \n",
       "2             exldb  Electricity production  Electricity production   \n",
       "3             exldb  Electricity production  Electricity production   \n",
       "4             exldb         Fuel production         Fuel production   \n",
       "\n",
       "    Activity unit Activity type Exchange database  \\\n",
       "0  ﻿kilowatt hour       process             exldb   \n",
       "1  ﻿kilowatt hour       process             exldb   \n",
       "2  ﻿kilowatt hour       process        biosphere3   \n",
       "3  ﻿kilowatt hour       process             exldb   \n",
       "4        kilogram       process             exldb   \n",
       "\n",
       "                         Exchange input  Exchange amount  Exchange unit  \\\n",
       "0                Electricity production             10.0  kilowatt hour   \n",
       "1                       Fuel production              2.0       kilogram   \n",
       "2  349b29d1-3e58-4c66-98b9-9d1a076efd2e              1.0       kilogram   \n",
       "3                       Sulphur dioxide              0.1       kilogram   \n",
       "4                       Fuel production            100.0       kilogram   \n",
       "\n",
       "  Exchange type  Exchange uncertainty type  Exchange loc  Exchange scale  \\\n",
       "0    production                        NaN           NaN             NaN   \n",
       "1  technosphere                        2.0           1.0            1.01   \n",
       "2     biosphere                        2.0           1.0            1.01   \n",
       "3     biosphere                        0.0           2.0            2.00   \n",
       "4    production                        NaN           NaN             NaN   \n",
       "\n",
       "  Exchange negative           Notes  \n",
       "0               NaN             NaN  \n",
       "1             False             NaN  \n",
       "2             False  Carbon dioxide  \n",
       "3              True             NaN  \n",
       "4               NaN             NaN  "
      ]
     },
     "execution_count": 2,
     "metadata": {},
     "output_type": "execute_result"
    }
   ],
   "source": [
    "mydb = pd.read_csv('test_db_excel_w_ecoinvent.csv', header = 0, sep = \",\") # using csv file avoids encoding problem\n",
    "mydb.head()"
   ]
  },
  {
   "cell_type": "code",
   "execution_count": 3,
   "metadata": {},
   "outputs": [
    {
     "data": {
      "text/html": [
       "<div>\n",
       "<style scoped>\n",
       "    .dataframe tbody tr th:only-of-type {\n",
       "        vertical-align: middle;\n",
       "    }\n",
       "\n",
       "    .dataframe tbody tr th {\n",
       "        vertical-align: top;\n",
       "    }\n",
       "\n",
       "    .dataframe thead th {\n",
       "        text-align: right;\n",
       "    }\n",
       "</style>\n",
       "<table border=\"1\" class=\"dataframe\">\n",
       "  <thead>\n",
       "    <tr style=\"text-align: right;\">\n",
       "      <th></th>\n",
       "      <th>Activity database</th>\n",
       "      <th>Activity code</th>\n",
       "      <th>Activity name</th>\n",
       "      <th>Activity unit</th>\n",
       "      <th>Activity type</th>\n",
       "      <th>Exchange database</th>\n",
       "      <th>Exchange input</th>\n",
       "      <th>Exchange amount</th>\n",
       "      <th>Exchange unit</th>\n",
       "      <th>Exchange type</th>\n",
       "      <th>Exchange uncertainty type</th>\n",
       "      <th>Exchange loc</th>\n",
       "      <th>Exchange scale</th>\n",
       "      <th>Exchange negative</th>\n",
       "    </tr>\n",
       "  </thead>\n",
       "  <tbody>\n",
       "    <tr>\n",
       "      <th>0</th>\n",
       "      <td>exldb</td>\n",
       "      <td>Electricity production</td>\n",
       "      <td>Electricity production</td>\n",
       "      <td>﻿kilowatt hour</td>\n",
       "      <td>process</td>\n",
       "      <td>exldb</td>\n",
       "      <td>Electricity production</td>\n",
       "      <td>10.0</td>\n",
       "      <td>kilowatt hour</td>\n",
       "      <td>production</td>\n",
       "      <td>0</td>\n",
       "      <td>NaN</td>\n",
       "      <td>NaN</td>\n",
       "      <td>NaN</td>\n",
       "    </tr>\n",
       "    <tr>\n",
       "      <th>1</th>\n",
       "      <td>exldb</td>\n",
       "      <td>Electricity production</td>\n",
       "      <td>Electricity production</td>\n",
       "      <td>﻿kilowatt hour</td>\n",
       "      <td>process</td>\n",
       "      <td>exldb</td>\n",
       "      <td>Fuel production</td>\n",
       "      <td>2.0</td>\n",
       "      <td>kilogram</td>\n",
       "      <td>technosphere</td>\n",
       "      <td>2</td>\n",
       "      <td>1.0</td>\n",
       "      <td>1.01</td>\n",
       "      <td>False</td>\n",
       "    </tr>\n",
       "    <tr>\n",
       "      <th>2</th>\n",
       "      <td>exldb</td>\n",
       "      <td>Electricity production</td>\n",
       "      <td>Electricity production</td>\n",
       "      <td>﻿kilowatt hour</td>\n",
       "      <td>process</td>\n",
       "      <td>biosphere3</td>\n",
       "      <td>349b29d1-3e58-4c66-98b9-9d1a076efd2e</td>\n",
       "      <td>1.0</td>\n",
       "      <td>kilogram</td>\n",
       "      <td>biosphere</td>\n",
       "      <td>2</td>\n",
       "      <td>1.0</td>\n",
       "      <td>1.01</td>\n",
       "      <td>False</td>\n",
       "    </tr>\n",
       "    <tr>\n",
       "      <th>3</th>\n",
       "      <td>exldb</td>\n",
       "      <td>Electricity production</td>\n",
       "      <td>Electricity production</td>\n",
       "      <td>﻿kilowatt hour</td>\n",
       "      <td>process</td>\n",
       "      <td>exldb</td>\n",
       "      <td>Sulphur dioxide</td>\n",
       "      <td>0.1</td>\n",
       "      <td>kilogram</td>\n",
       "      <td>biosphere</td>\n",
       "      <td>0</td>\n",
       "      <td>2.0</td>\n",
       "      <td>2.00</td>\n",
       "      <td>True</td>\n",
       "    </tr>\n",
       "    <tr>\n",
       "      <th>4</th>\n",
       "      <td>exldb</td>\n",
       "      <td>Fuel production</td>\n",
       "      <td>Fuel production</td>\n",
       "      <td>kilogram</td>\n",
       "      <td>process</td>\n",
       "      <td>exldb</td>\n",
       "      <td>Fuel production</td>\n",
       "      <td>100.0</td>\n",
       "      <td>kilogram</td>\n",
       "      <td>production</td>\n",
       "      <td>0</td>\n",
       "      <td>NaN</td>\n",
       "      <td>NaN</td>\n",
       "      <td>NaN</td>\n",
       "    </tr>\n",
       "  </tbody>\n",
       "</table>\n",
       "</div>"
      ],
      "text/plain": [
       "  Activity database           Activity code           Activity name  \\\n",
       "0             exldb  Electricity production  Electricity production   \n",
       "1             exldb  Electricity production  Electricity production   \n",
       "2             exldb  Electricity production  Electricity production   \n",
       "3             exldb  Electricity production  Electricity production   \n",
       "4             exldb         Fuel production         Fuel production   \n",
       "\n",
       "    Activity unit Activity type Exchange database  \\\n",
       "0  ﻿kilowatt hour       process             exldb   \n",
       "1  ﻿kilowatt hour       process             exldb   \n",
       "2  ﻿kilowatt hour       process        biosphere3   \n",
       "3  ﻿kilowatt hour       process             exldb   \n",
       "4        kilogram       process             exldb   \n",
       "\n",
       "                         Exchange input  Exchange amount  Exchange unit  \\\n",
       "0                Electricity production             10.0  kilowatt hour   \n",
       "1                       Fuel production              2.0       kilogram   \n",
       "2  349b29d1-3e58-4c66-98b9-9d1a076efd2e              1.0       kilogram   \n",
       "3                       Sulphur dioxide              0.1       kilogram   \n",
       "4                       Fuel production            100.0       kilogram   \n",
       "\n",
       "  Exchange type  Exchange uncertainty type  Exchange loc  Exchange scale  \\\n",
       "0    production                          0           NaN             NaN   \n",
       "1  technosphere                          2           1.0            1.01   \n",
       "2     biosphere                          2           1.0            1.01   \n",
       "3     biosphere                          0           2.0            2.00   \n",
       "4    production                          0           NaN             NaN   \n",
       "\n",
       "  Exchange negative  \n",
       "0               NaN  \n",
       "1             False  \n",
       "2             False  \n",
       "3              True  \n",
       "4               NaN  "
      ]
     },
     "execution_count": 3,
     "metadata": {},
     "output_type": "execute_result"
    }
   ],
   "source": [
    "# clean up a bit\n",
    "mydb = mydb.drop('Notes', axis=1)  # remove the columns not needed\n",
    "mydb['Exchange uncertainty type'] = mydb['Exchange uncertainty type'].fillna(0).astype(int) # uncertainty as integers\n",
    "# Note: to avoid having both nan and values in the uncertainty column I use zero as default\n",
    "mydb.head()"
   ]
  },
  {
   "cell_type": "code",
   "execution_count": 4,
   "metadata": {
    "scrolled": true
   },
   "outputs": [
    {
     "data": {
      "text/plain": [
       "{('exldb', 'Electricity production'): {'name': 'Electricity production',\n",
       "  'unit': '\\ufeffkilowatt hour',\n",
       "  'type': 'process',\n",
       "  'exchanges': [{'input': ('exldb', 'Electricity production'),\n",
       "    'amount': 10.0,\n",
       "    'unit': 'kilowatt hour',\n",
       "    'type': 'production',\n",
       "    'uncertainty type': 0},\n",
       "   {'input': ('exldb', 'Fuel production'),\n",
       "    'amount': 2.0,\n",
       "    'unit': 'kilogram',\n",
       "    'type': 'technosphere',\n",
       "    'uncertainty type': 2,\n",
       "    'loc': 1.0,\n",
       "    'scale': 1.01,\n",
       "    'negative': False},\n",
       "   {'input': ('biosphere3', '349b29d1-3e58-4c66-98b9-9d1a076efd2e'),\n",
       "    'amount': 1.0,\n",
       "    'unit': 'kilogram',\n",
       "    'type': 'biosphere',\n",
       "    'uncertainty type': 2,\n",
       "    'loc': 1.0,\n",
       "    'scale': 1.01,\n",
       "    'negative': False},\n",
       "   {'input': ('exldb', 'Sulphur dioxide'),\n",
       "    'amount': 0.1,\n",
       "    'unit': 'kilogram',\n",
       "    'type': 'biosphere',\n",
       "    'uncertainty type': 0,\n",
       "    'loc': 2.0,\n",
       "    'scale': 2.0,\n",
       "    'negative': True}]},\n",
       " ('exldb', 'Fuel production'): {'name': 'Fuel production',\n",
       "  'unit': 'kilogram',\n",
       "  'type': 'process',\n",
       "  'exchanges': [{'input': ('exldb', 'Fuel production'),\n",
       "    'amount': 100.0,\n",
       "    'unit': 'kilogram',\n",
       "    'type': 'production',\n",
       "    'uncertainty type': 0},\n",
       "   {'input': ('ecoinvent 3.9.1 conseq', 'cea1e434115aa84cbfd7dc3086b61e80'),\n",
       "    'amount': 100.0,\n",
       "    'unit': 'kilogram',\n",
       "    'type': 'technosphere',\n",
       "    'uncertainty type': 0},\n",
       "   {'input': ('biosphere3', '349b29d1-3e58-4c66-98b9-9d1a076efd2e'),\n",
       "    'amount': 10.0,\n",
       "    'unit': 'kilogram',\n",
       "    'type': 'biosphere',\n",
       "    'uncertainty type': 0},\n",
       "   {'input': ('exldb', 'Sulphur dioxide'),\n",
       "    'amount': 2.0,\n",
       "    'unit': 'kilogram',\n",
       "    'type': 'biosphere',\n",
       "    'uncertainty type': 0},\n",
       "   {'input': ('exldb', 'Crude oil'),\n",
       "    'amount': -50.0,\n",
       "    'unit': 'kilogram',\n",
       "    'type': 'biosphere',\n",
       "    'uncertainty type': 0}]},\n",
       " ('exldb', 'Sulphur dioxide'): {'name': 'Sulphur dioxide',\n",
       "  'unit': 'kilogram',\n",
       "  'type': 'biosphere'},\n",
       " ('exldb', 'Crude oil'): {'name': 'Crude oil',\n",
       "  'unit': 'kilogram',\n",
       "  'type': 'biosphere'}}"
      ]
     },
     "execution_count": 4,
     "metadata": {},
     "output_type": "execute_result"
    }
   ],
   "source": [
    "# Create a dict that can be written as database\n",
    "bw2_db = lci_to_bw2(mydb) # a function from the lci_to_bw2 module\n",
    "bw2_db"
   ]
  },
  {
   "cell_type": "code",
   "execution_count": 5,
   "metadata": {
    "scrolled": true
   },
   "outputs": [
    {
     "data": {
      "text/plain": [
       "Databases dictionary with 4 object(s):\n",
       "\tbiosphere3\n",
       "\tecoinvent 3.9.1 conseq\n",
       "\ttestbiosphere\n",
       "\ttestdb"
      ]
     },
     "execution_count": 5,
     "metadata": {},
     "output_type": "execute_result"
    }
   ],
   "source": [
    "bd.projects.set_current('advlca25') # Find a project where there is ecoinvent 3.6 conseq\n",
    "bd.databases"
   ]
  },
  {
   "cell_type": "markdown",
   "metadata": {},
   "source": [
    "Time to write the data on a database. \n",
    "\n",
    "Important: \n",
    "\n",
    "- The database **name should be the same** as in the excel file...\n",
    "\n",
    "- make sure you **shut down** all other notebooks using **the same bw project** before you run this. Only one user at the time can write on a database. Otherwise you'll get a \"Database locked\" error."
   ]
  },
  {
   "cell_type": "code",
   "execution_count": 6,
   "metadata": {},
   "outputs": [
    {
     "name": "stdout",
     "output_type": "stream",
     "text": [
      "Not able to determine geocollections for all datasets. This database is not ready for regionalization.\n"
     ]
    },
    {
     "name": "stderr",
     "output_type": "stream",
     "text": [
      "100%|███████████████████████████████████████████| 4/4 [00:00<00:00, 2514.19it/s]"
     ]
    },
    {
     "name": "stdout",
     "output_type": "stream",
     "text": [
      "Vacuuming database \n"
     ]
    },
    {
     "name": "stderr",
     "output_type": "stream",
     "text": [
      "\n"
     ]
    }
   ],
   "source": [
    "t_db = bd.Database('exldb') # it works because the database name in the excel file is the same\n",
    "# shut down all other notebooks using the same project\n",
    "t_db.write(bw2_db)\n",
    "# Error: \"Not able to determine geocollections for all datasets. This database is not ready for regionalization.\" \n",
    "# This is because the \"activity\" data don't have 'location' key-value pair, but it is fine, you can add it or not."
   ]
  },
  {
   "cell_type": "code",
   "execution_count": 7,
   "metadata": {},
   "outputs": [
    {
     "data": {
      "text/plain": [
       "Databases dictionary with 5 object(s):\n",
       "\tbiosphere3\n",
       "\tecoinvent 3.9.1 conseq\n",
       "\texldb\n",
       "\ttestbiosphere\n",
       "\ttestdb"
      ]
     },
     "execution_count": 7,
     "metadata": {},
     "output_type": "execute_result"
    }
   ],
   "source": [
    "bd.databases # It worked"
   ]
  },
  {
   "cell_type": "markdown",
   "metadata": {},
   "source": [
    "Give a look at your imported database"
   ]
  },
  {
   "cell_type": "code",
   "execution_count": 8,
   "metadata": {},
   "outputs": [
    {
     "name": "stdout",
     "output_type": "stream",
     "text": [
      "'Electricity production' (﻿kilowatt hour, None, None)\n",
      "'Crude oil' (kilogram, None, None)\n",
      "'Sulphur dioxide' (kilogram, None, None)\n",
      "'Fuel production' (kilogram, None, None)\n",
      "---------\n",
      "'Electricity production' (﻿kilowatt hour, None, None) Exchange: 10.0 ﻿kilowatt hour 'Electricity production' (﻿kilowatt hour, None, None) to 'Electricity production' (﻿kilowatt hour, None, None)>\n",
      "'Electricity production' (﻿kilowatt hour, None, None) Exchange: 2.0 kilogram 'Fuel production' (kilogram, None, None) to 'Electricity production' (﻿kilowatt hour, None, None)>\n",
      "'Electricity production' (﻿kilowatt hour, None, None) Exchange: 1.0 kilogram 'Carbon dioxide, fossil' (kilogram, None, ('air',)) to 'Electricity production' (﻿kilowatt hour, None, None)>\n",
      "'Electricity production' (﻿kilowatt hour, None, None) Exchange: 0.1 kilogram 'Sulphur dioxide' (kilogram, None, None) to 'Electricity production' (﻿kilowatt hour, None, None)>\n",
      "'Fuel production' (kilogram, None, None) Exchange: 100.0 kilogram 'Fuel production' (kilogram, None, None) to 'Fuel production' (kilogram, None, None)>\n",
      "'Fuel production' (kilogram, None, None) Exchange: 100.0 kilogram 'diesel production, low-sulfur' (kilogram, CH, None) to 'Fuel production' (kilogram, None, None)>\n",
      "'Fuel production' (kilogram, None, None) Exchange: 10.0 kilogram 'Carbon dioxide, fossil' (kilogram, None, ('air',)) to 'Fuel production' (kilogram, None, None)>\n",
      "'Fuel production' (kilogram, None, None) Exchange: 2.0 kilogram 'Sulphur dioxide' (kilogram, None, None) to 'Fuel production' (kilogram, None, None)>\n",
      "'Fuel production' (kilogram, None, None) Exchange: -50.0 kilogram 'Crude oil' (kilogram, None, None) to 'Fuel production' (kilogram, None, None)>\n",
      "---------\n",
      "{'uncertainty type': 0}\n",
      "{'uncertainty type': 0}\n",
      "{'uncertainty type': 0}\n",
      "{'uncertainty type': 0}\n",
      "{'uncertainty type': 0}\n",
      "{'uncertainty type': 0}\n",
      "{'uncertainty type': 2, 'loc': 1.0, 'scale': 1.01, 'negative': False}\n",
      "{'uncertainty type': 2, 'loc': 1.0, 'scale': 1.01, 'negative': False}\n",
      "{'uncertainty type': 0, 'loc': 2.0, 'scale': 2.0, 'negative': True}\n"
     ]
    },
    {
     "data": {
      "text/plain": [
       "[[None, None, None, None, None], [], [], [None, None, None, None]]"
      ]
     },
     "execution_count": 8,
     "metadata": {},
     "output_type": "execute_result"
    }
   ],
   "source": [
    "[print(act) for act in t_db]  # check more stuff \n",
    "print('---------')\n",
    "[[print(act, exc) for exc in list(act.exchanges())]for act in t_db]  # check more stuff \n",
    "print('---------')\n",
    "[[print(exc.uncertainty) for exc in list(act.exchanges())]for act in t_db]  # check more stuff\n"
   ]
  },
  {
   "cell_type": "code",
   "execution_count": 9,
   "metadata": {},
   "outputs": [],
   "source": [
    "myact = bd.Database(\"exldb\").get('Fuel production')\n",
    "exchanges = list(myact.exchanges())"
   ]
  },
  {
   "cell_type": "markdown",
   "metadata": {},
   "source": [
    "Let's check if calculations work"
   ]
  },
  {
   "cell_type": "code",
   "execution_count": 10,
   "metadata": {},
   "outputs": [
    {
     "name": "stdout",
     "output_type": "stream",
     "text": [
      "324.1823668256106\n"
     ]
    }
   ],
   "source": [
    "mymethod = ('IPCC 2013', 'climate change', 'global warming potential (GWP100)')\n",
    "el = t_db.get(\"Electricity production\")\n",
    "functional_unit = {el: 1000}\n",
    "lca = bc.LCA(functional_unit, mymethod)\n",
    "lca.lci()\n",
    "lca.lcia()\n",
    "print(lca.score)"
   ]
  },
  {
   "cell_type": "markdown",
   "metadata": {},
   "source": [
    "# Question\n",
    "Do you think this results includes all emissions you have imported from the excel file?"
   ]
  },
  {
   "cell_type": "markdown",
   "metadata": {},
   "source": [
    "# Group exercise \n",
    "\n",
    "### (This is for the portfolio you don't need to do it now, we'll start it during the online lecture) \n",
    "Prepare your own product system in excel, linked to biosphere3 and ecoinvent, and import it. Run calculations to see if it works as expected. Send all the code and data to another group and see if they can reproduce your results, in that case, the exercise will be a success. Get feedback from other group on your code and what difficulties they had in reading and running it."
   ]
  }
 ],
 "metadata": {
  "kernelspec": {
   "display_name": "Python 3 (ipykernel)",
   "language": "python",
   "name": "python3"
  },
  "language_info": {
   "codemirror_mode": {
    "name": "ipython",
    "version": 3
   },
   "file_extension": ".py",
   "mimetype": "text/x-python",
   "name": "python",
   "nbconvert_exporter": "python",
   "pygments_lexer": "ipython3",
   "version": "3.12.2"
  }
 },
 "nbformat": 4,
 "nbformat_minor": 4
}
