{
 "cells": [
  {
   "cell_type": "markdown",
   "metadata": {},
   "source": [
    "# 1. Simple LCA in Brightway2.5"
   ]
  },
  {
   "cell_type": "markdown",
   "metadata": {},
   "source": [
    "The most important data structures of brightway are represented [here](https://docs.brightway.dev/en/latest/_images/org-scheme.png) and described [here](https://docs.brightway.dev/en/latest/). Look at the figure  and try to make the parallel with what you know already (e.g. Simapro). I recommend that later you read carefully this documentation page. This is also the terminology to use when working with Brightway2.5."
   ]
  },
  {
   "cell_type": "markdown",
   "metadata": {},
   "source": [
    "We again use the example product system from Heijungs & Suh (2002)\n",
    "\n",
    "The point with this script is to understand the dict structure of a brightway database."
   ]
  },
  {
   "cell_type": "code",
   "execution_count": 1,
   "metadata": {},
   "outputs": [],
   "source": [
    "# Import brightway2.5 packages (to use functions from the brightway2.5 module)\n",
    "import bw2calc as bc\n",
    "import bw2data as bd"
   ]
  },
  {
   "cell_type": "code",
   "execution_count": 2,
   "metadata": {},
   "outputs": [],
   "source": [
    "bd.projects.set_current('advlca25') # bd.projects.output_dir to find out where projects are stored in the hd"
   ]
  },
  {
   "cell_type": "code",
   "execution_count": 3,
   "metadata": {},
   "outputs": [
    {
     "data": {
      "text/plain": [
       "Databases dictionary with 0 objects"
      ]
     },
     "execution_count": 3,
     "metadata": {},
     "output_type": "execute_result"
    }
   ],
   "source": [
    "# bd.databases.clear() # line to use in case you had already databases in the project space\n",
    "bd.databases # lists all databases. We start from an empty project"
   ]
  },
  {
   "cell_type": "code",
   "execution_count": 4,
   "metadata": {},
   "outputs": [],
   "source": [
    "# This cell is to clean up\n",
    "# del bd.databases['testdb'] \n",
    "# del bd.databases['testbiosphere']"
   ]
  },
  {
   "cell_type": "code",
   "execution_count": 5,
   "metadata": {},
   "outputs": [],
   "source": [
    "t_db = bd.Database(\"testdb\") # creates an instance of the database class # t_db.name for example."
   ]
  },
  {
   "cell_type": "code",
   "execution_count": 6,
   "metadata": {},
   "outputs": [
    {
     "name": "stderr",
     "output_type": "stream",
     "text": [
      "100%|███████████████████████████████████████████| 5/5 [00:00<00:00, 2060.88it/s]"
     ]
    },
    {
     "name": "stdout",
     "output_type": "stream",
     "text": [
      "Vacuuming database \n"
     ]
    },
    {
     "name": "stderr",
     "output_type": "stream",
     "text": [
      "\n"
     ]
    }
   ],
   "source": [
    "# This is the most important cell in this notebook, read it carefully\n",
    "t_db.write({\n",
    "    (\"testdb\", \"Electricity production\"):{ # Note that a tuple is used to identify an activity univocally\n",
    "        'name':'Electricity production',\n",
    "        'unit': 'kWh', \n",
    "        'location': 'GLO',\n",
    "        'exchanges': [{\n",
    "                'input': ('testdb', 'Fuel production'),\n",
    "                'amount': 2,\n",
    "                'unit': 'liters',\n",
    "                'type': 'technosphere'\n",
    "            },{\n",
    "                'input': ('testdb', 'Carbon dioxide'),\n",
    "                'amount': 1,\n",
    "                'unit': 'kg',\n",
    "                'type': 'biosphere'\n",
    "            },{\n",
    "                'input': ('testdb', 'Sulphur dioxide'),\n",
    "                'amount': 0.1,\n",
    "                'unit': 'kg',\n",
    "                'type': 'biosphere'\n",
    "            },{\n",
    "                'input': ('testdb', 'Electricity production'), #important to write the same process name in output\n",
    "                'amount': 10,\n",
    "                'unit': 'kWh',\n",
    "                'type': 'production'\n",
    "            }]\n",
    "        },\n",
    "    ('testdb', 'Fuel production'):{ # here starts another activity\n",
    "        'name': 'Fuel production',\n",
    "        'unit': 'liters',\n",
    "        'location': 'GLO',\n",
    "        'exchanges':[{\n",
    "                'input': ('testdb', 'Carbon dioxide'),\n",
    "                'amount': 10,\n",
    "                'unit': 'kg',\n",
    "                'type': 'biosphere'\n",
    "            },{\n",
    "                'input': ('testdb', 'Sulphur dioxide'),\n",
    "                'amount': 2,\n",
    "                'unit': 'kg',\n",
    "                'type': 'biosphere'\n",
    "            },{\n",
    "                'input': ('testdb', 'Crude oil'),\n",
    "                'amount': -50,\n",
    "                'unit': 'liters',\n",
    "                'type': 'biosphere'\n",
    "            },{\n",
    "                'input': ('testdb', 'Fuel production'),\n",
    "                'amount': 100,\n",
    "                'unit': 'liters',\n",
    "                'type': 'production'\n",
    "            }]\n",
    "    },\n",
    "    ('testdb', 'Carbon dioxide'):{'name': 'Carbon dioxide', 'unit':'kg', 'type': 'biosphere'}, # env exchanges\n",
    "    ('testdb', 'Sulphur dioxide'):{'name': 'Sulphur dioxide', 'unit':'kg', 'type': 'biosphere'},\n",
    "    ('testdb', 'Crude oil'):{'name': 'Crude oil', 'unit':'liters', 'type': 'biosphere'}\n",
    "\n",
    "    })"
   ]
  },
  {
   "cell_type": "code",
   "execution_count": 7,
   "metadata": {},
   "outputs": [
    {
     "data": {
      "text/plain": [
       "Databases dictionary with 1 object(s):\n",
       "\ttestdb"
      ]
     },
     "execution_count": 7,
     "metadata": {},
     "output_type": "execute_result"
    }
   ],
   "source": [
    "bd.databases # Now I see the database"
   ]
  },
  {
   "cell_type": "markdown",
   "metadata": {},
   "source": [
    "Access one activity using the `.get` python method"
   ]
  },
  {
   "cell_type": "code",
   "execution_count": 10,
   "metadata": {},
   "outputs": [
    {
     "data": {
      "text/plain": [
       "'Electricity production' (kWh, GLO, None)"
      ]
     },
     "execution_count": 10,
     "metadata": {},
     "output_type": "execute_result"
    }
   ],
   "source": [
    "t_db.get(\"Electricity production\")"
   ]
  },
  {
   "cell_type": "markdown",
   "metadata": {},
   "source": [
    "Now solve the inventory"
   ]
  },
  {
   "cell_type": "code",
   "execution_count": 11,
   "metadata": {},
   "outputs": [
    {
     "name": "stdout",
     "output_type": "stream",
     "text": [
      "  (0, 1)\t19.999999999999996\n",
      "  (0, 0)\t100.0\n",
      "  (1, 1)\t3.9999999999999996\n",
      "  (1, 0)\t10.000000149011612\n",
      "  (2, 1)\t-99.99999999999999\n"
     ]
    }
   ],
   "source": [
    "functional_unit = {t_db.get(\"Electricity production\") : 1000} # the selected activity\n",
    "lca = bc.LCA(functional_unit)\n",
    "lca.lci()\n",
    "print(lca.inventory) # Is this what you expected?"
   ]
  },
  {
   "cell_type": "markdown",
   "metadata": {},
   "source": [
    "We can't do the LCIA because we have no characterisation factors yet. So we create a LCIA method."
   ]
  },
  {
   "cell_type": "code",
   "execution_count": 13,
   "metadata": {},
   "outputs": [
    {
     "data": {
      "text/plain": [
       "[[('testdb', 'Carbon dioxide'), 1.0],\n",
       " [('testdb', 'Sulphur dioxide'), 2.0],\n",
       " [('testdb', 'Crude oil'), 0.0]]"
      ]
     },
     "execution_count": 13,
     "metadata": {},
     "output_type": "execute_result"
    }
   ],
   "source": [
    "myLCIAdata = [[('testdb', 'Carbon dioxide'), 1.0], \n",
    "              [('testdb', 'Sulphur dioxide'), 2.0],\n",
    "              [('testdb', 'Crude oil'), 0.0]]\n",
    "\n",
    "method_key = ('simplemethod', 'imaginaryendpoint', 'imaginarymidpoint')\n",
    "my_method = bd.Method(method_key)\n",
    "my_method.validate(myLCIAdata)\n",
    "my_method.register() \n",
    "my_method.write(myLCIAdata)\n",
    "my_method.load()"
   ]
  },
  {
   "cell_type": "code",
   "execution_count": 14,
   "metadata": {},
   "outputs": [
    {
     "name": "stdout",
     "output_type": "stream",
     "text": [
      "characterized_inventory\n",
      "   (0, 0)\t100.0\n",
      "  (0, 1)\t19.999999999999996\n",
      "  (1, 0)\t20.000000298023224\n",
      "  (1, 1)\t7.999999999999999\n",
      "Score\n",
      " 148.00000029802322\n"
     ]
    }
   ],
   "source": [
    "lca = bc.LCA(functional_unit, method_key) # run LCA calculations again with method\n",
    "lca.lci()\n",
    "lca.lcia() # the LCIA step\n",
    "lca.score\n",
    "\n",
    "print(\"characterized_inventory\\n\", lca.characterized_inventory)\n",
    "print(\"Score\\n\", lca.score) # same as in the previous script"
   ]
  },
  {
   "cell_type": "markdown",
   "metadata": {},
   "source": [
    "Why 'score'? The point with 'score' is that what in Brightway2 is called a \"method\" is in fact an \"impact category\"...\n",
    "So all characterised results of the method are correctly summed up."
   ]
  },
  {
   "cell_type": "code",
   "execution_count": 15,
   "metadata": {},
   "outputs": [
    {
     "data": {
      "text/plain": [
       "True"
      ]
     },
     "execution_count": 15,
     "metadata": {},
     "output_type": "execute_result"
    }
   ],
   "source": [
    "import numpy as np\n",
    "np.sum(lca.characterized_inventory) == lca.score"
   ]
  },
  {
   "cell_type": "markdown",
   "metadata": {},
   "source": [
    "# Same but different"
   ]
  },
  {
   "cell_type": "markdown",
   "metadata": {},
   "source": [
    "Here a different way to link the technosphere and biosphere flows. \n",
    "This time we create two databases, \"testdb\"  for product flows and 'testbiosphere' for environmental flows (This is closer to how brightway works with commercial dabases such as ecoinvent). \n",
    "\n",
    "Note how the two are linked. Before you had this input line in \"testdb\":\n",
    "\n",
    "```python\n",
    "'input': ('testdb', 'Carbon dioxide')\n",
    "```\n",
    "now you have this one instead:\n",
    "\n",
    "```python\n",
    "'input': ('testbiosphere', 'Carbon dioxide')\n",
    "```\n",
    "\n",
    "Run the script and check that you get the same results as before.  "
   ]
  },
  {
   "cell_type": "code",
   "execution_count": 16,
   "metadata": {
    "scrolled": true
   },
   "outputs": [
    {
     "data": {
      "text/plain": [
       "Databases dictionary with 0 objects"
      ]
     },
     "execution_count": 16,
     "metadata": {},
     "output_type": "execute_result"
    }
   ],
   "source": [
    "if 'testdb' in bd.databases: del bd.databases['testdb'] # just another way to clean up\n",
    "if 'testbiosphere' in bd.databases: del bd.databases['testbiosphere'] # just another way to clean up\n",
    "bd.databases"
   ]
  },
  {
   "cell_type": "code",
   "execution_count": 17,
   "metadata": {},
   "outputs": [
    {
     "name": "stderr",
     "output_type": "stream",
     "text": [
      "100%|██████████████████████████████████████████| 3/3 [00:00<00:00, 10002.31it/s]"
     ]
    },
    {
     "name": "stdout",
     "output_type": "stream",
     "text": [
      "Vacuuming database \n"
     ]
    },
    {
     "name": "stderr",
     "output_type": "stream",
     "text": [
      "\n"
     ]
    }
   ],
   "source": [
    "bs_db = bd.Database(\"testbiosphere\")\n",
    "\n",
    "bs_db.write({\n",
    "    ('testbiosphere', 'Carbon dioxide'):{'name': 'Carbon dioxide', 'unit':'kg', 'type': 'biosphere'},\n",
    "    ('testbiosphere', 'Sulphur dioxide'):{'name': 'Sulphur dioxide', 'unit':'kg', 'type': 'biosphere'},\n",
    "    ('testbiosphere', 'Crude oil'):{'name': 'Crude oil', 'unit':'liters', 'type': 'biosphere'}\n",
    "    })"
   ]
  },
  {
   "cell_type": "code",
   "execution_count": 18,
   "metadata": {
    "scrolled": true
   },
   "outputs": [
    {
     "name": "stderr",
     "output_type": "stream",
     "text": [
      "100%|██████████████████████████████████████████| 2/2 [00:00<00:00, 10754.63it/s]"
     ]
    },
    {
     "name": "stdout",
     "output_type": "stream",
     "text": [
      "Vacuuming database \n"
     ]
    },
    {
     "name": "stderr",
     "output_type": "stream",
     "text": [
      "\n"
     ]
    }
   ],
   "source": [
    "t_db = bd.Database(\"testdb\")\n",
    "\n",
    "t_db.write({\n",
    "    (\"testdb\", \"Electricity production\"):{\n",
    "        'name':'Electricity production',\n",
    "        'unit': 'kWh', \n",
    "        'location': 'GLO',\n",
    "        'exchanges': [{\n",
    "                'input': ('testdb', 'Fuel production'),\n",
    "                'amount': 2,\n",
    "                'unit': 'liters',\n",
    "                'type': 'technosphere'\n",
    "            },{\n",
    "                'input': ('testbiosphere', 'Carbon dioxide'), # the KEY line, this exchange is from the \"testbsiosphere\" database.\n",
    "                'amount': 1,\n",
    "                'unit': 'kg',\n",
    "                'type': 'biosphere'\n",
    "            },{\n",
    "                'input': ('testbiosphere', 'Sulphur dioxide'),\n",
    "                'amount': 0.1,\n",
    "                'unit': 'kg',\n",
    "                'type': 'biosphere'\n",
    "            },{\n",
    "                'input': ('testdb', 'Electricity production'), \n",
    "                'amount': 10,\n",
    "                'unit': 'kWh',\n",
    "                'type': 'production'\n",
    "            }]\n",
    "        },\n",
    "    ('testdb', 'Fuel production'):{\n",
    "        'name': 'Fuel production',\n",
    "        'unit': 'liters',\n",
    "        'location': 'GLO',\n",
    "        'exchanges':[{\n",
    "                'input': ('testbiosphere', 'Carbon dioxide'),\n",
    "                'amount': 10,\n",
    "                'unit': 'kg',\n",
    "                'type': 'biosphere'\n",
    "            },{\n",
    "                'input': ('testbiosphere', 'Sulphur dioxide'),\n",
    "                'amount': 2,\n",
    "                'unit': 'kg',\n",
    "                'type': 'biosphere'\n",
    "            },{\n",
    "                'input': ('testbiosphere', 'Crude oil'),\n",
    "                'amount': -50,\n",
    "                'unit': 'kg',\n",
    "                'type': 'biosphere'\n",
    "            },{\n",
    "                'input': ('testdb', 'Fuel production'),\n",
    "                'amount': 100,\n",
    "                'unit': 'liters',\n",
    "                'type': 'production'\n",
    "            }]\n",
    "    }}) # Differnetly from before, I don't have the environmental exchanges here"
   ]
  },
  {
   "cell_type": "code",
   "execution_count": 19,
   "metadata": {},
   "outputs": [
    {
     "data": {
      "text/plain": [
       "Databases dictionary with 2 object(s):\n",
       "\ttestbiosphere\n",
       "\ttestdb"
      ]
     },
     "execution_count": 19,
     "metadata": {},
     "output_type": "execute_result"
    }
   ],
   "source": [
    "bd.databases # Now I see also the testbiosphere one"
   ]
  },
  {
   "cell_type": "code",
   "execution_count": 20,
   "metadata": {},
   "outputs": [
    {
     "data": {
      "text/plain": [
       "[[('testbiosphere', 'Carbon dioxide'), 1.0],\n",
       " [('testbiosphere', 'Sulphur dioxide'), 2.0],\n",
       " [('testbiosphere', 'Crude oil'), 0.0]]"
      ]
     },
     "execution_count": 20,
     "metadata": {},
     "output_type": "execute_result"
    }
   ],
   "source": [
    "# I need a new LCIA meethod too!\n",
    "myLCIAdata = [[('testbiosphere', 'Carbon dioxide'), 1.0], # testbiosphere instead of testdb\n",
    "              [('testbiosphere', 'Sulphur dioxide'), 2.0],\n",
    "              [('testbiosphere', 'Crude oil'), 0.0]]\n",
    "\n",
    "method_key = ('simplemethod', 'imaginaryendpoint', 'imaginarymidpoint')\n",
    "my_method = bd.Method(method_key)\n",
    "my_method.validate(myLCIAdata)\n",
    "my_method.register() \n",
    "my_method.write(myLCIAdata)\n",
    "my_method.load()"
   ]
  },
  {
   "cell_type": "code",
   "execution_count": 21,
   "metadata": {},
   "outputs": [
    {
     "name": "stdout",
     "output_type": "stream",
     "text": [
      "148.00000029802322\n"
     ]
    }
   ],
   "source": [
    "functional_unit = {t_db.get(\"Electricity production\") : 1000}\n",
    "lca = bc.LCA(functional_unit, method_key) #run LCA calculations again with method\n",
    "lca.lci()\n",
    "lca.lcia()\n",
    "print(lca.score)"
   ]
  },
  {
   "cell_type": "markdown",
   "metadata": {},
   "source": [
    "# Exercise in group"
   ]
  },
  {
   "cell_type": "markdown",
   "metadata": {},
   "source": [
    "Model the product system in the \"Heat production exercise\" slides using first excel then brighway2 and make sure you get the same result.\n",
    "(Practical hint: when you do the brightway2 version make a copy of this notebook and edit that direclty)"
   ]
  },
  {
   "cell_type": "markdown",
   "metadata": {},
   "source": [
    "# Exercise (optional, at home)"
   ]
  },
  {
   "cell_type": "markdown",
   "metadata": {},
   "source": [
    "Take your own product system, select two or three activities that are linked together, and that have also some environmental exchanges associated with, and make by hand a database using the Brightway2 standard dict structure. Run the calculations on that. If you don't have data, use the data [here](http://moutreach.science/2017/12/01/LCI-reporting.html#fnref:2)."
   ]
  },
  {
   "cell_type": "markdown",
   "metadata": {},
   "source": [
    "# A note on co-products\n",
    "There are at least two ways to model co-products with the substitution method. Besides the exchange types `‘technosphere’`, `‘biosphere’`, and `‘production’` there is a fourth type called `‘substitution’`. You can use that (use __plus__ sign!). See the [docs about exchanges](https://2.docs.brightway.dev/intro.html#exchanges). Alternatively, you can simply create an exchange of the `‘technosphere’` type but using the __minus__ sign. I.e. a negative input of some product. This is similar to e.g. SimaPro where there are two options: either use the predefined line for co-products or insert a negative input from technosphere.\n",
    "\n",
    "The signs issue is explained very clearly in the [introduction docs](https://2.docs.brightway.dev/intro.html) under “Getting the signs right”. Note that this is perfectly consistent with the Hejiungs and Suh (2002) book chapter. Diagonal values in the A matrix are positive, off-diagonal inputs are negative. Intervention matrix signs depend on the convention (you decide the sign or you have to follow the convention used of the database, e.g. the database may assume that +10 kg CO2 means the emission of CO2 and +10 kg crude oil means the extraction of oil). \n",
    "\n",
    "To use the __partitioning method__ one needs to calculate the allocated values (by mass/energy/revenue etc) for each exchange before importing the data into Brightway2 (or write a code that does that automatically), just like in e.g. SimaPro. "
   ]
  }
 ],
 "metadata": {
  "kernelspec": {
   "display_name": "Python 3 (ipykernel)",
   "language": "python",
   "name": "python3"
  },
  "language_info": {
   "codemirror_mode": {
    "name": "ipython",
    "version": 3
   },
   "file_extension": ".py",
   "mimetype": "text/x-python",
   "name": "python",
   "nbconvert_exporter": "python",
   "pygments_lexer": "ipython3",
   "version": "3.12.2"
  }
 },
 "nbformat": 4,
 "nbformat_minor": 4
}
