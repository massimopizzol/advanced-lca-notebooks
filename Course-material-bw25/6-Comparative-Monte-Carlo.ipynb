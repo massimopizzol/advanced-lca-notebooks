{
 "cells": [
  {
   "cell_type": "markdown",
   "metadata": {},
   "source": [
    "# Comparative Monte Carlo"
   ]
  },
  {
   "cell_type": "markdown",
   "metadata": {},
   "source": [
    "This script shows how to perform a more advanced comparative Monte Carlo simulation.\n",
    "\n",
    "We also run Monte Carlo simulation using the background system and not only the foreground one as in the previous notebook.\n",
    "\n",
    "A comparative Monte Carlo is the type of simulation to be used in comparative LCAs, i.e. in analyses where different alternatives to provide the same Functional Unit are compared. In this comparative case it is important to randomly sample a common technology matrix **A** for all alternatives at each iteration, instead of having a different technology matrix per each alternative at each iteration. This allows for a smaller variance and shorter computational times, but is not possible with e.g. SimaPro. Moreover, this allows to optimally perform the  statistical testing of the results with paired tests, to see if the two alternatives are significantly different from each other or not. \n",
    "\n",
    "To better understand this script, I recommend reading read the paper by Henriksson et al. (2015) which is probably the best example of an LCA with comparative Monte Carlo simulation followed by statistical testing for significant differences between alternatives. \n",
    "\n",
    "_Henriksson, P. J. G., Rico, A., Zhang, W., Ahmad-Al-Nahid, S., Newton, R., Phan, L. T., … Guinée, J. B. (2015). Comparison of Asian Aquaculture Products by Use of Statistically Supported Life Cycle Assessment. Environmental Science and Technology, 49(24), 14176-14183. [https://doi.org/10.1021/acs.est.5b04634](https://doi.org/10.1021/acs.est.5b04634)_"
   ]
  },
  {
   "cell_type": "code",
   "execution_count": 1,
   "metadata": {},
   "outputs": [],
   "source": [
    "# Import brightway2.5 packages\n",
    "import bw2calc as bc\n",
    "import bw2data as bd\n",
    "import pandas as pd\n",
    "import numpy as np\n",
    "from matplotlib import pyplot as plt\n",
    "from scipy import stats"
   ]
  },
  {
   "cell_type": "code",
   "execution_count": 2,
   "metadata": {},
   "outputs": [
    {
     "data": {
      "text/plain": [
       "Databases dictionary with 5 object(s):\n",
       "\tbiosphere3\n",
       "\tecoinvent 3.9.1 conseq\n",
       "\texldb\n",
       "\ttestbiosphere\n",
       "\ttestdb"
      ]
     },
     "execution_count": 2,
     "metadata": {},
     "output_type": "execute_result"
    }
   ],
   "source": [
    "bd.projects.set_current('advlca25')\n",
    "bd.databases"
   ]
  },
  {
   "cell_type": "code",
   "execution_count": 3,
   "metadata": {},
   "outputs": [],
   "source": [
    "db = bd.Database(\"ecoinvent 3.9.1 conseq\")\n",
    "ipcc = ('IPCC 2013', 'climate change', 'global warming potential (GWP100)')"
   ]
  },
  {
   "cell_type": "code",
   "execution_count": 5,
   "metadata": {},
   "outputs": [
    {
     "data": {
      "text/plain": [
       "0.5221245215463207"
      ]
     },
     "execution_count": 5,
     "metadata": {},
     "output_type": "execute_result"
    }
   ],
   "source": [
    "# Simple montecarlo on ecoinvent process as we know it. We are using the background system.\n",
    "mydemand = {db.random(): 1}  # select a random process\n",
    "lca = bc.LCA(mydemand, ipcc)\n",
    "lca.lci()\n",
    "lca.lcia()\n",
    "lca.score"
   ]
  },
  {
   "cell_type": "code",
   "execution_count": 6,
   "metadata": {},
   "outputs": [],
   "source": [
    "# run montecarlo simulation uwing the bw2.5 command\n",
    "mc = bc.LCA(demand=mydemand, method=ipcc, use_distributions=True) # \"use_distributions\" is the difference btw bw2 and bw2.5\n",
    "mc.lci()\n",
    "mc.lcia()\n",
    "mc_results = [mc.score for _ in zip(range(100), mc)] # will take a minute, we are randomly sampling ecoinvent 100 times"
   ]
  },
  {
   "cell_type": "code",
   "execution_count": 7,
   "metadata": {},
   "outputs": [
    {
     "data": {
      "text/plain": [
       "0.5221245215463207"
      ]
     },
     "execution_count": 7,
     "metadata": {},
     "output_type": "execute_result"
    },
    {
     "data": {
      "image/png": "[encoded data removed]",
      "text/plain": [
       "<Figure size 640x480 with 1 Axes>"
      ]
     },
     "metadata": {},
     "output_type": "display_data"
    }
   ],
   "source": [
    "# plot MC results\n",
    "plt.hist(mc_results, density=True)\n",
    "plt.ylabel(\"Probability\")\n",
    "plt.xlabel(bd.methods[ipcc][\"unit\"])\n",
    "pd.DataFrame(mc_results).describe() \n",
    "lca.score"
   ]
  },
  {
   "cell_type": "code",
   "execution_count": 8,
   "metadata": {},
   "outputs": [],
   "source": [
    "# Now comparative analysis, select two different transport activities\n",
    "activity_name = 'transport, freight, lorry >32 metric ton, EURO5'    \n",
    "for activity in bd.Database(\"ecoinvent 3.9.1 conseq\"):\n",
    "    if activity['name'] == activity_name:\n",
    "        truckE5 = bd.Database(\"ecoinvent 3.9.1 conseq\").get(activity['code'])\n",
    "\n",
    "activity_name = 'transport, freight, lorry >32 metric ton, EURO6'    \n",
    "for activity in bd.Database(\"ecoinvent 3.9.1 conseq\"):\n",
    "    if activity['name'] == activity_name:\n",
    "        truckE6 = bd.Database(\"ecoinvent 3.9.1 conseq\").get(activity['code'])"
   ]
  },
  {
   "cell_type": "code",
   "execution_count": 14,
   "metadata": {},
   "outputs": [
    {
     "name": "stdout",
     "output_type": "stream",
     "text": [
      "'transport, freight, lorry >32 metric ton, EURO5' (ton kilometer, RoW, None) \n",
      " 'transport, freight, lorry >32 metric ton, EURO6' (ton kilometer, RER, None)\n"
     ]
    }
   ],
   "source": [
    "print(truckE5,'\\n', truckE6) # just a check that we have selected the right activities"
   ]
  },
  {
   "cell_type": "code",
   "execution_count": 15,
   "metadata": {},
   "outputs": [
    {
     "name": "stdout",
     "output_type": "stream",
     "text": [
      "0.1346962247955326\n"
     ]
    }
   ],
   "source": [
    "# make a list with the alternatives\n",
    "demands = [{truckE5: 1}, {truckE6: 1}]  # At home, check by using the same process (e.g. truckE5) two times.\n",
    "\n",
    "# We are calculating the impact of transport with the EURO5 truck\n",
    "mc = bc.LCA(demand=demands[0], method=ipcc, use_distributions=True)\n",
    "mc.lci()\n",
    "mc.lcia()\n",
    "mc_results = [mc.score for _ in zip(range(1), mc)]\n",
    "print(mc_results[0])"
   ]
  },
  {
   "cell_type": "code",
   "execution_count": 17,
   "metadata": {},
   "outputs": [
    {
     "name": "stdout",
     "output_type": "stream",
     "text": [
      "0.1346962247955326 euro5\n",
      "0.07906821219787817 euro6\n",
      "0.1346962247955326 euro5 again\n"
     ]
    }
   ],
   "source": [
    "# look at this first\n",
    "demands = [{truckE5.id: 1}, {truckE6.id: 1}]\n",
    "mc.redo_lcia(demands[0]) # EURO5 truck\n",
    "print(mc.score, 'euro5')\n",
    "mc.redo_lcia(demands[1]) # EURO6 truck. I am using the same technology matrix \"A\" as before to calcualte results\n",
    "print(mc.score, 'euro6')\n",
    "mc.redo_lcia(demands[0]) # EURO5 truck again. Same result. Note how \"redo.lcia\" allows doing dependent sampling\n",
    "print(mc.score, 'euro5 again')"
   ]
  },
  {
   "cell_type": "code",
   "execution_count": 24,
   "metadata": {},
   "outputs": [],
   "source": [
    "# Now for several iterations\n",
    "iterations = 1000\n",
    "simulations = [] # empty list that will contain the restuls of all iterations, for all alternatives\n",
    "\n",
    "for _ in range(iterations):\n",
    "    \n",
    "    next(mc)\n",
    "    mcresults = []    # empty list that will contain results for one iteration, for two alteratives\n",
    "    \n",
    "    for i in demands:\n",
    "        mc.redo_lcia(i)\n",
    "        mcresults.append(mc.score)\n",
    "    \n",
    "    simulations.append(mcresults) # appends one list to another\n",
    "    \n",
    "    \n",
    "df = pd.DataFrame(simulations, columns = ['truckE5','truckE6']) # df is for \"dataframe\"\n",
    "#df.to_csv('ComparativeMCsimulation.csv') # to save it"
   ]
  },
  {
   "cell_type": "code",
   "execution_count": 25,
   "metadata": {},
   "outputs": [
    {
     "data": {
      "text/html": [
       "<div>\n",
       "<style scoped>\n",
       "    .dataframe tbody tr th:only-of-type {\n",
       "        vertical-align: middle;\n",
       "    }\n",
       "\n",
       "    .dataframe tbody tr th {\n",
       "        vertical-align: top;\n",
       "    }\n",
       "\n",
       "    .dataframe thead th {\n",
       "        text-align: right;\n",
       "    }\n",
       "</style>\n",
       "<table border=\"1\" class=\"dataframe\">\n",
       "  <thead>\n",
       "    <tr style=\"text-align: right;\">\n",
       "      <th></th>\n",
       "      <th>truckE5</th>\n",
       "      <th>truckE6</th>\n",
       "    </tr>\n",
       "  </thead>\n",
       "  <tbody>\n",
       "    <tr>\n",
       "      <th>0</th>\n",
       "      <td>0.119986</td>\n",
       "      <td>0.108435</td>\n",
       "    </tr>\n",
       "    <tr>\n",
       "      <th>1</th>\n",
       "      <td>0.107852</td>\n",
       "      <td>0.157431</td>\n",
       "    </tr>\n",
       "    <tr>\n",
       "      <th>2</th>\n",
       "      <td>0.146255</td>\n",
       "      <td>0.144075</td>\n",
       "    </tr>\n",
       "    <tr>\n",
       "      <th>3</th>\n",
       "      <td>0.099362</td>\n",
       "      <td>0.160386</td>\n",
       "    </tr>\n",
       "    <tr>\n",
       "      <th>4</th>\n",
       "      <td>0.103735</td>\n",
       "      <td>0.131736</td>\n",
       "    </tr>\n",
       "    <tr>\n",
       "      <th>...</th>\n",
       "      <td>...</td>\n",
       "      <td>...</td>\n",
       "    </tr>\n",
       "    <tr>\n",
       "      <th>995</th>\n",
       "      <td>0.154848</td>\n",
       "      <td>0.114397</td>\n",
       "    </tr>\n",
       "    <tr>\n",
       "      <th>996</th>\n",
       "      <td>0.096275</td>\n",
       "      <td>0.111592</td>\n",
       "    </tr>\n",
       "    <tr>\n",
       "      <th>997</th>\n",
       "      <td>0.096551</td>\n",
       "      <td>0.071937</td>\n",
       "    </tr>\n",
       "    <tr>\n",
       "      <th>998</th>\n",
       "      <td>0.135994</td>\n",
       "      <td>0.113609</td>\n",
       "    </tr>\n",
       "    <tr>\n",
       "      <th>999</th>\n",
       "      <td>0.106744</td>\n",
       "      <td>0.134348</td>\n",
       "    </tr>\n",
       "  </tbody>\n",
       "</table>\n",
       "<p>1000 rows × 2 columns</p>\n",
       "</div>"
      ],
      "text/plain": [
       "      truckE5   truckE6\n",
       "0    0.119986  0.108435\n",
       "1    0.107852  0.157431\n",
       "2    0.146255  0.144075\n",
       "3    0.099362  0.160386\n",
       "4    0.103735  0.131736\n",
       "..        ...       ...\n",
       "995  0.154848  0.114397\n",
       "996  0.096275  0.111592\n",
       "997  0.096551  0.071937\n",
       "998  0.135994  0.113609\n",
       "999  0.106744  0.134348\n",
       "\n",
       "[1000 rows x 2 columns]"
      ]
     },
     "execution_count": 25,
     "metadata": {},
     "output_type": "execute_result"
    }
   ],
   "source": [
    "df"
   ]
  },
  {
   "cell_type": "code",
   "execution_count": 26,
   "metadata": {},
   "outputs": [
    {
     "data": {
      "text/plain": [
       "<Axes: >"
      ]
     },
     "execution_count": 26,
     "metadata": {},
     "output_type": "execute_result"
    },
    {
     "data": {
      "image/png": "[encoded data removed]",
      "text/plain": [
       "<Figure size 640x480 with 1 Axes>"
      ]
     },
     "metadata": {},
     "output_type": "display_data"
    }
   ],
   "source": [
    "df.plot(kind = 'box')\n",
    "#df.T.melt()"
   ]
  },
  {
   "cell_type": "code",
   "execution_count": 27,
   "metadata": {},
   "outputs": [
    {
     "data": {
      "text/plain": [
       "Text(0, 0.5, 'truckE6 - kg CO2-eq')"
      ]
     },
     "execution_count": 27,
     "metadata": {},
     "output_type": "execute_result"
    },
    {
     "data": {
      "image/png": "[encoded data removed]",
      "text/plain": [
       "<Figure size 640x480 with 1 Axes>"
      ]
     },
     "metadata": {},
     "output_type": "display_data"
    }
   ],
   "source": [
    "# plot one against the other to see if there is any trend\n",
    "plt.plot(df.truckE5, df.truckE6, 'o')\n",
    "plt.xlabel('truckE5 - kg CO2-eq')\n",
    "plt.ylabel('truckE6 - kg CO2-eq')"
   ]
  },
  {
   "cell_type": "code",
   "execution_count": 28,
   "metadata": {},
   "outputs": [
    {
     "name": "stdout",
     "output_type": "stream",
     "text": [
      "434\n",
      "566\n",
      "0\n"
     ]
    },
    {
     "data": {
      "image/png": "[encoded data removed]",
      "text/plain": [
       "<Figure size 640x480 with 1 Axes>"
      ]
     },
     "metadata": {},
     "output_type": "display_data"
    }
   ],
   "source": [
    "# You can see how many times the difference is positive. This is what Simapro does\n",
    "df['diffe'] = df.truckE5 - df.truckE6\n",
    "plt.hist(df.diffe.values)\n",
    "print(len(df.diffe[df.diffe < 0]))\n",
    "print(len(df.diffe[df.diffe > 0]))\n",
    "print(len(df.diffe[df.diffe == 0]))"
   ]
  },
  {
   "cell_type": "code",
   "execution_count": 32,
   "metadata": {},
   "outputs": [
    {
     "data": {
      "text/plain": [
       "(5.225525049365445, 2.1138043147154515e-07)"
      ]
     },
     "execution_count": 32,
     "metadata": {},
     "output_type": "execute_result"
    }
   ],
   "source": [
    "# Statistical testing (using the stats package)\n",
    "# I can use a paired t-test\n",
    "\n",
    "t_value, p_value = stats.ttest_rel(df.truckE5,df.truckE6)\n",
    "t_value, p_value\n",
    "\n",
    "# Low p-values in the t-test indicate a small probability that the two samples have the same average \n",
    "# (that means the two samples are very likely different...)."
   ]
  },
  {
   "cell_type": "code",
   "execution_count": 31,
   "metadata": {},
   "outputs": [
    {
     "name": "stdout",
     "output_type": "stream",
     "text": [
      "7.537981413487362e-13\n",
      "1.948351926900537e-12\n"
     ]
    },
    {
     "data": {
      "image/png": "[encoded data removed]",
      "text/plain": [
       "<Figure size 640x480 with 1 Axes>"
      ]
     },
     "metadata": {},
     "output_type": "display_data"
    }
   ],
   "source": [
    "# But wait! did we check for normality? We can do a Shapiro-Wilk test\n",
    "plt.hist(df.truckE5.values)\n",
    "plt.xlabel('truckE5 - kg CO2-eq')\n",
    "\n",
    "SW_value, SW_p_value = stats.shapiro(df.truckE5)\n",
    "print(SW_p_value) # Not normally distributed...\n",
    "\n",
    "plt.hist(df.truckE6.values)\n",
    "SW_value, SW_p_value = stats.shapiro(df.truckE6)\n",
    "print(SW_p_value) # Not normally distributed...\n",
    "\n",
    "# Low p-values in the SW test indicate a small probability that the sample is from a normal distribution"
   ]
  },
  {
   "cell_type": "code",
   "execution_count": 33,
   "metadata": {},
   "outputs": [
    {
     "data": {
      "text/plain": [
       "(199954.0, 3.6807644641546414e-08)"
      ]
     },
     "execution_count": 33,
     "metadata": {},
     "output_type": "execute_result"
    }
   ],
   "source": [
    "# Alright need a non-parametric test. Wilcox sign rank test\n",
    "s_value, p_value = stats.wilcoxon(df.truckE5, df.truckE6)\n",
    "s_value, p_value # Not bad, significant difference at p < 0.01."
   ]
  },
  {
   "cell_type": "code",
   "execution_count": 37,
   "metadata": {},
   "outputs": [],
   "source": [
    "# What if we had done the MC on the processes independently.\n",
    "# truckE5\n",
    "mc1 = bc.LCA(demand={truckE5: 1}, method=ipcc, use_distributions=True)\n",
    "mc1.lci()\n",
    "mc1.lcia()\n",
    "mc1_results = [mc1.score for _ in zip(range(100), mc1)]\n",
    "\n",
    "# it's still truckE5 !!! I am comparing two times the same activity\n",
    "mc2 = bc.LCA(demand={truckE5: 1}, method=ipcc, use_distributions=True)\n",
    "mc2.lci()\n",
    "mc2.lcia()\n",
    "mc2_results = [mc2.score for _ in zip(range(100), mc2)]\n",
    "\n",
    "df_ind = pd.DataFrame({'mc1': mc1_results, 'mc2' : mc2_results})"
   ]
  },
  {
   "cell_type": "code",
   "execution_count": 38,
   "metadata": {},
   "outputs": [
    {
     "data": {
      "text/html": [
       "<div>\n",
       "<style scoped>\n",
       "    .dataframe tbody tr th:only-of-type {\n",
       "        vertical-align: middle;\n",
       "    }\n",
       "\n",
       "    .dataframe tbody tr th {\n",
       "        vertical-align: top;\n",
       "    }\n",
       "\n",
       "    .dataframe thead th {\n",
       "        text-align: right;\n",
       "    }\n",
       "</style>\n",
       "<table border=\"1\" class=\"dataframe\">\n",
       "  <thead>\n",
       "    <tr style=\"text-align: right;\">\n",
       "      <th></th>\n",
       "      <th>mc1</th>\n",
       "      <th>mc2</th>\n",
       "    </tr>\n",
       "  </thead>\n",
       "  <tbody>\n",
       "    <tr>\n",
       "      <th>0</th>\n",
       "      <td>0.140843</td>\n",
       "      <td>0.108899</td>\n",
       "    </tr>\n",
       "    <tr>\n",
       "      <th>1</th>\n",
       "      <td>0.109620</td>\n",
       "      <td>0.113926</td>\n",
       "    </tr>\n",
       "    <tr>\n",
       "      <th>2</th>\n",
       "      <td>0.100736</td>\n",
       "      <td>0.110067</td>\n",
       "    </tr>\n",
       "    <tr>\n",
       "      <th>3</th>\n",
       "      <td>0.110933</td>\n",
       "      <td>0.116587</td>\n",
       "    </tr>\n",
       "    <tr>\n",
       "      <th>4</th>\n",
       "      <td>0.112622</td>\n",
       "      <td>0.102066</td>\n",
       "    </tr>\n",
       "  </tbody>\n",
       "</table>\n",
       "</div>"
      ],
      "text/plain": [
       "        mc1       mc2\n",
       "0  0.140843  0.108899\n",
       "1  0.109620  0.113926\n",
       "2  0.100736  0.110067\n",
       "3  0.110933  0.116587\n",
       "4  0.112622  0.102066"
      ]
     },
     "execution_count": 38,
     "metadata": {},
     "output_type": "execute_result"
    }
   ],
   "source": [
    "df_ind.head()"
   ]
  },
  {
   "cell_type": "code",
   "execution_count": 39,
   "metadata": {},
   "outputs": [],
   "source": [
    "# compare to this\n",
    "demands = [{truckE5: 1}, {truckE5: 1}]  # Two times truckE5! I want to see if the MC results are paired\n",
    "\n",
    "mc = bc.LCA(demand=demands[0], method=ipcc, use_distributions=True)\n",
    "mc.lci()\n",
    "mc.lcia()\n",
    "\n",
    "simulations = []\n",
    "\n",
    "demands = [{truckE5.id: 1}, {truckE5.id: 1}]  \n",
    "\n",
    "for _ in  zip(range(100), mc):\n",
    "    mc.score\n",
    "    mcresults = []    \n",
    "    for i in demands:\n",
    "        mc.redo_lcia(i)\n",
    "        mcresults.append(mc.score)\n",
    "    simulations.append(mcresults)\n",
    "    \n",
    "    \n",
    "simulations\n",
    "df_dep = pd.DataFrame(simulations, columns = ['mc1','mc2'])"
   ]
  },
  {
   "cell_type": "code",
   "execution_count": 40,
   "metadata": {},
   "outputs": [
    {
     "data": {
      "text/html": [
       "<div>\n",
       "<style scoped>\n",
       "    .dataframe tbody tr th:only-of-type {\n",
       "        vertical-align: middle;\n",
       "    }\n",
       "\n",
       "    .dataframe tbody tr th {\n",
       "        vertical-align: top;\n",
       "    }\n",
       "\n",
       "    .dataframe thead th {\n",
       "        text-align: right;\n",
       "    }\n",
       "</style>\n",
       "<table border=\"1\" class=\"dataframe\">\n",
       "  <thead>\n",
       "    <tr style=\"text-align: right;\">\n",
       "      <th></th>\n",
       "      <th>mc1</th>\n",
       "      <th>mc2</th>\n",
       "    </tr>\n",
       "  </thead>\n",
       "  <tbody>\n",
       "    <tr>\n",
       "      <th>0</th>\n",
       "      <td>0.097214</td>\n",
       "      <td>0.097214</td>\n",
       "    </tr>\n",
       "    <tr>\n",
       "      <th>1</th>\n",
       "      <td>0.144924</td>\n",
       "      <td>0.144924</td>\n",
       "    </tr>\n",
       "    <tr>\n",
       "      <th>2</th>\n",
       "      <td>0.140919</td>\n",
       "      <td>0.140919</td>\n",
       "    </tr>\n",
       "    <tr>\n",
       "      <th>3</th>\n",
       "      <td>0.109087</td>\n",
       "      <td>0.109087</td>\n",
       "    </tr>\n",
       "    <tr>\n",
       "      <th>4</th>\n",
       "      <td>0.121305</td>\n",
       "      <td>0.121305</td>\n",
       "    </tr>\n",
       "  </tbody>\n",
       "</table>\n",
       "</div>"
      ],
      "text/plain": [
       "        mc1       mc2\n",
       "0  0.097214  0.097214\n",
       "1  0.144924  0.144924\n",
       "2  0.140919  0.140919\n",
       "3  0.109087  0.109087\n",
       "4  0.121305  0.121305"
      ]
     },
     "execution_count": 40,
     "metadata": {},
     "output_type": "execute_result"
    }
   ],
   "source": [
    "df_dep.head()"
   ]
  },
  {
   "cell_type": "code",
   "execution_count": 41,
   "metadata": {},
   "outputs": [
    {
     "data": {
      "text/plain": [
       "<Axes: title={'center': 'dependent sampling'}>"
      ]
     },
     "execution_count": 41,
     "metadata": {},
     "output_type": "execute_result"
    },
    {
     "data": {
      "image/png": "[encoded data removed]",
      "text/plain": [
       "<Figure size 640x480 with 1 Axes>"
      ]
     },
     "metadata": {},
     "output_type": "display_data"
    },
    {
     "data": {
      "image/png": "[encoded data removed]",
      "text/plain": [
       "<Figure size 640x480 with 1 Axes>"
      ]
     },
     "metadata": {},
     "output_type": "display_data"
    }
   ],
   "source": [
    "# visual inspection\n",
    "df_ind.plot(kind = 'box', title = \"independent sampling\")\n",
    "df_dep.plot(kind = 'box', title = \"dependent sampling\")"
   ]
  },
  {
   "cell_type": "code",
   "execution_count": 42,
   "metadata": {},
   "outputs": [
    {
     "data": {
      "text/plain": [
       "[<matplotlib.lines.Line2D at 0x12451edb0>]"
      ]
     },
     "execution_count": 42,
     "metadata": {},
     "output_type": "execute_result"
    },
    {
     "data": {
      "image/png": "[encoded data removed]",
      "text/plain": [
       "<Figure size 640x480 with 1 Axes>"
      ]
     },
     "metadata": {},
     "output_type": "display_data"
    }
   ],
   "source": [
    "# Plot them together and one against the other\n",
    "plt.plot(df_ind.mc1, df_ind.mc2, 'o')\n",
    "plt.plot(df_dep.mc1, df_dep.mc2, 'o') # see?"
   ]
  },
  {
   "cell_type": "code",
   "execution_count": 43,
   "metadata": {},
   "outputs": [
    {
     "name": "stdout",
     "output_type": "stream",
     "text": [
      "nan nan\n"
     ]
    }
   ],
   "source": [
    "# and of course:\n",
    "t_value, p_value = stats.ttest_rel(df_dep.mc1, df_dep.mc2)\n",
    "print(t_value, p_value)  # no difference AT ALL (as expected)\n",
    "\n",
    "# t_value, p_value = stats.ttest_rel(df_ind.mc1, df_ind.mc2)\n",
    "# print(t_value, p_value)  # no difference (as expected! But still some variance even if it's the same perocess!)\n",
    "\n",
    "# s_value, p_value = stats.wilcoxon(df_ind.mc1, df_ind.mc2)\n",
    "# print(s_value, p_value)\n"
   ]
  },
  {
   "cell_type": "markdown",
   "metadata": {},
   "source": [
    "# Additional resources to understand LCA statistics\n",
    "\n",
    "When applying a statistical approach to LCA, there are some key concepts that is important to understand in detail: distribution types, error propagation, statistical testing. If you are new to statistics, a first step is reading the wikipedia pages explaining [Monte Carlo method](https://en.wikipedia.org/wiki/Monte_Carlo_method), general [statistical hypothesis testing](https://en.wikipedia.org/wiki/Statistical_hypothesis_testing), [parametric](https://en.wikipedia.org/wiki/Parametric_statistics) and [nonparametric](https://en.wikipedia.org/wiki/Nonparametric_statistics) statistics, [normality tests](https://en.wikipedia.org/wiki/Normality_test), [t-test](https://en.wikipedia.org/wiki/Student%27s_t-test#Alternatives_to_the_t-test_for_location_problems), [Wilcoxon signed-rank test](https://en.wikipedia.org/wiki/Wilcoxon_signed-rank_test). When implementing this in Brightway2, it is then useful to read the corresponding python documentation for [statistical functions](https://docs.scipy.org/doc/scipy/reference/stats.html) of the stats package. For example the following functions were used in this script: [Shapiro-Wilk test](https://docs.scipy.org/doc/scipy/reference/generated/scipy.stats.shapiro.html#scipy.stats.shapiro), [paired t-test](https://docs.scipy.org/doc/scipy/reference/generated/scipy.stats.ttest_rel.html#scipy.stats.ttest_rel), and [Wilcoxon signed-rank test](https://docs.scipy.org/doc/scipy/reference/generated/scipy.stats.wilcoxon.html#scipy.stats.wilcoxon). \n",
    "\n",
    "If you want to learn more, buy a good introductory statistics book. Ideally one which has a good balance between mathematical expressions and pedagogic explanations. There are also many open source or free ones, I can recommend e.g. [Statistics](https://en.wikibooks.org/wiki/Statistics) which explains testing in general and it's written in a way which is easy to understand, [The Elements of Data Analytic Style](https://leanpub.com/datastyle) which introduces to data analysis in general, and [Statistical inference for data science](http://leanpub.com/LittleInferenceBook) which is is very practical and especially useful if you also know R. In general I would encourage to learn R too if you plan to work with stats - I honestly prefer it to python for doing statistical analysis and also for plots.\n",
    "\n"
   ]
  },
  {
   "cell_type": "markdown",
   "metadata": {},
   "source": [
    "# Check also these\n",
    "    \n",
    "#### On Wikipedia\n",
    "\n",
    "Monte Carlo method \n",
    "https://en.wikipedia.org/wiki/Monte_Carlo_method\n",
    "\n",
    "Normal distribution\n",
    "https://en.wikipedia.org/wiki/File:Standard_deviation_diagram.svg#/media/File:Standard_deviation_diagram.svg\n",
    "\n",
    "Parameters of a logrormal distribution\n",
    "https://en.wikipedia.org/wiki/Log-normal_distribution#/media/File:LogNormal17.jpg\n",
    "\n",
    "\n",
    "#### On the Brightway website docs\n",
    "\n",
    "Storing uncertain values\n",
    "https://2.docs.brightway.dev/intro.html#storing-uncertain-values\n",
    "\n",
    "\n",
    "#### Papers on this topic (recent ones)\n",
    "\n",
    "A critique (not very clear tbh but still, a perspective) \n",
    "https://pub.epsilon.slu.se/19792/1/von_bromssen_c_et_al_201229.pdf\n",
    "\n",
    "How many montecarlo runs? \n",
    "https://link.springer.com/article/10.1007/s11367-019-01698-4\n",
    "\n",
    "Ways of doing comparative testing\n",
    "https://link.springer.com/article/10.1007/s11367-020-01851-4\n"
   ]
  }
 ],
 "metadata": {
  "kernelspec": {
   "display_name": "Python 3 (ipykernel)",
   "language": "python",
   "name": "python3"
  },
  "language_info": {
   "codemirror_mode": {
    "name": "ipython",
    "version": 3
   },
   "file_extension": ".py",
   "mimetype": "text/x-python",
   "name": "python",
   "nbconvert_exporter": "python",
   "pygments_lexer": "ipython3",
   "version": "3.12.2"
  }
 },
 "nbformat": 4,
 "nbformat_minor": 4
}
