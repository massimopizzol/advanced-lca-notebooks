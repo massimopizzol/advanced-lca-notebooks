{
 "cells": [
  {
   "cell_type": "markdown",
   "metadata": {},
   "source": [
    "# Create and locate a brightway project"
   ]
  },
  {
   "cell_type": "markdown",
   "metadata": {},
   "source": [
    "In Brightway, a project is made of three databases: an inventory database, a biosphere database (with elementary flows and natural compartments) as well as an optional impacts characterization database.\n",
    "\n",
    "Contrary to many LCA sofltware, each project is independent and has its own databases. Hence, they can easiy be used by different brigthway installations."
   ]
  },
  {
   "cell_type": "markdown",
   "metadata": {},
   "source": [
    "This creates an empty project in your default anaconda environment"
   ]
  },
  {
   "cell_type": "code",
   "execution_count": 1,
   "metadata": {},
   "outputs": [],
   "source": [
    "import brightway2 as bw\n",
    "\n",
    "#bw.projects.create_project('a_dummy_project')"
   ]
  },
  {
   "cell_type": "markdown",
   "metadata": {},
   "source": [
    "Your project is created, but you're not yet inside it. This will get you into your project."
   ]
  },
  {
   "cell_type": "code",
   "execution_count": 3,
   "metadata": {},
   "outputs": [],
   "source": [
    "bw.projects.set_current('a_dummy_project')"
   ]
  },
  {
   "cell_type": "markdown",
   "metadata": {},
   "source": [
    "You can check at anytime in which project you're in like so."
   ]
  },
  {
   "cell_type": "code",
   "execution_count": 2,
   "metadata": {},
   "outputs": [
    {
     "data": {
      "text/plain": [
       "'default'"
      ]
     },
     "execution_count": 2,
     "metadata": {},
     "output_type": "execute_result"
    }
   ],
   "source": [
    "bw.projects.current"
   ]
  },
  {
   "cell_type": "markdown",
   "metadata": {},
   "source": [
    "You can also check all the projects that are installed on your computer, like below. It returns a list of projects, the number of databases in each projects, and their size (in GB)."
   ]
  },
  {
   "cell_type": "code",
   "execution_count": 3,
   "metadata": {},
   "outputs": [
    {
     "data": {
      "text/plain": [
       "[('B4B18', 1, 0.00010404),\n",
       " ('BTC02', 8, 1.389752675),\n",
       " ('BTC_Att_LCA', 3, 1.076434672),\n",
       " ('Biowood', 3, 1.127900188),\n",
       " ('C3BO', 6, 0.58089579),\n",
       " ('CCU', 3, 0.559804676),\n",
       " ('ConseqUncertainty', 2, 0.574881028),\n",
       " ('GSA', 1, 0.000108521),\n",
       " ('Giovanni', 3, 0.154611521),\n",
       " ('HH', 4, 0.575478664),\n",
       " ('HH2', 5, 0.607974453),\n",
       " ('Massimo', 0, 8.8248e-05),\n",
       " ('Microalgae_Sim', 3, 0.750390311),\n",
       " ('a_dummy_project', 0, 8.8248e-05),\n",
       " ('advlca19', 8, 0.560139808),\n",
       " ('advlca19_heat_exercise', 1, 0.000101896),\n",
       " ('advlca20', 8, 0.795252712),\n",
       " ('advlca20_heat_exercise', 1, 0.000101871),\n",
       " ('advlca21', 10, 0.773213763),\n",
       " ('bw2_import_ecoinvent_2017', 3, 0.574893122),\n",
       " ('bw2_import_ecoinvent_3.3', 0, 9.2371e-05),\n",
       " ('bw2_import_ecoinvent_3.4', 3, 0.607561337),\n",
       " ('bw2_seminar_ex1', 0, 8.828e-05),\n",
       " ('chem_paper', 2, 1.117541431),\n",
       " ('default', 1, 0.126521555),\n",
       " ('exiobase', 0, 8.1998e-05),\n",
       " ('exiobase_test', 2, 1.67836759),\n",
       " ('import from csv file', 2, 0.129280131),\n",
       " ('navigate_matrices', 1, 9.9908e-05),\n",
       " ('non-linearity', 4, 0.773238386),\n",
       " ('test_act_create', 1, 0.011570071),\n",
       " ('test_exio3_import', 2, 3.822813685),\n",
       " ('test_exio3_import_simple', 2, 3.722505145),\n",
       " ('testei34', 5, 0.607660328),\n",
       " ('testparameters', 1, 9.8723e-05),\n",
       " ('testtime', 0, 9.2371e-05)]"
      ]
     },
     "execution_count": 3,
     "metadata": {},
     "output_type": "execute_result"
    }
   ],
   "source": [
    "bw.projects.report()"
   ]
  },
  {
   "cell_type": "markdown",
   "metadata": {},
   "source": [
    "Here you can check where the project you created is physically stored on your computer."
   ]
  },
  {
   "cell_type": "code",
   "execution_count": 4,
   "metadata": {},
   "outputs": [
    {
     "data": {
      "text/plain": [
       "'/Users/massimo/Library/Application Support/Brightway3/default.c21f969b5f03d33d43e04f8f136e7682/output'"
      ]
     },
     "execution_count": 4,
     "metadata": {},
     "output_type": "execute_result"
    }
   ],
   "source": [
    "bw.projects.output_dir # Not very convenient to find."
   ]
  },
  {
   "cell_type": "markdown",
   "metadata": {},
   "source": [
    "And here you can ask to get a list of databases your project contains."
   ]
  },
  {
   "cell_type": "code",
   "execution_count": 7,
   "metadata": {},
   "outputs": [
    {
     "data": {
      "text/plain": [
       "Databases dictionary with 0 objects"
      ]
     },
     "execution_count": 7,
     "metadata": {},
     "output_type": "execute_result"
    }
   ],
   "source": [
    "bw.databases"
   ]
  },
  {
   "cell_type": "markdown",
   "metadata": {},
   "source": [
    "Which returns an empty list of databases, and that's normal since we have not imported any databases into the project."
   ]
  },
  {
   "cell_type": "markdown",
   "metadata": {},
   "source": [
    "We can now try to create a project in a more convenient location. In this case, in a Dropbox folder.\n",
    "\n",
    "For this, we need to specify the path of the project we want to create/access before we load the brightway package.\n",
    "\n",
    "You may need however to restart this notebook (kernel -> restart) so as to unload the brightway package."
   ]
  },
  {
   "cell_type": "code",
   "execution_count": 1,
   "metadata": {},
   "outputs": [],
   "source": [
    "import os # allows to access directories\n",
    "\n",
    "mynewdirectory = \"/Users/massimo/Documents/Databases/BWprojects\" # I want to place the project here"
   ]
  },
  {
   "cell_type": "code",
   "execution_count": 2,
   "metadata": {
    "scrolled": true
   },
   "outputs": [],
   "source": [
    "os.environ['BRIGHTWAY2_DIR'] = mynewdirectory # sets the bw project in the new directory"
   ]
  },
  {
   "cell_type": "code",
   "execution_count": 3,
   "metadata": {},
   "outputs": [
    {
     "name": "stdout",
     "output_type": "stream",
     "text": [
      "Using environment variable BRIGHTWAY2_DIR for data directory:\n",
      "/Users/massimo/Documents/Databases/BWprojects\n"
     ]
    }
   ],
   "source": [
    "import brightway2 as bw # Usual import of brightway\n",
    "\n",
    "bw.projects.set_current('a_dummy_project') # create/load the project"
   ]
  },
  {
   "cell_type": "markdown",
   "metadata": {},
   "source": [
    "We can now check that, indeed, your prject folder is now stored within the dropbox folder \"Example_folder\"."
   ]
  },
  {
   "cell_type": "code",
   "execution_count": 4,
   "metadata": {},
   "outputs": [
    {
     "data": {
      "text/plain": [
       "'/Users/massimo/Documents/Databases/BWprojects/a_dummy_project.ed88f72befc913792f57e4bbad8b7298/output'"
      ]
     },
     "execution_count": 4,
     "metadata": {},
     "output_type": "execute_result"
    }
   ],
   "source": [
    "bw.projects.output_dir"
   ]
  },
  {
   "cell_type": "markdown",
   "metadata": {},
   "source": [
    "When sharing a common project folder on a syncing service like Dropbox, you need to make sure that only one user is allowed to write in the project at any given time, otherwise the database may end up corrupted. To do so, you can add the line below. This line access the configuration pickle (what's a [pickle](https://pythontips.com/2013/08/02/what-is-pickle-in-python/)?) of your project (each project has a configuration pickle).\n",
    "\n",
    "If one user is working within the project, the other users will be allowed to \"read\" (access and see data and results), but not modify. Once the user exits the project, the other users will be allowed to write int he project."
   ]
  },
  {
   "cell_type": "code",
   "execution_count": 5,
   "metadata": {},
   "outputs": [],
   "source": [
    "bw.config.p['lockable'] = True"
   ]
  },
  {
   "cell_type": "markdown",
   "metadata": {},
   "source": [
    "And finally, we can delete our project."
   ]
  },
  {
   "cell_type": "code",
   "execution_count": 6,
   "metadata": {},
   "outputs": [
    {
     "data": {
      "text/plain": [
       "'default'"
      ]
     },
     "execution_count": 6,
     "metadata": {},
     "output_type": "execute_result"
    }
   ],
   "source": [
    "bw.projects.delete_project(\"a_dummy_project\", delete_dir=True)"
   ]
  },
  {
   "cell_type": "markdown",
   "metadata": {},
   "source": [
    "If you do not specify a name in bw.projects.delete_project(), the currently active project is deleted. If you specify delete_dir=False, only the porject name is deleted, but the data remains."
   ]
  },
  {
   "cell_type": "markdown",
   "metadata": {},
   "source": [
    "Right now, the project \"a_dummy_project\" is not listed anymore in my directory. Note that the project called \"default\" is always created when specifying a new location for project storing."
   ]
  },
  {
   "cell_type": "code",
   "execution_count": 7,
   "metadata": {},
   "outputs": [
    {
     "data": {
      "text/plain": [
       "Brightway2 projects manager with 1 objects:\n",
       "\tdefault\n",
       "Use `projects.report()` to get a report on all projects."
      ]
     },
     "execution_count": 7,
     "metadata": {},
     "output_type": "execute_result"
    }
   ],
   "source": [
    "bw.projects"
   ]
  },
  {
   "cell_type": "code",
   "execution_count": 8,
   "metadata": {},
   "outputs": [
    {
     "data": {
      "text/plain": [
       "[('default', 0, 8.21e-05)]"
      ]
     },
     "execution_count": 8,
     "metadata": {},
     "output_type": "execute_result"
    }
   ],
   "source": [
    "bw.projects.report()"
   ]
  }
 ],
 "metadata": {
  "kernelspec": {
   "display_name": "Python 3",
   "language": "python",
   "name": "python3"
  },
  "language_info": {
   "codemirror_mode": {
    "name": "ipython",
    "version": 3
   },
   "file_extension": ".py",
   "mimetype": "text/x-python",
   "name": "python",
   "nbconvert_exporter": "python",
   "pygments_lexer": "ipython3",
   "version": "3.9.12"
  }
 },
 "nbformat": 4,
 "nbformat_minor": 2
}
