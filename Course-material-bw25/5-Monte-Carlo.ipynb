{
 "cells": [
  {
   "cell_type": "markdown",
   "metadata": {},
   "source": [
    "# Run Monte Carlo Simulation in Brightway"
   ]
  },
  {
   "cell_type": "markdown",
   "metadata": {},
   "source": [
    "Now we are ready to start doing more intense simulations. In particular Brightway2.5 is great to perform fast error propagation with Monte Carlo simulation. \n",
    "\n",
    "This script shows how to add uncertainties to your home-made product system and run a Monte Carlo simulation. \n",
    "\n",
    "To better understand this script, I recommend reading read the paper by Limpert et al. (2001), that is a 'classic' and explains the log-normal distribution.\n",
    "\n",
    "_Limpert, E., Stahel, W. A., & Abbt, M. (2001). Log-normal distributions across the sciences: Keys and clues. Bioscience, 51(5), 341-352. [https://doi.org/10.1641/0006-3568(2001)051[0341:LNDATS]2.0.CO;2](https://academic.oup.com/bioscience/article/51/5/341/243981)_"
   ]
  },
  {
   "cell_type": "code",
   "execution_count": 1,
   "metadata": {},
   "outputs": [],
   "source": [
    "# Import brightway2.5 packages\n",
    "import bw2calc as bc\n",
    "import bw2data as bd\n",
    "import pandas as pd\n",
    "import numpy as np\n",
    "import matplotlib.pyplot as plt"
   ]
  },
  {
   "cell_type": "code",
   "execution_count": 3,
   "metadata": {},
   "outputs": [],
   "source": [
    "bd.projects.set_current('advlca25')"
   ]
  },
  {
   "cell_type": "code",
   "execution_count": 4,
   "metadata": {},
   "outputs": [
    {
     "data": {
      "text/plain": [
       "Databases dictionary with 5 object(s):\n",
       "\tbiosphere3\n",
       "\tecoinvent 3.9.1 conseq\n",
       "\texldb\n",
       "\ttestbiosphere\n",
       "\ttestdb"
      ]
     },
     "execution_count": 4,
     "metadata": {},
     "output_type": "execute_result"
    }
   ],
   "source": [
    "bd.databases"
   ]
  },
  {
   "cell_type": "markdown",
   "metadata": {},
   "source": [
    "A short recap, let's create a foreground database and run LCA calculations"
   ]
  },
  {
   "cell_type": "code",
   "execution_count": 6,
   "metadata": {},
   "outputs": [
    {
     "name": "stderr",
     "output_type": "stream",
     "text": [
      "100%|██████████████████████████████████████████| 3/3 [00:00<00:00, 13573.80it/s]\n"
     ]
    },
    {
     "name": "stdout",
     "output_type": "stream",
     "text": [
      "Vacuuming database \n",
      "80.0\n"
     ]
    }
   ],
   "source": [
    "t_db = bd.Database('testdb')\n",
    "\n",
    "t_db.write({  # A simplified version, only CO2 as emission\n",
    "    ('testdb', 'Electricity production'): {\n",
    "        'name': 'Electricity production',\n",
    "        'unit': 'kWh',\n",
    "        'location': 'GLO',\n",
    "        'exchanges': [{\n",
    "                'input': ('testdb', 'Fuel production'),\n",
    "                'amount': -2,\n",
    "                'unit': 'kg',\n",
    "                'type': 'technosphere'\n",
    "            }, {\n",
    "                'input': ('testdb', 'Carbon dioxide'),\n",
    "                'amount': 1,\n",
    "                'unit': 'kg',\n",
    "                'type': 'biosphere'\n",
    "            }, {\n",
    "                'input': ('testdb', 'Electricity production'),\n",
    "                'amount': 10,\n",
    "                'unit': 'kWh',\n",
    "                'type': 'production'\n",
    "            }]\n",
    "        },\n",
    "    ('testdb', 'Fuel production'): {\n",
    "        'name': 'Fuel production',\n",
    "        'unit': 'kg',\n",
    "        'location': 'GLO',\n",
    "        'exchanges': [{\n",
    "                'input': ('testdb', 'Carbon dioxide'),\n",
    "                'amount': 10,\n",
    "                'unit': 'kg',\n",
    "                'type': 'biosphere'\n",
    "            }, {\n",
    "                'input': ('testdb', 'Fuel production'),\n",
    "                'amount': 100,\n",
    "                'unit': 'kg',\n",
    "                'type': 'production'\n",
    "            }]\n",
    "    },\n",
    "    ('testdb', 'Carbon dioxide'): {'name': 'Carbon dioxide', 'unit': 'kg', 'type': 'biosphere'}\n",
    "    })\n",
    "\n",
    "\n",
    "myLCIAdata = [[('testdb', 'Carbon dioxide'), 1.0]]\n",
    "method_key = ('simplemethod', 'imaginaryendpoint', 'imaginarymidpoint')\n",
    "my_method = bd.Method(method_key)\n",
    "my_method.validate(myLCIAdata)\n",
    "my_method.register()\n",
    "my_method.write(myLCIAdata)\n",
    "my_method.load()\n",
    "\n",
    "functional_unit = {t_db.get('Electricity production'): 1000}\n",
    "lca = bc.LCA(functional_unit, method_key)  # LCA calculations with method\n",
    "lca.lci()\n",
    "lca.lcia()\n",
    "\n",
    "print(lca.score) # Will be different from Script 1."
   ]
  },
  {
   "cell_type": "markdown",
   "metadata": {},
   "source": [
    "What we need to rememebr is that 80.0 is the **static** or **deterministic** result of this LCA. We need to remember that for later."
   ]
  },
  {
   "cell_type": "markdown",
   "metadata": {},
   "source": [
    "###  Exercise / Homework\n",
    "Can you obtain the same result by removing the exchanges from the database created yesterday? \n",
    "Hint: you can do this using the .Delete() method applied to an exchange."
   ]
  },
  {
   "cell_type": "markdown",
   "metadata": {},
   "source": [
    "# Now add uncertainty \n",
    "\n",
    "See a tutorial [here](http://nbviewer.jupyter.org/urls/bitbucket.org/cmutel/brightway2/raw/default/notebooks/Activities%20and%20exchanges.ipynb)\n",
    "\n",
    "**Note**: uncertainties are always added to EXCHANGES (not to activities...)\n",
    "\n",
    "So I'll get one  exchange from one activity"
   ]
  },
  {
   "cell_type": "code",
   "execution_count": 7,
   "metadata": {},
   "outputs": [
    {
     "data": {
      "text/plain": [
       "Exchange: 1 kg 'Carbon dioxide' (kg, None, None) to 'Electricity production' (kWh, GLO, None)>"
      ]
     },
     "execution_count": 7,
     "metadata": {},
     "output_type": "execute_result"
    }
   ],
   "source": [
    "el = t_db.get('Electricity production')  \n",
    "co2_exc = list(el.exchanges())[1]   # the first exchange\n",
    "co2_exc"
   ]
  },
  {
   "cell_type": "code",
   "execution_count": 8,
   "metadata": {},
   "outputs": [],
   "source": [
    "# Lognormal distribution first\n",
    "from stats_arrays import LognormalUncertainty\n",
    "import numpy as np\n",
    "co2_exc['uncertainty type'] = LognormalUncertainty.id # this is an integer (not a float)\n",
    "co2_exc['loc'], co2_exc['scale'] = np.log(co2_exc['amount']), np.log(1.01) \n",
    "'''The lognorm dist is defined here two parameters: location and scale \n",
    "i.e. by the log of the geometric mean and by the geometric standard dev'''\n",
    "co2_exc.save() # important"
   ]
  },
  {
   "cell_type": "code",
   "execution_count": 9,
   "metadata": {},
   "outputs": [
    {
     "data": {
      "text/plain": [
       "Exchange: -2 kg 'Fuel production' (kg, GLO, None) to 'Electricity production' (kWh, GLO, None)>"
      ]
     },
     "execution_count": 9,
     "metadata": {},
     "output_type": "execute_result"
    }
   ],
   "source": [
    "el = t_db.get('Electricity production')  \n",
    "fuel_exc = list(el.exchanges())[0]   # the first exchange\n",
    "fuel_exc"
   ]
  },
  {
   "cell_type": "code",
   "execution_count": 10,
   "metadata": {},
   "outputs": [],
   "source": [
    "# Lognormal distribution first\n",
    "from stats_arrays import LognormalUncertainty\n",
    "import numpy as np\n",
    "fuel_exc['uncertainty type'] = LognormalUncertainty.id # this is an integer (not a float)\n",
    "fuel_exc['loc'], fuel_exc['scale'] = np.log(-fuel_exc['amount']), np.log(1.01)\n",
    "fuel_exc['negative'] = True\n",
    "'''The lognorm dist is defined here two parameters: location and scale \n",
    "i.e. by the log of the geometric mean and by the geometric standard dev'''\n",
    "fuel_exc.save() # important"
   ]
  },
  {
   "cell_type": "code",
   "execution_count": 11,
   "metadata": {},
   "outputs": [
    {
     "data": {
      "text/plain": [
       "{'uncertainty type': 2,\n",
       " 'loc': 0.6931471805599453,\n",
       " 'scale': 0.009950330853168092,\n",
       " 'negative': True}"
      ]
     },
     "execution_count": 11,
     "metadata": {},
     "output_type": "execute_result"
    }
   ],
   "source": [
    "fuel_exc.uncertainty  #"
   ]
  },
  {
   "cell_type": "code",
   "execution_count": 13,
   "metadata": {},
   "outputs": [
    {
     "data": {
      "text/plain": [
       "{'uncertainty type': 2, 'loc': 0.0, 'scale': 0.009950330853168092}"
      ]
     },
     "execution_count": 13,
     "metadata": {},
     "output_type": "execute_result"
    }
   ],
   "source": [
    "co2_exc.uncertainty  # check that info is stored"
   ]
  },
  {
   "cell_type": "code",
   "execution_count": 14,
   "metadata": {},
   "outputs": [
    {
     "data": {
      "text/plain": [
       "{'input': ('testdb', 'Carbon dioxide'),\n",
       " 'amount': 1,\n",
       " 'unit': 'kg',\n",
       " 'type': 'biosphere',\n",
       " 'output': ('testdb', 'Electricity production'),\n",
       " 'uncertainty type': 2,\n",
       " 'loc': 0.0,\n",
       " 'scale': 0.009950330853168092}"
      ]
     },
     "execution_count": 14,
     "metadata": {},
     "output_type": "execute_result"
    }
   ],
   "source": [
    "co2_exc.as_dict()  # Now uncertainty is included"
   ]
  },
  {
   "cell_type": "code",
   "execution_count": 15,
   "metadata": {},
   "outputs": [
    {
     "data": {
      "text/plain": [
       "array([1.00710842, 1.00396948, 1.0128598 , 0.99750126, 1.00471886,\n",
       "       1.00183937, 0.99321386, 0.98962483, 1.00253049, 1.00972307])"
      ]
     },
     "execution_count": 15,
     "metadata": {},
     "output_type": "execute_result"
    }
   ],
   "source": [
    "co2_exc.random_sample(n=10)  # nice"
   ]
  },
  {
   "cell_type": "code",
   "execution_count": 16,
   "metadata": {},
   "outputs": [
    {
     "data": {
      "text/plain": [
       "(array([  4.,  26.,  79., 188., 251., 232., 130.,  77.,  12.,   1.]),\n",
       " array([0.96740515, 0.97411613, 0.98082711, 0.98753809, 0.99424906,\n",
       "        1.00096004, 1.00767102, 1.01438199, 1.02109297, 1.02780395,\n",
       "        1.03451492]),\n",
       " <BarContainer object of 10 artists>)"
      ]
     },
     "execution_count": 16,
     "metadata": {},
     "output_type": "execute_result"
    },
    {
     "data": {
      "image/png": "[encoded data removed]",
      "text/plain": [
       "<Figure size 640x480 with 1 Axes>"
      ]
     },
     "metadata": {},
     "output_type": "display_data"
    }
   ],
   "source": [
    "# if you want to see this\n",
    "%matplotlib inline\n",
    "plt.hist(co2_exc.random_sample(n=1000))"
   ]
  },
  {
   "cell_type": "code",
   "execution_count": 17,
   "metadata": {},
   "outputs": [],
   "source": [
    "# this in case you want to try with normal dist\n",
    "#from stats_arrays import NormalUncertainty\n",
    "\n",
    "#co2_exc['uncertainty type'] = NormalUncertainty.id\n",
    "#co2_exc['loc'], co2_exc['scale'] = 1, 0.01\n",
    "#co2_exc.save()\n",
    "#co2_exc.uncertainty  # check that\n",
    "#co2_exc.as_dict()  # OK"
   ]
  },
  {
   "cell_type": "markdown",
   "metadata": {},
   "source": [
    "#  Now MC simulation"
   ]
  },
  {
   "cell_type": "code",
   "execution_count": 19,
   "metadata": {},
   "outputs": [
    {
     "data": {
      "text/plain": [
       "{'uncertainty type': 2,\n",
       " 'loc': 0.6931471805599453,\n",
       " 'scale': 0.009950330853168092,\n",
       " 'negative': True}"
      ]
     },
     "execution_count": 19,
     "metadata": {},
     "output_type": "execute_result"
    }
   ],
   "source": [
    "# Check again that uncertainty info is stored\n",
    "list(el.exchanges())[0].uncertainty"
   ]
  },
  {
   "cell_type": "code",
   "execution_count": 21,
   "metadata": {},
   "outputs": [
    {
     "data": {
      "text/plain": [
       "Methods dictionary with 763 objects, including:\n",
       "\t('CML v4.8 2016', 'acidification', 'acidification (incl. fate, average Europe total, A&B)')\n",
       "\t('CML v4.8 2016', 'climate change', 'global warming potential (GWP100)')\n",
       "\t('CML v4.8 2016', 'ecotoxicity: freshwater', 'freshwater aquatic ecotoxicity (FAETP inf)')\n",
       "\t('CML v4.8 2016', 'ecotoxicity: marine', 'marine aquatic ecotoxicity (MAETP inf)')\n",
       "\t('CML v4.8 2016', 'ecotoxicity: terrestrial', 'terrestrial ecotoxicity (TETP inf)')\n",
       "\t('CML v4.8 2016', 'energy resources: non-renewable', 'abiotic depletion potential (ADP): fossil fuels')\n",
       "\t('CML v4.8 2016', 'eutrophication', 'eutrophication (fate not incl.)')\n",
       "\t('CML v4.8 2016', 'human toxicity', 'human toxicity (HTP inf)')\n",
       "\t('CML v4.8 2016', 'material resources: metals/minerals', 'abiotic depletion potential (ADP): elements (ultimate reserves)')\n",
       "\t('CML v4.8 2016', 'ozone depletion', 'ozone layer depletion (ODP steady state)')\n",
       "Use `list(this object)` to get the complete list."
      ]
     },
     "execution_count": 21,
     "metadata": {},
     "output_type": "execute_result"
    }
   ],
   "source": [
    "bd.methods"
   ]
  },
  {
   "cell_type": "markdown",
   "metadata": {},
   "source": [
    "#### Note: the way MC simulation is run in bw2.5 is slightly divverent than in bw2"
   ]
  },
  {
   "cell_type": "code",
   "execution_count": 33,
   "metadata": {},
   "outputs": [],
   "source": [
    "# This is the montecarlo simulation\n",
    "mc = bc.LCA(demand={el: 1000}, method=method_key, use_distributions=True)\n",
    "mc.lci()\n",
    "mc.lcia()\n",
    "mc_results = [mc.score for _ in zip(range(500), mc)] # this is a different way of calling the mc than in bw2\n",
    "\n",
    "# two things here:\n",
    "# 1. zip() returns a zip object, which is an iterator of tuples, for instance:\n",
    "    # a = (1, 2, 3)\n",
    "    # b = ('a', 'b', 'c')\n",
    "    # for i in zip(a, b):\n",
    "    #     print(i) \n",
    "    # # output will be: \n",
    "    #     # (1, 'a')\n",
    "    #     # (2, 'b')\n",
    "    #     # (3, 'c')\n",
    "\n",
    "# 2. using a fuction within [ ] usig a for loop is called a \"list comprehension\". The result is a list"
   ]
  },
  {
   "cell_type": "code",
   "execution_count": 34,
   "metadata": {},
   "outputs": [
    {
     "data": {
      "text/plain": [
       "[78.98083632737122,\n",
       " 80.5016323863833,\n",
       " 81.31646550922787,\n",
       " 80.95979599557973,\n",
       " 81.42166553790983,\n",
       " 79.58481782829429,\n",
       " 79.62854066265777,\n",
       " 82.59342712497097,\n",
       " 79.94649330851163]"
      ]
     },
     "execution_count": 34,
     "metadata": {},
     "output_type": "execute_result"
    }
   ],
   "source": [
    "mc_results[1:10] # printing the first 10 elements on the list...remember, the deterministic value was 80"
   ]
  },
  {
   "cell_type": "code",
   "execution_count": 35,
   "metadata": {},
   "outputs": [
    {
     "data": {
      "text/plain": [
       "Text(0.5, 0, 'lca.score')"
      ]
     },
     "execution_count": 35,
     "metadata": {},
     "output_type": "execute_result"
    },
    {
     "data": {
      "image/png": "[encoded data removed]",
      "text/plain": [
       "<Figure size 640x480 with 1 Axes>"
      ]
     },
     "metadata": {},
     "output_type": "display_data"
    }
   ],
   "source": [
    "# Look at the MC results\n",
    "plt.hist(mc_results, density=True)  # From matplotlib package. Use bins = int(500/15) to increase number of bars\n",
    "plt.ylabel(\"Probability\")\n",
    "plt.xlabel('lca.score')"
   ]
  },
  {
   "cell_type": "code",
   "execution_count": 36,
   "metadata": {},
   "outputs": [
    {
     "name": "stdout",
     "output_type": "stream",
     "text": [
      "80.00189578904144\n",
      "80.03825011612764\n",
      "80.0\n"
     ]
    }
   ],
   "source": [
    "print(np.mean(mc_results)) # from numpy package\n",
    "print(np.median(mc_results)) # from numpy package\n",
    "print(lca.score) # the deterministic value, we are very close to the mean and median"
   ]
  },
  {
   "cell_type": "code",
   "execution_count": 37,
   "metadata": {},
   "outputs": [
    {
     "data": {
      "text/html": [
       "<div>\n",
       "<style scoped>\n",
       "    .dataframe tbody tr th:only-of-type {\n",
       "        vertical-align: middle;\n",
       "    }\n",
       "\n",
       "    .dataframe tbody tr th {\n",
       "        vertical-align: top;\n",
       "    }\n",
       "\n",
       "    .dataframe thead th {\n",
       "        text-align: right;\n",
       "    }\n",
       "</style>\n",
       "<table border=\"1\" class=\"dataframe\">\n",
       "  <thead>\n",
       "    <tr style=\"text-align: right;\">\n",
       "      <th></th>\n",
       "      <th>0</th>\n",
       "    </tr>\n",
       "  </thead>\n",
       "  <tbody>\n",
       "    <tr>\n",
       "      <th>count</th>\n",
       "      <td>500.000000</td>\n",
       "    </tr>\n",
       "    <tr>\n",
       "      <th>mean</th>\n",
       "      <td>80.001896</td>\n",
       "    </tr>\n",
       "    <tr>\n",
       "      <th>std</th>\n",
       "      <td>0.961475</td>\n",
       "    </tr>\n",
       "    <tr>\n",
       "      <th>min</th>\n",
       "      <td>77.760058</td>\n",
       "    </tr>\n",
       "    <tr>\n",
       "      <th>25%</th>\n",
       "      <td>79.318652</td>\n",
       "    </tr>\n",
       "    <tr>\n",
       "      <th>50%</th>\n",
       "      <td>80.038250</td>\n",
       "    </tr>\n",
       "    <tr>\n",
       "      <th>75%</th>\n",
       "      <td>80.683502</td>\n",
       "    </tr>\n",
       "    <tr>\n",
       "      <th>max</th>\n",
       "      <td>82.593427</td>\n",
       "    </tr>\n",
       "  </tbody>\n",
       "</table>\n",
       "</div>"
      ],
      "text/plain": [
       "                0\n",
       "count  500.000000\n",
       "mean    80.001896\n",
       "std      0.961475\n",
       "min     77.760058\n",
       "25%     79.318652\n",
       "50%     80.038250\n",
       "75%     80.683502\n",
       "max     82.593427"
      ]
     },
     "execution_count": 37,
     "metadata": {},
     "output_type": "execute_result"
    }
   ],
   "source": [
    "pd.DataFrame(mc_results).describe()  # from pandas package"
   ]
  },
  {
   "cell_type": "code",
   "execution_count": 38,
   "metadata": {},
   "outputs": [
    {
     "data": {
      "text/plain": [
       "Text(0.5, 0, 'lca.score')"
      ]
     },
     "execution_count": 38,
     "metadata": {},
     "output_type": "execute_result"
    },
    {
     "data": {
      "image/png": "[encoded data removed]",
      "text/plain": [
       "<Figure size 640x480 with 1 Axes>"
      ]
     },
     "metadata": {},
     "output_type": "display_data"
    }
   ],
   "source": [
    "# Do this again and compare results\n",
    "mc2 = bc.LCA(demand={el: 1000}, method=method_key, use_distributions=True)\n",
    "mc.lci()\n",
    "mc.lcia()\n",
    "mc2_results = [mc.score for _ in zip(range(500), mc)]\n",
    "\n",
    "plt.hist(mc2_results, density=True)\n",
    "plt.ylabel(\"Probability\")\n",
    "plt.xlabel('lca.score')"
   ]
  },
  {
   "cell_type": "code",
   "execution_count": 39,
   "metadata": {},
   "outputs": [
    {
     "name": "stdout",
     "output_type": "stream",
     "text": [
      "79.99448204942169\n",
      "79.96276923277773\n",
      "80.0\n"
     ]
    }
   ],
   "source": [
    "print(np.mean(mc2_results))\n",
    "print(np.median(mc2_results))\n",
    "print(lca.score)"
   ]
  },
  {
   "cell_type": "code",
   "execution_count": 40,
   "metadata": {},
   "outputs": [
    {
     "data": {
      "text/plain": [
       "<matplotlib.collections.PathCollection at 0x1203d4500>"
      ]
     },
     "execution_count": 40,
     "metadata": {},
     "output_type": "execute_result"
    },
    {
     "data": {
      "image/png": "[encoded data removed]",
      "text/plain": [
       "<Figure size 640x480 with 1 Axes>"
      ]
     },
     "metadata": {},
     "output_type": "display_data"
    }
   ],
   "source": [
    "plt.scatter(mc_results, mc2_results) # Correct. Do you understand why? \n",
    "\n",
    "#(there is no relation because the two distributions are independent. We see an indistinct \"cloud\" and no pattern)"
   ]
  },
  {
   "cell_type": "code",
   "execution_count": 41,
   "metadata": {},
   "outputs": [
    {
     "name": "stdout",
     "output_type": "stream",
     "text": [
      "81.41467607282706\n",
      "79.67693963894976\n",
      "81.82679339421028\n",
      "80.58172069687993\n",
      "81.56605493339167\n",
      "79.63437195331365\n",
      "79.01692030938305\n",
      "79.75377609155215\n",
      "79.62218862167963\n"
     ]
    }
   ],
   "source": [
    "# Another way to do it\n",
    "iterations = 1000\n",
    "scores = np.zeros(iterations)  # 1-dimensional array filled with zeros\n",
    "for iteration in range(iterations):\n",
    "    next(mc)\n",
    "    scores[iteration] = mc.score\n",
    "for i in range(1, 10):\n",
    "    print(scores[i])  # need the zero because one-dimensional array"
   ]
  },
  {
   "cell_type": "code",
   "execution_count": 42,
   "metadata": {},
   "outputs": [
    {
     "name": "stdout",
     "output_type": "stream",
     "text": [
      "80.06527692069442\n",
      "79.3266491001802\n",
      "80.66795697084964\n",
      "79.76915129984062\n",
      "80.06002217460981\n",
      "81.87906612702498\n",
      "80.10850918908659\n",
      "80.9997141169809\n",
      "80.06720542688288\n"
     ]
    },
    {
     "data": {
      "text/plain": [
       "True"
      ]
     },
     "execution_count": 42,
     "metadata": {},
     "output_type": "execute_result"
    }
   ],
   "source": [
    "# Another way, get a list instead of an array\n",
    "iterations = 1000\n",
    "scores = []\n",
    "for iteration in range(iterations):\n",
    "    next(mc)\n",
    "    scores.append(mc.score)\n",
    "for i in range(1, 10):\n",
    "    print(scores[i])\n",
    "type(scores) == type(mc_results)  # same type of results as in the first case"
   ]
  }
 ],
 "metadata": {
  "kernelspec": {
   "display_name": "Python 3 (ipykernel)",
   "language": "python",
   "name": "python3"
  },
  "language_info": {
   "codemirror_mode": {
    "name": "ipython",
    "version": 3
   },
   "file_extension": ".py",
   "mimetype": "text/x-python",
   "name": "python",
   "nbconvert_exporter": "python",
   "pygments_lexer": "ipython3",
   "version": "3.12.2"
  }
 },
 "nbformat": 4,
 "nbformat_minor": 4
}
