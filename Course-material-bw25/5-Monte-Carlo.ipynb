{
 "cells": [
  {
   "cell_type": "markdown",
   "metadata": {},
   "source": [
    "# Run Monte Carlo Simulation in Brightway"
   ]
  },
  {
   "cell_type": "markdown",
   "metadata": {},
   "source": [
    "Now we are ready to start doing more intense simulations. In particular Brightway is great to perform fast error propagation with Monte Carlo simulation. \n",
    "\n",
    "This script shows how to add uncertainties to your home-made product system and run a Monte Carlo simulation. \n",
    "\n",
    "To better understand this script, I recommend reading read Limpert et al. (2001) that explains the log-normal distribution.\n",
    "\n",
    "_Limpert, E., Stahel, W. A., & Abbt, M. (2001). Log-normal distributions across the sciences: Keys and clues. Bioscience, 51(5), 341-352. [https://doi.org/10.1641/0006-3568(2001)051[0341:LNDATS]2.0.CO;2](https://academic.oup.com/bioscience/article/51/5/341/243981)_\n",
    "\n",
    "A very useful resource is the book: _Heijungs, R. (2024). Probability, Statistics and Life Cycle Assessment: Guidance for Dealing with Uncertainty and Sensitivity. Springer International Publishing. [https://doi.org/10.1007/978-3-031-49317-1](https://link.springer.com/book/10.1007/978-3-031-49317-1)_\n"
   ]
  },
  {
   "cell_type": "code",
   "execution_count": 4,
   "metadata": {},
   "outputs": [],
   "source": [
    "# Import brightway2.5 packages\n",
    "import bw2calc as bc\n",
    "import bw2data as bd\n",
    "import pandas as pd\n",
    "import numpy as np\n",
    "import matplotlib.pyplot as plt"
   ]
  },
  {
   "cell_type": "code",
   "execution_count": 5,
   "metadata": {},
   "outputs": [],
   "source": [
    "bd.projects.set_current('advlca25')"
   ]
  },
  {
   "cell_type": "code",
   "execution_count": 6,
   "metadata": {},
   "outputs": [
    {
     "data": {
      "text/plain": [
       "Databases dictionary with 5 object(s):\n",
       "\tecoinvent-3.11-biosphere\n",
       "\tecoinvent-3.11-consequential\n",
       "\texldb\n",
       "\ttestbiosphere\n",
       "\ttestdb"
      ]
     },
     "execution_count": 6,
     "metadata": {},
     "output_type": "execute_result"
    }
   ],
   "source": [
    "bd.databases"
   ]
  },
  {
   "cell_type": "markdown",
   "metadata": {},
   "source": [
    "A short recap, let's create a foreground database and run LCA calculations"
   ]
  },
  {
   "cell_type": "code",
   "execution_count": 8,
   "metadata": {},
   "outputs": [
    {
     "name": "stderr",
     "output_type": "stream",
     "text": [
      "100%|██████████████████████████████████████████| 3/3 [00:00<00:00, 20036.48it/s]"
     ]
    },
    {
     "name": "stdout",
     "output_type": "stream",
     "text": [
      "\u001b[2m13:45:35\u001b[0m [\u001b[32m\u001b[1minfo     \u001b[0m] \u001b[1mVacuuming database            \u001b[0m\n"
     ]
    },
    {
     "name": "stderr",
     "output_type": "stream",
     "text": [
      "\n"
     ]
    }
   ],
   "source": [
    "t_db = bd.Database('testdb')\n",
    "\n",
    "t_db.write({  # A simplified version, only CO2 as emission\n",
    "    ('testdb', 'Electricity production'): {\n",
    "        'name': 'Electricity production',\n",
    "        'unit': 'kWh',\n",
    "        'location': 'GLO',\n",
    "        'exchanges': [{\n",
    "                'input': ('testdb', 'Fuel production'),\n",
    "                'amount': -2,\n",
    "                'unit': 'kg',\n",
    "                'type': 'technosphere'\n",
    "            }, {\n",
    "                'input': ('testdb', 'Carbon dioxide'),\n",
    "                'amount': 1,\n",
    "                'unit': 'kg',\n",
    "                'type': 'biosphere'\n",
    "            }, {\n",
    "                'input': ('testdb', 'Electricity production'),\n",
    "                'amount': 10,\n",
    "                'unit': 'kWh',\n",
    "                'type': 'production'\n",
    "            }]\n",
    "        },\n",
    "    ('testdb', 'Fuel production'): {\n",
    "        'name': 'Fuel production',\n",
    "        'unit': 'kg',\n",
    "        'location': 'GLO',\n",
    "        'exchanges': [{\n",
    "                'input': ('testdb', 'Carbon dioxide'),\n",
    "                'amount': 10,\n",
    "                'unit': 'kg',\n",
    "                'type': 'biosphere'\n",
    "            }, {\n",
    "                'input': ('testdb', 'Fuel production'),\n",
    "                'amount': 100,\n",
    "                'unit': 'kg',\n",
    "                'type': 'production'\n",
    "            }]\n",
    "    },\n",
    "    ('testdb', 'Carbon dioxide'): {'name': 'Carbon dioxide', 'unit': 'kg', 'type': 'biosphere'}\n",
    "    })\n",
    "\n",
    "\n",
    "myLCIAdata = [[('testdb', 'Carbon dioxide'), 1.0]]\n",
    "method_key = ('simplemethod', 'imaginaryendpoint', 'imaginarymidpoint')\n",
    "my_method = bd.Method(method_key)\n",
    "my_method.validate(myLCIAdata)\n",
    "my_method.register()\n",
    "my_method.write(myLCIAdata)\n",
    "my_method.load()\n",
    "\n",
    "functional_unit = {t_db.get('Electricity production'): 1000}\n",
    "lca = bc.LCA(functional_unit, method_key)  # LCA calculations with method\n",
    "lca.lci()\n",
    "lca.lcia()"
   ]
  },
  {
   "cell_type": "code",
   "execution_count": 9,
   "metadata": {},
   "outputs": [
    {
     "name": "stdout",
     "output_type": "stream",
     "text": [
      "80.0\n"
     ]
    }
   ],
   "source": [
    "print(lca.score) "
   ]
  },
  {
   "cell_type": "markdown",
   "metadata": {},
   "source": [
    "What is important here is that 80.0 is the **nominal** value (other places called *static* or *deterministic* , see Heijungs R. (2024), chapter 10.1.11 for more info). In pragmatic terms, this is the result of the LCA without considering uncertainties, what 99.9% of LCA studies usually report. We need to remember that for later."
   ]
  },
  {
   "cell_type": "markdown",
   "metadata": {},
   "source": [
    "# Now add uncertainty \n",
    "\n",
    "See a tutorial [here](http://nbviewer.jupyter.org/urls/bitbucket.org/cmutel/brightway2/raw/default/notebooks/Activities%20and%20exchanges.ipynb)\n",
    "\n",
    "**Note**: uncertainties are always added to **exchanges** (not to activities...)\n",
    "\n",
    "So I'll get one  exchange from one activity"
   ]
  },
  {
   "cell_type": "code",
   "execution_count": 10,
   "metadata": {},
   "outputs": [
    {
     "data": {
      "text/plain": [
       "Exchange: 1 kg 'Carbon dioxide' (kg, None, None) to 'Electricity production' (kWh, GLO, None)>"
      ]
     },
     "execution_count": 10,
     "metadata": {},
     "output_type": "execute_result"
    }
   ],
   "source": [
    "el = t_db.get('Electricity production')  \n",
    "co2_exc = list(el.exchanges())[1]   # the first exchange\n",
    "co2_exc"
   ]
  },
  {
   "cell_type": "code",
   "execution_count": 11,
   "metadata": {},
   "outputs": [],
   "source": [
    "# Lognormal distribution first\n",
    "from stats_arrays import LognormalUncertainty\n",
    "import numpy as np\n",
    "co2_exc['uncertainty type'] = LognormalUncertainty.id # this is an integer (not a float)\n",
    "co2_exc['loc'], co2_exc['scale'] = np.log(co2_exc['amount']), np.log(1.01) \n",
    "'''The lognorm dist is defined here two parameters: location and scale \n",
    "i.e. by the log of the geometric mean and by the geometric standard dev'''\n",
    "co2_exc.save() # important"
   ]
  },
  {
   "cell_type": "code",
   "execution_count": 12,
   "metadata": {},
   "outputs": [
    {
     "data": {
      "text/plain": [
       "Exchange: -2 kg 'Fuel production' (kg, GLO, None) to 'Electricity production' (kWh, GLO, None)>"
      ]
     },
     "execution_count": 12,
     "metadata": {},
     "output_type": "execute_result"
    }
   ],
   "source": [
    "el = t_db.get('Electricity production')  \n",
    "fuel_exc = list(el.exchanges())[0]   # the first exchange\n",
    "fuel_exc"
   ]
  },
  {
   "cell_type": "code",
   "execution_count": 13,
   "metadata": {},
   "outputs": [],
   "source": [
    "# Lognormal distribution first\n",
    "from stats_arrays import LognormalUncertainty\n",
    "import numpy as np\n",
    "fuel_exc['uncertainty type'] = LognormalUncertainty.id # this is an integer (not a float)\n",
    "fuel_exc['loc'], fuel_exc['scale'] = np.log(-fuel_exc['amount']), np.log(1.01)\n",
    "fuel_exc['negative'] = True\n",
    "'''The lognorm dist is defined here two parameters: location and scale \n",
    "i.e. by the log of the geometric mean and by the geometric standard dev'''\n",
    "fuel_exc.save() # important"
   ]
  },
  {
   "cell_type": "code",
   "execution_count": 14,
   "metadata": {},
   "outputs": [
    {
     "data": {
      "text/plain": [
       "{'uncertainty type': 2,\n",
       " 'loc': 0.6931471805599453,\n",
       " 'scale': 0.009950330853168092,\n",
       " 'negative': True}"
      ]
     },
     "execution_count": 14,
     "metadata": {},
     "output_type": "execute_result"
    }
   ],
   "source": [
    "fuel_exc.uncertainty  #"
   ]
  },
  {
   "cell_type": "code",
   "execution_count": 15,
   "metadata": {},
   "outputs": [
    {
     "data": {
      "text/plain": [
       "{'uncertainty type': 2, 'loc': 0.0, 'scale': 0.009950330853168092}"
      ]
     },
     "execution_count": 15,
     "metadata": {},
     "output_type": "execute_result"
    }
   ],
   "source": [
    "co2_exc.uncertainty  # check that info is stored"
   ]
  },
  {
   "cell_type": "code",
   "execution_count": 16,
   "metadata": {},
   "outputs": [
    {
     "data": {
      "text/plain": [
       "{'input': ('testdb', 'Carbon dioxide'),\n",
       " 'amount': 1,\n",
       " 'unit': 'kg',\n",
       " 'type': 'biosphere',\n",
       " 'output': ('testdb', 'Electricity production'),\n",
       " 'uncertainty type': 2,\n",
       " 'loc': 0.0,\n",
       " 'scale': 0.009950330853168092}"
      ]
     },
     "execution_count": 16,
     "metadata": {},
     "output_type": "execute_result"
    }
   ],
   "source": [
    "co2_exc.as_dict()  # Now uncertainty is included"
   ]
  },
  {
   "cell_type": "code",
   "execution_count": 17,
   "metadata": {},
   "outputs": [
    {
     "data": {
      "text/plain": [
       "array([1.00339645, 0.99368596, 1.00464956, 1.02934388, 0.99217568,\n",
       "       0.98216102, 0.99962787, 0.99791392, 0.99711758, 1.00076325])"
      ]
     },
     "execution_count": 17,
     "metadata": {},
     "output_type": "execute_result"
    }
   ],
   "source": [
    "co2_exc.random_sample(n=10)  # nice"
   ]
  },
  {
   "cell_type": "code",
   "execution_count": 18,
   "metadata": {},
   "outputs": [
    {
     "data": {
      "text/plain": [
       "(array([ 17.,  50., 122., 195., 243., 166., 127.,  53.,  16.,  11.]),\n",
       " array([0.97432932, 0.98010153, 0.98587375, 0.99164596, 0.99741817,\n",
       "        1.00319038, 1.0089626 , 1.01473481, 1.02050702, 1.02627923,\n",
       "        1.03205145]),\n",
       " <BarContainer object of 10 artists>)"
      ]
     },
     "execution_count": 18,
     "metadata": {},
     "output_type": "execute_result"
    },
    {
     "data": {
      "image/png": "[encoded data removed]",
      "text/plain": [
       "<Figure size 640x480 with 1 Axes>"
      ]
     },
     "metadata": {},
     "output_type": "display_data"
    }
   ],
   "source": [
    "# if you want to see this\n",
    "%matplotlib inline\n",
    "plt.hist(co2_exc.random_sample(n=1000))"
   ]
  },
  {
   "cell_type": "code",
   "execution_count": 19,
   "metadata": {},
   "outputs": [],
   "source": [
    "# this in case you want to try with normal dist\n",
    "#from stats_arrays import NormalUncertainty\n",
    "\n",
    "#co2_exc['uncertainty type'] = NormalUncertainty.id\n",
    "#co2_exc['loc'], co2_exc['scale'] = 1, 0.01\n",
    "#co2_exc.save()\n",
    "#co2_exc.uncertainty  # check that\n",
    "#co2_exc.as_dict()  # OK"
   ]
  },
  {
   "cell_type": "markdown",
   "metadata": {},
   "source": [
    "#  Now MC simulation"
   ]
  },
  {
   "cell_type": "code",
   "execution_count": 20,
   "metadata": {},
   "outputs": [
    {
     "data": {
      "text/plain": [
       "{'uncertainty type': 2,\n",
       " 'loc': 0.6931471805599453,\n",
       " 'scale': 0.009950330853168092,\n",
       " 'negative': True}"
      ]
     },
     "execution_count": 20,
     "metadata": {},
     "output_type": "execute_result"
    }
   ],
   "source": [
    "# Check again that uncertainty info is stored\n",
    "list(el.exchanges())[0].uncertainty"
   ]
  },
  {
   "cell_type": "code",
   "execution_count": 21,
   "metadata": {},
   "outputs": [
    {
     "data": {
      "text/plain": [
       "Methods dictionary with 634 objects, including:\n",
       "\t('ecoinvent-3.11', 'CML v4.8 2016', 'acidification', 'acidification (incl. fate, average Europe total, A&B)')\n",
       "\t('ecoinvent-3.11', 'CML v4.8 2016', 'climate change', 'global warming potential (GWP100)')\n",
       "\t('ecoinvent-3.11', 'CML v4.8 2016', 'ecotoxicity: freshwater', 'freshwater aquatic ecotoxicity (FAETP inf)')\n",
       "\t('ecoinvent-3.11', 'CML v4.8 2016', 'ecotoxicity: marine', 'marine aquatic ecotoxicity (MAETP inf)')\n",
       "\t('ecoinvent-3.11', 'CML v4.8 2016', 'ecotoxicity: terrestrial', 'terrestrial ecotoxicity (TETP inf)')\n",
       "\t('ecoinvent-3.11', 'CML v4.8 2016', 'energy resources: non-renewable', 'abiotic depletion potential (ADP): fossil fuels')\n",
       "\t('ecoinvent-3.11', 'CML v4.8 2016', 'eutrophication', 'eutrophication (fate not incl.)')\n",
       "\t('ecoinvent-3.11', 'CML v4.8 2016', 'human toxicity', 'human toxicity (HTP inf)')\n",
       "\t('ecoinvent-3.11', 'CML v4.8 2016', 'material resources: metals/minerals', 'abiotic depletion potential (ADP): elements (ultimate reserves)')\n",
       "\t('ecoinvent-3.11', 'CML v4.8 2016', 'ozone depletion', 'ozone layer depletion (ODP steady state)')\n",
       "Use `list(this object)` to get the complete list."
      ]
     },
     "execution_count": 21,
     "metadata": {},
     "output_type": "execute_result"
    }
   ],
   "source": [
    "bd.methods"
   ]
  },
  {
   "cell_type": "markdown",
   "metadata": {},
   "source": [
    "#### Note: the way MC simulation is run in bw2.5 is slightly divverent than in bw2"
   ]
  },
  {
   "cell_type": "code",
   "execution_count": 22,
   "metadata": {},
   "outputs": [],
   "source": [
    "# This is the montecarlo simulation\n",
    "mc = bc.LCA(demand={el: 1000}, method=method_key, use_distributions=True)\n",
    "mc.lci()\n",
    "mc.lcia()\n",
    "mc_results = [mc.score for _ in zip(range(500), mc)] # this is a different way of calling the mc than in bw2\n",
    "\n",
    "# two things here:\n",
    "# 1. zip() returns a zip object, which is an iterator of tuples, for instance:\n",
    "    # a = (1, 2, 3)\n",
    "    # b = ('a', 'b', 'c')\n",
    "    # for i in zip(a, b):\n",
    "    #     print(i) \n",
    "    # # output will be: \n",
    "    #     # (1, 'a')\n",
    "    #     # (2, 'b')\n",
    "    #     # (3, 'c')\n",
    "\n",
    "# 2. using a fuction within [ ] usig a for loop is called a \"list comprehension\". The result is a list"
   ]
  },
  {
   "cell_type": "code",
   "execution_count": 29,
   "metadata": {},
   "outputs": [
    {
     "data": {
      "text/plain": [
       "[80.14099136625978,\n",
       " 79.83396643721692,\n",
       " 81.2425363213552,\n",
       " 81.5300470667447,\n",
       " 82.2117870314039,\n",
       " 81.47626177661199,\n",
       " 79.86273487049584,\n",
       " 79.44255239513294,\n",
       " 80.7378207473873]"
      ]
     },
     "execution_count": 29,
     "metadata": {},
     "output_type": "execute_result"
    }
   ],
   "source": [
    "mc_results[1:10] # printing the first 10 elements on the list...remember, the nominal value was 80"
   ]
  },
  {
   "cell_type": "code",
   "execution_count": 28,
   "metadata": {},
   "outputs": [
    {
     "data": {
      "text/plain": [
       "Text(0.5, 0, 'lca.score')"
      ]
     },
     "execution_count": 28,
     "metadata": {},
     "output_type": "execute_result"
    },
    {
     "data": {
      "image/png": "[encoded data removed]",
      "text/plain": [
       "<Figure size 640x480 with 1 Axes>"
      ]
     },
     "metadata": {},
     "output_type": "display_data"
    }
   ],
   "source": [
    "# Look at the MC results, what you see is the sample distribution\n",
    "plt.hist(mc_results, density=True)  # From matplotlib package. Use bins = int(500/15) to increase number of bars\n",
    "plt.ylabel(\"Probability\")\n",
    "plt.xlabel('lca.score')"
   ]
  },
  {
   "cell_type": "code",
   "execution_count": 26,
   "metadata": {},
   "outputs": [
    {
     "name": "stdout",
     "output_type": "stream",
     "text": [
      "79.9560820274774\n",
      "80.00510777247528\n",
      "80.0\n"
     ]
    }
   ],
   "source": [
    "print(np.mean(mc_results)) # from numpy package\n",
    "print(np.median(mc_results)) # from numpy package\n",
    "print(lca.score) # the nominal value, we are very close to the mean and median"
   ]
  },
  {
   "cell_type": "code",
   "execution_count": 27,
   "metadata": {},
   "outputs": [
    {
     "data": {
      "text/html": [
       "<div>\n",
       "<style scoped>\n",
       "    .dataframe tbody tr th:only-of-type {\n",
       "        vertical-align: middle;\n",
       "    }\n",
       "\n",
       "    .dataframe tbody tr th {\n",
       "        vertical-align: top;\n",
       "    }\n",
       "\n",
       "    .dataframe thead th {\n",
       "        text-align: right;\n",
       "    }\n",
       "</style>\n",
       "<table border=\"1\" class=\"dataframe\">\n",
       "  <thead>\n",
       "    <tr style=\"text-align: right;\">\n",
       "      <th></th>\n",
       "      <th>0</th>\n",
       "    </tr>\n",
       "  </thead>\n",
       "  <tbody>\n",
       "    <tr>\n",
       "      <th>count</th>\n",
       "      <td>500.000000</td>\n",
       "    </tr>\n",
       "    <tr>\n",
       "      <th>mean</th>\n",
       "      <td>79.956082</td>\n",
       "    </tr>\n",
       "    <tr>\n",
       "      <th>std</th>\n",
       "      <td>1.064236</td>\n",
       "    </tr>\n",
       "    <tr>\n",
       "      <th>min</th>\n",
       "      <td>76.449207</td>\n",
       "    </tr>\n",
       "    <tr>\n",
       "      <th>25%</th>\n",
       "      <td>79.266880</td>\n",
       "    </tr>\n",
       "    <tr>\n",
       "      <th>50%</th>\n",
       "      <td>80.005108</td>\n",
       "    </tr>\n",
       "    <tr>\n",
       "      <th>75%</th>\n",
       "      <td>80.682538</td>\n",
       "    </tr>\n",
       "    <tr>\n",
       "      <th>max</th>\n",
       "      <td>83.194571</td>\n",
       "    </tr>\n",
       "  </tbody>\n",
       "</table>\n",
       "</div>"
      ],
      "text/plain": [
       "                0\n",
       "count  500.000000\n",
       "mean    79.956082\n",
       "std      1.064236\n",
       "min     76.449207\n",
       "25%     79.266880\n",
       "50%     80.005108\n",
       "75%     80.682538\n",
       "max     83.194571"
      ]
     },
     "execution_count": 27,
     "metadata": {},
     "output_type": "execute_result"
    }
   ],
   "source": [
    "pd.DataFrame(mc_results).describe()  # useful descriptive stats from pandas package"
   ]
  },
  {
   "cell_type": "code",
   "execution_count": 30,
   "metadata": {},
   "outputs": [
    {
     "data": {
      "text/plain": [
       "Text(0.5, 0, 'lca.score')"
      ]
     },
     "execution_count": 30,
     "metadata": {},
     "output_type": "execute_result"
    },
    {
     "data": {
      "image/png": "[encoded data removed]",
      "text/plain": [
       "<Figure size 640x480 with 1 Axes>"
      ]
     },
     "metadata": {},
     "output_type": "display_data"
    }
   ],
   "source": [
    "# Do this again and compare results\n",
    "mc2 = bc.LCA(demand={el: 1000}, method=method_key, use_distributions=True)\n",
    "mc.lci()\n",
    "mc.lcia()\n",
    "mc2_results = [mc.score for _ in zip(range(500), mc)]\n",
    "\n",
    "plt.hist(mc2_results, density=True)\n",
    "plt.ylabel(\"Probability\")\n",
    "plt.xlabel('lca.score')"
   ]
  },
  {
   "cell_type": "code",
   "execution_count": 31,
   "metadata": {},
   "outputs": [
    {
     "name": "stdout",
     "output_type": "stream",
     "text": [
      "79.96936771759405\n",
      "79.92675260080452\n",
      "80.0\n"
     ]
    }
   ],
   "source": [
    "print(np.mean(mc2_results))\n",
    "print(np.median(mc2_results))\n",
    "print(lca.score)"
   ]
  },
  {
   "cell_type": "code",
   "execution_count": 32,
   "metadata": {},
   "outputs": [
    {
     "data": {
      "text/plain": [
       "<matplotlib.collections.PathCollection at 0x17c2a12d0>"
      ]
     },
     "execution_count": 32,
     "metadata": {},
     "output_type": "execute_result"
    },
    {
     "data": {
      "image/png": "[encoded data removed]",
      "text/plain": [
       "<Figure size 640x480 with 1 Axes>"
      ]
     },
     "metadata": {},
     "output_type": "display_data"
    }
   ],
   "source": [
    "plt.scatter(mc_results, mc2_results) # Correct. Do you understand why? \n",
    "\n",
    "#(there is no relation because the two distributions are independent. We see an indistinct \"cloud\" and no pattern)"
   ]
  },
  {
   "cell_type": "code",
   "execution_count": 33,
   "metadata": {},
   "outputs": [
    {
     "name": "stdout",
     "output_type": "stream",
     "text": [
      "80.91837111685935\n",
      "80.33321751239643\n",
      "79.550043899189\n",
      "80.94978243621046\n",
      "78.86091973389834\n",
      "77.59528202296718\n",
      "79.83724796816496\n",
      "80.07113681466508\n",
      "80.97058559607245\n"
     ]
    }
   ],
   "source": [
    "# Another way to do it\n",
    "iterations = 1000\n",
    "scores = np.zeros(iterations)  # 1-dimensional array filled with zeros\n",
    "for iteration in range(iterations):\n",
    "    next(mc)\n",
    "    scores[iteration] = mc.score\n",
    "for i in range(1, 10):\n",
    "    print(scores[i])  # need the zero because one-dimensional array"
   ]
  },
  {
   "cell_type": "code",
   "execution_count": 34,
   "metadata": {},
   "outputs": [
    {
     "name": "stdout",
     "output_type": "stream",
     "text": [
      "78.99362583385826\n",
      "80.1905575381033\n",
      "78.53038682865625\n",
      "81.08476287993349\n",
      "79.36656160579197\n",
      "79.13223899840034\n",
      "79.74451255191889\n",
      "79.4861634057659\n",
      "79.87955412346459\n"
     ]
    },
    {
     "data": {
      "text/plain": [
       "True"
      ]
     },
     "execution_count": 34,
     "metadata": {},
     "output_type": "execute_result"
    }
   ],
   "source": [
    "# Another way, get a list instead of an array\n",
    "iterations = 1000\n",
    "scores = []\n",
    "for iteration in range(iterations):\n",
    "    next(mc)\n",
    "    scores.append(mc.score)\n",
    "for i in range(1, 10):\n",
    "    print(scores[i])\n",
    "type(scores) == type(mc_results)  # same type of results as in the first case"
   ]
  }
 ],
 "metadata": {
  "kernelspec": {
   "display_name": "Python 3 (ipykernel)",
   "language": "python",
   "name": "python3"
  },
  "language_info": {
   "codemirror_mode": {
    "name": "ipython",
    "version": 3
   },
   "file_extension": ".py",
   "mimetype": "text/x-python",
   "name": "python",
   "nbconvert_exporter": "python",
   "pygments_lexer": "ipython3",
   "version": "3.11.11"
  }
 },
 "nbformat": 4,
 "nbformat_minor": 4
}
