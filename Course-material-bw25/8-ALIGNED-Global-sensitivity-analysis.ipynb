{
 "cells": [
  {
   "cell_type": "markdown",
   "metadata": {},
   "source": [
    "# Global Sensitivity Analysis"
   ]
  },
  {
   "cell_type": "markdown",
   "metadata": {},
   "source": [
    "This is a more complex case. Involves varying multiple parameters together and understanding which parameter is the one with the largest influence on results. This translates into a large simulation testing the various possibilities. One could use brute force and test all possible combinations of all parameters, and then run a regression on the results where the dependent variable is the impact of the system and the independent variables are the parameters. However, calculating a result for every possible combination might end up taking too much computation time, especially if the number of tested variables is high. "
   ]
  },
  {
   "cell_type": "markdown",
   "metadata": {},
   "source": [
    "## Correlation Analysis\n",
    "The content below shows how to perform a simple Global Sensitivity Analysis (GSA) for a example product system of a biobased product and using correlation analysis to quantify the defree of sensitivity."
   ]
  },
  {
   "cell_type": "code",
   "execution_count": 1,
   "metadata": {},
   "outputs": [],
   "source": [
    "# Import brightway2.5 packages\n",
    "import bw2calc as bc\n",
    "import bw2data as bd\n",
    "import numpy as np\n",
    "import pandas as pd\n",
    "from scipy import stats\n",
    "from lci_to_bw2 import * # import all the functions of this module"
   ]
  },
  {
   "cell_type": "code",
   "execution_count": 2,
   "metadata": {
    "scrolled": true
   },
   "outputs": [
    {
     "data": {
      "text/plain": [
       "Databases dictionary with 9 object(s):\n",
       "\tALIGNED-biob-prod-dummy\n",
       "\tSAtestdb\n",
       "\tbiosphere3\n",
       "\tecoinvent 3.9.1 conseq\n",
       "\texldb\n",
       "\tgsa_db\n",
       "\tsa_db\n",
       "\ttestbiosphere\n",
       "\ttestdb"
      ]
     },
     "execution_count": 2,
     "metadata": {},
     "output_type": "execute_result"
    }
   ],
   "source": [
    "bd.projects.set_current('advlca25') # Still working in the same project\n",
    "bd.databases"
   ]
  },
  {
   "cell_type": "markdown",
   "metadata": {},
   "source": [
    "We start by importing data about a fictional (\"dummy\") product system for a biobased product."
   ]
  },
  {
   "cell_type": "code",
   "execution_count": 3,
   "metadata": {},
   "outputs": [],
   "source": [
    "# Import the dummy product system\n",
    "\n",
    "# import data from csv\n",
    "\n",
    "#mydata = pd.read_csv('LCI1-bw-format.csv', header = 0, sep = \",\") # using csv file avoids encoding problem\n",
    "mydata = pd.read_csv('ALIGNED-LCI-biobased-product-dummy.csv', header = 0, sep = \",\") # using csv file avoids encoding problem\n",
    "mydata.head()\n",
    "\n",
    "# keep only the columns not needed\n",
    "mydb = mydata[['Activity database','Activity code','Activity name','Activity unit','Activity type',\n",
    "               'Exchange database','Exchange input','Exchange amount','Exchange unit','Exchange type',\n",
    "               'Exchange uncertainty type','Exchange loc','Exchange scale','Exchange negative', 'Exchange minimum', 'Exchange maximum', \n",
    "               'Simapro name',\t'Simapro unit', 'Simapro type']].copy()\n",
    "\n",
    "mydb['Exchange uncertainty type'] = mydb['Exchange uncertainty type'].fillna(0).astype(int) # uncertainty as integers\n",
    "# Note: to avoid having both nan and values in the uncertainty column I use zero as default\n",
    "\n",
    "#print(mydb.head())"
   ]
  },
  {
   "cell_type": "code",
   "execution_count": 4,
   "metadata": {},
   "outputs": [
    {
     "name": "stdout",
     "output_type": "stream",
     "text": [
      "Not able to determine geocollections for all datasets. This database is not ready for regionalization.\n"
     ]
    },
    {
     "name": "stderr",
     "output_type": "stream",
     "text": [
      "100%|████████████████████████████████████| 5/5 [00:00<00:00, 1336.87it/s]"
     ]
    },
    {
     "name": "stdout",
     "output_type": "stream",
     "text": [
      "Vacuuming database \n"
     ]
    },
    {
     "name": "stderr",
     "output_type": "stream",
     "text": [
      "\n"
     ]
    }
   ],
   "source": [
    "# Create dictionary in bw format and write database to disk. \n",
    "# Shut down all other notebooks using the same project before doing this\n",
    "bw2_db = lci_to_bw2(mydb) # a function from the lci_to_bw2 module\n",
    "\n",
    "# write database\n",
    "bd.Database('ALIGNED-biob-prod-dummy').write(bw2_db)"
   ]
  },
  {
   "cell_type": "markdown",
   "metadata": {},
   "source": [
    "The product system includes different activities such as the production, use, and end of life of the biobased product."
   ]
  },
  {
   "cell_type": "code",
   "execution_count": 5,
   "metadata": {},
   "outputs": [
    {
     "name": "stdout",
     "output_type": "stream",
     "text": [
      "'Biomass-processing' (kilogram, None, None) 403a5c32-c769-46fc-8b9a-74b8eb3c79d1\n",
      "'Biobased-product-use' (year, None, None) f9eabf64-b899-40c0-9f9f-2009dbb0a0b2\n",
      "'Biomass-growth' (kilogram, None, None) a7d34649-9c10-4423-bac3-ecab9b43b20c\n",
      "'Biobased-product-manufacturing' (kilogram, None, None) a37d149a-6508-4563-8af6-e5a39b4176df\n",
      "'Biobased-product-eol' (kilogram, None, None) c8301e73-d521-4a89-998b-30b7e7751011\n"
     ]
    }
   ],
   "source": [
    "# check what foreground activities are included\n",
    "for act in bd.Database('ALIGNED-biob-prod-dummy'):\n",
    "    print(act, act['code'])"
   ]
  },
  {
   "cell_type": "code",
   "execution_count": 6,
   "metadata": {},
   "outputs": [
    {
     "data": {
      "text/plain": [
       "{'name': 'Biobased-product-use',\n",
       " 'unit': 'year',\n",
       " 'type': 'process',\n",
       " 'database': 'ALIGNED-biob-prod-dummy',\n",
       " 'code': 'f9eabf64-b899-40c0-9f9f-2009dbb0a0b2',\n",
       " 'id': 23611}"
      ]
     },
     "execution_count": 6,
     "metadata": {},
     "output_type": "execute_result"
    }
   ],
   "source": [
    "# More info \n",
    "myact = bd.Database('ALIGNED-biob-prod-dummy').get('f9eabf64-b899-40c0-9f9f-2009dbb0a0b2') # Biobased-product-use\n",
    "myact._data"
   ]
  },
  {
   "cell_type": "code",
   "execution_count": 7,
   "metadata": {},
   "outputs": [
    {
     "data": {
      "text/plain": [
       "{'input': ('ALIGNED-biob-prod-dummy', 'a37d149a-6508-4563-8af6-e5a39b4176df'),\n",
       " 'amount': 50.0,\n",
       " 'unit': 'kilogram',\n",
       " 'type': 'technosphere',\n",
       " 'uncertainty type': 4,\n",
       " 'minimum': 37.5,\n",
       " 'maximum': 62.5,\n",
       " 'Simapro name': 'Biobased-product-manufacturing',\n",
       " 'Simapro unit': 'kg',\n",
       " 'output': ('ALIGNED-biob-prod-dummy', 'f9eabf64-b899-40c0-9f9f-2009dbb0a0b2')}"
      ]
     },
     "execution_count": 7,
     "metadata": {},
     "output_type": "execute_result"
    }
   ],
   "source": [
    "# Uncertainty is also there\n",
    "list(myact.exchanges())[1]._data"
   ]
  },
  {
   "cell_type": "markdown",
   "metadata": {},
   "source": [
    "We calculate a static climate impact score for the fictional biobased product, to be used for reference later on."
   ]
  },
  {
   "cell_type": "code",
   "execution_count": 8,
   "metadata": {
    "scrolled": true
   },
   "outputs": [
    {
     "name": "stdout",
     "output_type": "stream",
     "text": [
      "121.67148771458245\n"
     ]
    }
   ],
   "source": [
    "# calculation of static LCA score\n",
    "mymethod = ('IPCC 2013', 'climate change', 'global warming potential (GWP100)')\n",
    "myact = bd.Database('ALIGNED-biob-prod-dummy').get('f9eabf64-b899-40c0-9f9f-2009dbb0a0b2') # Biobased-product-use\n",
    "functional_unit = {myact: 1}\n",
    "LCA = bc.LCA(functional_unit, mymethod)\n",
    "LCA.lci()\n",
    "LCA.lcia()\n",
    "print(LCA.score)"
   ]
  },
  {
   "cell_type": "markdown",
   "metadata": {},
   "source": [
    "### Now perform global sensitivity analysis"
   ]
  },
  {
   "cell_type": "markdown",
   "metadata": {},
   "source": [
    "The procedure is in three steps.\n",
    "\n",
    "1) A set of model input parameters is chosen. These are **values of specific exchanges**. A sample of values is produced for each model input, in this case, only 5 values.\n",
    "2) A simulation is performed. Initial prameter values are substituted with those in the sample, iteratively, and new model outputs, that are LCA scores, are calculated.\n",
    "3) A correlation is estimated between model input values and output values."
   ]
  },
  {
   "cell_type": "markdown",
   "metadata": {},
   "source": [
    "#### Step 1\n",
    "A sample of values for each parameter."
   ]
  },
  {
   "cell_type": "code",
   "execution_count": 9,
   "metadata": {},
   "outputs": [],
   "source": [
    "# Can be done in many ways, here very basic using lists.\n",
    "par1_values = [-1.25, -1.10, -1, -0.9, -0.75] # In bomass growth, value of CO2 uptake\n",
    "par2_values = [0.1, 0.3, 0.5, 0.7, 0.9] # In biomass processing, amount of energy used.\n",
    "par3_values = [20,30,40,50,60]  # In use of product, amount of manufactured product needed\n",
    "par4_values = [1.25, 1.10, 1, 0.9, 0.75] # In use of product, amount of manufactured product needed"
   ]
  },
  {
   "cell_type": "markdown",
   "metadata": {},
   "source": [
    "Associate the values to specific exchanges using the coordinates (column and row) of the technosphere (A) and biosphere (B) matrices"
   ]
  },
  {
   "cell_type": "code",
   "execution_count": 10,
   "metadata": {},
   "outputs": [],
   "source": [
    "param_samples = [(('ALIGNED-biob-prod-dummy', 'a7d34649-9c10-4423-bac3-ecab9b43b20c'), \n",
    "  ('biosphere3', '349b29d1-3e58-4c66-98b9-9d1a076efd2e'), par1_values), # In bomass growth, value of CO2 uptake\n",
    "(('ALIGNED-biob-prod-dummy', '403a5c32-c769-46fc-8b9a-74b8eb3c79d1'),\n",
    " ('ecoinvent 3.9 conseq', 'f4dc7d2b1d70e6c0f929ec5231c085e0'), par2_values), # In biomass processing, amount of energy used.\n",
    " (('ALIGNED-biob-prod-dummy', 'f9eabf64-b899-40c0-9f9f-2009dbb0a0b2'),\n",
    "  ('ALIGNED-biob-prod-dummy', 'a37d149a-6508-4563-8af6-e5a39b4176df'), par3_values), # In use of product, amount of manufactured product needed\n",
    "  (('ALIGNED-biob-prod-dummy', 'c8301e73-d521-4a89-998b-30b7e7751011'),\n",
    "   ('biosphere3', '349b29d1-3e58-4c66-98b9-9d1a076efd2e'), par4_values)] # In end of life, amount of CO2 released"
   ]
  },
  {
   "cell_type": "markdown",
   "metadata": {},
   "source": [
    "#### (technical note)\n",
    "\n",
    "We can do the same in a more elegant way, taking the data directly from the BW database that we just created..."
   ]
  },
  {
   "cell_type": "code",
   "execution_count": 11,
   "metadata": {},
   "outputs": [],
   "source": [
    "# In biomass growth, value of CO2 uptake\n",
    "par1 = list(bd.Database('ALIGNED-biob-prod-dummy').get('a7d34649-9c10-4423-bac3-ecab9b43b20c').exchanges())[3]\n",
    "# In biomass processing, amount of energy used.\n",
    "par2 = list(bd.Database('ALIGNED-biob-prod-dummy').get('403a5c32-c769-46fc-8b9a-74b8eb3c79d1').exchanges())[1]\n",
    "# In use of product, amount of manufactured product needed\n",
    "par3 = list(bd.Database('ALIGNED-biob-prod-dummy').get('f9eabf64-b899-40c0-9f9f-2009dbb0a0b2').exchanges())[1]\n",
    "# In use of product, amount of manufactured product needed\n",
    "par4 = list(bd.Database('ALIGNED-biob-prod-dummy').get('c8301e73-d521-4a89-998b-30b7e7751011').exchanges())[2]\n",
    "\n",
    "n_iter = 5\n",
    "param_samples = [(par1['output'],par1['input'], par1.random_sample(n = n_iter)),\n",
    "                 (par2['output'],par2['input'], par2.random_sample(n = n_iter)),\n",
    "                 (par3['output'],par3['input'], par3.random_sample(n = n_iter)),\n",
    "                 (par4['output'],par4['input'], par4.random_sample(n = n_iter))]"
   ]
  },
  {
   "cell_type": "markdown",
   "metadata": {},
   "source": [
    "Let's look at the samples obtained"
   ]
  },
  {
   "cell_type": "code",
   "execution_count": 12,
   "metadata": {},
   "outputs": [
    {
     "data": {
      "text/plain": [
       "[(('ALIGNED-biob-prod-dummy', 'a7d34649-9c10-4423-bac3-ecab9b43b20c'),\n",
       "  ('biosphere3', '349b29d1-3e58-4c66-98b9-9d1a076efd2e'),\n",
       "  array([-1.1082437 , -1.20412901, -1.16025624, -0.92513592, -0.83799594])),\n",
       " (('ALIGNED-biob-prod-dummy', '403a5c32-c769-46fc-8b9a-74b8eb3c79d1'),\n",
       "  ('ecoinvent 3.9.1 conseq', 'f4dc7d2b1d70e6c0f929ec5231c085e0'),\n",
       "  array([0.3917794 , 0.45971774, 0.4918036 , 0.57044589, 0.49277798])),\n",
       " (('ALIGNED-biob-prod-dummy', 'f9eabf64-b899-40c0-9f9f-2009dbb0a0b2'),\n",
       "  ('ALIGNED-biob-prod-dummy', 'a37d149a-6508-4563-8af6-e5a39b4176df'),\n",
       "  array([42.2379771 , 39.86347087, 44.23536305, 47.16525423, 59.91386733])),\n",
       " (('ALIGNED-biob-prod-dummy', 'c8301e73-d521-4a89-998b-30b7e7751011'),\n",
       "  ('biosphere3', '349b29d1-3e58-4c66-98b9-9d1a076efd2e'),\n",
       "  array([1.03578096, 1.21325497, 1.17736457, 0.90948438, 0.90559995]))]"
      ]
     },
     "execution_count": 12,
     "metadata": {},
     "output_type": "execute_result"
    }
   ],
   "source": [
    "param_samples"
   ]
  },
  {
   "cell_type": "markdown",
   "metadata": {},
   "source": [
    "#### Step 2\n",
    "\n",
    "Iteration through all parameter samples. Input values are replaced and new impact scores are calculated at each iteration."
   ]
  },
  {
   "cell_type": "code",
   "execution_count": 13,
   "metadata": {},
   "outputs": [
    {
     "name": "stdout",
     "output_type": "stream",
     "text": [
      "-1.0 -1.1082437024039775\n",
      "-0.5 -0.39177940099623804\n",
      "-50.0 -42.237977099201316\n",
      "1.0 1.0357809610015298\n",
      "* * *\n",
      "-1.0 -1.2041290100225766\n",
      "-0.5 -0.4597177378313766\n",
      "-50.0 -39.863470873747204\n",
      "1.0 1.2132549721154784\n",
      "* * *\n",
      "-1.0 -1.1602562422671698\n",
      "-0.5 -0.4918036047408356\n",
      "-50.0 -44.23536305385895\n",
      "1.0 1.1773645718937875\n",
      "* * *\n",
      "-1.0 -0.9251359226837087\n",
      "-0.5 -0.5704458866146997\n",
      "-50.0 -47.165254232214195\n",
      "1.0 0.9094843809630321\n",
      "* * *\n",
      "-1.0 -0.837995935446056\n",
      "-0.5 -0.49277797939058765\n",
      "-50.0 -59.91386733159369\n",
      "1.0 0.9055999527761707\n",
      "* * *\n"
     ]
    }
   ],
   "source": [
    "# testing the loop that will be used for the simulation, iterate through parameter values\n",
    "    \n",
    "for i in range(0,n_iter): # iterate 5 times...\n",
    "    for s in param_samples: # and for each paramater...\n",
    "        if s[1][0] == \"biosphere3\":\n",
    "            col = LCA.activity_dict[bd.Database(\"ALIGNED-biob-prod-dummy\").get(s[0][1])['id']] # find column index of A matrix for the activity\n",
    "            row = LCA.biosphere_dict[bd.Database(\"biosphere3\").get(s[1][1])['id']] # find row index of B matrix for the exchange\n",
    "            print(LCA.biosphere_matrix[row,col], s[2][i]) # print the initial and final value (to be substituted) ????\n",
    "        \n",
    "        else:\n",
    "            try:\n",
    "                s_id = bd.Database(\"ALIGNED-biob-prod-dummy\").get(s[1][1])['id']\n",
    "                col = LCA.activity_dict[bd.Database(\"ALIGNED-biob-prod-dummy\").get(s[0][1])['id']] # find column index of A matrix for the activity\n",
    "                row = LCA.activity_dict[s_id] # find row index of A matrix for the exchange\n",
    "                print(LCA.technosphere_matrix[row,col], -s[2][i]) # CHANGE OF SIGN!\n",
    "            except:\n",
    "                s_id = bd.Database(\"ecoinvent 3.9.1 conseq\").get(s[1][1])['id']\n",
    "                col = LCA.activity_dict[bd.Database(\"ALIGNED-biob-prod-dummy\").get(s[0][1])['id']] # find column index of A matrix for the activity\n",
    "                row = LCA.activity_dict[s_id] # find row index of A matrix for the exchange\n",
    "                print(LCA.technosphere_matrix[row,col], -s[2][i]) # CHANGE OF SIGN!\n",
    "        \n",
    "    print(\"* * *\")"
   ]
  },
  {
   "cell_type": "code",
   "execution_count": 14,
   "metadata": {},
   "outputs": [
    {
     "name": "stdout",
     "output_type": "stream",
     "text": [
      "110.11516770747772\n",
      "113.91237448515062\n",
      "118.84383253496647\n",
      "114.97447010078145\n",
      "135.80153550304868\n"
     ]
    }
   ],
   "source": [
    "# Implementing the loop\n",
    "\n",
    "GSA_value_results = []\n",
    "\n",
    "for i in range(0,n_iter): \n",
    "    for s in param_samples:\n",
    "        if s[1][0] == \"biosphere3\":\n",
    "            col = LCA.activity_dict[bd.Database(\"ALIGNED-biob-prod-dummy\").get(s[0][1])['id']] # find column index of A matrix for the activity\n",
    "            row = LCA.biosphere_dict[bd.Database(\"biosphere3\").get(s[1][1])['id']] # find row index of B matrix for the exchange\n",
    "            LCA.biosphere_matrix[row,col] = s[2][i] # substitute the value\n",
    "        else:\n",
    "            try:\n",
    "                s_id = bd.Database(\"ALIGNED-biob-prod-dummy\").get(s[1][1])['id']\n",
    "                col = LCA.activity_dict[bd.Database(\"ALIGNED-biob-prod-dummy\").get(s[0][1])['id']] # find column index of A matrix for the activity\n",
    "                row = LCA.activity_dict[s_id] # find row index of A matrix for the exchange\n",
    "                LCA.technosphere_matrix[row,col] = -s[2][i] # substitute the value\n",
    "            except:\n",
    "                s_id = bd.Database(\"ecoinvent 3.9.1 conseq\").get(s[1][1])['id']\n",
    "                col = LCA.activity_dict[bd.Database(\"ALIGNED-biob-prod-dummy\").get(s[0][1])['id']] # find column index of A matrix for the activity\n",
    "                row = LCA.activity_dict[s_id] # find row index of A matrix for the exchange\n",
    "                LCA.technosphere_matrix[row,col] = -s[2][i] # substitute the value\n",
    "                \n",
    "    LCA.redo_lci() # uses the new A matrix\n",
    "    LCA.lcia()\n",
    "    print(LCA.score)\n",
    "    GSA_value_results.append(LCA.score)"
   ]
  },
  {
   "cell_type": "markdown",
   "metadata": {},
   "source": [
    "#### Step 3\n",
    "\n",
    "Now we have both the input and output values and we can look at their correlation.\n",
    "\n",
    "To estimate the degree of correlation use a Pearson coefficient of linear relationship between two sets of values.\n",
    "\n",
    "See here for info: \n",
    "https://en.wikipedia.org/wiki/Pearson_correlation_coefficient\n",
    "https://docs.scipy.org/doc/scipy/reference/generated/scipy.stats.pearsonr.html\n",
    "\n",
    "This approach has for example been used in:\n",
    "\n",
    "_Kim, A., Mutel, C., Froemelt, A., 2021. Robust high-dimensional screening. Environmental Modelling & Software 105270._ https://doi.org/10.1016/j.envsoft.2021.105270\n"
   ]
  },
  {
   "cell_type": "code",
   "execution_count": 15,
   "metadata": {},
   "outputs": [
    {
     "data": {
      "text/html": [
       "<div>\n",
       "<style scoped>\n",
       "    .dataframe tbody tr th:only-of-type {\n",
       "        vertical-align: middle;\n",
       "    }\n",
       "\n",
       "    .dataframe tbody tr th {\n",
       "        vertical-align: top;\n",
       "    }\n",
       "\n",
       "    .dataframe thead th {\n",
       "        text-align: right;\n",
       "    }\n",
       "</style>\n",
       "<table border=\"1\" class=\"dataframe\">\n",
       "  <thead>\n",
       "    <tr style=\"text-align: right;\">\n",
       "      <th></th>\n",
       "      <th>par1</th>\n",
       "      <th>par2</th>\n",
       "      <th>par3</th>\n",
       "      <th>par4</th>\n",
       "      <th>GWI</th>\n",
       "    </tr>\n",
       "  </thead>\n",
       "  <tbody>\n",
       "    <tr>\n",
       "      <th>par1</th>\n",
       "      <td>1.000000</td>\n",
       "      <td>0.513569</td>\n",
       "      <td>0.894304</td>\n",
       "      <td>-0.946790</td>\n",
       "      <td>0.690987</td>\n",
       "    </tr>\n",
       "    <tr>\n",
       "      <th>par2</th>\n",
       "      <td>0.513569</td>\n",
       "      <td>1.000000</td>\n",
       "      <td>0.351618</td>\n",
       "      <td>-0.404270</td>\n",
       "      <td>0.284569</td>\n",
       "    </tr>\n",
       "    <tr>\n",
       "      <th>par3</th>\n",
       "      <td>0.894304</td>\n",
       "      <td>0.351618</td>\n",
       "      <td>1.000000</td>\n",
       "      <td>-0.733988</td>\n",
       "      <td>0.933791</td>\n",
       "    </tr>\n",
       "    <tr>\n",
       "      <th>par4</th>\n",
       "      <td>-0.946790</td>\n",
       "      <td>-0.404270</td>\n",
       "      <td>-0.733988</td>\n",
       "      <td>1.000000</td>\n",
       "      <td>-0.445545</td>\n",
       "    </tr>\n",
       "    <tr>\n",
       "      <th>GWI</th>\n",
       "      <td>0.690987</td>\n",
       "      <td>0.284569</td>\n",
       "      <td>0.933791</td>\n",
       "      <td>-0.445545</td>\n",
       "      <td>1.000000</td>\n",
       "    </tr>\n",
       "  </tbody>\n",
       "</table>\n",
       "</div>"
      ],
      "text/plain": [
       "          par1      par2      par3      par4       GWI\n",
       "par1  1.000000  0.513569  0.894304 -0.946790  0.690987\n",
       "par2  0.513569  1.000000  0.351618 -0.404270  0.284569\n",
       "par3  0.894304  0.351618  1.000000 -0.733988  0.933791\n",
       "par4 -0.946790 -0.404270 -0.733988  1.000000 -0.445545\n",
       "GWI   0.690987  0.284569  0.933791 -0.445545  1.000000"
      ]
     },
     "execution_count": 15,
     "metadata": {},
     "output_type": "execute_result"
    }
   ],
   "source": [
    "# calcualte correlation\n",
    "\n",
    "corr_data = pd.DataFrame([i[2] for i in param_samples], index = ['par1','par2', 'par3', 'par4']).T\n",
    "corr_data['GWI'] = GSA_value_results\n",
    "corr_data.corr()"
   ]
  },
  {
   "cell_type": "markdown",
   "metadata": {},
   "source": [
    "In this specific case \"par3\"  is the parameter to which the results are most sensitive to."
   ]
  },
  {
   "cell_type": "code",
   "execution_count": 16,
   "metadata": {},
   "outputs": [
    {
     "data": {
      "text/plain": [
       "Exchange: 50.0 kilogram 'Biobased-product-manufacturing' (kilogram, None, None) to 'Biobased-product-use' (year, None, None)>"
      ]
     },
     "execution_count": 16,
     "metadata": {},
     "output_type": "execute_result"
    }
   ],
   "source": [
    "# what was \"par3\" again?\n",
    "par3 # amount of manufactured product need din the use stage"
   ]
  },
  {
   "cell_type": "markdown",
   "metadata": {},
   "source": [
    "## FAST\n",
    "\n",
    "The content below shows how to perform a simple Global Sensitivity Analysis (GSA) applying the FAST, a variance-based sensitivity analysis method, for an example product system of a biobased product."
   ]
  },
  {
   "cell_type": "code",
   "execution_count": 17,
   "metadata": {},
   "outputs": [],
   "source": [
    "# importing packages\n",
    "import bw2calc as bc\n",
    "import bw2data as bd\n",
    "import pandas as pd\n",
    "import numpy as np\n",
    "from scipy import stats\n",
    "from lci_to_bw2 import * # import all the functions of this module"
   ]
  },
  {
   "cell_type": "code",
   "execution_count": 18,
   "metadata": {},
   "outputs": [],
   "source": [
    "# open a project with ecoinvent v.3.9.1 consequential system model\n",
    "bd.projects.set_current('advlca23')"
   ]
  },
  {
   "cell_type": "markdown",
   "metadata": {},
   "source": [
    "We start by importing data about a fictional (\"dummy\") product system for a biobased product."
   ]
  },
  {
   "cell_type": "code",
   "execution_count": 19,
   "metadata": {},
   "outputs": [],
   "source": [
    "# Import the dummy product system\n",
    "\n",
    "# import data from csv\n",
    "mydata = pd.read_csv('ALIGNED-LCI-biobased-product-dummy.csv', header = 0, sep = \",\") # using csv file avoids encoding problem\n",
    "mydata.head()\n",
    "\n",
    "# keep only the columns not needed\n",
    "mydb = mydata[['Activity database','Activity code','Activity name','Activity unit','Activity type',\n",
    "               'Exchange database','Exchange input','Exchange amount','Exchange unit','Exchange type',\n",
    "               'Exchange uncertainty type','Exchange loc','Exchange scale','Exchange negative', 'Exchange minimum', 'Exchange maximum', \n",
    "               'Simapro name',\t'Simapro unit', 'Simapro type']].copy()\n",
    "\n",
    "mydb['Exchange uncertainty type'] = mydb['Exchange uncertainty type'].fillna(0).astype(int) # uncertainty as integers\n",
    "# Note: to avoid having both nan and values in the uncertainty column I use zero as default\n",
    "\n",
    "#print(mydb.head())"
   ]
  },
  {
   "cell_type": "code",
   "execution_count": 20,
   "metadata": {},
   "outputs": [
    {
     "name": "stdout",
     "output_type": "stream",
     "text": [
      "Not able to determine geocollections for all datasets. This database is not ready for regionalization.\n"
     ]
    },
    {
     "name": "stderr",
     "output_type": "stream",
     "text": [
      "100%|████████████████████████████████████| 5/5 [00:00<00:00, 2560.00it/s]"
     ]
    },
    {
     "name": "stdout",
     "output_type": "stream",
     "text": [
      "Vacuuming database \n"
     ]
    },
    {
     "name": "stderr",
     "output_type": "stream",
     "text": [
      "\n"
     ]
    }
   ],
   "source": [
    "# Create dictionary in bw format and write database to disk. \n",
    "# Shut down all other notebooks using the same project before doing this\n",
    "bw2_db = lci_to_bw2(mydb) # a function from the lci_to_bw2 module\n",
    "\n",
    "# write database\n",
    "bd.Database('ALIGNED-biob-prod-dummy').write(bw2_db)"
   ]
  },
  {
   "cell_type": "markdown",
   "metadata": {},
   "source": [
    "The product system includes different activities such as the production, use, and end of life of the biobased product."
   ]
  },
  {
   "cell_type": "code",
   "execution_count": 21,
   "metadata": {},
   "outputs": [
    {
     "name": "stdout",
     "output_type": "stream",
     "text": [
      "'Biobased-product-manufacturing' (kilogram, None, None) a37d149a-6508-4563-8af6-e5a39b4176df\n",
      "'Biobased-product-use' (year, None, None) f9eabf64-b899-40c0-9f9f-2009dbb0a0b2\n",
      "'Biomass-growth' (kilogram, None, None) a7d34649-9c10-4423-bac3-ecab9b43b20c\n",
      "'Biobased-product-eol' (kilogram, None, None) c8301e73-d521-4a89-998b-30b7e7751011\n",
      "'Biomass-processing' (kilogram, None, None) 403a5c32-c769-46fc-8b9a-74b8eb3c79d1\n"
     ]
    }
   ],
   "source": [
    "# check what foreground activities are included\n",
    "for act in bd.Database('ALIGNED-biob-prod-dummy'):\n",
    "    print(act, act['code'])"
   ]
  },
  {
   "cell_type": "code",
   "execution_count": 22,
   "metadata": {},
   "outputs": [
    {
     "data": {
      "text/plain": [
       "{'name': 'Biobased-product-use',\n",
       " 'unit': 'year',\n",
       " 'type': 'process',\n",
       " 'database': 'ALIGNED-biob-prod-dummy',\n",
       " 'code': 'f9eabf64-b899-40c0-9f9f-2009dbb0a0b2',\n",
       " 'id': 23611}"
      ]
     },
     "execution_count": 22,
     "metadata": {},
     "output_type": "execute_result"
    }
   ],
   "source": [
    "# More info \n",
    "myact = bd.Database('ALIGNED-biob-prod-dummy').get('f9eabf64-b899-40c0-9f9f-2009dbb0a0b2') # Biobased-product-use\n",
    "myact._data"
   ]
  },
  {
   "cell_type": "code",
   "execution_count": 23,
   "metadata": {},
   "outputs": [
    {
     "data": {
      "text/plain": [
       "{'input': ('ALIGNED-biob-prod-dummy', 'a37d149a-6508-4563-8af6-e5a39b4176df'),\n",
       " 'amount': 50.0,\n",
       " 'unit': 'kilogram',\n",
       " 'type': 'technosphere',\n",
       " 'uncertainty type': 4,\n",
       " 'minimum': 37.5,\n",
       " 'maximum': 62.5,\n",
       " 'Simapro name': 'Biobased-product-manufacturing',\n",
       " 'Simapro unit': 'kg',\n",
       " 'output': ('ALIGNED-biob-prod-dummy', 'f9eabf64-b899-40c0-9f9f-2009dbb0a0b2')}"
      ]
     },
     "execution_count": 23,
     "metadata": {},
     "output_type": "execute_result"
    }
   ],
   "source": [
    "# Uncertainty is also there\n",
    "list(myact.exchanges())[1]._data"
   ]
  },
  {
   "cell_type": "markdown",
   "metadata": {},
   "source": [
    "We calculate a static climate impact score for the fictional biobased product, to be used for reference later on."
   ]
  },
  {
   "cell_type": "code",
   "execution_count": 24,
   "metadata": {},
   "outputs": [
    {
     "name": "stdout",
     "output_type": "stream",
     "text": [
      "121.67148771458245\n"
     ]
    }
   ],
   "source": [
    "# calculation of static LCA score\n",
    "mymethod = ('IPCC 2013', 'climate change', 'global warming potential (GWP100)')\n",
    "myact = bd.Database('ALIGNED-biob-prod-dummy').get('f9eabf64-b899-40c0-9f9f-2009dbb0a0b2') # Biobased-product-use\n",
    "functional_unit = {myact: 1}\n",
    "LCA = bc.LCA(functional_unit, mymethod)\n",
    "LCA.lci()\n",
    "LCA.lcia()\n",
    "print(LCA.score)"
   ]
  },
  {
   "cell_type": "markdown",
   "metadata": {},
   "source": [
    "### Now perform sensitivity analysis"
   ]
  },
  {
   "cell_type": "markdown",
   "metadata": {},
   "source": [
    "The procedure is in three steps.\n",
    "\n",
    "1) A set of model input parameters is chosen. These are **values of specific exchanges**. A sample of values is produced for each model input **using a specific and efficient sampling design** (the **\"problem\"** below)\n",
    "2) A simulation is performed. Initial prameter values are substituted with those in the sample, iteratively, and new model outputs, that are LCA scores, are calculated.\n",
    "3) **A sensitivity index is calculated** using model input values (the \"problem\") and output values."
   ]
  },
  {
   "cell_type": "markdown",
   "metadata": {},
   "source": [
    "#### Step 1\n",
    "Obtain a sample of values for each parameter."
   ]
  },
  {
   "cell_type": "markdown",
   "metadata": {},
   "source": [
    "This is a  pseudo-random sample obtained using a sampling method from the SALib package on the problem previously defined.\n",
    "\n",
    "it is defined as a __FAST__ sample (\"Fourier Amplitude Sensitivity Analysis\"), another alternative to Sobol method.\n",
    "\n",
    "Sobol and FAST sampling methods use different pseudo-random patterns to cover the space of parameters, and different calculations for the sensitivity indices.\n",
    "\n",
    "Besides these differences, the (extended) FAST method is, just like the Sobol one, a variance-based method for sensitivity analysis. It provides the same information as the Sobol method but with higher computational efficiency.\n",
    "\n",
    "For further information and comparison see: \n",
    "\n",
    "_Saltelli, A.; Tarantola, S.; Chan, K. P. S. A Quantitative Model-Independent Method for Global Sensitivity Analysis of Model Output. Technometrics 1999, 41 (1), 39–56._ https://doi.org/10.1080/00401706.1999.10485594.\n"
   ]
  },
  {
   "cell_type": "code",
   "execution_count": 25,
   "metadata": {},
   "outputs": [],
   "source": [
    "# need to import the SALib library and relaive methods for sensitvity analysis\n",
    "# do 'pip install SALib' in the brightway environment\n",
    "\n",
    "from SALib.sample import saltelli\n",
    "from SALib.sample import fast_sampler\n",
    "from SALib.analyze import sobol\n",
    "from SALib.analyze import fast\n"
   ]
  },
  {
   "cell_type": "markdown",
   "metadata": {},
   "source": [
    "Define the \"problem\" for the GSA analysis as indicated in the SALib library.\n",
    "Uniform distributions for the uncertainty of for each input parameter are here assumed."
   ]
  },
  {
   "cell_type": "code",
   "execution_count": 26,
   "metadata": {},
   "outputs": [],
   "source": [
    "problem = { 'num_vars': 4, # number of variables\n",
    "            'names': ['par1', 'par2', 'par3', 'par4'], # names of variables, same as parameters\n",
    "            'bounds': [[-1.25, -0.75], # careful here to what is the lower bound with negative values...\n",
    "                       [0.1, 0.9],  \n",
    "                       [20, 60],\n",
    "                       [0.75, 1.25]] ,\n",
    "           'dists':[\"unif\",\"unif\",\"unif\",\"unif\"] } # all uniform distributions"
   ]
  },
  {
   "cell_type": "code",
   "execution_count": 27,
   "metadata": {},
   "outputs": [
    {
     "name": "stdout",
     "output_type": "stream",
     "text": [
      "(800, 4)\n"
     ]
    },
    {
     "data": {
      "text/plain": [
       "array([[-0.84295191,  0.75127695, 52.56384733,  1.15704809],\n",
       "       [-0.77704809,  0.75927695, 53.36384733,  1.17204809],\n",
       "       [-0.89704809,  0.76727695, 54.16384733,  1.18704809],\n",
       "       ...,\n",
       "       [-0.92345687,  0.64646901, 48.52345037,  1.07845687],\n",
       "       [-0.92845687,  0.63046901, 47.32345037,  1.19845687],\n",
       "       [-0.93345687,  0.61446901, 46.12345037,  1.18154313]])"
      ]
     },
     "execution_count": 27,
     "metadata": {},
     "output_type": "execute_result"
    }
   ],
   "source": [
    "# FAST sampler creates N*P parameters sets with N=sample size, P = number of parameters\n",
    "param_values_FAST = fast_sampler.sample(problem, 200)\n",
    "print(param_values_FAST.shape)\n",
    "\n",
    "param_values_FAST"
   ]
  },
  {
   "cell_type": "markdown",
   "metadata": {},
   "source": [
    "Associate the values to specific exchanges using the coordinates (column and row) of the technosphere (A) and biosphere (B) matrices, taking the data directly from the BW database that we just created."
   ]
  },
  {
   "cell_type": "code",
   "execution_count": 28,
   "metadata": {},
   "outputs": [],
   "source": [
    "# In biomass growth, value of CO2 uptake\n",
    "par1 = list(bd.Database('ALIGNED-biob-prod-dummy').get('a7d34649-9c10-4423-bac3-ecab9b43b20c').exchanges())[3]\n",
    "# In biomass processing, amount of energy used.\n",
    "par2 = list(bd.Database('ALIGNED-biob-prod-dummy').get('403a5c32-c769-46fc-8b9a-74b8eb3c79d1').exchanges())[1]\n",
    "# In use of product, amount of manufactured product needed\n",
    "par3 = list(bd.Database('ALIGNED-biob-prod-dummy').get('f9eabf64-b899-40c0-9f9f-2009dbb0a0b2').exchanges())[1]\n",
    "# In use of product, amount of manufactured product needed\n",
    "par4 = list(bd.Database('ALIGNED-biob-prod-dummy').get('c8301e73-d521-4a89-998b-30b7e7751011').exchanges())[2]\n",
    "\n",
    "n_iter = len(param_values_FAST)\n",
    "param_samples = [(par1['output'],par1['input'], [i[0] for i in param_values_FAST]),\n",
    "                 (par2['output'],par2['input'], [i[1] for i in param_values_FAST]),\n",
    "                 (par3['output'],par3['input'], [i[2] for i in param_values_FAST]),\n",
    "                 (par4['output'],par4['input'], [i[3] for i in param_values_FAST])]"
   ]
  },
  {
   "cell_type": "markdown",
   "metadata": {},
   "source": [
    "#### Step 2\n",
    "\n",
    "Iteration through all parameter samples. New LCA scores are calculated for each combination of values.\n",
    "\n",
    "With 800 iterations, **this will take some time**"
   ]
  },
  {
   "cell_type": "code",
   "execution_count": 30,
   "metadata": {},
   "outputs": [],
   "source": [
    "# Implementing the loop\n",
    "\n",
    "GSA_value_results = []\n",
    "\n",
    "for i in range(0,len(param_values_FAST)): \n",
    "    for s in param_samples:\n",
    "        if s[1][0] == \"biosphere3\":\n",
    "            col = LCA.activity_dict[bd.Database(\"ALIGNED-biob-prod-dummy\").get(s[0][1])['id']] # find column index of A matrix for the activity\n",
    "            row = LCA.biosphere_dict[bd.Database(\"biosphere3\").get(s[1][1])['id']] # find row index of B matrix for the exchange\n",
    "            LCA.biosphere_matrix[row,col] = s[2][i] # substitute the value\n",
    "        else:\n",
    "            try:\n",
    "                s_id = bd.Database(\"ALIGNED-biob-prod-dummy\").get(s[1][1])['id']\n",
    "                col = LCA.activity_dict[bd.Database(\"ALIGNED-biob-prod-dummy\").get(s[0][1])['id']] # find column index of A matrix for the activity\n",
    "                row = LCA.activity_dict[s_id] # find row index of B matrix for the exchange\n",
    "                LCA.technosphere_matrix[row,col] = -s[2][i] # substitute the value\n",
    "            except:\n",
    "                s_id = bd.Database(\"ecoinvent 3.9.1 conseq\").get(s[1][1])['id']\n",
    "                col = LCA.activity_dict[bd.Database(\"ALIGNED-biob-prod-dummy\").get(s[0][1])['id']] # find column index of A matrix for the activity\n",
    "                row = LCA.activity_dict[s_id] # find row index of B matrix for the exchange\n",
    "                LCA.technosphere_matrix[row,col] = -s[2][i] # substitute the value\n",
    "        \n",
    "    LCA.redo_lci() # uses the new A matrix\n",
    "    LCA.lcia()\n",
    "    #print(LCA.score)\n",
    "    GSA_value_results.append(LCA.score)"
   ]
  },
  {
   "cell_type": "markdown",
   "metadata": {},
   "source": [
    "#### Step 3\n",
    "\n",
    "Now we have both the input and output values and we can feed the problem and the results to the Sobol function to obtain the FAST indices.\n",
    "\n",
    "First we look at the parameters and the result\n",
    "\n"
   ]
  },
  {
   "cell_type": "code",
   "execution_count": 31,
   "metadata": {},
   "outputs": [
    {
     "data": {
      "text/html": [
       "<div>\n",
       "<style scoped>\n",
       "    .dataframe tbody tr th:only-of-type {\n",
       "        vertical-align: middle;\n",
       "    }\n",
       "\n",
       "    .dataframe tbody tr th {\n",
       "        vertical-align: top;\n",
       "    }\n",
       "\n",
       "    .dataframe thead th {\n",
       "        text-align: right;\n",
       "    }\n",
       "</style>\n",
       "<table border=\"1\" class=\"dataframe\">\n",
       "  <thead>\n",
       "    <tr style=\"text-align: right;\">\n",
       "      <th></th>\n",
       "      <th>par0</th>\n",
       "      <th>par1</th>\n",
       "      <th>par2</th>\n",
       "      <th>par3</th>\n",
       "      <th>GWI</th>\n",
       "    </tr>\n",
       "  </thead>\n",
       "  <tbody>\n",
       "    <tr>\n",
       "      <th>0</th>\n",
       "      <td>-0.842952</td>\n",
       "      <td>0.751277</td>\n",
       "      <td>52.563847</td>\n",
       "      <td>1.157048</td>\n",
       "      <td>137.543974</td>\n",
       "    </tr>\n",
       "    <tr>\n",
       "      <th>1</th>\n",
       "      <td>-0.777048</td>\n",
       "      <td>0.759277</td>\n",
       "      <td>53.363847</td>\n",
       "      <td>1.172048</td>\n",
       "      <td>141.258289</td>\n",
       "    </tr>\n",
       "    <tr>\n",
       "      <th>2</th>\n",
       "      <td>-0.897048</td>\n",
       "      <td>0.767277</td>\n",
       "      <td>54.163847</td>\n",
       "      <td>1.187048</td>\n",
       "      <td>139.990957</td>\n",
       "    </tr>\n",
       "    <tr>\n",
       "      <th>3</th>\n",
       "      <td>-1.017048</td>\n",
       "      <td>0.775277</td>\n",
       "      <td>54.963847</td>\n",
       "      <td>1.202048</td>\n",
       "      <td>138.627887</td>\n",
       "    </tr>\n",
       "    <tr>\n",
       "      <th>4</th>\n",
       "      <td>-1.137048</td>\n",
       "      <td>0.783277</td>\n",
       "      <td>55.763847</td>\n",
       "      <td>1.217048</td>\n",
       "      <td>137.169079</td>\n",
       "    </tr>\n",
       "    <tr>\n",
       "      <th>5</th>\n",
       "      <td>-1.242952</td>\n",
       "      <td>0.791277</td>\n",
       "      <td>56.563847</td>\n",
       "      <td>1.232048</td>\n",
       "      <td>136.013200</td>\n",
       "    </tr>\n",
       "    <tr>\n",
       "      <th>6</th>\n",
       "      <td>-1.122952</td>\n",
       "      <td>0.799277</td>\n",
       "      <td>57.363847</td>\n",
       "      <td>1.247048</td>\n",
       "      <td>141.252216</td>\n",
       "    </tr>\n",
       "    <tr>\n",
       "      <th>7</th>\n",
       "      <td>-1.002952</td>\n",
       "      <td>0.807277</td>\n",
       "      <td>58.163847</td>\n",
       "      <td>1.237952</td>\n",
       "      <td>145.382686</td>\n",
       "    </tr>\n",
       "    <tr>\n",
       "      <th>8</th>\n",
       "      <td>-0.882952</td>\n",
       "      <td>0.815277</td>\n",
       "      <td>58.963847</td>\n",
       "      <td>1.222952</td>\n",
       "      <td>149.314226</td>\n",
       "    </tr>\n",
       "    <tr>\n",
       "      <th>9</th>\n",
       "      <td>-0.762952</td>\n",
       "      <td>0.823277</td>\n",
       "      <td>59.763847</td>\n",
       "      <td>1.207952</td>\n",
       "      <td>153.342029</td>\n",
       "    </tr>\n",
       "  </tbody>\n",
       "</table>\n",
       "</div>"
      ],
      "text/plain": [
       "       par0      par1       par2      par3         GWI\n",
       "0 -0.842952  0.751277  52.563847  1.157048  137.543974\n",
       "1 -0.777048  0.759277  53.363847  1.172048  141.258289\n",
       "2 -0.897048  0.767277  54.163847  1.187048  139.990957\n",
       "3 -1.017048  0.775277  54.963847  1.202048  138.627887\n",
       "4 -1.137048  0.783277  55.763847  1.217048  137.169079\n",
       "5 -1.242952  0.791277  56.563847  1.232048  136.013200\n",
       "6 -1.122952  0.799277  57.363847  1.247048  141.252216\n",
       "7 -1.002952  0.807277  58.163847  1.237952  145.382686\n",
       "8 -0.882952  0.815277  58.963847  1.222952  149.314226\n",
       "9 -0.762952  0.823277  59.763847  1.207952  153.342029"
      ]
     },
     "execution_count": 31,
     "metadata": {},
     "output_type": "execute_result"
    }
   ],
   "source": [
    "# Organize data first to give a look at what we have done: a sample of input values and a corresponding output value\n",
    "fast_data = pd.DataFrame([i[2] for i in param_samples], index = ['par0','par1', 'par2', 'par3']).T\n",
    "fast_data['GWI'] = GSA_value_results\n",
    "fast_data.head(10) # show only the first ten samples"
   ]
  },
  {
   "cell_type": "markdown",
   "metadata": {},
   "source": [
    "Now we calculate the SI index"
   ]
  },
  {
   "cell_type": "code",
   "execution_count": 32,
   "metadata": {},
   "outputs": [
    {
     "name": "stdout",
     "output_type": "stream",
     "text": [
      "            S1        ST   S1_conf   ST_conf\n",
      "par1  0.025288  0.029428  0.072759  0.084596\n",
      "par2  0.000111  0.001182  0.085218  0.093450\n",
      "par3  0.800727  0.804898  0.074711  0.092793\n",
      "par4  0.162175  0.164456  0.082397  0.088802\n"
     ]
    }
   ],
   "source": [
    "si = fast.analyze(problem, np.array(GSA_value_results), print_to_console=True) # must use np.array"
   ]
  },
  {
   "cell_type": "markdown",
   "metadata": {},
   "source": [
    "In this specific case \"par3\"  is the parameter to which the results are most sensitive to, this because it has the highest value for \"S1\" which is the first order effect.\n",
    "\n",
    "This is determined with relativelygood confidence as the error (value of \"S1_conf\") is small compared to the coefficient.\n",
    "\n",
    "Note also that \"par3\" is also the parameter withi highest sensitivity in the total model, i.e. when in combinatino with other parameters, as observed by the highest value of \"ST\"."
   ]
  },
  {
   "cell_type": "code",
   "execution_count": 33,
   "metadata": {},
   "outputs": [
    {
     "data": {
      "text/plain": [
       "Exchange: 50.0 kilogram 'Biobased-product-manufacturing' (kilogram, None, None) to 'Biobased-product-use' (year, None, None)>"
      ]
     },
     "execution_count": 33,
     "metadata": {},
     "output_type": "execute_result"
    }
   ],
   "source": [
    "# In this specific case \"par3\" is the parameter to which the results ar emost sensitive to, and values have high confidente (small error)\n",
    "# what was \"par3\" again?\n",
    "par3 # amount of manufactured product need din the use stage"
   ]
  }
 ],
 "metadata": {
  "kernelspec": {
   "display_name": "Python 3 (ipykernel)",
   "language": "python",
   "name": "python3"
  },
  "language_info": {
   "codemirror_mode": {
    "name": "ipython",
    "version": 3
   },
   "file_extension": ".py",
   "mimetype": "text/x-python",
   "name": "python",
   "nbconvert_exporter": "python",
   "pygments_lexer": "ipython3",
   "version": "3.11.9"
  }
 },
 "nbformat": 4,
 "nbformat_minor": 4
}
