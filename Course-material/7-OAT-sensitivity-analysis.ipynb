{
 "cells": [
  {
   "cell_type": "markdown",
   "metadata": {},
   "source": [
    "# One At the Time (OAT) Sensitivity analysis"
   ]
  },
  {
   "cell_type": "markdown",
   "metadata": {},
   "source": [
    "This is the simplest case. Also called a _local_ Sensitivity analysis. One parameter is changed by keeping all the other constant and the difference in results is compared to the change. This allows to investigate how much results are affected by the specific change in the parameter. This is good for some types of analysis, but has some problems. Main issue is that the effect of a change in the parameter might be different when other parameters assume different values...so OAT can be misleading!  This problem can only be solved with a global sensitivity analysis (next notebook)"
   ]
  },
  {
   "cell_type": "code",
   "execution_count": 1,
   "metadata": {
    "scrolled": true
   },
   "outputs": [],
   "source": [
    "import brightway2 as bw\n",
    "import numpy as np\n",
    "import pandas as pd\n",
    "from matplotlib import pyplot as plt"
   ]
  },
  {
   "cell_type": "code",
   "execution_count": 2,
   "metadata": {},
   "outputs": [
    {
     "data": {
      "text/plain": [
       "Databases dictionary with 5 object(s):\n",
       "\tbiosphere3\n",
       "\tecoinvent 3.9 conseq\n",
       "\texldb\n",
       "\ttestbiosphere\n",
       "\ttestdb"
      ]
     },
     "execution_count": 2,
     "metadata": {},
     "output_type": "execute_result"
    }
   ],
   "source": [
    "bw.projects.set_current('advlca23') # Still working in the same project\n",
    "bw.databases"
   ]
  },
  {
   "cell_type": "code",
   "execution_count": 3,
   "metadata": {},
   "outputs": [],
   "source": [
    "#if 'sa_db' in bw.databases: del bw.databases['sa_db'] # to clean up if you do this multiple times\n",
    "#bw.databases"
   ]
  },
  {
   "cell_type": "code",
   "execution_count": 3,
   "metadata": {},
   "outputs": [
    {
     "name": "stderr",
     "output_type": "stream",
     "text": [
      "Writing activities to SQLite3 database:\n",
      "0% [#] 100% | ETA: 00:00:00\n",
      "Total time elapsed: 00:00:00\n"
     ]
    },
    {
     "name": "stdout",
     "output_type": "stream",
     "text": [
      "Title: Writing activities to SQLite3 database:\n",
      "  Started: 02/23/2023 20:06:17\n",
      "  Finished: 02/23/2023 20:06:17\n",
      "  Total time elapsed: 00:00:00\n",
      "  CPU %: 54.10\n",
      "  Memory %: 1.09\n"
     ]
    },
    {
     "data": {
      "text/plain": [
       "0.0477940894283689"
      ]
     },
     "execution_count": 3,
     "metadata": {},
     "output_type": "execute_result"
    }
   ],
   "source": [
    "SA_db = bw.Database('sa_db')\n",
    "\n",
    "# A simplified db, one foreground activity: 'Electricity production,\n",
    "# linked to a background one: 'market for electricity, low voltage' (kilowatt hour, DK, None)\n",
    "SA_db.write({  \n",
    "    ('sa_db', 'el_prod_for_sa'): {\n",
    "        'name': 'Electricity production',\n",
    "        'unit': 'kilowatt hour',\n",
    "        'exchanges': [{\n",
    "            'input': ('ecoinvent 3.9 conseq', 'ce40dd006e462e720eb669efbc31dd59'), # Danish market for electricity\n",
    "            'amount': 1,\n",
    "            'type': 'technosphere'},\n",
    "        {\n",
    "            'input': ('sa_db', 'el_prod_for_sa'),\n",
    "            'amount': 1,\n",
    "            'type': 'production'}]}})\n",
    "\n",
    "# select the foreground activity and calculate result\n",
    "lca = bw.LCA({SA_db.get('el_prod_for_sa'): 1}, ('IPCC 2013', 'climate change', 'global warming potential (GWP100)'))\n",
    "lca.lci()\n",
    "lca.lcia()\n",
    "DK_result = lca.score\n",
    "DK_result"
   ]
  },
  {
   "cell_type": "markdown",
   "metadata": {},
   "source": [
    "# Changing the exchange kind\n",
    "\n",
    "There are many ways of doing sensitivity analysis. One might for example be interested in changing the electricity mix (somebody might call this a _scenario analysis_...). For example, I would like to run my LCA with ten different market mixes in ecoinvent instead of just the Danish one."
   ]
  },
  {
   "cell_type": "code",
   "execution_count": 4,
   "metadata": {},
   "outputs": [
    {
     "data": {
      "text/plain": [
       "[('ecoinvent 3.9 conseq', '8335ed7df9183bc0e05c7b342d4a61c3'),\n",
       " ('ecoinvent 3.9 conseq', '212ade89281fcf302c73ffc53d114ff8'),\n",
       " ('ecoinvent 3.9 conseq', 'd42cdc8fe9853d28b7abf71ba95d6e1b'),\n",
       " ('ecoinvent 3.9 conseq', 'beac514681eafc15b5f6b3c4de4d7324')]"
      ]
     },
     "execution_count": 4,
     "metadata": {},
     "output_type": "execute_result"
    }
   ],
   "source": [
    "# First make a list of processes we wants to change with, in this case el. markets\n",
    "el_markets = [('ecoinvent 3.9 conseq', i['code']) \n",
    "              for i in bw.Database(\"ecoinvent 3.9 conseq\").search('market electricity low voltage', limit = 100)]\n",
    "el_markets[1:5] # prints the first four of them"
   ]
  },
  {
   "cell_type": "code",
   "execution_count": 5,
   "metadata": {},
   "outputs": [],
   "source": [
    "# Make a copy of the activity, substitute the background process, save and calculate\n",
    "SA_el_loc_results = [] # empty list that will contain all the results of the local SA\n",
    "el = SA_db.get('el_prod_for_sa')\n",
    "for m in el_markets[0:20]: # I am just taking the first 20 of them to speed up\n",
    "    el2 = el.copy() # implement the changes on a copy to keep the original intact\n",
    "    exc = list(el2.exchanges())[0] # select the first exchange in the activity, i.e. the input from ecoinvent\n",
    "    exc['input'] = m\n",
    "    exc.save() # important or the changes won't be maintained\n",
    "    lca = bw.LCA({el2: 1}, ('IPCC 2013', 'climate change', 'global warming potential (GWP100)'))\n",
    "    lca.lci()\n",
    "    lca.lcia()\n",
    "    SA_el_loc_results.append(lca.score)"
   ]
  },
  {
   "cell_type": "code",
   "execution_count": 6,
   "metadata": {},
   "outputs": [
    {
     "data": {
      "text/plain": [
       "[0.5567967586434633,\n",
       " 0.0895292198332068,\n",
       " 0.09451707859155958,\n",
       " 0.09108094998148117,\n",
       " 0.09256547740307007,\n",
       " 0.27878727785924173,\n",
       " 0.1357119820517443,\n",
       " 0.24956482475560618,\n",
       " 0.5768230131729805,\n",
       " 0.5491376969910495,\n",
       " 0.5609360206210439,\n",
       " 0.07039575895321737,\n",
       " 0.538301680905329,\n",
       " 0.5522425178813565,\n",
       " 0.6365597560493156,\n",
       " 0.5999414916532642,\n",
       " 0.13649297808287844,\n",
       " 0.2610327224529362,\n",
       " 0.5453274309185047,\n",
       " 0.08074093310935777]"
      ]
     },
     "execution_count": 6,
     "metadata": {},
     "output_type": "execute_result"
    }
   ],
   "source": [
    "SA_el_loc_results"
   ]
  },
  {
   "cell_type": "code",
   "execution_count": 8,
   "metadata": {},
   "outputs": [
    {
     "name": "stdout",
     "output_type": "stream",
     "text": [
      "7.005558270910176\n"
     ]
    },
    {
     "data": {
      "text/html": [
       "<div>\n",
       "<style scoped>\n",
       "    .dataframe tbody tr th:only-of-type {\n",
       "        vertical-align: middle;\n",
       "    }\n",
       "\n",
       "    .dataframe tbody tr th {\n",
       "        vertical-align: top;\n",
       "    }\n",
       "\n",
       "    .dataframe thead th {\n",
       "        text-align: right;\n",
       "    }\n",
       "</style>\n",
       "<table border=\"1\" class=\"dataframe\">\n",
       "  <thead>\n",
       "    <tr style=\"text-align: right;\">\n",
       "      <th></th>\n",
       "      <th>0</th>\n",
       "    </tr>\n",
       "  </thead>\n",
       "  <tbody>\n",
       "    <tr>\n",
       "      <th>count</th>\n",
       "      <td>20.000000</td>\n",
       "    </tr>\n",
       "    <tr>\n",
       "      <th>mean</th>\n",
       "      <td>0.334824</td>\n",
       "    </tr>\n",
       "    <tr>\n",
       "      <th>std</th>\n",
       "      <td>0.225312</td>\n",
       "    </tr>\n",
       "    <tr>\n",
       "      <th>min</th>\n",
       "      <td>0.070396</td>\n",
       "    </tr>\n",
       "    <tr>\n",
       "      <th>25%</th>\n",
       "      <td>0.094029</td>\n",
       "    </tr>\n",
       "    <tr>\n",
       "      <th>50%</th>\n",
       "      <td>0.269910</td>\n",
       "    </tr>\n",
       "    <tr>\n",
       "      <th>75%</th>\n",
       "      <td>0.553381</td>\n",
       "    </tr>\n",
       "    <tr>\n",
       "      <th>max</th>\n",
       "      <td>0.636560</td>\n",
       "    </tr>\n",
       "  </tbody>\n",
       "</table>\n",
       "</div>"
      ],
      "text/plain": [
       "               0\n",
       "count  20.000000\n",
       "mean    0.334824\n",
       "std     0.225312\n",
       "min     0.070396\n",
       "25%     0.094029\n",
       "50%     0.269910\n",
       "75%     0.553381\n",
       "max     0.636560"
      ]
     },
     "execution_count": 8,
     "metadata": {},
     "output_type": "execute_result"
    }
   ],
   "source": [
    "# Unig numpy and pandas packages here\n",
    "print(np.mean([(i/DK_result) for i in SA_el_loc_results])) # about 7 times higher impact than DK on average\n",
    "pd.DataFrame(SA_el_loc_results).describe()"
   ]
  },
  {
   "cell_type": "code",
   "execution_count": 9,
   "metadata": {},
   "outputs": [
    {
     "data": {
      "text/plain": [
       "Text(0.5, 0, 'El Production')"
      ]
     },
     "execution_count": 9,
     "metadata": {},
     "output_type": "execute_result"
    },
    {
     "data": {
      "image/png": "[encoded data removed]",
      "text/plain": [
       "<Figure size 640x480 with 1 Axes>"
      ]
     },
     "metadata": {},
     "output_type": "display_data"
    }
   ],
   "source": [
    "# Using matplotlib package\n",
    "plt.boxplot(SA_el_loc_results)\n",
    "plt.ylabel(bw.methods[('IPCC 2013', 'climate change', 'global warming potential (GWP100)')]['unit'])\n",
    "plt.xlabel('El Production')"
   ]
  },
  {
   "cell_type": "markdown",
   "metadata": {},
   "source": [
    "# Changing the exchange value\n",
    "\n",
    "One might want to test different values for the same exchange, or see how results are affected by a percent change in the value of this exchange. Iin this case it's more handy to use _parametrized inventories_. There is a good [tutorial here](https://nbviewer.jupyter.org/urls/bitbucket.org/cmutel/brightway2/raw/default/notebooks/Parameters%20-%20manual%20creation.ipynb) about this that you can check it out, as well as some [theory here](https://docs.brightwaylca.org/intro.html#parameterized-datasets) on what type of parameters (activity-, database-, or project-parameters) one can define in brightway. Here we make just a simple example. "
   ]
  },
  {
   "cell_type": "markdown",
   "metadata": {},
   "source": [
    "## Without parameters"
   ]
  },
  {
   "cell_type": "code",
   "execution_count": 10,
   "metadata": {},
   "outputs": [
    {
     "data": {
      "text/plain": [
       "Exchange: 1 kilowatt hour 'market for electricity, low voltage' (kilowatt hour, DK, None) to 'Electricity production' (kilowatt hour, None, None)>"
      ]
     },
     "execution_count": 10,
     "metadata": {},
     "output_type": "execute_result"
    }
   ],
   "source": [
    "list(SA_db.get('el_prod_for_sa').exchanges())[0]"
   ]
  },
  {
   "cell_type": "code",
   "execution_count": 11,
   "metadata": {},
   "outputs": [],
   "source": [
    "# the obvious solution is to use the same approach as above\n",
    "SA_values = [1.01, 1.05, 1.1] # I am studying a change of 1%, 5%, 10% in the parameter\n",
    "SA_el_value_results = []\n",
    "el = SA_db.get('el_prod_for_sa')\n",
    "for v in SA_values:\n",
    "    el2 = el.copy()\n",
    "    exc = list(el2.exchanges())[0]\n",
    "    exc['amount'] = v # this is the different line compared to before\n",
    "    exc.save()\n",
    "    lca = bw.LCA({el2: 1}, ('IPCC 2013', 'climate change', 'global warming potential (GWP100)'))\n",
    "    lca.lci()\n",
    "    lca.lcia()\n",
    "    SA_el_value_results.append(lca.score)"
   ]
  },
  {
   "cell_type": "code",
   "execution_count": 12,
   "metadata": {},
   "outputs": [
    {
     "data": {
      "text/plain": [
       "[0.04827202986685265, 0.0501837916207876, 0.052573499510705675]"
      ]
     },
     "execution_count": 12,
     "metadata": {},
     "output_type": "execute_result"
    }
   ],
   "source": [
    "SA_el_value_results"
   ]
  },
  {
   "cell_type": "code",
   "execution_count": 13,
   "metadata": {},
   "outputs": [
    {
     "data": {
      "text/plain": [
       "Text(0.5, 0, 'SA values')"
      ]
     },
     "execution_count": 13,
     "metadata": {},
     "output_type": "execute_result"
    },
    {
     "data": {
      "image/png": "[encoded data removed]",
      "text/plain": [
       "<Figure size 640x480 with 1 Axes>"
      ]
     },
     "metadata": {},
     "output_type": "display_data"
    }
   ],
   "source": [
    "plt.plot(SA_values, SA_el_value_results)\n",
    "plt.ylabel('SA results')\n",
    "plt.xlabel('SA values')"
   ]
  },
  {
   "cell_type": "code",
   "execution_count": 14,
   "metadata": {},
   "outputs": [
    {
     "data": {
      "text/plain": [
       "0.0477940438483752"
      ]
     },
     "execution_count": 14,
     "metadata": {},
     "output_type": "execute_result"
    }
   ],
   "source": [
    "(SA_el_value_results[0] - DK_result)/(1.01 - 1.) # Marginal change (slope of the line)"
   ]
  },
  {
   "cell_type": "code",
   "execution_count": 15,
   "metadata": {},
   "outputs": [
    {
     "data": {
      "text/plain": [
       "(0.04779410922951419,\n",
       " -2.1388972974711873e-08,\n",
       " 0.999999999999771,\n",
       " 4.308735740764127e-07,\n",
       " 3.234775152738445e-08)"
      ]
     },
     "execution_count": 15,
     "metadata": {},
     "output_type": "execute_result"
    }
   ],
   "source": [
    "from scipy import stats # just another way to do the same\n",
    "slope, intercept, r_value, p_value, std_err = stats.linregress(SA_values, SA_el_value_results)\n",
    "slope, intercept, r_value, p_value, std_err"
   ]
  },
  {
   "cell_type": "markdown",
   "metadata": {},
   "source": [
    "## Same but using parameters"
   ]
  },
  {
   "cell_type": "code",
   "execution_count": 16,
   "metadata": {},
   "outputs": [
    {
     "name": "stdout",
     "output_type": "stream",
     "text": [
      "Parameters manager with 0 objects\n"
     ]
    }
   ],
   "source": [
    "print(bw.parameters) # you shuold have none"
   ]
  },
  {
   "cell_type": "code",
   "execution_count": 17,
   "metadata": {},
   "outputs": [],
   "source": [
    "# If you get a result like: \"Parameters manager with 1 objects\" then comment out and run this cell\n",
    "#from bw2data.parameters import *\n",
    "\n",
    "#for param in ActivityParameter.select(): \n",
    "#    print(param, param.amount) # This is to check what aprameters are in your notebook already\n",
    "\n",
    "#del bw.databases['sa_db'] # delete the database to clean up existing Database and activity parameters\n",
    "#bw.parameters.remove_from_group(\"my group\", bw.Database('sa_db').get('el_prod_for_sa')) # also a way to clean up "
   ]
  },
  {
   "cell_type": "code",
   "execution_count": 18,
   "metadata": {},
   "outputs": [],
   "source": [
    "??bw.parameters"
   ]
  },
  {
   "cell_type": "code",
   "execution_count": 17,
   "metadata": {},
   "outputs": [
    {
     "name": "stderr",
     "output_type": "stream",
     "text": [
      "Writing activities to SQLite3 database:\n",
      "0% [#] 100% | ETA: 00:00:00\n",
      "Total time elapsed: 00:00:00\n"
     ]
    },
    {
     "name": "stdout",
     "output_type": "stream",
     "text": [
      "Title: Writing activities to SQLite3 database:\n",
      "  Started: 02/23/2023 20:09:54\n",
      "  Finished: 02/23/2023 20:09:54\n",
      "  Total time elapsed: 00:00:00\n",
      "  CPU %: 78.40\n",
      "  Memory %: 2.06\n"
     ]
    }
   ],
   "source": [
    "# Same product system as before but including a parameter\n",
    "SA_db = bw.Database('sa_db')\n",
    "SA_db.write({  \n",
    "    ('sa_db', 'el_prod_for_sa'): {\n",
    "        'name': 'Electricity production',\n",
    "        'unit': 'kilowatt hour',\n",
    "        'exchanges': [{\n",
    "            'input': ('ecoinvent 3.9 conseq', 'ce40dd006e462e720eb669efbc31dd59'), \n",
    "            'amount': 1.0,\n",
    "            'type': 'technosphere',\n",
    "            'formula': 'my_parameter'}, # I added a new line here with the parameter \"my_parameter\"\n",
    "        {\n",
    "            'input': ('sa_db', 'el_prod_for_sa'),\n",
    "            'amount': 1.0,\n",
    "            'type': 'production'}]}})"
   ]
  },
  {
   "cell_type": "code",
   "execution_count": 18,
   "metadata": {},
   "outputs": [],
   "source": [
    "# Define the details of the parameter 'my_parameter'\n",
    "activity_data = [ {\n",
    "    'name': 'my_parameter',\n",
    "    'amount': 1.0,\n",
    "    'database': 'sa_db',\n",
    "    'code' : 'somecode'\n",
    "}]"
   ]
  },
  {
   "cell_type": "code",
   "execution_count": 19,
   "metadata": {},
   "outputs": [
    {
     "data": {
      "text/plain": [
       "Parameters manager with 0 objects"
      ]
     },
     "execution_count": 19,
     "metadata": {},
     "output_type": "execute_result"
    }
   ],
   "source": [
    "bw.parameters # still nothing"
   ]
  },
  {
   "cell_type": "code",
   "execution_count": 20,
   "metadata": {},
   "outputs": [
    {
     "name": "stdout",
     "output_type": "stream",
     "text": [
      "Activity parameter: my group:my_parameter 1.0\n"
     ]
    }
   ],
   "source": [
    "# First register these parameters\n",
    "from bw2data.parameters import *\n",
    "parameters.new_activity_parameters(activity_data, \"my group\", overwrite=True) # add a group name for the parameters\n",
    "\n",
    "for param in ActivityParameter.select():\n",
    "    print(param, param.amount)"
   ]
  },
  {
   "cell_type": "markdown",
   "metadata": {},
   "source": [
    "Parameter Activation is in **two steps**"
   ]
  },
  {
   "cell_type": "code",
   "execution_count": 21,
   "metadata": {},
   "outputs": [
    {
     "name": "stdout",
     "output_type": "stream",
     "text": [
      "1.0 'market for electricity, low voltage' (kilowatt hour, DK, None) 'Electricity production' (kilowatt hour, None, None)\n",
      "1.0 'Electricity production' (kilowatt hour, None, None) 'Electricity production' (kilowatt hour, None, None)\n"
     ]
    }
   ],
   "source": [
    "# 1) Need to declare which activities have exchanges with parameters\n",
    "parameters.add_exchanges_to_group(\"my group\", SA_db.get('el_prod_for_sa'))\n",
    "\n",
    "# 2) Update the exchanges with the new parameter value\n",
    "ActivityParameter.recalculate_exchanges(\"my group\")\n",
    "\n",
    "# check if it worked\n",
    "for exc in SA_db.get('el_prod_for_sa').exchanges():\n",
    "    print(exc.amount, exc.input, exc.output)"
   ]
  },
  {
   "cell_type": "code",
   "execution_count": 22,
   "metadata": {},
   "outputs": [
    {
     "name": "stdout",
     "output_type": "stream",
     "text": [
      "2.0 'market for electricity, low voltage' (kilowatt hour, DK, None) 'Electricity production' (kilowatt hour, None, None)\n",
      "1.0 'Electricity production' (kilowatt hour, None, None) 'Electricity production' (kilowatt hour, None, None)\n"
     ]
    }
   ],
   "source": [
    "# This is how you change the value of a parameter\n",
    "ActivityParameter.update(amount = 2.0).where(ActivityParameter.name == 'my_parameter').execute()\n",
    "\n",
    "# Need to do this as well if you want to see the new value of the exchange (otherwise only the parameter changes)\n",
    "ActivityParameter.recalculate_exchanges(\"my group\")\n",
    "\n",
    "# check if it worked\n",
    "for exc in SA_db.get('el_prod_for_sa').exchanges():\n",
    "    print(exc.amount, exc.input, exc.output)"
   ]
  },
  {
   "cell_type": "code",
   "execution_count": 35,
   "metadata": {},
   "outputs": [
    {
     "name": "stdout",
     "output_type": "stream",
     "text": [
      "1.01 'market for electricity, low voltage' (kilowatt hour, DK, None) 'Electricity production' (kilowatt hour, None, None)\n",
      "0.5 'market for electricity, low voltage' (kilowatt hour, DE, None) 'Electricity production' (kilowatt hour, None, None)\n",
      "1 'Electricity production' (kilowatt hour, None, None) 'Electricity production' (kilowatt hour, None, None)\n",
      "1.05 'market for electricity, low voltage' (kilowatt hour, DK, None) 'Electricity production' (kilowatt hour, None, None)\n",
      "0.5 'market for electricity, low voltage' (kilowatt hour, DE, None) 'Electricity production' (kilowatt hour, None, None)\n",
      "1 'Electricity production' (kilowatt hour, None, None) 'Electricity production' (kilowatt hour, None, None)\n",
      "1.1 'market for electricity, low voltage' (kilowatt hour, DK, None) 'Electricity production' (kilowatt hour, None, None)\n",
      "0.5 'market for electricity, low voltage' (kilowatt hour, DE, None) 'Electricity production' (kilowatt hour, None, None)\n",
      "1 'Electricity production' (kilowatt hour, None, None) 'Electricity production' (kilowatt hour, None, None)\n"
     ]
    }
   ],
   "source": [
    "# Now this can be done in a loop for a series of values\n",
    "SA_values = [1.01, 1.05, 1.1]\n",
    "SA_el_value_results = []\n",
    "for v in SA_values:\n",
    "    ActivityParameter.update(amount = v).where(ActivityParameter.name == 'my_parameter').execute() # key line\n",
    "    ActivityParameter.recalculate_exchanges(\"my group\")\n",
    "    for exc in SA_db.get('el_prod_for_sa').exchanges():\n",
    "        print(exc.amount, exc.input, exc.output)\n",
    "    lca = bw.LCA({SA_db.get('el_prod_for_sa') : 1}, ('IPCC 2013', 'climate change', 'global warming potential (GWP100)'))\n",
    "    lca.lci()\n",
    "    lca.lcia()\n",
    "    SA_el_value_results.append(lca.score)"
   ]
  },
  {
   "cell_type": "code",
   "execution_count": 36,
   "metadata": {},
   "outputs": [
    {
     "data": {
      "text/plain": [
       "[1.01, 1.05, 1.1]"
      ]
     },
     "execution_count": 36,
     "metadata": {},
     "output_type": "execute_result"
    }
   ],
   "source": [
    "SA_values"
   ]
  },
  {
   "cell_type": "code",
   "execution_count": 37,
   "metadata": {},
   "outputs": [
    {
     "data": {
      "text/plain": [
       "[0.1209291864931419, 0.12284094824707628, 0.12523065613699486]"
      ]
     },
     "execution_count": 37,
     "metadata": {},
     "output_type": "execute_result"
    }
   ],
   "source": [
    "SA_el_value_results"
   ]
  },
  {
   "cell_type": "code",
   "execution_count": 38,
   "metadata": {},
   "outputs": [
    {
     "data": {
      "text/plain": [
       "Text(0.5, 0, 'SA values')"
      ]
     },
     "execution_count": 38,
     "metadata": {},
     "output_type": "execute_result"
    },
    {
     "data": {
      "image/png": "[encoded data removed]",
      "text/plain": [
       "<Figure size 640x480 with 1 Axes>"
      ]
     },
     "metadata": {},
     "output_type": "display_data"
    }
   ],
   "source": [
    "from matplotlib import pyplot as plt\n",
    "plt.plot(SA_values, SA_el_value_results)\n",
    "plt.ylabel('SA results')\n",
    "plt.xlabel('SA values')"
   ]
  },
  {
   "cell_type": "markdown",
   "metadata": {},
   "source": [
    "One advantage of using parameters is that a parameter can be applied in multiple places in an inventory"
   ]
  },
  {
   "cell_type": "code",
   "execution_count": 39,
   "metadata": {},
   "outputs": [
    {
     "name": "stderr",
     "output_type": "stream",
     "text": [
      "Writing activities to SQLite3 database:\n",
      "0% [#] 100% | ETA: 00:00:00\n",
      "Total time elapsed: 00:00:00\n"
     ]
    },
    {
     "name": "stdout",
     "output_type": "stream",
     "text": [
      "Title: Writing activities to SQLite3 database:\n",
      "  Started: 02/23/2023 20:13:53\n",
      "  Finished: 02/23/2023 20:13:53\n",
      "  Total time elapsed: 00:00:00\n",
      "  CPU %: 69.60\n",
      "  Memory %: 2.08\n"
     ]
    }
   ],
   "source": [
    "SA_db = bw.Database('sa_db')\n",
    "SA_db.write({  \n",
    "    ('sa_db', 'el_prod_for_sa'): {\n",
    "        'name': 'Electricity production',\n",
    "        'unit': 'kilowatt hour',\n",
    "        'exchanges': [{\n",
    "            'input': ('ecoinvent 3.9 conseq', 'ce40dd006e462e720eb669efbc31dd59'),  # Danish el market\n",
    "            'amount': 0.5,\n",
    "            'type': 'technosphere',\n",
    "            'formula': 'my_parameter'}, # one parameter here \n",
    "        { \n",
    "            'input': ('ecoinvent 3.9 conseq', 'e8583fe3173b312b6d6a1bb6e9da5c49'), # German el market\n",
    "            'amount': 0.5,\n",
    "            'type': 'technosphere',\n",
    "            'formula': 'my_parameter'}, # the same parameter is also here\n",
    "        {\n",
    "            'input': ('sa_db', 'el_prod_for_sa'),\n",
    "            'amount': 1,\n",
    "            'type': 'production'}]}})"
   ]
  },
  {
   "cell_type": "code",
   "execution_count": 40,
   "metadata": {},
   "outputs": [
    {
     "name": "stdout",
     "output_type": "stream",
     "text": [
      "0.09655420134047356\n"
     ]
    }
   ],
   "source": [
    "lca = bw.LCA({SA_db.get('el_prod_for_sa') : 1}, ('IPCC 2013', 'climate change', 'global warming potential (GWP100)'))\n",
    "lca.lci()\n",
    "lca.lcia()\n",
    "print(lca.score)"
   ]
  },
  {
   "cell_type": "code",
   "execution_count": 41,
   "metadata": {},
   "outputs": [
    {
     "name": "stdout",
     "output_type": "stream",
     "text": [
      "Activity parameter: my group:__dummy_2980fd10122e4f17af7dbf3fb60384d7__ 0.0\n",
      "Activity parameter: my group:my_parameter 1.0\n",
      "1.0 'market for electricity, low voltage' (kilowatt hour, DK, None) 'Electricity production' (kilowatt hour, None, None)\n",
      "1.0 'market for electricity, low voltage' (kilowatt hour, DE, None) 'Electricity production' (kilowatt hour, None, None)\n",
      "1 'Electricity production' (kilowatt hour, None, None) 'Electricity production' (kilowatt hour, None, None)\n"
     ]
    }
   ],
   "source": [
    "from bw2data.parameters import *\n",
    "\n",
    "# define and register parameter\n",
    "activity_data = [{\n",
    "    'name': 'my_parameter',\n",
    "    'amount': 1,\n",
    "    'database': 'sa_db',\n",
    "    'code' : 'somecode'}]\n",
    "\n",
    "parameters.new_activity_parameters(activity_data, \"my group\", overwrite=True)\n",
    "\n",
    "# activate parameter\n",
    "parameters.add_exchanges_to_group(\"my group\", SA_db.get('el_prod_for_sa')) # 1 step\n",
    "ActivityParameter.recalculate_exchanges(\"my group\") # 2 step\n",
    "\n",
    "# Check if it worked\n",
    "for param in ActivityParameter.select():\n",
    "    print(param, param.amount)\n",
    "for exc in SA_db.get('el_prod_for_sa').exchanges():\n",
    "    print(exc.amount, exc.input, exc.output)"
   ]
  },
  {
   "cell_type": "code",
   "execution_count": 42,
   "metadata": {},
   "outputs": [
    {
     "data": {
      "text/plain": [
       "[0.09655420134047356, 0.10620962377655233, 0.08689877890439462]"
      ]
     },
     "execution_count": 42,
     "metadata": {},
     "output_type": "execute_result"
    }
   ],
   "source": [
    "# Same loop as before, this time the parameter changes in two places\n",
    "SA_values = [0.5, 0.5*1.1, 0.5*0.9] # a change of plus/minus 10%\n",
    "SA_el_value_results = []\n",
    "for v in SA_values:\n",
    "    ActivityParameter.update(amount = v).where(ActivityParameter.name == 'my_parameter').execute()\n",
    "    ActivityParameter.recalculate_exchanges(\"my group\")\n",
    "    lca = bw.LCA({SA_db.get('el_prod_for_sa') : 1}, ('IPCC 2013', 'climate change', 'global warming potential (GWP100)'))\n",
    "    lca.lci()\n",
    "    lca.lcia()\n",
    "    SA_el_value_results.append(lca.score)\n",
    "SA_el_value_results"
   ]
  },
  {
   "cell_type": "code",
   "execution_count": 43,
   "metadata": {},
   "outputs": [
    {
     "data": {
      "text/plain": [
       "(0.10000002384185648, -0.10000002384185822)"
      ]
     },
     "execution_count": 43,
     "metadata": {},
     "output_type": "execute_result"
    }
   ],
   "source": [
    "plus1 = ( SA_el_value_results[1] - SA_el_value_results[0] ) / SA_el_value_results[0]  \n",
    "minus1 = ( SA_el_value_results[2] - SA_el_value_results[0] ) / SA_el_value_results[0]\n",
    "plus1, minus1"
   ]
  },
  {
   "cell_type": "code",
   "execution_count": 44,
   "metadata": {},
   "outputs": [
    {
     "data": {
      "text/plain": [
       "-1.734723475976807e-15"
      ]
     },
     "execution_count": 44,
     "metadata": {},
     "output_type": "execute_result"
    }
   ],
   "source": [
    "plus1 + minus1 # not exactly zero. Why?"
   ]
  },
  {
   "cell_type": "code",
   "execution_count": 45,
   "metadata": {},
   "outputs": [
    {
     "data": {
      "text/plain": [
       "Text(0.5, 0, 'SA values')"
      ]
     },
     "execution_count": 45,
     "metadata": {},
     "output_type": "execute_result"
    },
    {
     "data": {
      "image/png": "[encoded data removed]",
      "text/plain": [
       "<Figure size 640x480 with 1 Axes>"
      ]
     },
     "metadata": {},
     "output_type": "display_data"
    }
   ],
   "source": [
    "plt.plot(SA_values, SA_el_value_results, 'bo')\n",
    "plt.ylabel('SA results')\n",
    "plt.xlabel('SA values')"
   ]
  }
 ],
 "metadata": {
  "kernelspec": {
   "display_name": "Python 3 (ipykernel)",
   "language": "python",
   "name": "python3"
  },
  "language_info": {
   "codemirror_mode": {
    "name": "ipython",
    "version": 3
   },
   "file_extension": ".py",
   "mimetype": "text/x-python",
   "name": "python",
   "nbconvert_exporter": "python",
   "pygments_lexer": "ipython3",
   "version": "3.9.16"
  }
 },
 "nbformat": 4,
 "nbformat_minor": 2
}
