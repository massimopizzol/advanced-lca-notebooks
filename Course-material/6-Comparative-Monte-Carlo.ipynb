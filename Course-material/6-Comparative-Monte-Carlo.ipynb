{
 "cells": [
  {
   "cell_type": "markdown",
   "metadata": {},
   "source": [
    "# Comparative Monte Carlo"
   ]
  },
  {
   "cell_type": "markdown",
   "metadata": {},
   "source": [
    "This script shows how to perform a more advanced comparative Monte Carlo simulation.\n",
    "\n",
    "We also run Monte Carlo simulation using the background system and not only the foreground one as in the previous notebook.\n",
    "\n",
    "A comparative Monte Carlo is the type of simulation to be used in comparative LCAs, i.e. in analyses where different alternatives to provide the same Functional Unit are compared. In this comparative case it is important to randomly sample a common technology matrix **A** for all alternatives at each iteration, instead of having a different technology matrix per each alternative at each iteration. This allows for a smaller variance and shorter computational times, but is not possible with e.g. SimaPro. Moreover, this allows to optimally perform the  statistical testing of the results with paired tests, to see if the two alternatives are significantly different from each other or not. \n",
    "\n",
    "To better understand this script, I recommend reading read the paper by Henriksson et al. (2015) which is probably the best example of an LCA with comparative Monte Carlo simulation followed by statistical testing for significant differences between alternatives. \n",
    "\n",
    "_Henriksson, P. J. G., Rico, A., Zhang, W., Ahmad-Al-Nahid, S., Newton, R., Phan, L. T., … Guinée, J. B. (2015). Comparison of Asian Aquaculture Products by Use of Statistically Supported Life Cycle Assessment. Environmental Science and Technology, 49(24), 14176-14183. [https://doi.org/10.1021/acs.est.5b04634](https://doi.org/10.1021/acs.est.5b04634)_"
   ]
  },
  {
   "cell_type": "code",
   "execution_count": 1,
   "metadata": {},
   "outputs": [],
   "source": [
    "# Import brightway2.5 packages\n",
    "import bw2calc as bc\n",
    "import bw2data as bd\n",
    "import pandas as pd\n",
    "import numpy as np\n",
    "from matplotlib import pyplot as plt\n",
    "from scipy import stats"
   ]
  },
  {
   "cell_type": "code",
   "execution_count": 2,
   "metadata": {},
   "outputs": [
    {
     "data": {
      "text/plain": [
       "Databases dictionary with 4 object(s):\n",
       "\tbiosphere3\n",
       "\tecoinvent 3.9.1 conseq\n",
       "\texldb\n",
       "\ttestdb"
      ]
     },
     "execution_count": 2,
     "metadata": {},
     "output_type": "execute_result"
    }
   ],
   "source": [
    "bd.projects.set_current('advlca23')\n",
    "bd.databases"
   ]
  },
  {
   "cell_type": "code",
   "execution_count": 3,
   "metadata": {},
   "outputs": [],
   "source": [
    "db = bd.Database(\"ecoinvent 3.9.1 conseq\")\n",
    "ipcc = ('IPCC 2013', 'climate change', 'global warming potential (GWP100)')"
   ]
  },
  {
   "cell_type": "code",
   "execution_count": 4,
   "metadata": {},
   "outputs": [
    {
     "data": {
      "text/plain": [
       "0.9202963820176275"
      ]
     },
     "execution_count": 4,
     "metadata": {},
     "output_type": "execute_result"
    }
   ],
   "source": [
    "# Simple LCA on ecoinvent process as we know it. We are using the background system.\n",
    "random_process = db.random() # select a random process\n",
    "mydemand = {random_process: 1}\n",
    "lca = bc.LCA(mydemand, ipcc)\n",
    "lca.lci()\n",
    "lca.lcia()\n",
    "lca.score"
   ]
  },
  {
   "cell_type": "code",
   "execution_count": 5,
   "metadata": {},
   "outputs": [
    {
     "name": "stdout",
     "output_type": "stream",
     "text": [
      "0 2 2 0 0 0 2 2 2 2 2 2 2 2 2 2 2 2 2 2 2 2 2 2 2 2 2 2 2 2 2 2 2 2 2 2 2 2 2 2 2 2 2 0 0 2 2 2 0 0 2 2 2 2 2 2 2 2 2 2 2 2 2 2 2 2 2 2 2 2 2 2 2 2 2 2 2 2 2 2 2 2 2 2 2 2 2 2 2 2 2 2 2 2 2 2 2 2 2 2 2 2 2 2 2 2 2 2 2 2 2 2 2 0 2 2 2 2 2 2 2 2 2 2 2 2 2 2 2 2 2 2 2 2 2 2 2 2 2 2 2 "
     ]
    }
   ],
   "source": [
    "# We don't need to add uncertainty here, because ecoinvent process include uncertainty on some exchanges.\n",
    "for exchange in random_process.exchanges():\n",
    "    print(exchange[\"uncertainty type\"], end=\" \")"
   ]
  },
  {
   "cell_type": "code",
   "execution_count": 6,
   "metadata": {},
   "outputs": [],
   "source": [
    "# Monte Carlo simulation\n",
    "mc = bc.LCA(demand=mydemand, method=ipcc, use_distributions=True)\n",
    "mc.lci()\n",
    "mc.lcia()\n",
    "mc_results = [mc.score for _ in zip(range(100), mc)] # will take a minute, we are randomly sampling ecoinvent 100 times"
   ]
  },
  {
   "cell_type": "code",
   "execution_count": 7,
   "metadata": {},
   "outputs": [
    {
     "data": {
      "text/plain": [
       "0.9202963820176275"
      ]
     },
     "execution_count": 7,
     "metadata": {},
     "output_type": "execute_result"
    },
    {
     "data": {
      "image/png": "[encoded data removed]",
      "text/plain": [
       "<Figure size 640x480 with 1 Axes>"
      ]
     },
     "metadata": {},
     "output_type": "display_data"
    }
   ],
   "source": [
    "# plot MC results\n",
    "plt.hist(mc_results, density=True)\n",
    "plt.ylabel(\"Probability\")\n",
    "plt.xlabel(bd.methods[ipcc][\"unit\"])\n",
    "pd.DataFrame(mc_results).describe() \n",
    "lca.score"
   ]
  },
  {
   "cell_type": "code",
   "execution_count": 8,
   "metadata": {},
   "outputs": [],
   "source": [
    "# Now comparative analysis, select two different transport activities\n",
    "activity_name = 'transport, freight, lorry >32 metric ton, EURO5'    \n",
    "for activity in bd.Database(\"ecoinvent 3.9.1 conseq\"):\n",
    "    if activity['name'] == activity_name:\n",
    "        truckE5 = bd.Database(\"ecoinvent 3.9.1 conseq\").get(activity['code'])\n",
    "\n",
    "activity_name = 'transport, freight, lorry >32 metric ton, EURO6'    \n",
    "for activity in bd.Database(\"ecoinvent 3.9.1 conseq\"):\n",
    "    if activity['name'] == activity_name:\n",
    "        truckE6 = bd.Database(\"ecoinvent 3.9.1 conseq\").get(activity['code'])"
   ]
  },
  {
   "cell_type": "code",
   "execution_count": 9,
   "metadata": {},
   "outputs": [
    {
     "name": "stdout",
     "output_type": "stream",
     "text": [
      "0.1413289452947761\n"
     ]
    }
   ],
   "source": [
    "# make a list with the alternatives\n",
    "demands = [{truckE5: 1}, {truckE6: 1}]  # At home, check by using the same process (e.g. truckE5) two times.\n",
    "\n",
    "# We are calculating the impact of transport with the EURO5 truck\n",
    "mc = bc.LCA(demand=demands[0], method=ipcc, use_distributions=True)\n",
    "mc.lci()\n",
    "mc.lcia()\n",
    "mc_results = [mc.score for _ in zip(range(1), mc)]\n",
    "print(mc_results[0])"
   ]
  },
  {
   "cell_type": "code",
   "execution_count": 10,
   "metadata": {},
   "outputs": [
    {
     "name": "stdout",
     "output_type": "stream",
     "text": [
      "0.1413289452947761\n",
      "0.1439722838049246\n",
      "0.1413289452947761\n"
     ]
    }
   ],
   "source": [
    "# look at this first\n",
    "demands = [{truckE5.id: 1}, {truckE6.id: 1}]\n",
    "mc.redo_lcia(demands[0]) # EURO5 truck\n",
    "print(mc.score)\n",
    "mc.redo_lcia(demands[1]) # EURO6 truck. I am using the same technology matrix \"A\" as before to calcualte results\n",
    "print(mc.score)\n",
    "mc.redo_lcia(demands[0]) # EURO5 truck again. Same result. Note how \"redo.lcia\" allows doing dependent sampling\n",
    "print(mc.score)"
   ]
  },
  {
   "cell_type": "code",
   "execution_count": 11,
   "metadata": {},
   "outputs": [],
   "source": [
    "# Now for several iterations\n",
    "iterations = 100\n",
    "simulations = [] # empty list that will contain the restuls of all iterations, for all alternatives\n",
    "\n",
    "for _ in range(iterations):\n",
    "    #print(_)\n",
    "    next(mc)\n",
    "    mcresults = []    # empty list that will contain results for one iteration, for two alteratives\n",
    "    for i in demands:\n",
    "        mc.redo_lcia(i)\n",
    "        mcresults.append(mc.score)\n",
    "    simulations.append(mcresults) # appends one list to another\n",
    "    \n",
    "    \n",
    "df = pd.DataFrame(simulations, columns = ['truckE5','truckE6']) # df is for \"dataframe\"\n",
    "#df.to_csv('ComparativeMCsimulation.csv') # to save it"
   ]
  },
  {
   "cell_type": "code",
   "execution_count": 12,
   "metadata": {},
   "outputs": [
    {
     "data": {
      "text/html": [
       "<div>\n",
       "<style scoped>\n",
       "    .dataframe tbody tr th:only-of-type {\n",
       "        vertical-align: middle;\n",
       "    }\n",
       "\n",
       "    .dataframe tbody tr th {\n",
       "        vertical-align: top;\n",
       "    }\n",
       "\n",
       "    .dataframe thead th {\n",
       "        text-align: right;\n",
       "    }\n",
       "</style>\n",
       "<table border=\"1\" class=\"dataframe\">\n",
       "  <thead>\n",
       "    <tr style=\"text-align: right;\">\n",
       "      <th></th>\n",
       "      <th>truckE5</th>\n",
       "      <th>truckE6</th>\n",
       "    </tr>\n",
       "  </thead>\n",
       "  <tbody>\n",
       "    <tr>\n",
       "      <th>0</th>\n",
       "      <td>0.131178</td>\n",
       "      <td>0.105755</td>\n",
       "    </tr>\n",
       "    <tr>\n",
       "      <th>1</th>\n",
       "      <td>0.189234</td>\n",
       "      <td>0.137730</td>\n",
       "    </tr>\n",
       "    <tr>\n",
       "      <th>2</th>\n",
       "      <td>0.104192</td>\n",
       "      <td>0.122925</td>\n",
       "    </tr>\n",
       "    <tr>\n",
       "      <th>3</th>\n",
       "      <td>0.122389</td>\n",
       "      <td>0.088996</td>\n",
       "    </tr>\n",
       "    <tr>\n",
       "      <th>4</th>\n",
       "      <td>0.139789</td>\n",
       "      <td>0.124299</td>\n",
       "    </tr>\n",
       "    <tr>\n",
       "      <th>...</th>\n",
       "      <td>...</td>\n",
       "      <td>...</td>\n",
       "    </tr>\n",
       "    <tr>\n",
       "      <th>95</th>\n",
       "      <td>0.110521</td>\n",
       "      <td>0.111924</td>\n",
       "    </tr>\n",
       "    <tr>\n",
       "      <th>96</th>\n",
       "      <td>0.131582</td>\n",
       "      <td>0.143175</td>\n",
       "    </tr>\n",
       "    <tr>\n",
       "      <th>97</th>\n",
       "      <td>0.115769</td>\n",
       "      <td>0.144008</td>\n",
       "    </tr>\n",
       "    <tr>\n",
       "      <th>98</th>\n",
       "      <td>0.155295</td>\n",
       "      <td>0.147461</td>\n",
       "    </tr>\n",
       "    <tr>\n",
       "      <th>99</th>\n",
       "      <td>0.149906</td>\n",
       "      <td>0.168640</td>\n",
       "    </tr>\n",
       "  </tbody>\n",
       "</table>\n",
       "<p>100 rows × 2 columns</p>\n",
       "</div>"
      ],
      "text/plain": [
       "     truckE5   truckE6\n",
       "0   0.131178  0.105755\n",
       "1   0.189234  0.137730\n",
       "2   0.104192  0.122925\n",
       "3   0.122389  0.088996\n",
       "4   0.139789  0.124299\n",
       "..       ...       ...\n",
       "95  0.110521  0.111924\n",
       "96  0.131582  0.143175\n",
       "97  0.115769  0.144008\n",
       "98  0.155295  0.147461\n",
       "99  0.149906  0.168640\n",
       "\n",
       "[100 rows x 2 columns]"
      ]
     },
     "execution_count": 12,
     "metadata": {},
     "output_type": "execute_result"
    }
   ],
   "source": [
    "df"
   ]
  },
  {
   "cell_type": "code",
   "execution_count": 13,
   "metadata": {},
   "outputs": [
    {
     "data": {
      "text/plain": [
       "<Axes: >"
      ]
     },
     "execution_count": 13,
     "metadata": {},
     "output_type": "execute_result"
    },
    {
     "data": {
      "image/png": "[encoded data removed]",
      "text/plain": [
       "<Figure size 640x480 with 1 Axes>"
      ]
     },
     "metadata": {},
     "output_type": "display_data"
    }
   ],
   "source": [
    "df.plot(kind = 'box')\n",
    "#df.T.melt()"
   ]
  },
  {
   "cell_type": "code",
   "execution_count": 14,
   "metadata": {},
   "outputs": [
    {
     "data": {
      "text/plain": [
       "Text(0, 0.5, 'truckE6 - kg CO2-eq')"
      ]
     },
     "execution_count": 14,
     "metadata": {},
     "output_type": "execute_result"
    },
    {
     "data": {
      "image/png": "[encoded data removed]",
      "text/plain": [
       "<Figure size 640x480 with 1 Axes>"
      ]
     },
     "metadata": {},
     "output_type": "display_data"
    }
   ],
   "source": [
    "# plot one against the other to see if there is any trend\n",
    "plt.plot(df.truckE5, df.truckE6, 'o')\n",
    "plt.xlabel('truckE5 - kg CO2-eq')\n",
    "plt.ylabel('truckE6 - kg CO2-eq')"
   ]
  },
  {
   "cell_type": "code",
   "execution_count": 15,
   "metadata": {},
   "outputs": [
    {
     "name": "stdout",
     "output_type": "stream",
     "text": [
      "45\n",
      "55\n",
      "0\n"
     ]
    },
    {
     "data": {
      "image/png": "[encoded data removed]",
      "text/plain": [
       "<Figure size 640x480 with 1 Axes>"
      ]
     },
     "metadata": {},
     "output_type": "display_data"
    }
   ],
   "source": [
    "# You can see how many times the difference is positive. This is what Simapro does\n",
    "df['diffe'] = df.truckE5 - df.truckE6\n",
    "plt.hist(df.diffe.values)\n",
    "print(len(df.diffe[df.diffe < 0]))\n",
    "print(len(df.diffe[df.diffe > 0]))\n",
    "print(len(df.diffe[df.diffe == 0]))"
   ]
  },
  {
   "cell_type": "code",
   "execution_count": 16,
   "metadata": {},
   "outputs": [
    {
     "data": {
      "text/plain": [
       "(0.769476597568761, 0.44344248569811284)"
      ]
     },
     "execution_count": 16,
     "metadata": {},
     "output_type": "execute_result"
    }
   ],
   "source": [
    "# Statistical testing (using the stats package)\n",
    "# I can use a paired t-test\n",
    "\n",
    "t_value, p_value = stats.ttest_rel(df.truckE5,df.truckE6)\n",
    "t_value, p_value"
   ]
  },
  {
   "cell_type": "code",
   "execution_count": 17,
   "metadata": {},
   "outputs": [
    {
     "name": "stdout",
     "output_type": "stream",
     "text": [
      "0.04343924816594453\n",
      "3.57581649415424e-07\n"
     ]
    },
    {
     "data": {
      "image/png": "[encoded data removed]",
      "text/plain": [
       "<Figure size 640x480 with 1 Axes>"
      ]
     },
     "metadata": {},
     "output_type": "display_data"
    }
   ],
   "source": [
    "# But wait! did we check for normality?\n",
    "plt.hist(df.truckE5.values)\n",
    "plt.xlabel('truckE5 - kg CO2-eq')\n",
    "\n",
    "SW_value, SW_p_value = stats.shapiro(df.truckE5)\n",
    "print(SW_p_value) # Not normally distributed...\n",
    "\n",
    "plt.hist(df.truckE6.values)\n",
    "SW_value, SW_p_value = stats.shapiro(df.truckE6)\n",
    "print(SW_p_value) # Not normally distributed...\n"
   ]
  },
  {
   "cell_type": "code",
   "execution_count": 18,
   "metadata": {},
   "outputs": [
    {
     "data": {
      "text/plain": [
       "(2197.0, 0.259416834386872)"
      ]
     },
     "execution_count": 18,
     "metadata": {},
     "output_type": "execute_result"
    }
   ],
   "source": [
    "# Alright need a non-parametric test. Wilcox sign rank test\n",
    "s_value, p_value = stats.wilcoxon(df.truckE5, df.truckE6)\n",
    "s_value, p_value # Not bad, significant difference at p < 0.01."
   ]
  },
  {
   "cell_type": "code",
   "execution_count": 19,
   "metadata": {},
   "outputs": [],
   "source": [
    "# What if we had done the MC on the processes independently.\n",
    "# truckE5\n",
    "mc1 = bc.LCA(demand={truckE5: 1}, method=ipcc, use_distributions=True)\n",
    "mc1.lci()\n",
    "mc1.lcia()\n",
    "mc1_results = [mc.score for _ in zip(range(100), mc1)]\n",
    "\n",
    "# it's still truckE5 !!! I am comparing two times the same activity\n",
    "mc2 = bc.LCA(demand={truckE5: 1}, method=ipcc, use_distributions=True)\n",
    "mc2.lci()\n",
    "mc2.lcia()\n",
    "mc2_results = [mc.score for _ in zip(range(100), mc2)]\n",
    "\n",
    "df_ind = pd.DataFrame({'mc1': mc1_results, 'mc2' : mc2_results})"
   ]
  },
  {
   "cell_type": "code",
   "execution_count": 20,
   "metadata": {},
   "outputs": [
    {
     "data": {
      "text/html": [
       "<div>\n",
       "<style scoped>\n",
       "    .dataframe tbody tr th:only-of-type {\n",
       "        vertical-align: middle;\n",
       "    }\n",
       "\n",
       "    .dataframe tbody tr th {\n",
       "        vertical-align: top;\n",
       "    }\n",
       "\n",
       "    .dataframe thead th {\n",
       "        text-align: right;\n",
       "    }\n",
       "</style>\n",
       "<table border=\"1\" class=\"dataframe\">\n",
       "  <thead>\n",
       "    <tr style=\"text-align: right;\">\n",
       "      <th></th>\n",
       "      <th>mc1</th>\n",
       "      <th>mc2</th>\n",
       "    </tr>\n",
       "  </thead>\n",
       "  <tbody>\n",
       "    <tr>\n",
       "      <th>0</th>\n",
       "      <td>0.16864</td>\n",
       "      <td>0.16864</td>\n",
       "    </tr>\n",
       "    <tr>\n",
       "      <th>1</th>\n",
       "      <td>0.16864</td>\n",
       "      <td>0.16864</td>\n",
       "    </tr>\n",
       "    <tr>\n",
       "      <th>2</th>\n",
       "      <td>0.16864</td>\n",
       "      <td>0.16864</td>\n",
       "    </tr>\n",
       "    <tr>\n",
       "      <th>3</th>\n",
       "      <td>0.16864</td>\n",
       "      <td>0.16864</td>\n",
       "    </tr>\n",
       "    <tr>\n",
       "      <th>4</th>\n",
       "      <td>0.16864</td>\n",
       "      <td>0.16864</td>\n",
       "    </tr>\n",
       "  </tbody>\n",
       "</table>\n",
       "</div>"
      ],
      "text/plain": [
       "       mc1      mc2\n",
       "0  0.16864  0.16864\n",
       "1  0.16864  0.16864\n",
       "2  0.16864  0.16864\n",
       "3  0.16864  0.16864\n",
       "4  0.16864  0.16864"
      ]
     },
     "execution_count": 20,
     "metadata": {},
     "output_type": "execute_result"
    }
   ],
   "source": [
    "df_ind.head()"
   ]
  },
  {
   "cell_type": "code",
   "execution_count": 21,
   "metadata": {},
   "outputs": [],
   "source": [
    "# compare to this\n",
    "demands = [{truckE5: 1}, {truckE5: 1}]  # Two times truckE5! I want to see if the MC results are paired\n",
    "\n",
    "mc = bc.LCA(demand=demands[0], method=ipcc, use_distributions=True)\n",
    "mc.lci()\n",
    "mc.lcia()\n",
    "\n",
    "simulations = []\n",
    "\n",
    "demands = [{truckE5.id: 1}, {truckE5.id: 1}]  \n",
    "\n",
    "for _ in  zip(range(100), mc):\n",
    "    mc.score\n",
    "    mcresults = []    \n",
    "    for i in demands:\n",
    "        mc.redo_lcia(i)\n",
    "        mcresults.append(mc.score)\n",
    "    simulations.append(mcresults)\n",
    "    \n",
    "    \n",
    "simulations\n",
    "df_dep = pd.DataFrame(simulations, columns = ['mc1','mc2'])"
   ]
  },
  {
   "cell_type": "code",
   "execution_count": 22,
   "metadata": {},
   "outputs": [
    {
     "data": {
      "text/html": [
       "<div>\n",
       "<style scoped>\n",
       "    .dataframe tbody tr th:only-of-type {\n",
       "        vertical-align: middle;\n",
       "    }\n",
       "\n",
       "    .dataframe tbody tr th {\n",
       "        vertical-align: top;\n",
       "    }\n",
       "\n",
       "    .dataframe thead th {\n",
       "        text-align: right;\n",
       "    }\n",
       "</style>\n",
       "<table border=\"1\" class=\"dataframe\">\n",
       "  <thead>\n",
       "    <tr style=\"text-align: right;\">\n",
       "      <th></th>\n",
       "      <th>mc1</th>\n",
       "      <th>mc2</th>\n",
       "    </tr>\n",
       "  </thead>\n",
       "  <tbody>\n",
       "    <tr>\n",
       "      <th>0</th>\n",
       "      <td>0.106313</td>\n",
       "      <td>0.106313</td>\n",
       "    </tr>\n",
       "    <tr>\n",
       "      <th>1</th>\n",
       "      <td>0.141293</td>\n",
       "      <td>0.141293</td>\n",
       "    </tr>\n",
       "    <tr>\n",
       "      <th>2</th>\n",
       "      <td>0.136840</td>\n",
       "      <td>0.136840</td>\n",
       "    </tr>\n",
       "    <tr>\n",
       "      <th>3</th>\n",
       "      <td>0.152117</td>\n",
       "      <td>0.152117</td>\n",
       "    </tr>\n",
       "    <tr>\n",
       "      <th>4</th>\n",
       "      <td>0.118267</td>\n",
       "      <td>0.118267</td>\n",
       "    </tr>\n",
       "  </tbody>\n",
       "</table>\n",
       "</div>"
      ],
      "text/plain": [
       "        mc1       mc2\n",
       "0  0.106313  0.106313\n",
       "1  0.141293  0.141293\n",
       "2  0.136840  0.136840\n",
       "3  0.152117  0.152117\n",
       "4  0.118267  0.118267"
      ]
     },
     "execution_count": 22,
     "metadata": {},
     "output_type": "execute_result"
    }
   ],
   "source": [
    "df_dep.head()"
   ]
  },
  {
   "cell_type": "code",
   "execution_count": 23,
   "metadata": {},
   "outputs": [
    {
     "data": {
      "text/plain": [
       "<Axes: title={'center': 'dependent sampling'}>"
      ]
     },
     "execution_count": 23,
     "metadata": {},
     "output_type": "execute_result"
    },
    {
     "data": {
      "image/png": "[encoded data removed]",
      "text/plain": [
       "<Figure size 640x480 with 1 Axes>"
      ]
     },
     "metadata": {},
     "output_type": "display_data"
    },
    {
     "data": {
      "image/png": "[encoded data removed]",
      "text/plain": [
       "<Figure size 640x480 with 1 Axes>"
      ]
     },
     "metadata": {},
     "output_type": "display_data"
    }
   ],
   "source": [
    "# visual inspection\n",
    "df_ind.plot(kind = 'box', title = \"independent sampling\")\n",
    "df_dep.plot(kind = 'box', title = \"dependent sampling\")"
   ]
  },
  {
   "cell_type": "code",
   "execution_count": 24,
   "metadata": {},
   "outputs": [
    {
     "data": {
      "text/plain": [
       "[<matplotlib.lines.Line2D at 0x139b823d0>]"
      ]
     },
     "execution_count": 24,
     "metadata": {},
     "output_type": "execute_result"
    },
    {
     "data": {
      "image/png": "[encoded data removed]",
      "text/plain": [
       "<Figure size 640x480 with 1 Axes>"
      ]
     },
     "metadata": {},
     "output_type": "display_data"
    }
   ],
   "source": [
    "# Plot them together and one against the other\n",
    "plt.plot(df_ind.mc1, df_ind.mc2, 'o')\n",
    "plt.plot(df_dep.mc1, df_dep.mc2, 'o') # see?"
   ]
  },
  {
   "cell_type": "code",
   "execution_count": 25,
   "metadata": {},
   "outputs": [
    {
     "name": "stdout",
     "output_type": "stream",
     "text": [
      "nan nan\n"
     ]
    }
   ],
   "source": [
    "# and of course:\n",
    "t_value, p_value = stats.ttest_rel(df_dep.mc1, df_dep.mc2)\n",
    "print(t_value, p_value)  # no difference AT ALL (as expected)\n",
    "\n",
    "# t_value, p_value = stats.ttest_rel(df_ind.mc1, df_ind.mc2)\n",
    "# print(t_value, p_value)  # no difference (as expected! But still some variance even if it's the same perocess!)\n",
    "\n",
    "# s_value, p_value = stats.wilcoxon(df_ind.mc1, df_ind.mc2)\n",
    "# print(s_value, p_value)\n"
   ]
  },
  {
   "cell_type": "markdown",
   "metadata": {},
   "source": [
    "# Additional resources to understand LCA statistics\n",
    "\n",
    "When applying a statistical approach to LCA, there are some key concepts that is important to understand in detail: distribution types, error propagation, statistical testing. If you are new to statistics, a first step is reading the wikipedia pages explaining [Monte Carlo method](https://en.wikipedia.org/wiki/Monte_Carlo_method), general [statistical hypothesis testing](https://en.wikipedia.org/wiki/Statistical_hypothesis_testing), [parametric](https://en.wikipedia.org/wiki/Parametric_statistics) and [nonparametric](https://en.wikipedia.org/wiki/Nonparametric_statistics) statistics, [normality tests](https://en.wikipedia.org/wiki/Normality_test), [t-test](https://en.wikipedia.org/wiki/Student%27s_t-test#Alternatives_to_the_t-test_for_location_problems), [Wilcoxon signed-rank test](https://en.wikipedia.org/wiki/Wilcoxon_signed-rank_test). When implementing this in Brightway2, it is then useful to read the corresponding python documentation for [statistical functions](https://docs.scipy.org/doc/scipy/reference/stats.html) of the stats package. For example the following functions were used in this script: [Shapiro-Wilk test](https://docs.scipy.org/doc/scipy/reference/generated/scipy.stats.shapiro.html#scipy.stats.shapiro), [paired t-test](https://docs.scipy.org/doc/scipy/reference/generated/scipy.stats.ttest_rel.html#scipy.stats.ttest_rel), and [Wilcoxon signed-rank test](https://docs.scipy.org/doc/scipy/reference/generated/scipy.stats.wilcoxon.html#scipy.stats.wilcoxon). \n",
    "\n",
    "If you want to learn more, buy a good introductory statistics book. Ideally one which has a good balance between mathematical expressions and pedagogic explanations. There are also many open source or free ones, I can recommend e.g. [Statistics](https://en.wikibooks.org/wiki/Statistics) which explains testing in general and it's written in a way which is easy to understand, [The Elements of Data Analytic Style](https://leanpub.com/datastyle) which introduces to data analysis in general, and [Statistical inference for data science](http://leanpub.com/LittleInferenceBook) which is is very practical and especially useful if you also know R. In general I would encourage to learn R too if you plan to work with stats - I honestly prefer it to python for doing statistical analysis and also for plots.\n",
    "\n"
   ]
  },
  {
   "cell_type": "markdown",
   "metadata": {},
   "source": [
    "# Check also these\n",
    "    \n",
    "#### On Wikipedia\n",
    "\n",
    "Monte Carlo method \n",
    "https://en.wikipedia.org/wiki/Monte_Carlo_method\n",
    "\n",
    "Normal distribution\n",
    "https://en.wikipedia.org/wiki/File:Standard_deviation_diagram.svg#/media/File:Standard_deviation_diagram.svg\n",
    "\n",
    "Parameters of a logrormal distribution\n",
    "https://en.wikipedia.org/wiki/Log-normal_distribution#/media/File:LogNormal17.jpg\n",
    "\n",
    "\n",
    "#### On the Brightway website docs\n",
    "\n",
    "Storing uncertain values\n",
    "https://2.docs.brightway.dev/intro.html#storing-uncertain-values\n",
    "\n",
    "\n",
    "#### Papers on this topic (recent ones)\n",
    "\n",
    "A critique (not very clear tbh but still, a perspective) \n",
    "https://pub.epsilon.slu.se/19792/1/von_bromssen_c_et_al_201229.pdf\n",
    "\n",
    "How many montecarlo runs? \n",
    "https://link.springer.com/article/10.1007/s11367-019-01698-4\n",
    "\n",
    "Ways of doing comparative testing\n",
    "https://link.springer.com/article/10.1007/s11367-020-01851-4\n"
   ]
  }
 ],
 "metadata": {
  "kernelspec": {
   "display_name": "Python 3 (ipykernel)",
   "language": "python",
   "name": "python3"
  },
  "language_info": {
   "codemirror_mode": {
    "name": "ipython",
    "version": 3
   },
   "file_extension": ".py",
   "mimetype": "text/x-python",
   "name": "python",
   "nbconvert_exporter": "python",
   "pygments_lexer": "ipython3",
   "version": "3.11.9"
  }
 },
 "nbformat": 4,
 "nbformat_minor": 4
}
