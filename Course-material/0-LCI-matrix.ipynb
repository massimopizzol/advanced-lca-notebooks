{
 "cells": [
  {
   "cell_type": "markdown",
   "metadata": {},
   "source": [
    "# 0. Refresh LCI matrix algebra"
   ]
  },
  {
   "cell_type": "markdown",
   "metadata": {},
   "source": [
    "We use the example product system from Heijungs & Suh (2002)"
   ]
  },
  {
   "cell_type": "markdown",
   "metadata": {},
   "source": [
    "_The production of 10 kWh electricity requires 2 liters of fuel and emits 1 kg of CO2 and 0.1 kg of SO2. \n",
    "The production of 100 liters of fuel requires 50 liters of crude oil and emits 10 kg of CO2 and 2 kg of SO2.\n",
    "What is the impact of producing 1000 kWh electricity **in a life cycle perspective**?_"
   ]
  },
  {
   "cell_type": "markdown",
   "metadata": {},
   "source": [
    "![title](HS2002_screenshot.png)"
   ]
  },
  {
   "cell_type": "markdown",
   "metadata": {},
   "source": [
    "_Heijungs, R., Suh, S., 2002. The basic model for inventory analysis, in: Tukker, A. (Ed.), The computational structure of Life Cycle Assessment. Kluver Academic Publisher, London, pp. 11-28._"
   ]
  },
  {
   "cell_type": "code",
   "execution_count": 1,
   "metadata": {},
   "outputs": [],
   "source": [
    "import numpy as np"
   ]
  },
  {
   "cell_type": "code",
   "execution_count": 2,
   "metadata": {},
   "outputs": [
    {
     "name": "stdout",
     "output_type": "stream",
     "text": [
      "technology matrix A\n",
      " [[ 10.   0.]\n",
      " [ -2. 100.]]\n"
     ]
    }
   ],
   "source": [
    "A = np.matrix([[10., 0.],[-2., 100.]]) # A is the technology matrix. negative sign = input\n",
    "print('technology matrix A\\n', A)"
   ]
  },
  {
   "cell_type": "code",
   "execution_count": 3,
   "metadata": {
    "scrolled": true
   },
   "outputs": [
    {
     "name": "stdout",
     "output_type": "stream",
     "text": [
      "intervention matrix B\n",
      " [[  1.   10. ]\n",
      " [  0.1   2. ]\n",
      " [  0.  -50. ]]\n"
     ]
    }
   ],
   "source": [
    "B = np.matrix([[1., 10.],[0.1, 2.],[0, -50.]]) # B is the intervention matrix\n",
    "print('intervention matrix B\\n', B)"
   ]
  },
  {
   "cell_type": "code",
   "execution_count": 4,
   "metadata": {},
   "outputs": [
    {
     "name": "stdout",
     "output_type": "stream",
     "text": [
      "demand vector f\n",
      " [[1000.]\n",
      " [   0.]]\n"
     ]
    }
   ],
   "source": [
    "f = np.matrix([[1000.],[0.]]) # f is the demand vector \n",
    "print('demand vector f\\n', f)"
   ]
  },
  {
   "cell_type": "markdown",
   "metadata": {},
   "source": [
    "***\n",
    "Solving the inventory: $g = BA^{-1}f$"
   ]
  },
  {
   "cell_type": "code",
   "execution_count": 5,
   "metadata": {},
   "outputs": [
    {
     "name": "stdout",
     "output_type": "stream",
     "text": [
      "inverse of technology matrix\n",
      " [[0.1   0.   ]\n",
      " [0.002 0.01 ]]\n"
     ]
    }
   ],
   "source": [
    "Ainv = A.getI() # Function to obtian Ainv, i.e. the inverse of A\n",
    "print('inverse of technology matrix\\n', Ainv)"
   ]
  },
  {
   "cell_type": "code",
   "execution_count": 6,
   "metadata": {
    "scrolled": true
   },
   "outputs": [
    {
     "name": "stdout",
     "output_type": "stream",
     "text": [
      "scaling vector s\n",
      " [[100.]\n",
      " [  2.]]\n"
     ]
    }
   ],
   "source": [
    "s = Ainv * f # s is the scaling vector\n",
    "print('scaling vector s\\n', s) # How many times I need each activity (column of A)"
   ]
  },
  {
   "cell_type": "code",
   "execution_count": 7,
   "metadata": {
    "scrolled": true
   },
   "outputs": [
    {
     "name": "stdout",
     "output_type": "stream",
     "text": [
      "environmental vector g\n",
      " [[ 120.]\n",
      " [  14.]\n",
      " [-100.]]\n"
     ]
    }
   ],
   "source": [
    "g = B * s  # g is the life cycle inventory\n",
    "print('environmental vector g\\n', g) # everything works"
   ]
  },
  {
   "cell_type": "code",
   "execution_count": 8,
   "metadata": {},
   "outputs": [
    {
     "name": "stdout",
     "output_type": "stream",
     "text": [
      "environmental vector g\n",
      " [[ 120.]\n",
      " [  14.]\n",
      " [-100.]]\n"
     ]
    }
   ],
   "source": [
    "# one liner\n",
    "g = B * A.getI() * f\n",
    "print('environmental vector g\\n', g) # again everything works"
   ]
  },
  {
   "cell_type": "markdown",
   "metadata": {},
   "source": [
    "***\n",
    "We can add the LCIA step too"
   ]
  },
  {
   "cell_type": "code",
   "execution_count": 9,
   "metadata": {},
   "outputs": [
    {
     "name": "stdout",
     "output_type": "stream",
     "text": [
      "vector of charachterisation factors\n",
      " [[1. 2. 0.]]\n"
     ]
    }
   ],
   "source": [
    "CFs = np.matrix([1., 2., 0.]) # CF is a matrix of characterisation factors (made up numbers)\n",
    "print('vector of charachterisation factors\\n', CFs)"
   ]
  },
  {
   "cell_type": "code",
   "execution_count": 10,
   "metadata": {
    "scrolled": true
   },
   "outputs": [
    {
     "name": "stdout",
     "output_type": "stream",
     "text": [
      "Charachterised results\n",
      " [[148.]]\n"
     ]
    }
   ],
   "source": [
    "LCIA = CFs * g # obtain LCIA results\n",
    "print('Charachterised results\\n', LCIA)"
   ]
  },
  {
   "cell_type": "markdown",
   "metadata": {},
   "source": [
    "## Question for discussion:\n",
    "\n",
    "If it is that easy, why do we need LCA software at all?"
   ]
  },
  {
   "cell_type": "markdown",
   "metadata": {},
   "source": [
    "## Homework\n",
    "\n",
    "Revise the code using exactly the same **A** matrix as in the textbook. You shuold get the same result."
   ]
  }
 ],
 "metadata": {
  "kernelspec": {
   "display_name": "Python 3 (ipykernel)",
   "language": "python",
   "name": "python3"
  },
  "language_info": {
   "codemirror_mode": {
    "name": "ipython",
    "version": 3
   },
   "file_extension": ".py",
   "mimetype": "text/x-python",
   "name": "python",
   "nbconvert_exporter": "python",
   "pygments_lexer": "ipython3",
   "version": "3.11.0"
  }
 },
 "nbformat": 4,
 "nbformat_minor": 2
}
