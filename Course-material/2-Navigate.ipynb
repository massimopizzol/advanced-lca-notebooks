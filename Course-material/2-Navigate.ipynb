{
 "cells": [
  {
   "cell_type": "markdown",
   "metadata": {},
   "source": [
    "# 2. How to navigate activities and exchanges in Brightway2"
   ]
  },
  {
   "cell_type": "markdown",
   "metadata": {},
   "source": [
    "When you do an LCA you need to access the various activities and look at them to understand what are their inputs and outputs and how they are linked to other activities. This script includes code to do this in different ways. Try it out and try it on your own product system as well. "
   ]
  },
  {
   "cell_type": "code",
   "execution_count": 1,
   "metadata": {},
   "outputs": [],
   "source": [
    "import brightway2 as bw"
   ]
  },
  {
   "cell_type": "code",
   "execution_count": 2,
   "metadata": {},
   "outputs": [],
   "source": [
    "bw.projects.set_current('advlca23')  # created in the previous notebook"
   ]
  },
  {
   "cell_type": "code",
   "execution_count": 3,
   "metadata": {},
   "outputs": [
    {
     "data": {
      "text/plain": [
       "Databases dictionary with 2 object(s):\n",
       "\ttestbiosphere\n",
       "\ttestdb"
      ]
     },
     "execution_count": 3,
     "metadata": {},
     "output_type": "execute_result"
    }
   ],
   "source": [
    "bw.databases  # should have the two databases: \"testdb\" and \"testbiosphere\""
   ]
  },
  {
   "cell_type": "code",
   "execution_count": 4,
   "metadata": {},
   "outputs": [],
   "source": [
    "t_db = bw.Database('testdb') # We create an instance of this database class"
   ]
  },
  {
   "cell_type": "markdown",
   "metadata": {},
   "source": [
    "First we look into the information associated with a **specific activity**.\n",
    "This is how we select the activity (a DICT):"
   ]
  },
  {
   "cell_type": "code",
   "execution_count": 5,
   "metadata": {
    "scrolled": false
   },
   "outputs": [
    {
     "name": "stdout",
     "output_type": "stream",
     "text": [
      "'Electricity production' (kWh, None, None)\n"
     ]
    }
   ],
   "source": [
    "el = t_db.get('Electricity production')  # reads: \"get the activity electricity production from t_db \n",
    "                                         # and call it el\"\n",
    "print(el)"
   ]
  },
  {
   "cell_type": "code",
   "execution_count": 6,
   "metadata": {},
   "outputs": [
    {
     "name": "stdout",
     "output_type": "stream",
     "text": [
      "name\n",
      "unit\n",
      "database\n",
      "code\n"
     ]
    }
   ],
   "source": [
    "for k in el:  # k for \"key\". These the possible keys of an activity dictionary\n",
    "    print(k)"
   ]
  },
  {
   "cell_type": "code",
   "execution_count": 7,
   "metadata": {},
   "outputs": [
    {
     "data": {
      "text/plain": [
       "{'name': 'Electricity production',\n",
       " 'unit': 'kWh',\n",
       " 'database': 'testdb',\n",
       " 'code': 'Electricity production'}"
      ]
     },
     "execution_count": 7,
     "metadata": {},
     "output_type": "execute_result"
    }
   ],
   "source": [
    "el.as_dict()  # or just this (type '.' and then press 'tab')"
   ]
  },
  {
   "cell_type": "code",
   "execution_count": 8,
   "metadata": {},
   "outputs": [
    {
     "name": "stdout",
     "output_type": "stream",
     "text": [
      "Electricity production\n",
      "Electricity production *** Electricity production *** kWh *** testdb\n",
      "kWh\n"
     ]
    }
   ],
   "source": [
    "print(el['name'])  # print the value of one key\n",
    "\n",
    "print(el['name'], \"***\", el['code'], \"***\", el['unit'], \"***\", el['database'])  # print more than one...\n",
    "\n",
    "print(el.get('unit'))  # another way..."
   ]
  },
  {
   "cell_type": "markdown",
   "metadata": {},
   "source": [
    "Now instead we look at the **exchanges** of a specific activity"
   ]
  },
  {
   "cell_type": "code",
   "execution_count": 9,
   "metadata": {},
   "outputs": [
    {
     "data": {
      "text/plain": [
       "[Exchange: 2 liters 'Fuel production' (liters, None, None) to 'Electricity production' (kWh, None, None)>,\n",
       " Exchange: 1 kg 'Carbon dioxide' (kg, None, None) to 'Electricity production' (kWh, None, None)>,\n",
       " Exchange: 0.1 kg 'Sulphur dioxide' (kg, None, None) to 'Electricity production' (kWh, None, None)>,\n",
       " Exchange: 10 kWh 'Electricity production' (kWh, None, None) to 'Electricity production' (kWh, None, None)>]"
      ]
     },
     "execution_count": 9,
     "metadata": {},
     "output_type": "execute_result"
    }
   ],
   "source": [
    "#el['exchanges']  # this doesn't work.\n",
    "#el.exchanges()  # neither this\n",
    "list(el.exchanges())  # yeps, this one"
   ]
  },
  {
   "cell_type": "code",
   "execution_count": 10,
   "metadata": {},
   "outputs": [
    {
     "name": "stdout",
     "output_type": "stream",
     "text": [
      "Exchange: 2 liters 'Fuel production' (liters, None, None) to 'Electricity production' (kWh, None, None)>\n",
      "technosphere\n",
      "testdb\n",
      "'Fuel production' (liters, None, None)\n",
      "-------\n",
      "Exchange: 1 kg 'Carbon dioxide' (kg, None, None) to 'Electricity production' (kWh, None, None)>\n",
      "biosphere\n",
      "testbiosphere\n",
      "'Carbon dioxide' (kg, None, None)\n",
      "-------\n",
      "Exchange: 0.1 kg 'Sulphur dioxide' (kg, None, None) to 'Electricity production' (kWh, None, None)>\n",
      "biosphere\n",
      "testbiosphere\n",
      "'Sulphur dioxide' (kg, None, None)\n",
      "-------\n",
      "Exchange: 10 kWh 'Electricity production' (kWh, None, None) to 'Electricity production' (kWh, None, None)>\n",
      "production\n",
      "testdb\n",
      "'Electricity production' (kWh, None, None)\n",
      "-------\n"
     ]
    }
   ],
   "source": [
    "for exc in el.exchanges():  # or this, visualize all exchanges of an activity and specific attributes\n",
    "    print(exc)\n",
    "    print(exc['type'])\n",
    "    print(exc['input'][0])\n",
    "    print(exc.input)\n",
    "    print(\"-------\")"
   ]
  },
  {
   "cell_type": "markdown",
   "metadata": {},
   "source": [
    "Now we look at the information associated with a specific **exchange** of a specific activity"
   ]
  },
  {
   "cell_type": "code",
   "execution_count": 11,
   "metadata": {},
   "outputs": [
    {
     "name": "stdout",
     "output_type": "stream",
     "text": [
      "Exchange: 2 liters 'Fuel production' (liters, None, None) to 'Electricity production' (kWh, None, None)>\n"
     ]
    }
   ],
   "source": [
    "el_exc = list(el.exchanges())[0]  # \"the first exchange of the el activity\" (this is also a DICT)\n",
    "print(el_exc)"
   ]
  },
  {
   "cell_type": "code",
   "execution_count": 12,
   "metadata": {},
   "outputs": [
    {
     "name": "stdout",
     "output_type": "stream",
     "text": [
      "<class 'bw2data.backends.peewee.proxies.Activity'>\n",
      "<class 'bw2data.backends.peewee.proxies.Exchanges'>\n",
      "<class 'bw2data.backends.peewee.proxies.Exchange'>\n"
     ]
    }
   ],
   "source": [
    "print(type(el))  # compare the three\n",
    "print(type(el.exchanges()))\n",
    "print(type(el_exc))"
   ]
  },
  {
   "cell_type": "code",
   "execution_count": 13,
   "metadata": {},
   "outputs": [
    {
     "name": "stdout",
     "output_type": "stream",
     "text": [
      "input : ('testdb', 'Fuel production')\n",
      "amount : 2\n",
      "unit : liters\n",
      "type : technosphere\n",
      "output : ('testdb', 'Electricity production')\n"
     ]
    }
   ],
   "source": [
    "for i in el_exc:  # the possible keys of an exchange (DICT iteration)\n",
    "    print(i, ':', el_exc[i])"
   ]
  },
  {
   "cell_type": "code",
   "execution_count": 14,
   "metadata": {},
   "outputs": [
    {
     "data": {
      "text/plain": [
       "{'input': ('testdb', 'Fuel production'),\n",
       " 'amount': 2,\n",
       " 'unit': 'liters',\n",
       " 'type': 'technosphere',\n",
       " 'output': ('testdb', 'Electricity production')}"
      ]
     },
     "execution_count": 14,
     "metadata": {},
     "output_type": "execute_result"
    }
   ],
   "source": [
    "el_exc.as_dict()  # or just this, as above"
   ]
  },
  {
   "cell_type": "code",
   "execution_count": 15,
   "metadata": {},
   "outputs": [
    {
     "data": {
      "text/plain": [
       "ItemsView(Exchange: 2 liters 'Fuel production' (liters, None, None) to 'Electricity production' (kWh, None, None)>)"
      ]
     },
     "execution_count": 15,
     "metadata": {},
     "output_type": "execute_result"
    }
   ],
   "source": [
    "el_exc.items() # another nice one"
   ]
  },
  {
   "cell_type": "code",
   "execution_count": 16,
   "metadata": {},
   "outputs": [
    {
     "data": {
      "text/plain": [
       "True"
      ]
     },
     "execution_count": 16,
     "metadata": {},
     "output_type": "execute_result"
    }
   ],
   "source": [
    "el_exc.unit == el_exc['unit']  # equivalent ways, different from activities"
   ]
  },
  {
   "cell_type": "code",
   "execution_count": 17,
   "metadata": {},
   "outputs": [
    {
     "name": "stdout",
     "output_type": "stream",
     "text": [
      "2 liters ('testdb', 'Fuel production') \n",
      "to\n",
      " ('testdb', 'Electricity production') \n",
      "within\n",
      " technosphere\n"
     ]
    }
   ],
   "source": [
    "print(el_exc['amount'], el_exc['unit'], el_exc['input'], \n",
    "      '\\nto\\n',\n",
    "      el_exc['output'], \n",
    "      '\\nwithin\\n', \n",
    "      el_exc['type'])"
   ]
  },
  {
   "cell_type": "code",
   "execution_count": 18,
   "metadata": {},
   "outputs": [
    {
     "name": "stdout",
     "output_type": "stream",
     "text": [
      "'Fuel production' (liters, None, None)\n",
      "'Electricity production' (kWh, None, None)\n"
     ]
    }
   ],
   "source": [
    "print(el_exc.input)  # One can intended the word 'input' as \"from'\n",
    "print(el_exc.output)  # ...and 'output' as 'to'"
   ]
  },
  {
   "cell_type": "markdown",
   "metadata": {},
   "source": [
    "What if I want to get a specific exchange of a specific activity **without using numeric indexing**, but by using its name? Let's see if we can find the amount of Carbon Dioxide emitted from electricity production\n"
   ]
  },
  {
   "cell_type": "code",
   "execution_count": 19,
   "metadata": {},
   "outputs": [
    {
     "name": "stdout",
     "output_type": "stream",
     "text": [
      "Fuel production ...Not this one\n",
      "Exchange: 1 kg 'Carbon dioxide' (kg, None, None) to 'Electricity production' (kWh, None, None)>\n",
      "Sulphur dioxide ...Not this one\n",
      "Electricity production ...Not this one\n"
     ]
    }
   ],
   "source": [
    "for exc in list(el.exchanges()):\n",
    "    if exc['input'] == ('testbiosphere', 'Carbon dioxide'):\n",
    "        print(exc)\n",
    "    else:\n",
    "        print(exc['input'][1],'...Not this one')"
   ]
  },
  {
   "cell_type": "markdown",
   "metadata": {},
   "source": [
    "Good. Now we store the value **in a variable** for future use"
   ]
  },
  {
   "cell_type": "code",
   "execution_count": 20,
   "metadata": {},
   "outputs": [
    {
     "name": "stdout",
     "output_type": "stream",
     "text": [
      "1\n"
     ]
    }
   ],
   "source": [
    "for exc in list(el.exchanges()):\n",
    "    if exc['input'] == ('testbiosphere', 'Carbon dioxide'):\n",
    "        elCO2_amount = exc['amount'] # creates the variable elCO2amount\n",
    "\n",
    "print(elCO2_amount)"
   ]
  },
  {
   "cell_type": "code",
   "execution_count": 21,
   "metadata": {},
   "outputs": [
    {
     "data": {
      "text/plain": [
       "1234.56"
      ]
     },
     "execution_count": 21,
     "metadata": {},
     "output_type": "execute_result"
    }
   ],
   "source": [
    "elCO2_amount * 1234.56  # it's a number and you can make operations with that"
   ]
  }
 ],
 "metadata": {
  "kernelspec": {
   "display_name": "Python 3 (ipykernel)",
   "language": "python",
   "name": "python3"
  },
  "language_info": {
   "codemirror_mode": {
    "name": "ipython",
    "version": 3
   },
   "file_extension": ".py",
   "mimetype": "text/x-python",
   "name": "python",
   "nbconvert_exporter": "python",
   "pygments_lexer": "ipython3",
   "version": "3.9.16"
  }
 },
 "nbformat": 4,
 "nbformat_minor": 2
}
